{
  "cells": [
    {
      "cell_type": "markdown",
      "metadata": {
        "id": "5Wed_EoW5_Mi"
      },
      "source": [
        "# Task: Covid-19 Data Analysis\n",
        "### This notebook is used to understand the comprehension of Data Analysis techniques using Pandas library."
      ]
    },
    {
      "cell_type": "markdown",
      "metadata": {
        "id": "RTieVRAp5_Mk"
      },
      "source": [
        "### Data Source:\n",
        "https://github.com/CSSEGISandData/COVID-19/tree/master/csse_covid_19_data/csse_covid_19_daily_reports\n",
        "\n",
        "### File naming convention\n",
        "\n",
        "MM-DD-YYYY.csv in UTC.\n",
        "\n",
        "### Field description\n",
        "\n",
        "- Province_State: China - province name; US/Canada/Australia/ - city name, state/province name; Others - name of the event (e.g., \"Diamond Princess\" cruise ship); other countries - blank.\n",
        "\n",
        "- Country_Region: country/region name conforming to WHO (will be updated).\n",
        "\n",
        "- Last_Update: MM/DD/YYYY HH:mm (24 hour format, in UTC).\n",
        "\n",
        "- Confirmed: the number of confirmed cases. For Hubei Province: from Feb 13 (GMT +8), we report both clinically diagnosed and lab-confirmed cases. For lab-confirmed cases only (Before Feb 17), please refer to who_covid_19_situation_reports. For Italy, diagnosis standard might be changed since Feb 27 to \"slow the growth of new case numbers.\" (Source)\n",
        "\n",
        "- Deaths: the number of deaths.\n",
        "\n",
        "- Recovered: the number of recovered cases."
      ]
    },
    {
      "cell_type": "markdown",
      "metadata": {
        "id": "puHbjEWS5_Mk"
      },
      "source": [
        "### Question 1"
      ]
    },
    {
      "cell_type": "markdown",
      "metadata": {
        "id": "tGvHoXy75_Mk"
      },
      "source": [
        "#### Read the dataset"
      ]
    },
    {
      "cell_type": "code",
      "execution_count": 142,
      "metadata": {
        "id": "VfvWLuNp5_Mk"
      },
      "outputs": [
        {
          "data": {
            "text/html": [
              "<div>\n",
              "<style scoped>\n",
              "    .dataframe tbody tr th:only-of-type {\n",
              "        vertical-align: middle;\n",
              "    }\n",
              "\n",
              "    .dataframe tbody tr th {\n",
              "        vertical-align: top;\n",
              "    }\n",
              "\n",
              "    .dataframe thead th {\n",
              "        text-align: right;\n",
              "    }\n",
              "</style>\n",
              "<table border=\"1\" class=\"dataframe\">\n",
              "  <thead>\n",
              "    <tr style=\"text-align: right;\">\n",
              "      <th></th>\n",
              "      <th>FIPS</th>\n",
              "      <th>Admin2</th>\n",
              "      <th>Province_State</th>\n",
              "      <th>Country_Region</th>\n",
              "      <th>Last_Update</th>\n",
              "      <th>Lat</th>\n",
              "      <th>Long_</th>\n",
              "      <th>Confirmed</th>\n",
              "      <th>Deaths</th>\n",
              "      <th>Recovered</th>\n",
              "      <th>Active</th>\n",
              "      <th>Combined_Key</th>\n",
              "      <th>Incident_Rate</th>\n",
              "      <th>Case_Fatality_Ratio</th>\n",
              "    </tr>\n",
              "  </thead>\n",
              "  <tbody>\n",
              "    <tr>\n",
              "      <th>0</th>\n",
              "      <td>NaN</td>\n",
              "      <td>NaN</td>\n",
              "      <td>NaN</td>\n",
              "      <td>Afghanistan</td>\n",
              "      <td>2021-01-02 05:22:33</td>\n",
              "      <td>33.93911</td>\n",
              "      <td>67.709953</td>\n",
              "      <td>52513</td>\n",
              "      <td>2201</td>\n",
              "      <td>41727</td>\n",
              "      <td>8585</td>\n",
              "      <td>Afghanistan</td>\n",
              "      <td>134.896578</td>\n",
              "      <td>4.191343</td>\n",
              "    </tr>\n",
              "    <tr>\n",
              "      <th>1</th>\n",
              "      <td>NaN</td>\n",
              "      <td>NaN</td>\n",
              "      <td>NaN</td>\n",
              "      <td>Albania</td>\n",
              "      <td>2021-01-02 05:22:33</td>\n",
              "      <td>41.15330</td>\n",
              "      <td>20.168300</td>\n",
              "      <td>58316</td>\n",
              "      <td>1181</td>\n",
              "      <td>33634</td>\n",
              "      <td>23501</td>\n",
              "      <td>Albania</td>\n",
              "      <td>2026.409062</td>\n",
              "      <td>2.025173</td>\n",
              "    </tr>\n",
              "    <tr>\n",
              "      <th>2</th>\n",
              "      <td>NaN</td>\n",
              "      <td>NaN</td>\n",
              "      <td>NaN</td>\n",
              "      <td>Algeria</td>\n",
              "      <td>2021-01-02 05:22:33</td>\n",
              "      <td>28.03390</td>\n",
              "      <td>1.659600</td>\n",
              "      <td>99897</td>\n",
              "      <td>2762</td>\n",
              "      <td>67395</td>\n",
              "      <td>29740</td>\n",
              "      <td>Algeria</td>\n",
              "      <td>227.809861</td>\n",
              "      <td>2.764848</td>\n",
              "    </tr>\n",
              "    <tr>\n",
              "      <th>3</th>\n",
              "      <td>NaN</td>\n",
              "      <td>NaN</td>\n",
              "      <td>NaN</td>\n",
              "      <td>Andorra</td>\n",
              "      <td>2021-01-02 05:22:33</td>\n",
              "      <td>42.50630</td>\n",
              "      <td>1.521800</td>\n",
              "      <td>8117</td>\n",
              "      <td>84</td>\n",
              "      <td>7463</td>\n",
              "      <td>570</td>\n",
              "      <td>Andorra</td>\n",
              "      <td>10505.403482</td>\n",
              "      <td>1.034865</td>\n",
              "    </tr>\n",
              "    <tr>\n",
              "      <th>4</th>\n",
              "      <td>NaN</td>\n",
              "      <td>NaN</td>\n",
              "      <td>NaN</td>\n",
              "      <td>Angola</td>\n",
              "      <td>2021-01-02 05:22:33</td>\n",
              "      <td>-11.20270</td>\n",
              "      <td>17.873900</td>\n",
              "      <td>17568</td>\n",
              "      <td>405</td>\n",
              "      <td>11146</td>\n",
              "      <td>6017</td>\n",
              "      <td>Angola</td>\n",
              "      <td>53.452981</td>\n",
              "      <td>2.305328</td>\n",
              "    </tr>\n",
              "    <tr>\n",
              "      <th>...</th>\n",
              "      <td>...</td>\n",
              "      <td>...</td>\n",
              "      <td>...</td>\n",
              "      <td>...</td>\n",
              "      <td>...</td>\n",
              "      <td>...</td>\n",
              "      <td>...</td>\n",
              "      <td>...</td>\n",
              "      <td>...</td>\n",
              "      <td>...</td>\n",
              "      <td>...</td>\n",
              "      <td>...</td>\n",
              "      <td>...</td>\n",
              "      <td>...</td>\n",
              "    </tr>\n",
              "    <tr>\n",
              "      <th>4006</th>\n",
              "      <td>NaN</td>\n",
              "      <td>NaN</td>\n",
              "      <td>Unknown</td>\n",
              "      <td>Ukraine</td>\n",
              "      <td>2021-01-02 05:22:33</td>\n",
              "      <td>NaN</td>\n",
              "      <td>NaN</td>\n",
              "      <td>0</td>\n",
              "      <td>0</td>\n",
              "      <td>0</td>\n",
              "      <td>0</td>\n",
              "      <td>Unknown, Ukraine</td>\n",
              "      <td>0.000000</td>\n",
              "      <td>0.000000</td>\n",
              "    </tr>\n",
              "    <tr>\n",
              "      <th>4007</th>\n",
              "      <td>NaN</td>\n",
              "      <td>NaN</td>\n",
              "      <td>NaN</td>\n",
              "      <td>Nauru</td>\n",
              "      <td>2021-01-02 05:22:33</td>\n",
              "      <td>-0.52280</td>\n",
              "      <td>166.931500</td>\n",
              "      <td>0</td>\n",
              "      <td>0</td>\n",
              "      <td>0</td>\n",
              "      <td>0</td>\n",
              "      <td>Nauru</td>\n",
              "      <td>0.000000</td>\n",
              "      <td>0.000000</td>\n",
              "    </tr>\n",
              "    <tr>\n",
              "      <th>4008</th>\n",
              "      <td>NaN</td>\n",
              "      <td>NaN</td>\n",
              "      <td>Niue</td>\n",
              "      <td>New Zealand</td>\n",
              "      <td>2021-01-02 05:22:33</td>\n",
              "      <td>-19.05440</td>\n",
              "      <td>-169.867200</td>\n",
              "      <td>0</td>\n",
              "      <td>0</td>\n",
              "      <td>0</td>\n",
              "      <td>0</td>\n",
              "      <td>Niue, New Zealand</td>\n",
              "      <td>0.000000</td>\n",
              "      <td>0.000000</td>\n",
              "    </tr>\n",
              "    <tr>\n",
              "      <th>4009</th>\n",
              "      <td>NaN</td>\n",
              "      <td>NaN</td>\n",
              "      <td>NaN</td>\n",
              "      <td>Tuvalu</td>\n",
              "      <td>2021-01-02 05:22:33</td>\n",
              "      <td>-7.10950</td>\n",
              "      <td>177.649300</td>\n",
              "      <td>0</td>\n",
              "      <td>0</td>\n",
              "      <td>0</td>\n",
              "      <td>0</td>\n",
              "      <td>Tuvalu</td>\n",
              "      <td>0.000000</td>\n",
              "      <td>0.000000</td>\n",
              "    </tr>\n",
              "    <tr>\n",
              "      <th>4010</th>\n",
              "      <td>NaN</td>\n",
              "      <td>NaN</td>\n",
              "      <td>Pitcairn Islands</td>\n",
              "      <td>United Kingdom</td>\n",
              "      <td>2021-01-02 05:22:33</td>\n",
              "      <td>-24.37680</td>\n",
              "      <td>-128.324200</td>\n",
              "      <td>0</td>\n",
              "      <td>0</td>\n",
              "      <td>0</td>\n",
              "      <td>0</td>\n",
              "      <td>Pitcairn Islands, United Kingdom</td>\n",
              "      <td>0.000000</td>\n",
              "      <td>0.000000</td>\n",
              "    </tr>\n",
              "  </tbody>\n",
              "</table>\n",
              "<p>4011 rows × 14 columns</p>\n",
              "</div>"
            ],
            "text/plain": [
              "      FIPS Admin2    Province_State  Country_Region          Last_Update  \\\n",
              "0      NaN    NaN               NaN     Afghanistan  2021-01-02 05:22:33   \n",
              "1      NaN    NaN               NaN         Albania  2021-01-02 05:22:33   \n",
              "2      NaN    NaN               NaN         Algeria  2021-01-02 05:22:33   \n",
              "3      NaN    NaN               NaN         Andorra  2021-01-02 05:22:33   \n",
              "4      NaN    NaN               NaN          Angola  2021-01-02 05:22:33   \n",
              "...    ...    ...               ...             ...                  ...   \n",
              "4006   NaN    NaN           Unknown         Ukraine  2021-01-02 05:22:33   \n",
              "4007   NaN    NaN               NaN           Nauru  2021-01-02 05:22:33   \n",
              "4008   NaN    NaN              Niue     New Zealand  2021-01-02 05:22:33   \n",
              "4009   NaN    NaN               NaN          Tuvalu  2021-01-02 05:22:33   \n",
              "4010   NaN    NaN  Pitcairn Islands  United Kingdom  2021-01-02 05:22:33   \n",
              "\n",
              "           Lat       Long_  Confirmed  Deaths  Recovered  Active  \\\n",
              "0     33.93911   67.709953      52513    2201      41727    8585   \n",
              "1     41.15330   20.168300      58316    1181      33634   23501   \n",
              "2     28.03390    1.659600      99897    2762      67395   29740   \n",
              "3     42.50630    1.521800       8117      84       7463     570   \n",
              "4    -11.20270   17.873900      17568     405      11146    6017   \n",
              "...        ...         ...        ...     ...        ...     ...   \n",
              "4006       NaN         NaN          0       0          0       0   \n",
              "4007  -0.52280  166.931500          0       0          0       0   \n",
              "4008 -19.05440 -169.867200          0       0          0       0   \n",
              "4009  -7.10950  177.649300          0       0          0       0   \n",
              "4010 -24.37680 -128.324200          0       0          0       0   \n",
              "\n",
              "                          Combined_Key  Incident_Rate  Case_Fatality_Ratio  \n",
              "0                          Afghanistan     134.896578             4.191343  \n",
              "1                              Albania    2026.409062             2.025173  \n",
              "2                              Algeria     227.809861             2.764848  \n",
              "3                              Andorra   10505.403482             1.034865  \n",
              "4                               Angola      53.452981             2.305328  \n",
              "...                                ...            ...                  ...  \n",
              "4006                  Unknown, Ukraine       0.000000             0.000000  \n",
              "4007                             Nauru       0.000000             0.000000  \n",
              "4008                 Niue, New Zealand       0.000000             0.000000  \n",
              "4009                            Tuvalu       0.000000             0.000000  \n",
              "4010  Pitcairn Islands, United Kingdom       0.000000             0.000000  \n",
              "\n",
              "[4011 rows x 14 columns]"
            ]
          },
          "metadata": {},
          "output_type": "display_data"
        }
      ],
      "source": [
        "import pandas as pd\n",
        "\n",
        "# Direct CSV file path\n",
        "path_to_file = \"https://raw.githubusercontent.com/CSSEGISandData/COVID-19/master/csse_covid_19_data/csse_covid_19_daily_reports/01-01-2021.csv\"\n",
        "\n",
        "# Read the dataset\n",
        "df = pd.read_csv(path_to_file)\n",
        "display(df)\n"
      ]
    },
    {
      "cell_type": "markdown",
      "metadata": {
        "id": "Y1MsHrHZ5_Ml"
      },
      "source": [
        "#### Display the top 5 rows in the data"
      ]
    },
    {
      "cell_type": "code",
      "execution_count": 143,
      "metadata": {
        "colab": {
          "base_uri": "https://localhost:8080/"
        },
        "id": "vnRGFn3p5_Ml",
        "outputId": "a8615afd-501c-4a28-d79c-b4c0e1339a21"
      },
      "outputs": [
        {
          "data": {
            "text/html": [
              "<div>\n",
              "<style scoped>\n",
              "    .dataframe tbody tr th:only-of-type {\n",
              "        vertical-align: middle;\n",
              "    }\n",
              "\n",
              "    .dataframe tbody tr th {\n",
              "        vertical-align: top;\n",
              "    }\n",
              "\n",
              "    .dataframe thead th {\n",
              "        text-align: right;\n",
              "    }\n",
              "</style>\n",
              "<table border=\"1\" class=\"dataframe\">\n",
              "  <thead>\n",
              "    <tr style=\"text-align: right;\">\n",
              "      <th></th>\n",
              "      <th>FIPS</th>\n",
              "      <th>Admin2</th>\n",
              "      <th>Province_State</th>\n",
              "      <th>Country_Region</th>\n",
              "      <th>Last_Update</th>\n",
              "      <th>Lat</th>\n",
              "      <th>Long_</th>\n",
              "      <th>Confirmed</th>\n",
              "      <th>Deaths</th>\n",
              "      <th>Recovered</th>\n",
              "      <th>Active</th>\n",
              "      <th>Combined_Key</th>\n",
              "      <th>Incident_Rate</th>\n",
              "      <th>Case_Fatality_Ratio</th>\n",
              "    </tr>\n",
              "  </thead>\n",
              "  <tbody>\n",
              "    <tr>\n",
              "      <th>0</th>\n",
              "      <td>NaN</td>\n",
              "      <td>NaN</td>\n",
              "      <td>NaN</td>\n",
              "      <td>Afghanistan</td>\n",
              "      <td>2021-01-02 05:22:33</td>\n",
              "      <td>33.93911</td>\n",
              "      <td>67.709953</td>\n",
              "      <td>52513</td>\n",
              "      <td>2201</td>\n",
              "      <td>41727</td>\n",
              "      <td>8585</td>\n",
              "      <td>Afghanistan</td>\n",
              "      <td>134.896578</td>\n",
              "      <td>4.191343</td>\n",
              "    </tr>\n",
              "    <tr>\n",
              "      <th>1</th>\n",
              "      <td>NaN</td>\n",
              "      <td>NaN</td>\n",
              "      <td>NaN</td>\n",
              "      <td>Albania</td>\n",
              "      <td>2021-01-02 05:22:33</td>\n",
              "      <td>41.15330</td>\n",
              "      <td>20.168300</td>\n",
              "      <td>58316</td>\n",
              "      <td>1181</td>\n",
              "      <td>33634</td>\n",
              "      <td>23501</td>\n",
              "      <td>Albania</td>\n",
              "      <td>2026.409062</td>\n",
              "      <td>2.025173</td>\n",
              "    </tr>\n",
              "    <tr>\n",
              "      <th>2</th>\n",
              "      <td>NaN</td>\n",
              "      <td>NaN</td>\n",
              "      <td>NaN</td>\n",
              "      <td>Algeria</td>\n",
              "      <td>2021-01-02 05:22:33</td>\n",
              "      <td>28.03390</td>\n",
              "      <td>1.659600</td>\n",
              "      <td>99897</td>\n",
              "      <td>2762</td>\n",
              "      <td>67395</td>\n",
              "      <td>29740</td>\n",
              "      <td>Algeria</td>\n",
              "      <td>227.809861</td>\n",
              "      <td>2.764848</td>\n",
              "    </tr>\n",
              "    <tr>\n",
              "      <th>3</th>\n",
              "      <td>NaN</td>\n",
              "      <td>NaN</td>\n",
              "      <td>NaN</td>\n",
              "      <td>Andorra</td>\n",
              "      <td>2021-01-02 05:22:33</td>\n",
              "      <td>42.50630</td>\n",
              "      <td>1.521800</td>\n",
              "      <td>8117</td>\n",
              "      <td>84</td>\n",
              "      <td>7463</td>\n",
              "      <td>570</td>\n",
              "      <td>Andorra</td>\n",
              "      <td>10505.403482</td>\n",
              "      <td>1.034865</td>\n",
              "    </tr>\n",
              "    <tr>\n",
              "      <th>4</th>\n",
              "      <td>NaN</td>\n",
              "      <td>NaN</td>\n",
              "      <td>NaN</td>\n",
              "      <td>Angola</td>\n",
              "      <td>2021-01-02 05:22:33</td>\n",
              "      <td>-11.20270</td>\n",
              "      <td>17.873900</td>\n",
              "      <td>17568</td>\n",
              "      <td>405</td>\n",
              "      <td>11146</td>\n",
              "      <td>6017</td>\n",
              "      <td>Angola</td>\n",
              "      <td>53.452981</td>\n",
              "      <td>2.305328</td>\n",
              "    </tr>\n",
              "  </tbody>\n",
              "</table>\n",
              "</div>"
            ],
            "text/plain": [
              "   FIPS Admin2 Province_State Country_Region          Last_Update       Lat  \\\n",
              "0   NaN    NaN            NaN    Afghanistan  2021-01-02 05:22:33  33.93911   \n",
              "1   NaN    NaN            NaN        Albania  2021-01-02 05:22:33  41.15330   \n",
              "2   NaN    NaN            NaN        Algeria  2021-01-02 05:22:33  28.03390   \n",
              "3   NaN    NaN            NaN        Andorra  2021-01-02 05:22:33  42.50630   \n",
              "4   NaN    NaN            NaN         Angola  2021-01-02 05:22:33 -11.20270   \n",
              "\n",
              "       Long_  Confirmed  Deaths  Recovered  Active Combined_Key  \\\n",
              "0  67.709953      52513    2201      41727    8585  Afghanistan   \n",
              "1  20.168300      58316    1181      33634   23501      Albania   \n",
              "2   1.659600      99897    2762      67395   29740      Algeria   \n",
              "3   1.521800       8117      84       7463     570      Andorra   \n",
              "4  17.873900      17568     405      11146    6017       Angola   \n",
              "\n",
              "   Incident_Rate  Case_Fatality_Ratio  \n",
              "0     134.896578             4.191343  \n",
              "1    2026.409062             2.025173  \n",
              "2     227.809861             2.764848  \n",
              "3   10505.403482             1.034865  \n",
              "4      53.452981             2.305328  "
            ]
          },
          "metadata": {},
          "output_type": "display_data"
        }
      ],
      "source": [
        "# Display the top 5 rows of the data\n",
        "first_5_rows = df.head(5)\n",
        "display(first_5_rows)\n"
      ]
    },
    {
      "cell_type": "markdown",
      "metadata": {
        "id": "i8Cvt_Zt5_Mm"
      },
      "source": [
        "#### Show the information of the dataset"
      ]
    },
    {
      "cell_type": "code",
      "execution_count": 144,
      "metadata": {
        "colab": {
          "base_uri": "https://localhost:8080/",
          "height": 399
        },
        "id": "qLieVblE5_Mm",
        "outputId": "a6cd095d-1b53-4282-c8de-92aa6cce36b5"
      },
      "outputs": [
        {
          "name": "stdout",
          "output_type": "stream",
          "text": [
            "<class 'pandas.core.frame.DataFrame'>\n",
            "RangeIndex: 4011 entries, 0 to 4010\n",
            "Data columns (total 14 columns):\n",
            " #   Column               Non-Null Count  Dtype  \n",
            "---  ------               --------------  -----  \n",
            " 0   FIPS                 3265 non-null   float64\n",
            " 1   Admin2               3270 non-null   object \n",
            " 2   Province_State       3833 non-null   object \n",
            " 3   Country_Region       4011 non-null   object \n",
            " 4   Last_Update          4011 non-null   object \n",
            " 5   Lat                  3922 non-null   float64\n",
            " 6   Long_                3922 non-null   float64\n",
            " 7   Confirmed            4011 non-null   int64  \n",
            " 8   Deaths               4011 non-null   int64  \n",
            " 9   Recovered            4011 non-null   int64  \n",
            " 10  Active               4011 non-null   int64  \n",
            " 11  Combined_Key         4011 non-null   object \n",
            " 12  Incident_Rate        3922 non-null   float64\n",
            " 13  Case_Fatality_Ratio  3963 non-null   float64\n",
            "dtypes: float64(5), int64(4), object(5)\n",
            "memory usage: 438.8+ KB\n"
          ]
        },
        {
          "data": {
            "text/plain": [
              "None"
            ]
          },
          "metadata": {},
          "output_type": "display_data"
        }
      ],
      "source": [
        "import pandas as pd\n",
        "from IPython.display import display\n",
        "\n",
        "# Display information about the dataset\n",
        "df_info = df.info()\n",
        "\n",
        "# Display the information using display()\n",
        "display(df_info)\n"
      ]
    },
    {
      "cell_type": "markdown",
      "metadata": {
        "id": "Hte1T-3W5_Mm"
      },
      "source": [
        "#### Show the sum of missing values of features in the dataset"
      ]
    },
    {
      "cell_type": "code",
      "execution_count": 145,
      "metadata": {
        "colab": {
          "base_uri": "https://localhost:8080/",
          "height": 520
        },
        "id": "Xi08FZCB5_Mm",
        "outputId": "cc3262c4-4dcc-4f65-fa5d-1132be19fc2f"
      },
      "outputs": [
        {
          "data": {
            "text/html": [
              "<div>\n",
              "<style scoped>\n",
              "    .dataframe tbody tr th:only-of-type {\n",
              "        vertical-align: middle;\n",
              "    }\n",
              "\n",
              "    .dataframe tbody tr th {\n",
              "        vertical-align: top;\n",
              "    }\n",
              "\n",
              "    .dataframe thead th {\n",
              "        text-align: right;\n",
              "    }\n",
              "</style>\n",
              "<table border=\"1\" class=\"dataframe\">\n",
              "  <thead>\n",
              "    <tr style=\"text-align: right;\">\n",
              "      <th></th>\n",
              "      <th>Column</th>\n",
              "      <th>Missing Values</th>\n",
              "    </tr>\n",
              "  </thead>\n",
              "  <tbody>\n",
              "    <tr>\n",
              "      <th>0</th>\n",
              "      <td>FIPS</td>\n",
              "      <td>746</td>\n",
              "    </tr>\n",
              "    <tr>\n",
              "      <th>1</th>\n",
              "      <td>Admin2</td>\n",
              "      <td>741</td>\n",
              "    </tr>\n",
              "    <tr>\n",
              "      <th>2</th>\n",
              "      <td>Province_State</td>\n",
              "      <td>178</td>\n",
              "    </tr>\n",
              "    <tr>\n",
              "      <th>3</th>\n",
              "      <td>Country_Region</td>\n",
              "      <td>0</td>\n",
              "    </tr>\n",
              "    <tr>\n",
              "      <th>4</th>\n",
              "      <td>Last_Update</td>\n",
              "      <td>0</td>\n",
              "    </tr>\n",
              "    <tr>\n",
              "      <th>5</th>\n",
              "      <td>Lat</td>\n",
              "      <td>89</td>\n",
              "    </tr>\n",
              "    <tr>\n",
              "      <th>6</th>\n",
              "      <td>Long_</td>\n",
              "      <td>89</td>\n",
              "    </tr>\n",
              "    <tr>\n",
              "      <th>7</th>\n",
              "      <td>Confirmed</td>\n",
              "      <td>0</td>\n",
              "    </tr>\n",
              "    <tr>\n",
              "      <th>8</th>\n",
              "      <td>Deaths</td>\n",
              "      <td>0</td>\n",
              "    </tr>\n",
              "    <tr>\n",
              "      <th>9</th>\n",
              "      <td>Recovered</td>\n",
              "      <td>0</td>\n",
              "    </tr>\n",
              "    <tr>\n",
              "      <th>10</th>\n",
              "      <td>Active</td>\n",
              "      <td>0</td>\n",
              "    </tr>\n",
              "    <tr>\n",
              "      <th>11</th>\n",
              "      <td>Combined_Key</td>\n",
              "      <td>0</td>\n",
              "    </tr>\n",
              "    <tr>\n",
              "      <th>12</th>\n",
              "      <td>Incident_Rate</td>\n",
              "      <td>89</td>\n",
              "    </tr>\n",
              "    <tr>\n",
              "      <th>13</th>\n",
              "      <td>Case_Fatality_Ratio</td>\n",
              "      <td>48</td>\n",
              "    </tr>\n",
              "  </tbody>\n",
              "</table>\n",
              "</div>"
            ],
            "text/plain": [
              "                 Column  Missing Values\n",
              "0                  FIPS             746\n",
              "1                Admin2             741\n",
              "2        Province_State             178\n",
              "3        Country_Region               0\n",
              "4           Last_Update               0\n",
              "5                   Lat              89\n",
              "6                 Long_              89\n",
              "7             Confirmed               0\n",
              "8                Deaths               0\n",
              "9             Recovered               0\n",
              "10               Active               0\n",
              "11         Combined_Key               0\n",
              "12        Incident_Rate              89\n",
              "13  Case_Fatality_Ratio              48"
            ]
          },
          "metadata": {},
          "output_type": "display_data"
        }
      ],
      "source": [
        "import pandas as pd\n",
        "from IPython.display import display\n",
        "\n",
        "# Calculate the sum of missing values in the dataset\n",
        "missing_values_sum = df.isnull().sum().reset_index()\n",
        "missing_values_sum.columns = ['Column', 'Missing Values']\n",
        "\n",
        "# Display the table\n",
        "display(missing_values_sum)\n"
      ]
    },
    {
      "cell_type": "markdown",
      "metadata": {
        "id": "qGSupcTl5_Mm"
      },
      "source": [
        "### Question 2"
      ]
    },
    {
      "cell_type": "markdown",
      "metadata": {
        "id": "p14G0iNt5_Mm"
      },
      "source": [
        "#### Show the number of Confirmed cases by Country"
      ]
    },
    {
      "cell_type": "code",
      "execution_count": 146,
      "metadata": {
        "colab": {
          "base_uri": "https://localhost:8080/",
          "height": 424
        },
        "id": "vbNjxVyh5_Mm",
        "outputId": "7db8529e-89b6-475d-a98c-d64591a98f7a"
      },
      "outputs": [
        {
          "data": {
            "text/html": [
              "<div>\n",
              "<style scoped>\n",
              "    .dataframe tbody tr th:only-of-type {\n",
              "        vertical-align: middle;\n",
              "    }\n",
              "\n",
              "    .dataframe tbody tr th {\n",
              "        vertical-align: top;\n",
              "    }\n",
              "\n",
              "    .dataframe thead th {\n",
              "        text-align: right;\n",
              "    }\n",
              "</style>\n",
              "<table border=\"1\" class=\"dataframe\">\n",
              "  <thead>\n",
              "    <tr style=\"text-align: right;\">\n",
              "      <th></th>\n",
              "      <th>Country</th>\n",
              "      <th>Confirmed Cases</th>\n",
              "    </tr>\n",
              "  </thead>\n",
              "  <tbody>\n",
              "    <tr>\n",
              "      <th>0</th>\n",
              "      <td>Afghanistan</td>\n",
              "      <td>52513</td>\n",
              "    </tr>\n",
              "    <tr>\n",
              "      <th>1</th>\n",
              "      <td>Albania</td>\n",
              "      <td>58316</td>\n",
              "    </tr>\n",
              "    <tr>\n",
              "      <th>2</th>\n",
              "      <td>Algeria</td>\n",
              "      <td>99897</td>\n",
              "    </tr>\n",
              "    <tr>\n",
              "      <th>3</th>\n",
              "      <td>Andorra</td>\n",
              "      <td>8117</td>\n",
              "    </tr>\n",
              "    <tr>\n",
              "      <th>4</th>\n",
              "      <td>Angola</td>\n",
              "      <td>17568</td>\n",
              "    </tr>\n",
              "    <tr>\n",
              "      <th>...</th>\n",
              "      <td>...</td>\n",
              "      <td>...</td>\n",
              "    </tr>\n",
              "    <tr>\n",
              "      <th>195</th>\n",
              "      <td>West Bank and Gaza</td>\n",
              "      <td>139223</td>\n",
              "    </tr>\n",
              "    <tr>\n",
              "      <th>196</th>\n",
              "      <td>Winter Olympics 2022</td>\n",
              "      <td>0</td>\n",
              "    </tr>\n",
              "    <tr>\n",
              "      <th>197</th>\n",
              "      <td>Yemen</td>\n",
              "      <td>2101</td>\n",
              "    </tr>\n",
              "    <tr>\n",
              "      <th>198</th>\n",
              "      <td>Zambia</td>\n",
              "      <td>20997</td>\n",
              "    </tr>\n",
              "    <tr>\n",
              "      <th>199</th>\n",
              "      <td>Zimbabwe</td>\n",
              "      <td>14084</td>\n",
              "    </tr>\n",
              "  </tbody>\n",
              "</table>\n",
              "<p>200 rows × 2 columns</p>\n",
              "</div>"
            ],
            "text/plain": [
              "                  Country  Confirmed Cases\n",
              "0             Afghanistan            52513\n",
              "1                 Albania            58316\n",
              "2                 Algeria            99897\n",
              "3                 Andorra             8117\n",
              "4                  Angola            17568\n",
              "..                    ...              ...\n",
              "195    West Bank and Gaza           139223\n",
              "196  Winter Olympics 2022                0\n",
              "197                 Yemen             2101\n",
              "198                Zambia            20997\n",
              "199              Zimbabwe            14084\n",
              "\n",
              "[200 rows x 2 columns]"
            ]
          },
          "metadata": {},
          "output_type": "display_data"
        }
      ],
      "source": [
        "import pandas as pd\n",
        "from IPython.display import display\n",
        "\n",
        "# Group the data by 'Country_Region' and sum the 'Confirmed' cases for each country\n",
        "confirmed_by_country = df.groupby('Country_Region')['Confirmed'].sum().reset_index()\n",
        "\n",
        "# Rename the columns for clarity\n",
        "confirmed_by_country.columns = ['Country', 'Confirmed Cases']\n",
        "\n",
        "# Display the table\n",
        "display(confirmed_by_country)\n"
      ]
    },
    {
      "cell_type": "markdown",
      "metadata": {
        "id": "ehVvaA0q5_Mm"
      },
      "source": [
        "#### Show the number of Deaths by Country"
      ]
    },
    {
      "cell_type": "code",
      "execution_count": 147,
      "metadata": {
        "colab": {
          "base_uri": "https://localhost:8080/",
          "height": 424
        },
        "id": "J2nZqiIE5_Mm",
        "outputId": "5f178070-2eea-41a3-c168-6065f17d0f9e"
      },
      "outputs": [
        {
          "data": {
            "text/html": [
              "<div>\n",
              "<style scoped>\n",
              "    .dataframe tbody tr th:only-of-type {\n",
              "        vertical-align: middle;\n",
              "    }\n",
              "\n",
              "    .dataframe tbody tr th {\n",
              "        vertical-align: top;\n",
              "    }\n",
              "\n",
              "    .dataframe thead th {\n",
              "        text-align: right;\n",
              "    }\n",
              "</style>\n",
              "<table border=\"1\" class=\"dataframe\">\n",
              "  <thead>\n",
              "    <tr style=\"text-align: right;\">\n",
              "      <th></th>\n",
              "      <th>Country_Region</th>\n",
              "      <th>Deaths</th>\n",
              "    </tr>\n",
              "  </thead>\n",
              "  <tbody>\n",
              "    <tr>\n",
              "      <th>0</th>\n",
              "      <td>Afghanistan</td>\n",
              "      <td>2201</td>\n",
              "    </tr>\n",
              "    <tr>\n",
              "      <th>1</th>\n",
              "      <td>Albania</td>\n",
              "      <td>1181</td>\n",
              "    </tr>\n",
              "    <tr>\n",
              "      <th>2</th>\n",
              "      <td>Algeria</td>\n",
              "      <td>2762</td>\n",
              "    </tr>\n",
              "    <tr>\n",
              "      <th>3</th>\n",
              "      <td>Andorra</td>\n",
              "      <td>84</td>\n",
              "    </tr>\n",
              "    <tr>\n",
              "      <th>4</th>\n",
              "      <td>Angola</td>\n",
              "      <td>405</td>\n",
              "    </tr>\n",
              "    <tr>\n",
              "      <th>...</th>\n",
              "      <td>...</td>\n",
              "      <td>...</td>\n",
              "    </tr>\n",
              "    <tr>\n",
              "      <th>195</th>\n",
              "      <td>West Bank and Gaza</td>\n",
              "      <td>1418</td>\n",
              "    </tr>\n",
              "    <tr>\n",
              "      <th>196</th>\n",
              "      <td>Winter Olympics 2022</td>\n",
              "      <td>0</td>\n",
              "    </tr>\n",
              "    <tr>\n",
              "      <th>197</th>\n",
              "      <td>Yemen</td>\n",
              "      <td>610</td>\n",
              "    </tr>\n",
              "    <tr>\n",
              "      <th>198</th>\n",
              "      <td>Zambia</td>\n",
              "      <td>390</td>\n",
              "    </tr>\n",
              "    <tr>\n",
              "      <th>199</th>\n",
              "      <td>Zimbabwe</td>\n",
              "      <td>369</td>\n",
              "    </tr>\n",
              "  </tbody>\n",
              "</table>\n",
              "<p>200 rows × 2 columns</p>\n",
              "</div>"
            ],
            "text/plain": [
              "           Country_Region  Deaths\n",
              "0             Afghanistan    2201\n",
              "1                 Albania    1181\n",
              "2                 Algeria    2762\n",
              "3                 Andorra      84\n",
              "4                  Angola     405\n",
              "..                    ...     ...\n",
              "195    West Bank and Gaza    1418\n",
              "196  Winter Olympics 2022       0\n",
              "197                 Yemen     610\n",
              "198                Zambia     390\n",
              "199              Zimbabwe     369\n",
              "\n",
              "[200 rows x 2 columns]"
            ]
          },
          "metadata": {},
          "output_type": "display_data"
        }
      ],
      "source": [
        "import pandas as pd\n",
        "from IPython.display import display\n",
        "\n",
        "# Group the data by 'Country_Region' and sum the 'Deaths' for each country\n",
        "deaths_by_country = df.groupby('Country_Region')['Deaths'].sum()\n",
        "\n",
        "# Create a new DataFrame to display the number of deaths by country\n",
        "deaths_by_country_df = pd.DataFrame(deaths_by_country)\n",
        "\n",
        "# Reset the index to have 'Country_Region' as a regular column\n",
        "deaths_by_country_df.reset_index(inplace=True)\n",
        "\n",
        "# Rename the columns for clarity\n",
        "deaths_by_country_df.columns = ['Country_Region', 'Deaths']\n",
        "\n",
        "# Display the DataFrame\n",
        "display(deaths_by_country_df)\n"
      ]
    },
    {
      "cell_type": "markdown",
      "metadata": {
        "id": "MjtAfMGC5_Mn"
      },
      "source": [
        "#### Show the number of Recovered cases by Country"
      ]
    },
    {
      "cell_type": "code",
      "execution_count": 148,
      "metadata": {
        "colab": {
          "base_uri": "https://localhost:8080/",
          "height": 424
        },
        "id": "IVboTK605_Mn",
        "outputId": "2bff06f6-c674-4a84-ec2e-87a26ab60924"
      },
      "outputs": [
        {
          "data": {
            "text/html": [
              "<div>\n",
              "<style scoped>\n",
              "    .dataframe tbody tr th:only-of-type {\n",
              "        vertical-align: middle;\n",
              "    }\n",
              "\n",
              "    .dataframe tbody tr th {\n",
              "        vertical-align: top;\n",
              "    }\n",
              "\n",
              "    .dataframe thead th {\n",
              "        text-align: right;\n",
              "    }\n",
              "</style>\n",
              "<table border=\"1\" class=\"dataframe\">\n",
              "  <thead>\n",
              "    <tr style=\"text-align: right;\">\n",
              "      <th></th>\n",
              "      <th>Country_Region</th>\n",
              "      <th>Recovered</th>\n",
              "    </tr>\n",
              "  </thead>\n",
              "  <tbody>\n",
              "    <tr>\n",
              "      <th>0</th>\n",
              "      <td>Afghanistan</td>\n",
              "      <td>41727</td>\n",
              "    </tr>\n",
              "    <tr>\n",
              "      <th>1</th>\n",
              "      <td>Albania</td>\n",
              "      <td>33634</td>\n",
              "    </tr>\n",
              "    <tr>\n",
              "      <th>2</th>\n",
              "      <td>Algeria</td>\n",
              "      <td>67395</td>\n",
              "    </tr>\n",
              "    <tr>\n",
              "      <th>3</th>\n",
              "      <td>Andorra</td>\n",
              "      <td>7463</td>\n",
              "    </tr>\n",
              "    <tr>\n",
              "      <th>4</th>\n",
              "      <td>Angola</td>\n",
              "      <td>11146</td>\n",
              "    </tr>\n",
              "    <tr>\n",
              "      <th>...</th>\n",
              "      <td>...</td>\n",
              "      <td>...</td>\n",
              "    </tr>\n",
              "    <tr>\n",
              "      <th>195</th>\n",
              "      <td>West Bank and Gaza</td>\n",
              "      <td>118926</td>\n",
              "    </tr>\n",
              "    <tr>\n",
              "      <th>196</th>\n",
              "      <td>Winter Olympics 2022</td>\n",
              "      <td>0</td>\n",
              "    </tr>\n",
              "    <tr>\n",
              "      <th>197</th>\n",
              "      <td>Yemen</td>\n",
              "      <td>1396</td>\n",
              "    </tr>\n",
              "    <tr>\n",
              "      <th>198</th>\n",
              "      <td>Zambia</td>\n",
              "      <td>18773</td>\n",
              "    </tr>\n",
              "    <tr>\n",
              "      <th>199</th>\n",
              "      <td>Zimbabwe</td>\n",
              "      <td>11347</td>\n",
              "    </tr>\n",
              "  </tbody>\n",
              "</table>\n",
              "<p>200 rows × 2 columns</p>\n",
              "</div>"
            ],
            "text/plain": [
              "           Country_Region  Recovered\n",
              "0             Afghanistan      41727\n",
              "1                 Albania      33634\n",
              "2                 Algeria      67395\n",
              "3                 Andorra       7463\n",
              "4                  Angola      11146\n",
              "..                    ...        ...\n",
              "195    West Bank and Gaza     118926\n",
              "196  Winter Olympics 2022          0\n",
              "197                 Yemen       1396\n",
              "198                Zambia      18773\n",
              "199              Zimbabwe      11347\n",
              "\n",
              "[200 rows x 2 columns]"
            ]
          },
          "metadata": {},
          "output_type": "display_data"
        }
      ],
      "source": [
        "import pandas as pd\n",
        "from IPython.display import display\n",
        "\n",
        "# Group the data by 'Country_Region' and sum the 'Recovered' cases for each country\n",
        "recovered_by_country = df.groupby('Country_Region')['Recovered'].sum().reset_index()\n",
        "\n",
        "# Rename the columns for clarity\n",
        "recovered_by_country.columns = ['Country_Region', 'Recovered']\n",
        "\n",
        "# Display the table\n",
        "display(recovered_by_country)\n"
      ]
    },
    {
      "cell_type": "markdown",
      "metadata": {
        "id": "Hd7jhJU15_Mn"
      },
      "source": [
        "#### Show the number of Active Cases by Country"
      ]
    },
    {
      "cell_type": "code",
      "execution_count": 149,
      "metadata": {
        "colab": {
          "base_uri": "https://localhost:8080/",
          "height": 890
        },
        "id": "NqhZenWY5_Mn",
        "outputId": "dffe0874-42a8-44c4-f4b6-561f691f2aa8"
      },
      "outputs": [
        {
          "data": {
            "text/html": [
              "<div>\n",
              "<style scoped>\n",
              "    .dataframe tbody tr th:only-of-type {\n",
              "        vertical-align: middle;\n",
              "    }\n",
              "\n",
              "    .dataframe tbody tr th {\n",
              "        vertical-align: top;\n",
              "    }\n",
              "\n",
              "    .dataframe thead th {\n",
              "        text-align: right;\n",
              "    }\n",
              "</style>\n",
              "<table border=\"1\" class=\"dataframe\">\n",
              "  <thead>\n",
              "    <tr style=\"text-align: right;\">\n",
              "      <th></th>\n",
              "      <th>Country_Region</th>\n",
              "      <th>Active</th>\n",
              "    </tr>\n",
              "  </thead>\n",
              "  <tbody>\n",
              "    <tr>\n",
              "      <th>0</th>\n",
              "      <td>Afghanistan</td>\n",
              "      <td>8585</td>\n",
              "    </tr>\n",
              "    <tr>\n",
              "      <th>1</th>\n",
              "      <td>Albania</td>\n",
              "      <td>23501</td>\n",
              "    </tr>\n",
              "    <tr>\n",
              "      <th>2</th>\n",
              "      <td>Algeria</td>\n",
              "      <td>29740</td>\n",
              "    </tr>\n",
              "    <tr>\n",
              "      <th>3</th>\n",
              "      <td>Andorra</td>\n",
              "      <td>570</td>\n",
              "    </tr>\n",
              "    <tr>\n",
              "      <th>4</th>\n",
              "      <td>Angola</td>\n",
              "      <td>6017</td>\n",
              "    </tr>\n",
              "    <tr>\n",
              "      <th>...</th>\n",
              "      <td>...</td>\n",
              "      <td>...</td>\n",
              "    </tr>\n",
              "    <tr>\n",
              "      <th>195</th>\n",
              "      <td>West Bank and Gaza</td>\n",
              "      <td>18879</td>\n",
              "    </tr>\n",
              "    <tr>\n",
              "      <th>196</th>\n",
              "      <td>Winter Olympics 2022</td>\n",
              "      <td>0</td>\n",
              "    </tr>\n",
              "    <tr>\n",
              "      <th>197</th>\n",
              "      <td>Yemen</td>\n",
              "      <td>95</td>\n",
              "    </tr>\n",
              "    <tr>\n",
              "      <th>198</th>\n",
              "      <td>Zambia</td>\n",
              "      <td>1834</td>\n",
              "    </tr>\n",
              "    <tr>\n",
              "      <th>199</th>\n",
              "      <td>Zimbabwe</td>\n",
              "      <td>2368</td>\n",
              "    </tr>\n",
              "  </tbody>\n",
              "</table>\n",
              "<p>200 rows × 2 columns</p>\n",
              "</div>"
            ],
            "text/plain": [
              "           Country_Region  Active\n",
              "0             Afghanistan    8585\n",
              "1                 Albania   23501\n",
              "2                 Algeria   29740\n",
              "3                 Andorra     570\n",
              "4                  Angola    6017\n",
              "..                    ...     ...\n",
              "195    West Bank and Gaza   18879\n",
              "196  Winter Olympics 2022       0\n",
              "197                 Yemen      95\n",
              "198                Zambia    1834\n",
              "199              Zimbabwe    2368\n",
              "\n",
              "[200 rows x 2 columns]"
            ]
          },
          "metadata": {},
          "output_type": "display_data"
        }
      ],
      "source": [
        "import pandas as pd\n",
        "from IPython.display import display\n",
        "\n",
        "# Calculate the number of active cases by subtracting deaths and recovered from confirmed cases\n",
        "df['Active Cases'] = df['Confirmed'] - df['Deaths'] - df['Recovered']\n",
        "\n",
        "# Group the data by 'Country_Region' and sum the 'Active Cases' for each country\n",
        "active_cases_by_country = df.groupby('Country_Region')['Active Cases'].sum().reset_index()\n",
        "\n",
        "# Rename the columns for clarity\n",
        "active_cases_by_country.columns = ['Country_Region', 'Active']\n",
        "\n",
        "# Display the table\n",
        "display(active_cases_by_country)\n",
        "\n"
      ]
    },
    {
      "cell_type": "markdown",
      "metadata": {
        "id": "c5SQYX6T5_Mn"
      },
      "source": [
        "#### Show the latest number of Confirmed, Deaths, Recovered and Active cases Country-wise"
      ]
    },
    {
      "cell_type": "code",
      "execution_count": 150,
      "metadata": {
        "colab": {
          "base_uri": "https://localhost:8080/",
          "height": 424
        },
        "id": "zzzX6lAk5_Mn",
        "outputId": "f717c26c-4537-4679-9649-4021a047aea1"
      },
      "outputs": [
        {
          "data": {
            "text/html": [
              "<div>\n",
              "<style scoped>\n",
              "    .dataframe tbody tr th:only-of-type {\n",
              "        vertical-align: middle;\n",
              "    }\n",
              "\n",
              "    .dataframe tbody tr th {\n",
              "        vertical-align: top;\n",
              "    }\n",
              "\n",
              "    .dataframe thead th {\n",
              "        text-align: right;\n",
              "    }\n",
              "</style>\n",
              "<table border=\"1\" class=\"dataframe\">\n",
              "  <thead>\n",
              "    <tr style=\"text-align: right;\">\n",
              "      <th></th>\n",
              "      <th>Country</th>\n",
              "      <th>Confirmed</th>\n",
              "      <th>Deaths</th>\n",
              "      <th>Recovered</th>\n",
              "      <th>Active Cases</th>\n",
              "    </tr>\n",
              "  </thead>\n",
              "  <tbody>\n",
              "    <tr>\n",
              "      <th>0</th>\n",
              "      <td>Afghanistan</td>\n",
              "      <td>52513</td>\n",
              "      <td>2201</td>\n",
              "      <td>41727</td>\n",
              "      <td>8585</td>\n",
              "    </tr>\n",
              "    <tr>\n",
              "      <th>1</th>\n",
              "      <td>Albania</td>\n",
              "      <td>58316</td>\n",
              "      <td>1181</td>\n",
              "      <td>33634</td>\n",
              "      <td>23501</td>\n",
              "    </tr>\n",
              "    <tr>\n",
              "      <th>2</th>\n",
              "      <td>Algeria</td>\n",
              "      <td>99897</td>\n",
              "      <td>2762</td>\n",
              "      <td>67395</td>\n",
              "      <td>29740</td>\n",
              "    </tr>\n",
              "    <tr>\n",
              "      <th>3</th>\n",
              "      <td>Andorra</td>\n",
              "      <td>8117</td>\n",
              "      <td>84</td>\n",
              "      <td>7463</td>\n",
              "      <td>570</td>\n",
              "    </tr>\n",
              "    <tr>\n",
              "      <th>4</th>\n",
              "      <td>Angola</td>\n",
              "      <td>17568</td>\n",
              "      <td>405</td>\n",
              "      <td>11146</td>\n",
              "      <td>6017</td>\n",
              "    </tr>\n",
              "    <tr>\n",
              "      <th>...</th>\n",
              "      <td>...</td>\n",
              "      <td>...</td>\n",
              "      <td>...</td>\n",
              "      <td>...</td>\n",
              "      <td>...</td>\n",
              "    </tr>\n",
              "    <tr>\n",
              "      <th>195</th>\n",
              "      <td>West Bank and Gaza</td>\n",
              "      <td>139223</td>\n",
              "      <td>1418</td>\n",
              "      <td>118926</td>\n",
              "      <td>18879</td>\n",
              "    </tr>\n",
              "    <tr>\n",
              "      <th>196</th>\n",
              "      <td>Winter Olympics 2022</td>\n",
              "      <td>0</td>\n",
              "      <td>0</td>\n",
              "      <td>0</td>\n",
              "      <td>0</td>\n",
              "    </tr>\n",
              "    <tr>\n",
              "      <th>197</th>\n",
              "      <td>Yemen</td>\n",
              "      <td>2101</td>\n",
              "      <td>610</td>\n",
              "      <td>1396</td>\n",
              "      <td>95</td>\n",
              "    </tr>\n",
              "    <tr>\n",
              "      <th>198</th>\n",
              "      <td>Zambia</td>\n",
              "      <td>20997</td>\n",
              "      <td>390</td>\n",
              "      <td>18773</td>\n",
              "      <td>1834</td>\n",
              "    </tr>\n",
              "    <tr>\n",
              "      <th>199</th>\n",
              "      <td>Zimbabwe</td>\n",
              "      <td>14084</td>\n",
              "      <td>369</td>\n",
              "      <td>11347</td>\n",
              "      <td>2368</td>\n",
              "    </tr>\n",
              "  </tbody>\n",
              "</table>\n",
              "<p>200 rows × 5 columns</p>\n",
              "</div>"
            ],
            "text/plain": [
              "                  Country  Confirmed  Deaths  Recovered  Active Cases\n",
              "0             Afghanistan      52513    2201      41727          8585\n",
              "1                 Albania      58316    1181      33634         23501\n",
              "2                 Algeria      99897    2762      67395         29740\n",
              "3                 Andorra       8117      84       7463           570\n",
              "4                  Angola      17568     405      11146          6017\n",
              "..                    ...        ...     ...        ...           ...\n",
              "195    West Bank and Gaza     139223    1418     118926         18879\n",
              "196  Winter Olympics 2022          0       0          0             0\n",
              "197                 Yemen       2101     610       1396            95\n",
              "198                Zambia      20997     390      18773          1834\n",
              "199              Zimbabwe      14084     369      11347          2368\n",
              "\n",
              "[200 rows x 5 columns]"
            ]
          },
          "execution_count": 150,
          "metadata": {},
          "output_type": "execute_result"
        }
      ],
      "source": [
        "import pandas as pd\n",
        "\n",
        "# Sort the data by 'Country_Region' and 'Last_Update' in descending order\n",
        "df_sorted = df.sort_values(by=['Country_Region', 'Last_Update'], ascending=[True, False])\n",
        "\n",
        "# Keep only the rows with the most recent data for each country\n",
        "latest_data = df_sorted.drop_duplicates(subset='Country_Region', keep='first')\n",
        "\n",
        "# Select the columns for confirmed, deaths, recovered, and active cases\n",
        "latest_data = latest_data[['Country_Region', 'Confirmed', 'Deaths', 'Recovered', 'Active Cases']]\n",
        "\n",
        "# Rename the columns for clarity\n",
        "latest_data.columns = ['Country', 'Confirmed', 'Deaths', 'Recovered', 'Active Cases']\n",
        "\n",
        "# Reset the index for the DataFrame\n",
        "latest_data.reset_index(drop=True, inplace=True)\n",
        "\n",
        "# Display the DataFrame\n",
        "latest_data\n"
      ]
    },
    {
      "cell_type": "markdown",
      "metadata": {
        "id": "LJqMXtia5_Mn"
      },
      "source": [
        "### Question 3"
      ]
    },
    {
      "cell_type": "markdown",
      "metadata": {
        "id": "qrC4BJU85_Mn"
      },
      "source": [
        "### Show the countries with no recovered cases"
      ]
    },
    {
      "cell_type": "code",
      "execution_count": 151,
      "metadata": {
        "colab": {
          "base_uri": "https://localhost:8080/",
          "height": 424
        },
        "id": "pPKXHUcx5_Mn",
        "outputId": "a7e0ffe3-35ff-482f-bd82-1a10f5526f24"
      },
      "outputs": [
        {
          "data": {
            "text/html": [
              "<div>\n",
              "<style scoped>\n",
              "    .dataframe tbody tr th:only-of-type {\n",
              "        vertical-align: middle;\n",
              "    }\n",
              "\n",
              "    .dataframe tbody tr th {\n",
              "        vertical-align: top;\n",
              "    }\n",
              "\n",
              "    .dataframe thead th {\n",
              "        text-align: right;\n",
              "    }\n",
              "</style>\n",
              "<table border=\"1\" class=\"dataframe\">\n",
              "  <thead>\n",
              "    <tr style=\"text-align: right;\">\n",
              "      <th></th>\n",
              "      <th>Country_Region</th>\n",
              "      <th>Recovered</th>\n",
              "    </tr>\n",
              "  </thead>\n",
              "  <tbody>\n",
              "    <tr>\n",
              "      <th>9</th>\n",
              "      <td>Australia</td>\n",
              "      <td>0</td>\n",
              "    </tr>\n",
              "    <tr>\n",
              "      <th>23</th>\n",
              "      <td>Belgium</td>\n",
              "      <td>0</td>\n",
              "    </tr>\n",
              "    <tr>\n",
              "      <th>24</th>\n",
              "      <td>Belgium</td>\n",
              "      <td>0</td>\n",
              "    </tr>\n",
              "    <tr>\n",
              "      <th>25</th>\n",
              "      <td>Belgium</td>\n",
              "      <td>0</td>\n",
              "    </tr>\n",
              "    <tr>\n",
              "      <th>26</th>\n",
              "      <td>Belgium</td>\n",
              "      <td>0</td>\n",
              "    </tr>\n",
              "    <tr>\n",
              "      <th>...</th>\n",
              "      <td>...</td>\n",
              "      <td>...</td>\n",
              "    </tr>\n",
              "    <tr>\n",
              "      <th>4006</th>\n",
              "      <td>Ukraine</td>\n",
              "      <td>0</td>\n",
              "    </tr>\n",
              "    <tr>\n",
              "      <th>4007</th>\n",
              "      <td>Nauru</td>\n",
              "      <td>0</td>\n",
              "    </tr>\n",
              "    <tr>\n",
              "      <th>4008</th>\n",
              "      <td>New Zealand</td>\n",
              "      <td>0</td>\n",
              "    </tr>\n",
              "    <tr>\n",
              "      <th>4009</th>\n",
              "      <td>Tuvalu</td>\n",
              "      <td>0</td>\n",
              "    </tr>\n",
              "    <tr>\n",
              "      <th>4010</th>\n",
              "      <td>United Kingdom</td>\n",
              "      <td>0</td>\n",
              "    </tr>\n",
              "  </tbody>\n",
              "</table>\n",
              "<p>3408 rows × 2 columns</p>\n",
              "</div>"
            ],
            "text/plain": [
              "      Country_Region  Recovered\n",
              "9          Australia          0\n",
              "23           Belgium          0\n",
              "24           Belgium          0\n",
              "25           Belgium          0\n",
              "26           Belgium          0\n",
              "...              ...        ...\n",
              "4006         Ukraine          0\n",
              "4007           Nauru          0\n",
              "4008     New Zealand          0\n",
              "4009          Tuvalu          0\n",
              "4010  United Kingdom          0\n",
              "\n",
              "[3408 rows x 2 columns]"
            ]
          },
          "metadata": {},
          "output_type": "display_data"
        }
      ],
      "source": [
        "from IPython.display import display\n",
        "\n",
        "# Filter countries with no recovered cases\n",
        "countries_without_recovery = df[df['Recovered'] == 0]\n",
        "\n",
        "# Select the columns \"Country_Region\" and \"Recovered\"\n",
        "countries_without_recovery = countries_without_recovery[['Country_Region', 'Recovered']]\n",
        "\n",
        "# Show countries with no recovered cases\n",
        "display(countries_without_recovery)\n"
      ]
    },
    {
      "cell_type": "markdown",
      "metadata": {
        "id": "Bl1uL66X5_Mn"
      },
      "source": [
        "#### Show the countries with no confirmed cases"
      ]
    },
    {
      "cell_type": "code",
      "execution_count": 152,
      "metadata": {
        "colab": {
          "base_uri": "https://localhost:8080/",
          "height": 896
        },
        "id": "cv7iXfJb5_Mo",
        "outputId": "e8a89b97-9395-4055-98ee-ccf3e7109436"
      },
      "outputs": [
        {
          "data": {
            "text/html": [
              "<div>\n",
              "<style scoped>\n",
              "    .dataframe tbody tr th:only-of-type {\n",
              "        vertical-align: middle;\n",
              "    }\n",
              "\n",
              "    .dataframe tbody tr th {\n",
              "        vertical-align: top;\n",
              "    }\n",
              "\n",
              "    .dataframe thead th {\n",
              "        text-align: right;\n",
              "    }\n",
              "</style>\n",
              "<table border=\"1\" class=\"dataframe\">\n",
              "  <thead>\n",
              "    <tr style=\"text-align: right;\">\n",
              "      <th></th>\n",
              "      <th>Country</th>\n",
              "    </tr>\n",
              "  </thead>\n",
              "  <tbody>\n",
              "    <tr>\n",
              "      <th>0</th>\n",
              "      <td>Australia</td>\n",
              "    </tr>\n",
              "    <tr>\n",
              "      <th>1</th>\n",
              "      <td>Belgium</td>\n",
              "    </tr>\n",
              "    <tr>\n",
              "      <th>2</th>\n",
              "      <td>Canada</td>\n",
              "    </tr>\n",
              "    <tr>\n",
              "      <th>3</th>\n",
              "      <td>Colombia</td>\n",
              "    </tr>\n",
              "    <tr>\n",
              "      <th>4</th>\n",
              "      <td>Germany</td>\n",
              "    </tr>\n",
              "    <tr>\n",
              "      <th>5</th>\n",
              "      <td>India</td>\n",
              "    </tr>\n",
              "    <tr>\n",
              "      <th>6</th>\n",
              "      <td>Mexico</td>\n",
              "    </tr>\n",
              "    <tr>\n",
              "      <th>7</th>\n",
              "      <td>Netherlands</td>\n",
              "    </tr>\n",
              "    <tr>\n",
              "      <th>8</th>\n",
              "      <td>Peru</td>\n",
              "    </tr>\n",
              "    <tr>\n",
              "      <th>9</th>\n",
              "      <td>Serbia</td>\n",
              "    </tr>\n",
              "    <tr>\n",
              "      <th>10</th>\n",
              "      <td>Spain</td>\n",
              "    </tr>\n",
              "    <tr>\n",
              "      <th>11</th>\n",
              "      <td>Sweden</td>\n",
              "    </tr>\n",
              "    <tr>\n",
              "      <th>12</th>\n",
              "      <td>US</td>\n",
              "    </tr>\n",
              "    <tr>\n",
              "      <th>13</th>\n",
              "      <td>United Kingdom</td>\n",
              "    </tr>\n",
              "    <tr>\n",
              "      <th>14</th>\n",
              "      <td>China</td>\n",
              "    </tr>\n",
              "    <tr>\n",
              "      <th>15</th>\n",
              "      <td>Kiribati</td>\n",
              "    </tr>\n",
              "    <tr>\n",
              "      <th>16</th>\n",
              "      <td>Palau</td>\n",
              "    </tr>\n",
              "    <tr>\n",
              "      <th>17</th>\n",
              "      <td>New Zealand</td>\n",
              "    </tr>\n",
              "    <tr>\n",
              "      <th>18</th>\n",
              "      <td>Summer Olympics 2020</td>\n",
              "    </tr>\n",
              "    <tr>\n",
              "      <th>19</th>\n",
              "      <td>Malaysia</td>\n",
              "    </tr>\n",
              "    <tr>\n",
              "      <th>20</th>\n",
              "      <td>Tonga</td>\n",
              "    </tr>\n",
              "    <tr>\n",
              "      <th>21</th>\n",
              "      <td>Winter Olympics 2022</td>\n",
              "    </tr>\n",
              "    <tr>\n",
              "      <th>22</th>\n",
              "      <td>Antarctica</td>\n",
              "    </tr>\n",
              "    <tr>\n",
              "      <th>23</th>\n",
              "      <td>Korea, North</td>\n",
              "    </tr>\n",
              "    <tr>\n",
              "      <th>24</th>\n",
              "      <td>Ukraine</td>\n",
              "    </tr>\n",
              "    <tr>\n",
              "      <th>25</th>\n",
              "      <td>Nauru</td>\n",
              "    </tr>\n",
              "    <tr>\n",
              "      <th>26</th>\n",
              "      <td>Tuvalu</td>\n",
              "    </tr>\n",
              "  </tbody>\n",
              "</table>\n",
              "</div>"
            ],
            "text/plain": [
              "                 Country\n",
              "0              Australia\n",
              "1                Belgium\n",
              "2                 Canada\n",
              "3               Colombia\n",
              "4                Germany\n",
              "5                  India\n",
              "6                 Mexico\n",
              "7            Netherlands\n",
              "8                   Peru\n",
              "9                 Serbia\n",
              "10                 Spain\n",
              "11                Sweden\n",
              "12                    US\n",
              "13        United Kingdom\n",
              "14                 China\n",
              "15              Kiribati\n",
              "16                 Palau\n",
              "17           New Zealand\n",
              "18  Summer Olympics 2020\n",
              "19              Malaysia\n",
              "20                 Tonga\n",
              "21  Winter Olympics 2022\n",
              "22            Antarctica\n",
              "23          Korea, North\n",
              "24               Ukraine\n",
              "25                 Nauru\n",
              "26                Tuvalu"
            ]
          },
          "execution_count": 152,
          "metadata": {},
          "output_type": "execute_result"
        }
      ],
      "source": [
        "import pandas as pd\n",
        "\n",
        "# Filter the data to select countries with zero recovered cases\n",
        "countries_with_zero_recovery = df[df['Recovered'] == 0]\n",
        "\n",
        "# Select the unique 'Country_Region' values from the filtered data\n",
        "countries = countries_with_zero_recovery['Country_Region'].unique()\n",
        "\n",
        "# Create a DataFrame to display the countries with zero recovered cases\n",
        "zero_recovery_countries_df = pd.DataFrame({'Country': countries})\n",
        "\n",
        "# Display the DataFrame\n",
        "zero_recovery_countries_df\n"
      ]
    },
    {
      "cell_type": "markdown",
      "metadata": {
        "id": "KKNkWlXu5_Mo"
      },
      "source": [
        "#### Show the countries with no deaths"
      ]
    },
    {
      "cell_type": "code",
      "execution_count": 153,
      "metadata": {
        "colab": {
          "base_uri": "https://localhost:8080/",
          "height": 1000
        },
        "id": "43moSimQ5_Mo",
        "outputId": "679c1aa1-1333-4734-dc15-18ec9a47d1b5"
      },
      "outputs": [
        {
          "data": {
            "text/html": [
              "<div>\n",
              "<style scoped>\n",
              "    .dataframe tbody tr th:only-of-type {\n",
              "        vertical-align: middle;\n",
              "    }\n",
              "\n",
              "    .dataframe tbody tr th {\n",
              "        vertical-align: top;\n",
              "    }\n",
              "\n",
              "    .dataframe thead th {\n",
              "        text-align: right;\n",
              "    }\n",
              "</style>\n",
              "<table border=\"1\" class=\"dataframe\">\n",
              "  <thead>\n",
              "    <tr style=\"text-align: right;\">\n",
              "      <th></th>\n",
              "      <th>Country</th>\n",
              "      <th>Deaths</th>\n",
              "    </tr>\n",
              "  </thead>\n",
              "  <tbody>\n",
              "    <tr>\n",
              "      <th>0</th>\n",
              "      <td>Australia</td>\n",
              "      <td>0</td>\n",
              "    </tr>\n",
              "    <tr>\n",
              "      <th>1</th>\n",
              "      <td>Belgium</td>\n",
              "      <td>0</td>\n",
              "    </tr>\n",
              "    <tr>\n",
              "      <th>2</th>\n",
              "      <td>Bhutan</td>\n",
              "      <td>0</td>\n",
              "    </tr>\n",
              "    <tr>\n",
              "      <th>3</th>\n",
              "      <td>Cambodia</td>\n",
              "      <td>0</td>\n",
              "    </tr>\n",
              "    <tr>\n",
              "      <th>4</th>\n",
              "      <td>Canada</td>\n",
              "      <td>0</td>\n",
              "    </tr>\n",
              "    <tr>\n",
              "      <th>5</th>\n",
              "      <td>China</td>\n",
              "      <td>0</td>\n",
              "    </tr>\n",
              "    <tr>\n",
              "      <th>6</th>\n",
              "      <td>Colombia</td>\n",
              "      <td>0</td>\n",
              "    </tr>\n",
              "    <tr>\n",
              "      <th>7</th>\n",
              "      <td>Denmark</td>\n",
              "      <td>0</td>\n",
              "    </tr>\n",
              "    <tr>\n",
              "      <th>8</th>\n",
              "      <td>Dominica</td>\n",
              "      <td>0</td>\n",
              "    </tr>\n",
              "    <tr>\n",
              "      <th>9</th>\n",
              "      <td>France</td>\n",
              "      <td>0</td>\n",
              "    </tr>\n",
              "    <tr>\n",
              "      <th>10</th>\n",
              "      <td>Germany</td>\n",
              "      <td>0</td>\n",
              "    </tr>\n",
              "    <tr>\n",
              "      <th>11</th>\n",
              "      <td>Grenada</td>\n",
              "      <td>0</td>\n",
              "    </tr>\n",
              "    <tr>\n",
              "      <th>12</th>\n",
              "      <td>Holy See</td>\n",
              "      <td>0</td>\n",
              "    </tr>\n",
              "    <tr>\n",
              "      <th>13</th>\n",
              "      <td>India</td>\n",
              "      <td>0</td>\n",
              "    </tr>\n",
              "    <tr>\n",
              "      <th>14</th>\n",
              "      <td>Japan</td>\n",
              "      <td>0</td>\n",
              "    </tr>\n",
              "    <tr>\n",
              "      <th>15</th>\n",
              "      <td>Laos</td>\n",
              "      <td>0</td>\n",
              "    </tr>\n",
              "    <tr>\n",
              "      <th>16</th>\n",
              "      <td>Marshall Islands</td>\n",
              "      <td>0</td>\n",
              "    </tr>\n",
              "    <tr>\n",
              "      <th>17</th>\n",
              "      <td>Mexico</td>\n",
              "      <td>0</td>\n",
              "    </tr>\n",
              "    <tr>\n",
              "      <th>18</th>\n",
              "      <td>Peru</td>\n",
              "      <td>0</td>\n",
              "    </tr>\n",
              "    <tr>\n",
              "      <th>19</th>\n",
              "      <td>Russia</td>\n",
              "      <td>0</td>\n",
              "    </tr>\n",
              "    <tr>\n",
              "      <th>20</th>\n",
              "      <td>Saint Kitts and Nevis</td>\n",
              "      <td>0</td>\n",
              "    </tr>\n",
              "    <tr>\n",
              "      <th>21</th>\n",
              "      <td>Saint Vincent and the Grenadines</td>\n",
              "      <td>0</td>\n",
              "    </tr>\n",
              "    <tr>\n",
              "      <th>22</th>\n",
              "      <td>Samoa</td>\n",
              "      <td>0</td>\n",
              "    </tr>\n",
              "    <tr>\n",
              "      <th>23</th>\n",
              "      <td>Seychelles</td>\n",
              "      <td>0</td>\n",
              "    </tr>\n",
              "    <tr>\n",
              "      <th>24</th>\n",
              "      <td>Solomon Islands</td>\n",
              "      <td>0</td>\n",
              "    </tr>\n",
              "    <tr>\n",
              "      <th>25</th>\n",
              "      <td>Spain</td>\n",
              "      <td>0</td>\n",
              "    </tr>\n",
              "    <tr>\n",
              "      <th>26</th>\n",
              "      <td>Timor-Leste</td>\n",
              "      <td>0</td>\n",
              "    </tr>\n",
              "    <tr>\n",
              "      <th>27</th>\n",
              "      <td>US</td>\n",
              "      <td>0</td>\n",
              "    </tr>\n",
              "    <tr>\n",
              "      <th>28</th>\n",
              "      <td>United Kingdom</td>\n",
              "      <td>0</td>\n",
              "    </tr>\n",
              "    <tr>\n",
              "      <th>29</th>\n",
              "      <td>Vanuatu</td>\n",
              "      <td>0</td>\n",
              "    </tr>\n",
              "    <tr>\n",
              "      <th>30</th>\n",
              "      <td>Kiribati</td>\n",
              "      <td>0</td>\n",
              "    </tr>\n",
              "    <tr>\n",
              "      <th>31</th>\n",
              "      <td>Palau</td>\n",
              "      <td>0</td>\n",
              "    </tr>\n",
              "    <tr>\n",
              "      <th>32</th>\n",
              "      <td>New Zealand</td>\n",
              "      <td>0</td>\n",
              "    </tr>\n",
              "    <tr>\n",
              "      <th>33</th>\n",
              "      <td>Summer Olympics 2020</td>\n",
              "      <td>0</td>\n",
              "    </tr>\n",
              "    <tr>\n",
              "      <th>34</th>\n",
              "      <td>Malaysia</td>\n",
              "      <td>0</td>\n",
              "    </tr>\n",
              "    <tr>\n",
              "      <th>35</th>\n",
              "      <td>Tonga</td>\n",
              "      <td>0</td>\n",
              "    </tr>\n",
              "    <tr>\n",
              "      <th>36</th>\n",
              "      <td>Winter Olympics 2022</td>\n",
              "      <td>0</td>\n",
              "    </tr>\n",
              "    <tr>\n",
              "      <th>37</th>\n",
              "      <td>Antarctica</td>\n",
              "      <td>0</td>\n",
              "    </tr>\n",
              "    <tr>\n",
              "      <th>38</th>\n",
              "      <td>Korea, North</td>\n",
              "      <td>0</td>\n",
              "    </tr>\n",
              "    <tr>\n",
              "      <th>39</th>\n",
              "      <td>Ukraine</td>\n",
              "      <td>0</td>\n",
              "    </tr>\n",
              "    <tr>\n",
              "      <th>40</th>\n",
              "      <td>Nauru</td>\n",
              "      <td>0</td>\n",
              "    </tr>\n",
              "    <tr>\n",
              "      <th>41</th>\n",
              "      <td>Tuvalu</td>\n",
              "      <td>0</td>\n",
              "    </tr>\n",
              "  </tbody>\n",
              "</table>\n",
              "</div>"
            ],
            "text/plain": [
              "                             Country  Deaths\n",
              "0                          Australia       0\n",
              "1                            Belgium       0\n",
              "2                             Bhutan       0\n",
              "3                           Cambodia       0\n",
              "4                             Canada       0\n",
              "5                              China       0\n",
              "6                           Colombia       0\n",
              "7                            Denmark       0\n",
              "8                           Dominica       0\n",
              "9                             France       0\n",
              "10                           Germany       0\n",
              "11                           Grenada       0\n",
              "12                          Holy See       0\n",
              "13                             India       0\n",
              "14                             Japan       0\n",
              "15                              Laos       0\n",
              "16                  Marshall Islands       0\n",
              "17                            Mexico       0\n",
              "18                              Peru       0\n",
              "19                            Russia       0\n",
              "20             Saint Kitts and Nevis       0\n",
              "21  Saint Vincent and the Grenadines       0\n",
              "22                             Samoa       0\n",
              "23                        Seychelles       0\n",
              "24                   Solomon Islands       0\n",
              "25                             Spain       0\n",
              "26                       Timor-Leste       0\n",
              "27                                US       0\n",
              "28                    United Kingdom       0\n",
              "29                           Vanuatu       0\n",
              "30                          Kiribati       0\n",
              "31                             Palau       0\n",
              "32                       New Zealand       0\n",
              "33              Summer Olympics 2020       0\n",
              "34                          Malaysia       0\n",
              "35                             Tonga       0\n",
              "36              Winter Olympics 2022       0\n",
              "37                        Antarctica       0\n",
              "38                      Korea, North       0\n",
              "39                           Ukraine       0\n",
              "40                             Nauru       0\n",
              "41                            Tuvalu       0"
            ]
          },
          "execution_count": 153,
          "metadata": {},
          "output_type": "execute_result"
        }
      ],
      "source": [
        "import pandas as pd\n",
        "\n",
        "# Filter the data to select countries with zero deaths\n",
        "countries_with_zero_deaths = df[df['Deaths'] == 0]\n",
        "\n",
        "# Select the unique 'Country_Region' values from the filtered data\n",
        "countries = countries_with_zero_deaths['Country_Region'].unique()\n",
        "\n",
        "# Create a DataFrame to display the countries with zero deaths\n",
        "zero_deaths_countries_df = pd.DataFrame({'Country': countries})\n",
        "\n",
        "# Add a new column 'Deaths' with values set to 0\n",
        "zero_deaths_countries_df['Deaths'] = 0\n",
        "\n",
        "# Display the DataFrame\n",
        "zero_deaths_countries_df\n"
      ]
    },
    {
      "cell_type": "code",
      "execution_count": 154,
      "metadata": {
        "colab": {
          "base_uri": "https://localhost:8080/",
          "height": 424
        },
        "id": "b_RfmBD85_Mo",
        "outputId": "f2c9acaf-0e04-462f-efe2-0ea4b580184d"
      },
      "outputs": [
        {
          "data": {
            "text/html": [
              "<div>\n",
              "<style scoped>\n",
              "    .dataframe tbody tr th:only-of-type {\n",
              "        vertical-align: middle;\n",
              "    }\n",
              "\n",
              "    .dataframe tbody tr th {\n",
              "        vertical-align: top;\n",
              "    }\n",
              "\n",
              "    .dataframe thead th {\n",
              "        text-align: right;\n",
              "    }\n",
              "</style>\n",
              "<table border=\"1\" class=\"dataframe\">\n",
              "  <thead>\n",
              "    <tr style=\"text-align: right;\">\n",
              "      <th></th>\n",
              "      <th>Country_Region</th>\n",
              "      <th>Confirmed</th>\n",
              "      <th>Deaths</th>\n",
              "      <th>Recovered</th>\n",
              "    </tr>\n",
              "  </thead>\n",
              "  <tbody>\n",
              "    <tr>\n",
              "      <th>10</th>\n",
              "      <td>Australia</td>\n",
              "      <td>75</td>\n",
              "      <td>0</td>\n",
              "      <td>71</td>\n",
              "    </tr>\n",
              "    <tr>\n",
              "      <th>23</th>\n",
              "      <td>Belgium</td>\n",
              "      <td>79680</td>\n",
              "      <td>0</td>\n",
              "      <td>0</td>\n",
              "    </tr>\n",
              "    <tr>\n",
              "      <th>24</th>\n",
              "      <td>Belgium</td>\n",
              "      <td>81557</td>\n",
              "      <td>0</td>\n",
              "      <td>0</td>\n",
              "    </tr>\n",
              "    <tr>\n",
              "      <th>25</th>\n",
              "      <td>Belgium</td>\n",
              "      <td>65260</td>\n",
              "      <td>0</td>\n",
              "      <td>0</td>\n",
              "    </tr>\n",
              "    <tr>\n",
              "      <th>26</th>\n",
              "      <td>Belgium</td>\n",
              "      <td>49270</td>\n",
              "      <td>0</td>\n",
              "      <td>0</td>\n",
              "    </tr>\n",
              "    <tr>\n",
              "      <th>...</th>\n",
              "      <td>...</td>\n",
              "      <td>...</td>\n",
              "      <td>...</td>\n",
              "      <td>...</td>\n",
              "    </tr>\n",
              "    <tr>\n",
              "      <th>4006</th>\n",
              "      <td>Ukraine</td>\n",
              "      <td>0</td>\n",
              "      <td>0</td>\n",
              "      <td>0</td>\n",
              "    </tr>\n",
              "    <tr>\n",
              "      <th>4007</th>\n",
              "      <td>Nauru</td>\n",
              "      <td>0</td>\n",
              "      <td>0</td>\n",
              "      <td>0</td>\n",
              "    </tr>\n",
              "    <tr>\n",
              "      <th>4008</th>\n",
              "      <td>New Zealand</td>\n",
              "      <td>0</td>\n",
              "      <td>0</td>\n",
              "      <td>0</td>\n",
              "    </tr>\n",
              "    <tr>\n",
              "      <th>4009</th>\n",
              "      <td>Tuvalu</td>\n",
              "      <td>0</td>\n",
              "      <td>0</td>\n",
              "      <td>0</td>\n",
              "    </tr>\n",
              "    <tr>\n",
              "      <th>4010</th>\n",
              "      <td>United Kingdom</td>\n",
              "      <td>0</td>\n",
              "      <td>0</td>\n",
              "      <td>0</td>\n",
              "    </tr>\n",
              "  </tbody>\n",
              "</table>\n",
              "<p>274 rows × 4 columns</p>\n",
              "</div>"
            ],
            "text/plain": [
              "      Country_Region  Confirmed  Deaths  Recovered\n",
              "10         Australia         75       0         71\n",
              "23           Belgium      79680       0          0\n",
              "24           Belgium      81557       0          0\n",
              "25           Belgium      65260       0          0\n",
              "26           Belgium      49270       0          0\n",
              "...              ...        ...     ...        ...\n",
              "4006         Ukraine          0       0          0\n",
              "4007           Nauru          0       0          0\n",
              "4008     New Zealand          0       0          0\n",
              "4009          Tuvalu          0       0          0\n",
              "4010  United Kingdom          0       0          0\n",
              "\n",
              "[274 rows x 4 columns]"
            ]
          },
          "execution_count": 154,
          "metadata": {},
          "output_type": "execute_result"
        }
      ],
      "source": [
        "import pandas as pd\n",
        "\n",
        "# Filter the data to select countries with zero deaths\n",
        "countries_with_zero_deaths = df[df['Deaths'] == 0]\n",
        "\n",
        "# Select the desired columns for the filtered data\n",
        "filtered_data = countries_with_zero_deaths[['Country_Region', 'Confirmed', 'Deaths', 'Recovered']]\n",
        "\n",
        "# Display the filtered data\n",
        "filtered_data\n"
      ]
    },
    {
      "cell_type": "markdown",
      "metadata": {
        "id": "OaoKAFoM5_Mo"
      },
      "source": [
        "### Question 4"
      ]
    },
    {
      "cell_type": "markdown",
      "metadata": {
        "id": "AUdOBfk45_Mo"
      },
      "source": [
        "#### Show the Top 10 countries with Confirmed cases"
      ]
    },
    {
      "cell_type": "code",
      "execution_count": 155,
      "metadata": {
        "colab": {
          "base_uri": "https://localhost:8080/",
          "height": 363
        },
        "id": "yYmf2csq5_Mo",
        "outputId": "755131a6-57f5-4c42-a682-e09837917284"
      },
      "outputs": [
        {
          "data": {
            "text/html": [
              "<div>\n",
              "<style scoped>\n",
              "    .dataframe tbody tr th:only-of-type {\n",
              "        vertical-align: middle;\n",
              "    }\n",
              "\n",
              "    .dataframe tbody tr th {\n",
              "        vertical-align: top;\n",
              "    }\n",
              "\n",
              "    .dataframe thead th {\n",
              "        text-align: right;\n",
              "    }\n",
              "</style>\n",
              "<table border=\"1\" class=\"dataframe\">\n",
              "  <thead>\n",
              "    <tr style=\"text-align: right;\">\n",
              "      <th></th>\n",
              "      <th>Country_Region</th>\n",
              "      <th>Last_Update</th>\n",
              "      <th>Confirmed</th>\n",
              "      <th>Deaths</th>\n",
              "      <th>Recovered</th>\n",
              "    </tr>\n",
              "  </thead>\n",
              "  <tbody>\n",
              "    <tr>\n",
              "      <th>214</th>\n",
              "      <td>France</td>\n",
              "      <td>2021-01-02 05:22:33</td>\n",
              "      <td>2636045</td>\n",
              "      <td>64399</td>\n",
              "      <td>170896</td>\n",
              "    </tr>\n",
              "    <tr>\n",
              "      <th>647</th>\n",
              "      <td>Turkey</td>\n",
              "      <td>2021-01-02 05:22:33</td>\n",
              "      <td>2220855</td>\n",
              "      <td>21093</td>\n",
              "      <td>2114760</td>\n",
              "    </tr>\n",
              "    <tr>\n",
              "      <th>3956</th>\n",
              "      <td>United Kingdom</td>\n",
              "      <td>2021-01-02 05:22:33</td>\n",
              "      <td>2190702</td>\n",
              "      <td>81593</td>\n",
              "      <td>0</td>\n",
              "    </tr>\n",
              "    <tr>\n",
              "      <th>267</th>\n",
              "      <td>India</td>\n",
              "      <td>2021-01-02 05:22:33</td>\n",
              "      <td>1935636</td>\n",
              "      <td>49580</td>\n",
              "      <td>1828546</td>\n",
              "    </tr>\n",
              "    <tr>\n",
              "      <th>6</th>\n",
              "      <td>Argentina</td>\n",
              "      <td>2021-01-02 05:22:33</td>\n",
              "      <td>1629594</td>\n",
              "      <td>43319</td>\n",
              "      <td>1426676</td>\n",
              "    </tr>\n",
              "    <tr>\n",
              "      <th>65</th>\n",
              "      <td>Brazil</td>\n",
              "      <td>2021-01-02 05:22:33</td>\n",
              "      <td>1466191</td>\n",
              "      <td>46775</td>\n",
              "      <td>1287986</td>\n",
              "    </tr>\n",
              "    <tr>\n",
              "      <th>487</th>\n",
              "      <td>Poland</td>\n",
              "      <td>2021-01-02 05:22:33</td>\n",
              "      <td>1305774</td>\n",
              "      <td>28956</td>\n",
              "      <td>1046281</td>\n",
              "    </tr>\n",
              "    <tr>\n",
              "      <th>285</th>\n",
              "      <td>Iran</td>\n",
              "      <td>2021-01-02 05:22:33</td>\n",
              "      <td>1231429</td>\n",
              "      <td>55337</td>\n",
              "      <td>995570</td>\n",
              "    </tr>\n",
              "    <tr>\n",
              "      <th>591</th>\n",
              "      <td>South Africa</td>\n",
              "      <td>2021-01-02 05:22:33</td>\n",
              "      <td>1073887</td>\n",
              "      <td>28887</td>\n",
              "      <td>887701</td>\n",
              "    </tr>\n",
              "    <tr>\n",
              "      <th>262</th>\n",
              "      <td>India</td>\n",
              "      <td>2021-01-02 05:22:33</td>\n",
              "      <td>920373</td>\n",
              "      <td>12096</td>\n",
              "      <td>896116</td>\n",
              "    </tr>\n",
              "  </tbody>\n",
              "</table>\n",
              "</div>"
            ],
            "text/plain": [
              "      Country_Region          Last_Update  Confirmed  Deaths  Recovered\n",
              "214           France  2021-01-02 05:22:33    2636045   64399     170896\n",
              "647           Turkey  2021-01-02 05:22:33    2220855   21093    2114760\n",
              "3956  United Kingdom  2021-01-02 05:22:33    2190702   81593          0\n",
              "267            India  2021-01-02 05:22:33    1935636   49580    1828546\n",
              "6          Argentina  2021-01-02 05:22:33    1629594   43319    1426676\n",
              "65            Brazil  2021-01-02 05:22:33    1466191   46775    1287986\n",
              "487           Poland  2021-01-02 05:22:33    1305774   28956    1046281\n",
              "285             Iran  2021-01-02 05:22:33    1231429   55337     995570\n",
              "591     South Africa  2021-01-02 05:22:33    1073887   28887     887701\n",
              "262            India  2021-01-02 05:22:33     920373   12096     896116"
            ]
          },
          "execution_count": 155,
          "metadata": {},
          "output_type": "execute_result"
        }
      ],
      "source": [
        "import pandas as pd\n",
        "\n",
        "# Sort the data by 'Confirmed' cases in descending order\n",
        "top_10_countries = df.sort_values(by='Confirmed', ascending=False).head(10)\n",
        "\n",
        "# Select the desired columns\n",
        "top_10_countries = top_10_countries[['Country_Region', 'Last_Update', 'Confirmed', 'Deaths', 'Recovered']]\n",
        "\n",
        "# Display the DataFrame\n",
        "top_10_countries\n"
      ]
    },
    {
      "cell_type": "markdown",
      "metadata": {
        "id": "Frb2L29r5_Mo"
      },
      "source": [
        "#### Show the Top 10 Countries with Active cases"
      ]
    },
    {
      "cell_type": "code",
      "execution_count": 156,
      "metadata": {
        "colab": {
          "base_uri": "https://localhost:8080/",
          "height": 363
        },
        "id": "kcDc6k9J5_Mo",
        "outputId": "524b5792-ea82-452f-ccf6-d8c7e308aebd"
      },
      "outputs": [
        {
          "data": {
            "text/html": [
              "<div>\n",
              "<style scoped>\n",
              "    .dataframe tbody tr th:only-of-type {\n",
              "        vertical-align: middle;\n",
              "    }\n",
              "\n",
              "    .dataframe tbody tr th {\n",
              "        vertical-align: top;\n",
              "    }\n",
              "\n",
              "    .dataframe thead th {\n",
              "        text-align: right;\n",
              "    }\n",
              "</style>\n",
              "<table border=\"1\" class=\"dataframe\">\n",
              "  <thead>\n",
              "    <tr style=\"text-align: right;\">\n",
              "      <th></th>\n",
              "      <th>Country_Region</th>\n",
              "      <th>Last_Update</th>\n",
              "      <th>Confirmed</th>\n",
              "      <th>Deaths</th>\n",
              "      <th>Recovered</th>\n",
              "      <th>Active</th>\n",
              "    </tr>\n",
              "  </thead>\n",
              "  <tbody>\n",
              "    <tr>\n",
              "      <th>214</th>\n",
              "      <td>France</td>\n",
              "      <td>2021-01-02 05:22:33</td>\n",
              "      <td>2636045</td>\n",
              "      <td>64399</td>\n",
              "      <td>170896</td>\n",
              "      <td>2400750</td>\n",
              "    </tr>\n",
              "    <tr>\n",
              "      <th>3956</th>\n",
              "      <td>United Kingdom</td>\n",
              "      <td>2021-01-02 05:22:33</td>\n",
              "      <td>2190702</td>\n",
              "      <td>81593</td>\n",
              "      <td>0</td>\n",
              "      <td>2109109</td>\n",
              "    </tr>\n",
              "    <tr>\n",
              "      <th>857</th>\n",
              "      <td>US</td>\n",
              "      <td>2021-01-02 05:22:33</td>\n",
              "      <td>790582</td>\n",
              "      <td>10552</td>\n",
              "      <td>0</td>\n",
              "      <td>780030</td>\n",
              "    </tr>\n",
              "    <tr>\n",
              "      <th>474</th>\n",
              "      <td>Peru</td>\n",
              "      <td>2021-01-02 05:22:33</td>\n",
              "      <td>449514</td>\n",
              "      <td>42170</td>\n",
              "      <td>0</td>\n",
              "      <td>407344</td>\n",
              "    </tr>\n",
              "    <tr>\n",
              "      <th>1276</th>\n",
              "      <td>US</td>\n",
              "      <td>2021-01-02 05:22:33</td>\n",
              "      <td>393652</td>\n",
              "      <td>7860</td>\n",
              "      <td>0</td>\n",
              "      <td>385792</td>\n",
              "    </tr>\n",
              "    <tr>\n",
              "      <th>607</th>\n",
              "      <td>Spain</td>\n",
              "      <td>2021-01-02 05:22:33</td>\n",
              "      <td>399499</td>\n",
              "      <td>11828</td>\n",
              "      <td>40736</td>\n",
              "      <td>346935</td>\n",
              "    </tr>\n",
              "    <tr>\n",
              "      <th>583</th>\n",
              "      <td>Serbia</td>\n",
              "      <td>2021-01-02 05:22:33</td>\n",
              "      <td>339997</td>\n",
              "      <td>3250</td>\n",
              "      <td>0</td>\n",
              "      <td>336747</td>\n",
              "    </tr>\n",
              "    <tr>\n",
              "      <th>602</th>\n",
              "      <td>Spain</td>\n",
              "      <td>2021-01-02 05:22:33</td>\n",
              "      <td>356724</td>\n",
              "      <td>8723</td>\n",
              "      <td>26203</td>\n",
              "      <td>321798</td>\n",
              "    </tr>\n",
              "    <tr>\n",
              "      <th>753</th>\n",
              "      <td>US</td>\n",
              "      <td>2021-01-02 05:22:33</td>\n",
              "      <td>325404</td>\n",
              "      <td>5196</td>\n",
              "      <td>0</td>\n",
              "      <td>320208</td>\n",
              "    </tr>\n",
              "    <tr>\n",
              "      <th>391</th>\n",
              "      <td>Mexico</td>\n",
              "      <td>2021-01-02 05:22:33</td>\n",
              "      <td>334137</td>\n",
              "      <td>16873</td>\n",
              "      <td>0</td>\n",
              "      <td>317264</td>\n",
              "    </tr>\n",
              "  </tbody>\n",
              "</table>\n",
              "</div>"
            ],
            "text/plain": [
              "      Country_Region          Last_Update  Confirmed  Deaths  Recovered  \\\n",
              "214           France  2021-01-02 05:22:33    2636045   64399     170896   \n",
              "3956  United Kingdom  2021-01-02 05:22:33    2190702   81593          0   \n",
              "857               US  2021-01-02 05:22:33     790582   10552          0   \n",
              "474             Peru  2021-01-02 05:22:33     449514   42170          0   \n",
              "1276              US  2021-01-02 05:22:33     393652    7860          0   \n",
              "607            Spain  2021-01-02 05:22:33     399499   11828      40736   \n",
              "583           Serbia  2021-01-02 05:22:33     339997    3250          0   \n",
              "602            Spain  2021-01-02 05:22:33     356724    8723      26203   \n",
              "753               US  2021-01-02 05:22:33     325404    5196          0   \n",
              "391           Mexico  2021-01-02 05:22:33     334137   16873          0   \n",
              "\n",
              "       Active  \n",
              "214   2400750  \n",
              "3956  2109109  \n",
              "857    780030  \n",
              "474    407344  \n",
              "1276   385792  \n",
              "607    346935  \n",
              "583    336747  \n",
              "602    321798  \n",
              "753    320208  \n",
              "391    317264  "
            ]
          },
          "execution_count": 156,
          "metadata": {},
          "output_type": "execute_result"
        }
      ],
      "source": [
        "import pandas as pd\n",
        "\n",
        "# Calculate the number of active cases by subtracting deaths and recovered from confirmed cases\n",
        "df['Active'] = df['Confirmed'] - df['Deaths'] - df['Recovered']\n",
        "\n",
        "# Sort the data by 'Active' cases in descending order\n",
        "top_10_active_countries = df.sort_values(by='Active', ascending=False).head(10)\n",
        "\n",
        "# Select the desired columns\n",
        "top_10_active_countries = top_10_active_countries[['Country_Region', 'Last_Update', 'Confirmed', 'Deaths', 'Recovered', 'Active']]\n",
        "\n",
        "# Display the DataFrame\n",
        "top_10_active_countries\n"
      ]
    },
    {
      "cell_type": "markdown",
      "metadata": {
        "id": "mK0hI8SA5_Mo"
      },
      "source": [
        "### Question 5"
      ]
    },
    {
      "cell_type": "markdown",
      "metadata": {
        "id": "vpeSgug_5_Mo"
      },
      "source": [
        "#### Plot Country-wise Total deaths, confirmed, recovered and active casaes where total deaths have exceeded 50,000"
      ]
    },
    {
      "cell_type": "code",
      "execution_count": 157,
      "metadata": {
        "id": "nqW8oz6H5_Mo"
      },
      "outputs": [],
      "source": [
        "import matplotlib.pyplot as plt"
      ]
    },
    {
      "cell_type": "code",
      "execution_count": 158,
      "metadata": {
        "colab": {
          "base_uri": "https://localhost:8080/",
          "height": 639
        },
        "id": "l7XoZIok5_Mp",
        "outputId": "e2a08d01-94df-4868-e988-88ed04e9607a"
      },
      "outputs": [
        {
          "data": {
            "image/png": "[encoded data removed]",
            "text/plain": [
              "<Figure size 1200x600 with 1 Axes>"
            ]
          },
          "metadata": {},
          "output_type": "display_data"
        }
      ],
      "source": [
        "import pandas as pd\n",
        "import matplotlib.pyplot as plt\n",
        "import io\n",
        "import requests\n",
        "\n",
        "# Define the URL of the CSV file\n",
        "csv_url = 'https://raw.githubusercontent.com/CSSEGISandData/COVID-19/master/csse_covid_19_data/csse_covid_19_daily_reports/'\n",
        "\n",
        "# Define a list of dates for the files to be processed\n",
        "dates = ['01-01-2021', '01-02-2021', '01-03-2021']  # Additional dates can be added if necessary\n",
        "\n",
        "# Initialize an empty DataFrame to store the data\n",
        "combined_data = pd.DataFrame()\n",
        "\n",
        "# Download and combine data from CSV files\n",
        "for date in dates:\n",
        "    csv_file_url = f'{csv_url}{date}.csv'\n",
        "    response = requests.get(csv_file_url)\n",
        "    if response.status_code == 200:\n",
        "        csv_data = response.content.decode('utf-8')\n",
        "        df = pd.read_csv(io.StringIO(csv_data))\n",
        "        combined_data = pd.concat([combined_data, df])\n",
        "\n",
        "# Calculate the sum of deaths, confirmed cases, recoveries, and active cases by country\n",
        "combined_data['Active'] = combined_data['Confirmed'] - combined_data['Deaths'] - combined_data['Recovered']\n",
        "sum_data = combined_data.groupby('Country_Region')[['Deaths', 'Confirmed', 'Recovered', 'Active']].sum()\n",
        "\n",
        "# Filter countries with more than 50,000 deaths\n",
        "countries_over_50000_deaths = sum_data[sum_data['Deaths'] > 50000]\n",
        "\n",
        "# Create a bar chart\n",
        "countries_over_50000_deaths.plot(kind='bar', figsize=(12, 6))\n",
        "plt.title('Total Deaths, Confirmed, Recovered, and Active Cases by Country (Deaths > 50,000)')\n",
        "plt.xlabel('Country')\n",
        "plt.ylabel('Number of Cases')\n",
        "plt.legend(title='Case Type', loc='upper right')\n",
        "plt.xticks(rotation=45, ha='right')\n",
        "plt.show()\n",
        "\n"
      ]
    },
    {
      "cell_type": "markdown",
      "metadata": {
        "id": "8J7zyBC65_Mp"
      },
      "source": [
        "### Question 6"
      ]
    },
    {
      "cell_type": "markdown",
      "metadata": {
        "id": "6BFSrCMe5_Mp"
      },
      "source": [
        "### Plot Province/State wise Deaths in USA"
      ]
    },
    {
      "cell_type": "code",
      "execution_count": 159,
      "metadata": {
        "id": "pOD_Rnmk5_Mp"
      },
      "outputs": [],
      "source": [
        "import plotly.express as px"
      ]
    },
    {
      "cell_type": "code",
      "execution_count": 160,
      "metadata": {
        "id": "dxdgg03n5_Mp"
      },
      "outputs": [],
      "source": [
        "covid_data= pd.read_csv('https://raw.githubusercontent.com/CSSEGISandData/COVID-19/master/csse_covid_19_data/csse_covid_19_daily_reports/01-09-2021.csv')"
      ]
    },
    {
      "cell_type": "code",
      "execution_count": 161,
      "metadata": {
        "colab": {
          "base_uri": "https://localhost:8080/"
        },
        "id": "PD41x5WQ5_Mp",
        "outputId": "42965a2c-79a7-4655-adc5-72b2aabf8dbe"
      },
      "outputs": [
        {
          "data": {
            "text/plain": [
              "Index(['FIPS', 'Admin2', 'Province_State', 'Country_Region', 'Last_Update',\n",
              "       'Lat', 'Long_', 'Confirmed', 'Deaths', 'Recovered', 'Active',\n",
              "       'Combined_Key', 'Incident_Rate', 'Case_Fatality_Ratio'],\n",
              "      dtype='object')"
            ]
          },
          "execution_count": 161,
          "metadata": {},
          "output_type": "execute_result"
        }
      ],
      "source": [
        "covid_data.columns"
      ]
    },
    {
      "cell_type": "code",
      "execution_count": 162,
      "metadata": {
        "colab": {
          "base_uri": "https://localhost:8080/",
          "height": 542
        },
        "id": "7tPO7g1Z5_Mp",
        "outputId": "18ed74c5-3dda-4745-ec82-7231be039165"
      },
      "outputs": [
        {
          "data": {
            "application/vnd.plotly.v1+json": {
              "config": {
                "plotlyServerURL": "https://plot.ly"
              },
              "data": [
                {
                  "alignmentgroup": "True",
                  "hovertemplate": "Province_State=%{x}<br>Number of Deaths=%{y}<extra></extra>",
                  "legendgroup": "",
                  "marker": {
                    "color": "#636efa",
                    "pattern": {
                      "shape": ""
                    }
                  },
                  "name": "",
                  "offsetgroup": "",
                  "orientation": "v",
                  "showlegend": false,
                  "textposition": "auto",
                  "type": "bar",
                  "x": [
                    "Alabama",
                    "Alaska",
                    "Arizona",
                    "Arkansas",
                    "California",
                    "Colorado",
                    "Connecticut",
                    "Delaware",
                    "Diamond Princess",
                    "District of Columbia",
                    "Florida",
                    "Georgia",
                    "Grand Princess",
                    "Guam",
                    "Hawaii",
                    "Idaho",
                    "Illinois",
                    "Indiana",
                    "Iowa",
                    "Kansas",
                    "Kentucky",
                    "Louisiana",
                    "Maine",
                    "Maryland",
                    "Massachusetts",
                    "Michigan",
                    "Minnesota",
                    "Mississippi",
                    "Missouri",
                    "Montana",
                    "Nebraska",
                    "Nevada",
                    "New Hampshire",
                    "New Jersey",
                    "New Mexico",
                    "New York",
                    "North Carolina",
                    "North Dakota",
                    "Northern Mariana Islands",
                    "Ohio",
                    "Oklahoma",
                    "Oregon",
                    "Pennsylvania",
                    "Puerto Rico",
                    "Recovered",
                    "Rhode Island",
                    "South Carolina",
                    "South Dakota",
                    "Tennessee",
                    "Texas",
                    "Utah",
                    "Vermont",
                    "Virgin Islands",
                    "Virginia",
                    "Washington",
                    "West Virginia",
                    "Wisconsin",
                    "Wyoming"
                  ],
                  "xaxis": "x",
                  "y": [
                    5299,
                    224,
                    10036,
                    4010,
                    29638,
                    5600,
                    6324,
                    1128,
                    0,
                    813,
                    22804,
                    11457,
                    3,
                    124,
                    308,
                    1528,
                    19210,
                    10089,
                    4127,
                    3164,
                    2876,
                    7833,
                    432,
                    6246,
                    11071,
                    14145,
                    5731,
                    5146,
                    6173,
                    1054,
                    1737,
                    3450,
                    862,
                    19854,
                    2732,
                    39288,
                    7425,
                    1360,
                    2,
                    14899,
                    2738,
                    1603,
                    17710,
                    1616,
                    0,
                    2062,
                    5758,
                    1570,
                    7704,
                    30441,
                    1390,
                    156,
                    24,
                    5381,
                    3698,
                    1570,
                    5567,
                    489
                  ],
                  "yaxis": "y"
                }
              ],
              "layout": {
                "barmode": "relative",
                "legend": {
                  "tracegroupgap": 0
                },
                "template": {
                  "data": {
                    "bar": [
                      {
                        "error_x": {
                          "color": "#2a3f5f"
                        },
                        "error_y": {
                          "color": "#2a3f5f"
                        },
                        "marker": {
                          "line": {
                            "color": "#E5ECF6",
                            "width": 0.5
                          },
                          "pattern": {
                            "fillmode": "overlay",
                            "size": 10,
                            "solidity": 0.2
                          }
                        },
                        "type": "bar"
                      }
                    ],
                    "barpolar": [
                      {
                        "marker": {
                          "line": {
                            "color": "#E5ECF6",
                            "width": 0.5
                          },
                          "pattern": {
                            "fillmode": "overlay",
                            "size": 10,
                            "solidity": 0.2
                          }
                        },
                        "type": "barpolar"
                      }
                    ],
                    "carpet": [
                      {
                        "aaxis": {
                          "endlinecolor": "#2a3f5f",
                          "gridcolor": "white",
                          "linecolor": "white",
                          "minorgridcolor": "white",
                          "startlinecolor": "#2a3f5f"
                        },
                        "baxis": {
                          "endlinecolor": "#2a3f5f",
                          "gridcolor": "white",
                          "linecolor": "white",
                          "minorgridcolor": "white",
                          "startlinecolor": "#2a3f5f"
                        },
                        "type": "carpet"
                      }
                    ],
                    "choropleth": [
                      {
                        "colorbar": {
                          "outlinewidth": 0,
                          "ticks": ""
                        },
                        "type": "choropleth"
                      }
                    ],
                    "contour": [
                      {
                        "colorbar": {
                          "outlinewidth": 0,
                          "ticks": ""
                        },
                        "colorscale": [
                          [
                            0,
                            "#0d0887"
                          ],
                          [
                            0.1111111111111111,
                            "#46039f"
                          ],
                          [
                            0.2222222222222222,
                            "#7201a8"
                          ],
                          [
                            0.3333333333333333,
                            "#9c179e"
                          ],
                          [
                            0.4444444444444444,
                            "#bd3786"
                          ],
                          [
                            0.5555555555555556,
                            "#d8576b"
                          ],
                          [
                            0.6666666666666666,
                            "#ed7953"
                          ],
                          [
                            0.7777777777777778,
                            "#fb9f3a"
                          ],
                          [
                            0.8888888888888888,
                            "#fdca26"
                          ],
                          [
                            1,
                            "#f0f921"
                          ]
                        ],
                        "type": "contour"
                      }
                    ],
                    "contourcarpet": [
                      {
                        "colorbar": {
                          "outlinewidth": 0,
                          "ticks": ""
                        },
                        "type": "contourcarpet"
                      }
                    ],
                    "heatmap": [
                      {
                        "colorbar": {
                          "outlinewidth": 0,
                          "ticks": ""
                        },
                        "colorscale": [
                          [
                            0,
                            "#0d0887"
                          ],
                          [
                            0.1111111111111111,
                            "#46039f"
                          ],
                          [
                            0.2222222222222222,
                            "#7201a8"
                          ],
                          [
                            0.3333333333333333,
                            "#9c179e"
                          ],
                          [
                            0.4444444444444444,
                            "#bd3786"
                          ],
                          [
                            0.5555555555555556,
                            "#d8576b"
                          ],
                          [
                            0.6666666666666666,
                            "#ed7953"
                          ],
                          [
                            0.7777777777777778,
                            "#fb9f3a"
                          ],
                          [
                            0.8888888888888888,
                            "#fdca26"
                          ],
                          [
                            1,
                            "#f0f921"
                          ]
                        ],
                        "type": "heatmap"
                      }
                    ],
                    "heatmapgl": [
                      {
                        "colorbar": {
                          "outlinewidth": 0,
                          "ticks": ""
                        },
                        "colorscale": [
                          [
                            0,
                            "#0d0887"
                          ],
                          [
                            0.1111111111111111,
                            "#46039f"
                          ],
                          [
                            0.2222222222222222,
                            "#7201a8"
                          ],
                          [
                            0.3333333333333333,
                            "#9c179e"
                          ],
                          [
                            0.4444444444444444,
                            "#bd3786"
                          ],
                          [
                            0.5555555555555556,
                            "#d8576b"
                          ],
                          [
                            0.6666666666666666,
                            "#ed7953"
                          ],
                          [
                            0.7777777777777778,
                            "#fb9f3a"
                          ],
                          [
                            0.8888888888888888,
                            "#fdca26"
                          ],
                          [
                            1,
                            "#f0f921"
                          ]
                        ],
                        "type": "heatmapgl"
                      }
                    ],
                    "histogram": [
                      {
                        "marker": {
                          "pattern": {
                            "fillmode": "overlay",
                            "size": 10,
                            "solidity": 0.2
                          }
                        },
                        "type": "histogram"
                      }
                    ],
                    "histogram2d": [
                      {
                        "colorbar": {
                          "outlinewidth": 0,
                          "ticks": ""
                        },
                        "colorscale": [
                          [
                            0,
                            "#0d0887"
                          ],
                          [
                            0.1111111111111111,
                            "#46039f"
                          ],
                          [
                            0.2222222222222222,
                            "#7201a8"
                          ],
                          [
                            0.3333333333333333,
                            "#9c179e"
                          ],
                          [
                            0.4444444444444444,
                            "#bd3786"
                          ],
                          [
                            0.5555555555555556,
                            "#d8576b"
                          ],
                          [
                            0.6666666666666666,
                            "#ed7953"
                          ],
                          [
                            0.7777777777777778,
                            "#fb9f3a"
                          ],
                          [
                            0.8888888888888888,
                            "#fdca26"
                          ],
                          [
                            1,
                            "#f0f921"
                          ]
                        ],
                        "type": "histogram2d"
                      }
                    ],
                    "histogram2dcontour": [
                      {
                        "colorbar": {
                          "outlinewidth": 0,
                          "ticks": ""
                        },
                        "colorscale": [
                          [
                            0,
                            "#0d0887"
                          ],
                          [
                            0.1111111111111111,
                            "#46039f"
                          ],
                          [
                            0.2222222222222222,
                            "#7201a8"
                          ],
                          [
                            0.3333333333333333,
                            "#9c179e"
                          ],
                          [
                            0.4444444444444444,
                            "#bd3786"
                          ],
                          [
                            0.5555555555555556,
                            "#d8576b"
                          ],
                          [
                            0.6666666666666666,
                            "#ed7953"
                          ],
                          [
                            0.7777777777777778,
                            "#fb9f3a"
                          ],
                          [
                            0.8888888888888888,
                            "#fdca26"
                          ],
                          [
                            1,
                            "#f0f921"
                          ]
                        ],
                        "type": "histogram2dcontour"
                      }
                    ],
                    "mesh3d": [
                      {
                        "colorbar": {
                          "outlinewidth": 0,
                          "ticks": ""
                        },
                        "type": "mesh3d"
                      }
                    ],
                    "parcoords": [
                      {
                        "line": {
                          "colorbar": {
                            "outlinewidth": 0,
                            "ticks": ""
                          }
                        },
                        "type": "parcoords"
                      }
                    ],
                    "pie": [
                      {
                        "automargin": true,
                        "type": "pie"
                      }
                    ],
                    "scatter": [
                      {
                        "fillpattern": {
                          "fillmode": "overlay",
                          "size": 10,
                          "solidity": 0.2
                        },
                        "type": "scatter"
                      }
                    ],
                    "scatter3d": [
                      {
                        "line": {
                          "colorbar": {
                            "outlinewidth": 0,
                            "ticks": ""
                          }
                        },
                        "marker": {
                          "colorbar": {
                            "outlinewidth": 0,
                            "ticks": ""
                          }
                        },
                        "type": "scatter3d"
                      }
                    ],
                    "scattercarpet": [
                      {
                        "marker": {
                          "colorbar": {
                            "outlinewidth": 0,
                            "ticks": ""
                          }
                        },
                        "type": "scattercarpet"
                      }
                    ],
                    "scattergeo": [
                      {
                        "marker": {
                          "colorbar": {
                            "outlinewidth": 0,
                            "ticks": ""
                          }
                        },
                        "type": "scattergeo"
                      }
                    ],
                    "scattergl": [
                      {
                        "marker": {
                          "colorbar": {
                            "outlinewidth": 0,
                            "ticks": ""
                          }
                        },
                        "type": "scattergl"
                      }
                    ],
                    "scattermapbox": [
                      {
                        "marker": {
                          "colorbar": {
                            "outlinewidth": 0,
                            "ticks": ""
                          }
                        },
                        "type": "scattermapbox"
                      }
                    ],
                    "scatterpolar": [
                      {
                        "marker": {
                          "colorbar": {
                            "outlinewidth": 0,
                            "ticks": ""
                          }
                        },
                        "type": "scatterpolar"
                      }
                    ],
                    "scatterpolargl": [
                      {
                        "marker": {
                          "colorbar": {
                            "outlinewidth": 0,
                            "ticks": ""
                          }
                        },
                        "type": "scatterpolargl"
                      }
                    ],
                    "scatterternary": [
                      {
                        "marker": {
                          "colorbar": {
                            "outlinewidth": 0,
                            "ticks": ""
                          }
                        },
                        "type": "scatterternary"
                      }
                    ],
                    "surface": [
                      {
                        "colorbar": {
                          "outlinewidth": 0,
                          "ticks": ""
                        },
                        "colorscale": [
                          [
                            0,
                            "#0d0887"
                          ],
                          [
                            0.1111111111111111,
                            "#46039f"
                          ],
                          [
                            0.2222222222222222,
                            "#7201a8"
                          ],
                          [
                            0.3333333333333333,
                            "#9c179e"
                          ],
                          [
                            0.4444444444444444,
                            "#bd3786"
                          ],
                          [
                            0.5555555555555556,
                            "#d8576b"
                          ],
                          [
                            0.6666666666666666,
                            "#ed7953"
                          ],
                          [
                            0.7777777777777778,
                            "#fb9f3a"
                          ],
                          [
                            0.8888888888888888,
                            "#fdca26"
                          ],
                          [
                            1,
                            "#f0f921"
                          ]
                        ],
                        "type": "surface"
                      }
                    ],
                    "table": [
                      {
                        "cells": {
                          "fill": {
                            "color": "#EBF0F8"
                          },
                          "line": {
                            "color": "white"
                          }
                        },
                        "header": {
                          "fill": {
                            "color": "#C8D4E3"
                          },
                          "line": {
                            "color": "white"
                          }
                        },
                        "type": "table"
                      }
                    ]
                  },
                  "layout": {
                    "annotationdefaults": {
                      "arrowcolor": "#2a3f5f",
                      "arrowhead": 0,
                      "arrowwidth": 1
                    },
                    "autotypenumbers": "strict",
                    "coloraxis": {
                      "colorbar": {
                        "outlinewidth": 0,
                        "ticks": ""
                      }
                    },
                    "colorscale": {
                      "diverging": [
                        [
                          0,
                          "#8e0152"
                        ],
                        [
                          0.1,
                          "#c51b7d"
                        ],
                        [
                          0.2,
                          "#de77ae"
                        ],
                        [
                          0.3,
                          "#f1b6da"
                        ],
                        [
                          0.4,
                          "#fde0ef"
                        ],
                        [
                          0.5,
                          "#f7f7f7"
                        ],
                        [
                          0.6,
                          "#e6f5d0"
                        ],
                        [
                          0.7,
                          "#b8e186"
                        ],
                        [
                          0.8,
                          "#7fbc41"
                        ],
                        [
                          0.9,
                          "#4d9221"
                        ],
                        [
                          1,
                          "#276419"
                        ]
                      ],
                      "sequential": [
                        [
                          0,
                          "#0d0887"
                        ],
                        [
                          0.1111111111111111,
                          "#46039f"
                        ],
                        [
                          0.2222222222222222,
                          "#7201a8"
                        ],
                        [
                          0.3333333333333333,
                          "#9c179e"
                        ],
                        [
                          0.4444444444444444,
                          "#bd3786"
                        ],
                        [
                          0.5555555555555556,
                          "#d8576b"
                        ],
                        [
                          0.6666666666666666,
                          "#ed7953"
                        ],
                        [
                          0.7777777777777778,
                          "#fb9f3a"
                        ],
                        [
                          0.8888888888888888,
                          "#fdca26"
                        ],
                        [
                          1,
                          "#f0f921"
                        ]
                      ],
                      "sequentialminus": [
                        [
                          0,
                          "#0d0887"
                        ],
                        [
                          0.1111111111111111,
                          "#46039f"
                        ],
                        [
                          0.2222222222222222,
                          "#7201a8"
                        ],
                        [
                          0.3333333333333333,
                          "#9c179e"
                        ],
                        [
                          0.4444444444444444,
                          "#bd3786"
                        ],
                        [
                          0.5555555555555556,
                          "#d8576b"
                        ],
                        [
                          0.6666666666666666,
                          "#ed7953"
                        ],
                        [
                          0.7777777777777778,
                          "#fb9f3a"
                        ],
                        [
                          0.8888888888888888,
                          "#fdca26"
                        ],
                        [
                          1,
                          "#f0f921"
                        ]
                      ]
                    },
                    "colorway": [
                      "#636efa",
                      "#EF553B",
                      "#00cc96",
                      "#ab63fa",
                      "#FFA15A",
                      "#19d3f3",
                      "#FF6692",
                      "#B6E880",
                      "#FF97FF",
                      "#FECB52"
                    ],
                    "font": {
                      "color": "#2a3f5f"
                    },
                    "geo": {
                      "bgcolor": "white",
                      "lakecolor": "white",
                      "landcolor": "#E5ECF6",
                      "showlakes": true,
                      "showland": true,
                      "subunitcolor": "white"
                    },
                    "hoverlabel": {
                      "align": "left"
                    },
                    "hovermode": "closest",
                    "mapbox": {
                      "style": "light"
                    },
                    "paper_bgcolor": "white",
                    "plot_bgcolor": "#E5ECF6",
                    "polar": {
                      "angularaxis": {
                        "gridcolor": "white",
                        "linecolor": "white",
                        "ticks": ""
                      },
                      "bgcolor": "#E5ECF6",
                      "radialaxis": {
                        "gridcolor": "white",
                        "linecolor": "white",
                        "ticks": ""
                      }
                    },
                    "scene": {
                      "xaxis": {
                        "backgroundcolor": "#E5ECF6",
                        "gridcolor": "white",
                        "gridwidth": 2,
                        "linecolor": "white",
                        "showbackground": true,
                        "ticks": "",
                        "zerolinecolor": "white"
                      },
                      "yaxis": {
                        "backgroundcolor": "#E5ECF6",
                        "gridcolor": "white",
                        "gridwidth": 2,
                        "linecolor": "white",
                        "showbackground": true,
                        "ticks": "",
                        "zerolinecolor": "white"
                      },
                      "zaxis": {
                        "backgroundcolor": "#E5ECF6",
                        "gridcolor": "white",
                        "gridwidth": 2,
                        "linecolor": "white",
                        "showbackground": true,
                        "ticks": "",
                        "zerolinecolor": "white"
                      }
                    },
                    "shapedefaults": {
                      "line": {
                        "color": "#2a3f5f"
                      }
                    },
                    "ternary": {
                      "aaxis": {
                        "gridcolor": "white",
                        "linecolor": "white",
                        "ticks": ""
                      },
                      "baxis": {
                        "gridcolor": "white",
                        "linecolor": "white",
                        "ticks": ""
                      },
                      "bgcolor": "#E5ECF6",
                      "caxis": {
                        "gridcolor": "white",
                        "linecolor": "white",
                        "ticks": ""
                      }
                    },
                    "title": {
                      "x": 0.05
                    },
                    "xaxis": {
                      "automargin": true,
                      "gridcolor": "white",
                      "linecolor": "white",
                      "ticks": "",
                      "title": {
                        "standoff": 15
                      },
                      "zerolinecolor": "white",
                      "zerolinewidth": 2
                    },
                    "yaxis": {
                      "automargin": true,
                      "gridcolor": "white",
                      "linecolor": "white",
                      "ticks": "",
                      "title": {
                        "standoff": 15
                      },
                      "zerolinecolor": "white",
                      "zerolinewidth": 2
                    }
                  }
                },
                "title": {
                  "text": "COVID-19 Deaths by Province/State in USA"
                },
                "xaxis": {
                  "anchor": "y",
                  "domain": [
                    0,
                    1
                  ],
                  "title": {
                    "text": "Province_State"
                  }
                },
                "yaxis": {
                  "anchor": "x",
                  "domain": [
                    0,
                    1
                  ],
                  "title": {
                    "text": "Number of Deaths"
                  }
                }
              }
            },
            "text/html": [
              "<div>                            <div id=\"dbbe88b2-3a9a-4010-ae55-0daf420ffb89\" class=\"plotly-graph-div\" style=\"height:525px; width:100%;\"></div>            <script type=\"text/javascript\">                require([\"plotly\"], function(Plotly) {                    window.PLOTLYENV=window.PLOTLYENV || {};                                    if (document.getElementById(\"dbbe88b2-3a9a-4010-ae55-0daf420ffb89\")) {                    Plotly.newPlot(                        \"dbbe88b2-3a9a-4010-ae55-0daf420ffb89\",                        [{\"alignmentgroup\":\"True\",\"hovertemplate\":\"Province_State=%{x}\\u003cbr\\u003eNumber of Deaths=%{y}\\u003cextra\\u003e\\u003c\\u002fextra\\u003e\",\"legendgroup\":\"\",\"marker\":{\"color\":\"#636efa\",\"pattern\":{\"shape\":\"\"}},\"name\":\"\",\"offsetgroup\":\"\",\"orientation\":\"v\",\"showlegend\":false,\"textposition\":\"auto\",\"x\":[\"Alabama\",\"Alaska\",\"Arizona\",\"Arkansas\",\"California\",\"Colorado\",\"Connecticut\",\"Delaware\",\"Diamond Princess\",\"District of Columbia\",\"Florida\",\"Georgia\",\"Grand Princess\",\"Guam\",\"Hawaii\",\"Idaho\",\"Illinois\",\"Indiana\",\"Iowa\",\"Kansas\",\"Kentucky\",\"Louisiana\",\"Maine\",\"Maryland\",\"Massachusetts\",\"Michigan\",\"Minnesota\",\"Mississippi\",\"Missouri\",\"Montana\",\"Nebraska\",\"Nevada\",\"New Hampshire\",\"New Jersey\",\"New Mexico\",\"New York\",\"North Carolina\",\"North Dakota\",\"Northern Mariana Islands\",\"Ohio\",\"Oklahoma\",\"Oregon\",\"Pennsylvania\",\"Puerto Rico\",\"Recovered\",\"Rhode Island\",\"South Carolina\",\"South Dakota\",\"Tennessee\",\"Texas\",\"Utah\",\"Vermont\",\"Virgin Islands\",\"Virginia\",\"Washington\",\"West Virginia\",\"Wisconsin\",\"Wyoming\"],\"xaxis\":\"x\",\"y\":[5299,224,10036,4010,29638,5600,6324,1128,0,813,22804,11457,3,124,308,1528,19210,10089,4127,3164,2876,7833,432,6246,11071,14145,5731,5146,6173,1054,1737,3450,862,19854,2732,39288,7425,1360,2,14899,2738,1603,17710,1616,0,2062,5758,1570,7704,30441,1390,156,24,5381,3698,1570,5567,489],\"yaxis\":\"y\",\"type\":\"bar\"}],                        {\"template\":{\"data\":{\"histogram2dcontour\":[{\"type\":\"histogram2dcontour\",\"colorbar\":{\"outlinewidth\":0,\"ticks\":\"\"},\"colorscale\":[[0.0,\"#0d0887\"],[0.1111111111111111,\"#46039f\"],[0.2222222222222222,\"#7201a8\"],[0.3333333333333333,\"#9c179e\"],[0.4444444444444444,\"#bd3786\"],[0.5555555555555556,\"#d8576b\"],[0.6666666666666666,\"#ed7953\"],[0.7777777777777778,\"#fb9f3a\"],[0.8888888888888888,\"#fdca26\"],[1.0,\"#f0f921\"]]}],\"choropleth\":[{\"type\":\"choropleth\",\"colorbar\":{\"outlinewidth\":0,\"ticks\":\"\"}}],\"histogram2d\":[{\"type\":\"histogram2d\",\"colorbar\":{\"outlinewidth\":0,\"ticks\":\"\"},\"colorscale\":[[0.0,\"#0d0887\"],[0.1111111111111111,\"#46039f\"],[0.2222222222222222,\"#7201a8\"],[0.3333333333333333,\"#9c179e\"],[0.4444444444444444,\"#bd3786\"],[0.5555555555555556,\"#d8576b\"],[0.6666666666666666,\"#ed7953\"],[0.7777777777777778,\"#fb9f3a\"],[0.8888888888888888,\"#fdca26\"],[1.0,\"#f0f921\"]]}],\"heatmap\":[{\"type\":\"heatmap\",\"colorbar\":{\"outlinewidth\":0,\"ticks\":\"\"},\"colorscale\":[[0.0,\"#0d0887\"],[0.1111111111111111,\"#46039f\"],[0.2222222222222222,\"#7201a8\"],[0.3333333333333333,\"#9c179e\"],[0.4444444444444444,\"#bd3786\"],[0.5555555555555556,\"#d8576b\"],[0.6666666666666666,\"#ed7953\"],[0.7777777777777778,\"#fb9f3a\"],[0.8888888888888888,\"#fdca26\"],[1.0,\"#f0f921\"]]}],\"heatmapgl\":[{\"type\":\"heatmapgl\",\"colorbar\":{\"outlinewidth\":0,\"ticks\":\"\"},\"colorscale\":[[0.0,\"#0d0887\"],[0.1111111111111111,\"#46039f\"],[0.2222222222222222,\"#7201a8\"],[0.3333333333333333,\"#9c179e\"],[0.4444444444444444,\"#bd3786\"],[0.5555555555555556,\"#d8576b\"],[0.6666666666666666,\"#ed7953\"],[0.7777777777777778,\"#fb9f3a\"],[0.8888888888888888,\"#fdca26\"],[1.0,\"#f0f921\"]]}],\"contourcarpet\":[{\"type\":\"contourcarpet\",\"colorbar\":{\"outlinewidth\":0,\"ticks\":\"\"}}],\"contour\":[{\"type\":\"contour\",\"colorbar\":{\"outlinewidth\":0,\"ticks\":\"\"},\"colorscale\":[[0.0,\"#0d0887\"],[0.1111111111111111,\"#46039f\"],[0.2222222222222222,\"#7201a8\"],[0.3333333333333333,\"#9c179e\"],[0.4444444444444444,\"#bd3786\"],[0.5555555555555556,\"#d8576b\"],[0.6666666666666666,\"#ed7953\"],[0.7777777777777778,\"#fb9f3a\"],[0.8888888888888888,\"#fdca26\"],[1.0,\"#f0f921\"]]}],\"surface\":[{\"type\":\"surface\",\"colorbar\":{\"outlinewidth\":0,\"ticks\":\"\"},\"colorscale\":[[0.0,\"#0d0887\"],[0.1111111111111111,\"#46039f\"],[0.2222222222222222,\"#7201a8\"],[0.3333333333333333,\"#9c179e\"],[0.4444444444444444,\"#bd3786\"],[0.5555555555555556,\"#d8576b\"],[0.6666666666666666,\"#ed7953\"],[0.7777777777777778,\"#fb9f3a\"],[0.8888888888888888,\"#fdca26\"],[1.0,\"#f0f921\"]]}],\"mesh3d\":[{\"type\":\"mesh3d\",\"colorbar\":{\"outlinewidth\":0,\"ticks\":\"\"}}],\"scatter\":[{\"fillpattern\":{\"fillmode\":\"overlay\",\"size\":10,\"solidity\":0.2},\"type\":\"scatter\"}],\"parcoords\":[{\"type\":\"parcoords\",\"line\":{\"colorbar\":{\"outlinewidth\":0,\"ticks\":\"\"}}}],\"scatterpolargl\":[{\"type\":\"scatterpolargl\",\"marker\":{\"colorbar\":{\"outlinewidth\":0,\"ticks\":\"\"}}}],\"bar\":[{\"error_x\":{\"color\":\"#2a3f5f\"},\"error_y\":{\"color\":\"#2a3f5f\"},\"marker\":{\"line\":{\"color\":\"#E5ECF6\",\"width\":0.5},\"pattern\":{\"fillmode\":\"overlay\",\"size\":10,\"solidity\":0.2}},\"type\":\"bar\"}],\"scattergeo\":[{\"type\":\"scattergeo\",\"marker\":{\"colorbar\":{\"outlinewidth\":0,\"ticks\":\"\"}}}],\"scatterpolar\":[{\"type\":\"scatterpolar\",\"marker\":{\"colorbar\":{\"outlinewidth\":0,\"ticks\":\"\"}}}],\"histogram\":[{\"marker\":{\"pattern\":{\"fillmode\":\"overlay\",\"size\":10,\"solidity\":0.2}},\"type\":\"histogram\"}],\"scattergl\":[{\"type\":\"scattergl\",\"marker\":{\"colorbar\":{\"outlinewidth\":0,\"ticks\":\"\"}}}],\"scatter3d\":[{\"type\":\"scatter3d\",\"line\":{\"colorbar\":{\"outlinewidth\":0,\"ticks\":\"\"}},\"marker\":{\"colorbar\":{\"outlinewidth\":0,\"ticks\":\"\"}}}],\"scattermapbox\":[{\"type\":\"scattermapbox\",\"marker\":{\"colorbar\":{\"outlinewidth\":0,\"ticks\":\"\"}}}],\"scatterternary\":[{\"type\":\"scatterternary\",\"marker\":{\"colorbar\":{\"outlinewidth\":0,\"ticks\":\"\"}}}],\"scattercarpet\":[{\"type\":\"scattercarpet\",\"marker\":{\"colorbar\":{\"outlinewidth\":0,\"ticks\":\"\"}}}],\"carpet\":[{\"aaxis\":{\"endlinecolor\":\"#2a3f5f\",\"gridcolor\":\"white\",\"linecolor\":\"white\",\"minorgridcolor\":\"white\",\"startlinecolor\":\"#2a3f5f\"},\"baxis\":{\"endlinecolor\":\"#2a3f5f\",\"gridcolor\":\"white\",\"linecolor\":\"white\",\"minorgridcolor\":\"white\",\"startlinecolor\":\"#2a3f5f\"},\"type\":\"carpet\"}],\"table\":[{\"cells\":{\"fill\":{\"color\":\"#EBF0F8\"},\"line\":{\"color\":\"white\"}},\"header\":{\"fill\":{\"color\":\"#C8D4E3\"},\"line\":{\"color\":\"white\"}},\"type\":\"table\"}],\"barpolar\":[{\"marker\":{\"line\":{\"color\":\"#E5ECF6\",\"width\":0.5},\"pattern\":{\"fillmode\":\"overlay\",\"size\":10,\"solidity\":0.2}},\"type\":\"barpolar\"}],\"pie\":[{\"automargin\":true,\"type\":\"pie\"}]},\"layout\":{\"autotypenumbers\":\"strict\",\"colorway\":[\"#636efa\",\"#EF553B\",\"#00cc96\",\"#ab63fa\",\"#FFA15A\",\"#19d3f3\",\"#FF6692\",\"#B6E880\",\"#FF97FF\",\"#FECB52\"],\"font\":{\"color\":\"#2a3f5f\"},\"hovermode\":\"closest\",\"hoverlabel\":{\"align\":\"left\"},\"paper_bgcolor\":\"white\",\"plot_bgcolor\":\"#E5ECF6\",\"polar\":{\"bgcolor\":\"#E5ECF6\",\"angularaxis\":{\"gridcolor\":\"white\",\"linecolor\":\"white\",\"ticks\":\"\"},\"radialaxis\":{\"gridcolor\":\"white\",\"linecolor\":\"white\",\"ticks\":\"\"}},\"ternary\":{\"bgcolor\":\"#E5ECF6\",\"aaxis\":{\"gridcolor\":\"white\",\"linecolor\":\"white\",\"ticks\":\"\"},\"baxis\":{\"gridcolor\":\"white\",\"linecolor\":\"white\",\"ticks\":\"\"},\"caxis\":{\"gridcolor\":\"white\",\"linecolor\":\"white\",\"ticks\":\"\"}},\"coloraxis\":{\"colorbar\":{\"outlinewidth\":0,\"ticks\":\"\"}},\"colorscale\":{\"sequential\":[[0.0,\"#0d0887\"],[0.1111111111111111,\"#46039f\"],[0.2222222222222222,\"#7201a8\"],[0.3333333333333333,\"#9c179e\"],[0.4444444444444444,\"#bd3786\"],[0.5555555555555556,\"#d8576b\"],[0.6666666666666666,\"#ed7953\"],[0.7777777777777778,\"#fb9f3a\"],[0.8888888888888888,\"#fdca26\"],[1.0,\"#f0f921\"]],\"sequentialminus\":[[0.0,\"#0d0887\"],[0.1111111111111111,\"#46039f\"],[0.2222222222222222,\"#7201a8\"],[0.3333333333333333,\"#9c179e\"],[0.4444444444444444,\"#bd3786\"],[0.5555555555555556,\"#d8576b\"],[0.6666666666666666,\"#ed7953\"],[0.7777777777777778,\"#fb9f3a\"],[0.8888888888888888,\"#fdca26\"],[1.0,\"#f0f921\"]],\"diverging\":[[0,\"#8e0152\"],[0.1,\"#c51b7d\"],[0.2,\"#de77ae\"],[0.3,\"#f1b6da\"],[0.4,\"#fde0ef\"],[0.5,\"#f7f7f7\"],[0.6,\"#e6f5d0\"],[0.7,\"#b8e186\"],[0.8,\"#7fbc41\"],[0.9,\"#4d9221\"],[1,\"#276419\"]]},\"xaxis\":{\"gridcolor\":\"white\",\"linecolor\":\"white\",\"ticks\":\"\",\"title\":{\"standoff\":15},\"zerolinecolor\":\"white\",\"automargin\":true,\"zerolinewidth\":2},\"yaxis\":{\"gridcolor\":\"white\",\"linecolor\":\"white\",\"ticks\":\"\",\"title\":{\"standoff\":15},\"zerolinecolor\":\"white\",\"automargin\":true,\"zerolinewidth\":2},\"scene\":{\"xaxis\":{\"backgroundcolor\":\"#E5ECF6\",\"gridcolor\":\"white\",\"linecolor\":\"white\",\"showbackground\":true,\"ticks\":\"\",\"zerolinecolor\":\"white\",\"gridwidth\":2},\"yaxis\":{\"backgroundcolor\":\"#E5ECF6\",\"gridcolor\":\"white\",\"linecolor\":\"white\",\"showbackground\":true,\"ticks\":\"\",\"zerolinecolor\":\"white\",\"gridwidth\":2},\"zaxis\":{\"backgroundcolor\":\"#E5ECF6\",\"gridcolor\":\"white\",\"linecolor\":\"white\",\"showbackground\":true,\"ticks\":\"\",\"zerolinecolor\":\"white\",\"gridwidth\":2}},\"shapedefaults\":{\"line\":{\"color\":\"#2a3f5f\"}},\"annotationdefaults\":{\"arrowcolor\":\"#2a3f5f\",\"arrowhead\":0,\"arrowwidth\":1},\"geo\":{\"bgcolor\":\"white\",\"landcolor\":\"#E5ECF6\",\"subunitcolor\":\"white\",\"showland\":true,\"showlakes\":true,\"lakecolor\":\"white\"},\"title\":{\"x\":0.05},\"mapbox\":{\"style\":\"light\"}}},\"xaxis\":{\"anchor\":\"y\",\"domain\":[0.0,1.0],\"title\":{\"text\":\"Province_State\"}},\"yaxis\":{\"anchor\":\"x\",\"domain\":[0.0,1.0],\"title\":{\"text\":\"Number of Deaths\"}},\"legend\":{\"tracegroupgap\":0},\"title\":{\"text\":\"COVID-19 Deaths by Province\\u002fState in USA\"},\"barmode\":\"relative\"},                        {\"responsive\": true}                    ).then(function(){\n",
              "                            \n",
              "var gd = document.getElementById('dbbe88b2-3a9a-4010-ae55-0daf420ffb89');\n",
              "var x = new MutationObserver(function (mutations, observer) {{\n",
              "        var display = window.getComputedStyle(gd).display;\n",
              "        if (!display || display === 'none') {{\n",
              "            console.log([gd, 'removed!']);\n",
              "            Plotly.purge(gd);\n",
              "            observer.disconnect();\n",
              "        }}\n",
              "}});\n",
              "\n",
              "// Listen for the removal of the full notebook cells\n",
              "var notebookContainer = gd.closest('#notebook-container');\n",
              "if (notebookContainer) {{\n",
              "    x.observe(notebookContainer, {childList: true});\n",
              "}}\n",
              "\n",
              "// Listen for the clearing of the current output cell\n",
              "var outputEl = gd.closest('.output');\n",
              "if (outputEl) {{\n",
              "    x.observe(outputEl, {childList: true});\n",
              "}}\n",
              "\n",
              "                        })                };                });            </script>        </div>"
            ]
          },
          "metadata": {},
          "output_type": "display_data"
        }
      ],
      "source": [
        "import plotly.express as px\n",
        "import pandas as pd\n",
        "\n",
        "# Filter the data for the United States (USA)\n",
        "usa_data = covid_data[covid_data['Country_Region'] == 'US']\n",
        "\n",
        "# Calculate the sum of deaths by province/state\n",
        "province_deaths = usa_data.groupby('Province_State')['Deaths'].sum().reset_index()\n",
        "\n",
        "# Create a bar chart for deaths by province/state in the USA\n",
        "fig = px.bar(province_deaths, x='Province_State', y='Deaths',\n",
        "             title='COVID-19 Deaths by Province/State in USA',\n",
        "             labels={'Deaths': 'Number of Deaths'})\n",
        "\n",
        "# Show the chart\n",
        "fig.show()\n"
      ]
    },
    {
      "cell_type": "markdown",
      "metadata": {
        "id": "pTux8kTR5_Mp"
      },
      "source": [
        "### Question 7"
      ]
    },
    {
      "cell_type": "markdown",
      "metadata": {
        "id": "p7z6kLr65_Mq"
      },
      "source": [
        "### Plot Province/State Wise Active Cases in USA"
      ]
    },
    {
      "cell_type": "code",
      "execution_count": 163,
      "metadata": {
        "colab": {
          "base_uri": "https://localhost:8080/",
          "height": 542
        },
        "id": "3E8s_fay5_Mq",
        "outputId": "f62f4d48-258c-4ad5-b5b4-a075afddc5bd"
      },
      "outputs": [
        {
          "data": {
            "application/vnd.plotly.v1+json": {
              "config": {
                "plotlyServerURL": "https://plot.ly"
              },
              "data": [
                {
                  "alignmentgroup": "True",
                  "hovertemplate": "Province_State=%{x}<br>Number of Active Cases=%{y}<extra></extra>",
                  "legendgroup": "",
                  "marker": {
                    "color": "#636efa",
                    "pattern": {
                      "shape": ""
                    }
                  },
                  "name": "",
                  "offsetgroup": "",
                  "orientation": "v",
                  "showlegend": false,
                  "textposition": "auto",
                  "type": "bar",
                  "x": [
                    "Alabama",
                    "Alaska",
                    "Arizona",
                    "Arkansas",
                    "California",
                    "Colorado",
                    "Connecticut",
                    "Delaware",
                    "Diamond Princess",
                    "District of Columbia",
                    "Florida",
                    "Georgia",
                    "Grand Princess",
                    "Guam",
                    "Hawaii",
                    "Idaho",
                    "Illinois",
                    "Indiana",
                    "Iowa",
                    "Kansas",
                    "Kentucky",
                    "Louisiana",
                    "Maine",
                    "Maryland",
                    "Massachusetts",
                    "Michigan",
                    "Minnesota",
                    "Mississippi",
                    "Missouri",
                    "Montana",
                    "Nebraska",
                    "Nevada",
                    "New Hampshire",
                    "New Jersey",
                    "New Mexico",
                    "New York",
                    "North Carolina",
                    "North Dakota",
                    "Northern Mariana Islands",
                    "Ohio",
                    "Oklahoma",
                    "Oregon",
                    "Pennsylvania",
                    "Puerto Rico",
                    "Recovered",
                    "Rhode Island",
                    "South Carolina",
                    "South Dakota",
                    "Tennessee",
                    "Texas",
                    "Utah",
                    "Vermont",
                    "Virgin Islands",
                    "Virginia",
                    "Washington",
                    "West Virginia",
                    "Wisconsin",
                    "Wyoming"
                  ],
                  "xaxis": "x",
                  "y": [
                    393851,
                    49755,
                    597309,
                    247736,
                    2750669,
                    353757,
                    199670,
                    63347,
                    49,
                    30644,
                    1441893,
                    737395,
                    100,
                    7275,
                    23589,
                    147707,
                    1006442,
                    548634,
                    292044,
                    241572,
                    297521,
                    333598,
                    28587,
                    297162,
                    414061,
                    548408,
                    428682,
                    231722,
                    471444,
                    85048,
                    173883,
                    242859,
                    51509,
                    559396,
                    152222,
                    1080226,
                    606930,
                    93206,
                    123,
                    756078,
                    322539,
                    122873,
                    704110,
                    81014,
                    0,
                    95552,
                    344326,
                    101331,
                    638746,
                    1921602,
                    302333,
                    8634,
                    2119,
                    388334,
                    267897,
                    98208,
                    542567,
                    46230
                  ],
                  "yaxis": "y"
                }
              ],
              "layout": {
                "barmode": "relative",
                "legend": {
                  "tracegroupgap": 0
                },
                "template": {
                  "data": {
                    "bar": [
                      {
                        "error_x": {
                          "color": "#2a3f5f"
                        },
                        "error_y": {
                          "color": "#2a3f5f"
                        },
                        "marker": {
                          "line": {
                            "color": "#E5ECF6",
                            "width": 0.5
                          },
                          "pattern": {
                            "fillmode": "overlay",
                            "size": 10,
                            "solidity": 0.2
                          }
                        },
                        "type": "bar"
                      }
                    ],
                    "barpolar": [
                      {
                        "marker": {
                          "line": {
                            "color": "#E5ECF6",
                            "width": 0.5
                          },
                          "pattern": {
                            "fillmode": "overlay",
                            "size": 10,
                            "solidity": 0.2
                          }
                        },
                        "type": "barpolar"
                      }
                    ],
                    "carpet": [
                      {
                        "aaxis": {
                          "endlinecolor": "#2a3f5f",
                          "gridcolor": "white",
                          "linecolor": "white",
                          "minorgridcolor": "white",
                          "startlinecolor": "#2a3f5f"
                        },
                        "baxis": {
                          "endlinecolor": "#2a3f5f",
                          "gridcolor": "white",
                          "linecolor": "white",
                          "minorgridcolor": "white",
                          "startlinecolor": "#2a3f5f"
                        },
                        "type": "carpet"
                      }
                    ],
                    "choropleth": [
                      {
                        "colorbar": {
                          "outlinewidth": 0,
                          "ticks": ""
                        },
                        "type": "choropleth"
                      }
                    ],
                    "contour": [
                      {
                        "colorbar": {
                          "outlinewidth": 0,
                          "ticks": ""
                        },
                        "colorscale": [
                          [
                            0,
                            "#0d0887"
                          ],
                          [
                            0.1111111111111111,
                            "#46039f"
                          ],
                          [
                            0.2222222222222222,
                            "#7201a8"
                          ],
                          [
                            0.3333333333333333,
                            "#9c179e"
                          ],
                          [
                            0.4444444444444444,
                            "#bd3786"
                          ],
                          [
                            0.5555555555555556,
                            "#d8576b"
                          ],
                          [
                            0.6666666666666666,
                            "#ed7953"
                          ],
                          [
                            0.7777777777777778,
                            "#fb9f3a"
                          ],
                          [
                            0.8888888888888888,
                            "#fdca26"
                          ],
                          [
                            1,
                            "#f0f921"
                          ]
                        ],
                        "type": "contour"
                      }
                    ],
                    "contourcarpet": [
                      {
                        "colorbar": {
                          "outlinewidth": 0,
                          "ticks": ""
                        },
                        "type": "contourcarpet"
                      }
                    ],
                    "heatmap": [
                      {
                        "colorbar": {
                          "outlinewidth": 0,
                          "ticks": ""
                        },
                        "colorscale": [
                          [
                            0,
                            "#0d0887"
                          ],
                          [
                            0.1111111111111111,
                            "#46039f"
                          ],
                          [
                            0.2222222222222222,
                            "#7201a8"
                          ],
                          [
                            0.3333333333333333,
                            "#9c179e"
                          ],
                          [
                            0.4444444444444444,
                            "#bd3786"
                          ],
                          [
                            0.5555555555555556,
                            "#d8576b"
                          ],
                          [
                            0.6666666666666666,
                            "#ed7953"
                          ],
                          [
                            0.7777777777777778,
                            "#fb9f3a"
                          ],
                          [
                            0.8888888888888888,
                            "#fdca26"
                          ],
                          [
                            1,
                            "#f0f921"
                          ]
                        ],
                        "type": "heatmap"
                      }
                    ],
                    "heatmapgl": [
                      {
                        "colorbar": {
                          "outlinewidth": 0,
                          "ticks": ""
                        },
                        "colorscale": [
                          [
                            0,
                            "#0d0887"
                          ],
                          [
                            0.1111111111111111,
                            "#46039f"
                          ],
                          [
                            0.2222222222222222,
                            "#7201a8"
                          ],
                          [
                            0.3333333333333333,
                            "#9c179e"
                          ],
                          [
                            0.4444444444444444,
                            "#bd3786"
                          ],
                          [
                            0.5555555555555556,
                            "#d8576b"
                          ],
                          [
                            0.6666666666666666,
                            "#ed7953"
                          ],
                          [
                            0.7777777777777778,
                            "#fb9f3a"
                          ],
                          [
                            0.8888888888888888,
                            "#fdca26"
                          ],
                          [
                            1,
                            "#f0f921"
                          ]
                        ],
                        "type": "heatmapgl"
                      }
                    ],
                    "histogram": [
                      {
                        "marker": {
                          "pattern": {
                            "fillmode": "overlay",
                            "size": 10,
                            "solidity": 0.2
                          }
                        },
                        "type": "histogram"
                      }
                    ],
                    "histogram2d": [
                      {
                        "colorbar": {
                          "outlinewidth": 0,
                          "ticks": ""
                        },
                        "colorscale": [
                          [
                            0,
                            "#0d0887"
                          ],
                          [
                            0.1111111111111111,
                            "#46039f"
                          ],
                          [
                            0.2222222222222222,
                            "#7201a8"
                          ],
                          [
                            0.3333333333333333,
                            "#9c179e"
                          ],
                          [
                            0.4444444444444444,
                            "#bd3786"
                          ],
                          [
                            0.5555555555555556,
                            "#d8576b"
                          ],
                          [
                            0.6666666666666666,
                            "#ed7953"
                          ],
                          [
                            0.7777777777777778,
                            "#fb9f3a"
                          ],
                          [
                            0.8888888888888888,
                            "#fdca26"
                          ],
                          [
                            1,
                            "#f0f921"
                          ]
                        ],
                        "type": "histogram2d"
                      }
                    ],
                    "histogram2dcontour": [
                      {
                        "colorbar": {
                          "outlinewidth": 0,
                          "ticks": ""
                        },
                        "colorscale": [
                          [
                            0,
                            "#0d0887"
                          ],
                          [
                            0.1111111111111111,
                            "#46039f"
                          ],
                          [
                            0.2222222222222222,
                            "#7201a8"
                          ],
                          [
                            0.3333333333333333,
                            "#9c179e"
                          ],
                          [
                            0.4444444444444444,
                            "#bd3786"
                          ],
                          [
                            0.5555555555555556,
                            "#d8576b"
                          ],
                          [
                            0.6666666666666666,
                            "#ed7953"
                          ],
                          [
                            0.7777777777777778,
                            "#fb9f3a"
                          ],
                          [
                            0.8888888888888888,
                            "#fdca26"
                          ],
                          [
                            1,
                            "#f0f921"
                          ]
                        ],
                        "type": "histogram2dcontour"
                      }
                    ],
                    "mesh3d": [
                      {
                        "colorbar": {
                          "outlinewidth": 0,
                          "ticks": ""
                        },
                        "type": "mesh3d"
                      }
                    ],
                    "parcoords": [
                      {
                        "line": {
                          "colorbar": {
                            "outlinewidth": 0,
                            "ticks": ""
                          }
                        },
                        "type": "parcoords"
                      }
                    ],
                    "pie": [
                      {
                        "automargin": true,
                        "type": "pie"
                      }
                    ],
                    "scatter": [
                      {
                        "fillpattern": {
                          "fillmode": "overlay",
                          "size": 10,
                          "solidity": 0.2
                        },
                        "type": "scatter"
                      }
                    ],
                    "scatter3d": [
                      {
                        "line": {
                          "colorbar": {
                            "outlinewidth": 0,
                            "ticks": ""
                          }
                        },
                        "marker": {
                          "colorbar": {
                            "outlinewidth": 0,
                            "ticks": ""
                          }
                        },
                        "type": "scatter3d"
                      }
                    ],
                    "scattercarpet": [
                      {
                        "marker": {
                          "colorbar": {
                            "outlinewidth": 0,
                            "ticks": ""
                          }
                        },
                        "type": "scattercarpet"
                      }
                    ],
                    "scattergeo": [
                      {
                        "marker": {
                          "colorbar": {
                            "outlinewidth": 0,
                            "ticks": ""
                          }
                        },
                        "type": "scattergeo"
                      }
                    ],
                    "scattergl": [
                      {
                        "marker": {
                          "colorbar": {
                            "outlinewidth": 0,
                            "ticks": ""
                          }
                        },
                        "type": "scattergl"
                      }
                    ],
                    "scattermapbox": [
                      {
                        "marker": {
                          "colorbar": {
                            "outlinewidth": 0,
                            "ticks": ""
                          }
                        },
                        "type": "scattermapbox"
                      }
                    ],
                    "scatterpolar": [
                      {
                        "marker": {
                          "colorbar": {
                            "outlinewidth": 0,
                            "ticks": ""
                          }
                        },
                        "type": "scatterpolar"
                      }
                    ],
                    "scatterpolargl": [
                      {
                        "marker": {
                          "colorbar": {
                            "outlinewidth": 0,
                            "ticks": ""
                          }
                        },
                        "type": "scatterpolargl"
                      }
                    ],
                    "scatterternary": [
                      {
                        "marker": {
                          "colorbar": {
                            "outlinewidth": 0,
                            "ticks": ""
                          }
                        },
                        "type": "scatterternary"
                      }
                    ],
                    "surface": [
                      {
                        "colorbar": {
                          "outlinewidth": 0,
                          "ticks": ""
                        },
                        "colorscale": [
                          [
                            0,
                            "#0d0887"
                          ],
                          [
                            0.1111111111111111,
                            "#46039f"
                          ],
                          [
                            0.2222222222222222,
                            "#7201a8"
                          ],
                          [
                            0.3333333333333333,
                            "#9c179e"
                          ],
                          [
                            0.4444444444444444,
                            "#bd3786"
                          ],
                          [
                            0.5555555555555556,
                            "#d8576b"
                          ],
                          [
                            0.6666666666666666,
                            "#ed7953"
                          ],
                          [
                            0.7777777777777778,
                            "#fb9f3a"
                          ],
                          [
                            0.8888888888888888,
                            "#fdca26"
                          ],
                          [
                            1,
                            "#f0f921"
                          ]
                        ],
                        "type": "surface"
                      }
                    ],
                    "table": [
                      {
                        "cells": {
                          "fill": {
                            "color": "#EBF0F8"
                          },
                          "line": {
                            "color": "white"
                          }
                        },
                        "header": {
                          "fill": {
                            "color": "#C8D4E3"
                          },
                          "line": {
                            "color": "white"
                          }
                        },
                        "type": "table"
                      }
                    ]
                  },
                  "layout": {
                    "annotationdefaults": {
                      "arrowcolor": "#2a3f5f",
                      "arrowhead": 0,
                      "arrowwidth": 1
                    },
                    "autotypenumbers": "strict",
                    "coloraxis": {
                      "colorbar": {
                        "outlinewidth": 0,
                        "ticks": ""
                      }
                    },
                    "colorscale": {
                      "diverging": [
                        [
                          0,
                          "#8e0152"
                        ],
                        [
                          0.1,
                          "#c51b7d"
                        ],
                        [
                          0.2,
                          "#de77ae"
                        ],
                        [
                          0.3,
                          "#f1b6da"
                        ],
                        [
                          0.4,
                          "#fde0ef"
                        ],
                        [
                          0.5,
                          "#f7f7f7"
                        ],
                        [
                          0.6,
                          "#e6f5d0"
                        ],
                        [
                          0.7,
                          "#b8e186"
                        ],
                        [
                          0.8,
                          "#7fbc41"
                        ],
                        [
                          0.9,
                          "#4d9221"
                        ],
                        [
                          1,
                          "#276419"
                        ]
                      ],
                      "sequential": [
                        [
                          0,
                          "#0d0887"
                        ],
                        [
                          0.1111111111111111,
                          "#46039f"
                        ],
                        [
                          0.2222222222222222,
                          "#7201a8"
                        ],
                        [
                          0.3333333333333333,
                          "#9c179e"
                        ],
                        [
                          0.4444444444444444,
                          "#bd3786"
                        ],
                        [
                          0.5555555555555556,
                          "#d8576b"
                        ],
                        [
                          0.6666666666666666,
                          "#ed7953"
                        ],
                        [
                          0.7777777777777778,
                          "#fb9f3a"
                        ],
                        [
                          0.8888888888888888,
                          "#fdca26"
                        ],
                        [
                          1,
                          "#f0f921"
                        ]
                      ],
                      "sequentialminus": [
                        [
                          0,
                          "#0d0887"
                        ],
                        [
                          0.1111111111111111,
                          "#46039f"
                        ],
                        [
                          0.2222222222222222,
                          "#7201a8"
                        ],
                        [
                          0.3333333333333333,
                          "#9c179e"
                        ],
                        [
                          0.4444444444444444,
                          "#bd3786"
                        ],
                        [
                          0.5555555555555556,
                          "#d8576b"
                        ],
                        [
                          0.6666666666666666,
                          "#ed7953"
                        ],
                        [
                          0.7777777777777778,
                          "#fb9f3a"
                        ],
                        [
                          0.8888888888888888,
                          "#fdca26"
                        ],
                        [
                          1,
                          "#f0f921"
                        ]
                      ]
                    },
                    "colorway": [
                      "#636efa",
                      "#EF553B",
                      "#00cc96",
                      "#ab63fa",
                      "#FFA15A",
                      "#19d3f3",
                      "#FF6692",
                      "#B6E880",
                      "#FF97FF",
                      "#FECB52"
                    ],
                    "font": {
                      "color": "#2a3f5f"
                    },
                    "geo": {
                      "bgcolor": "white",
                      "lakecolor": "white",
                      "landcolor": "#E5ECF6",
                      "showlakes": true,
                      "showland": true,
                      "subunitcolor": "white"
                    },
                    "hoverlabel": {
                      "align": "left"
                    },
                    "hovermode": "closest",
                    "mapbox": {
                      "style": "light"
                    },
                    "paper_bgcolor": "white",
                    "plot_bgcolor": "#E5ECF6",
                    "polar": {
                      "angularaxis": {
                        "gridcolor": "white",
                        "linecolor": "white",
                        "ticks": ""
                      },
                      "bgcolor": "#E5ECF6",
                      "radialaxis": {
                        "gridcolor": "white",
                        "linecolor": "white",
                        "ticks": ""
                      }
                    },
                    "scene": {
                      "xaxis": {
                        "backgroundcolor": "#E5ECF6",
                        "gridcolor": "white",
                        "gridwidth": 2,
                        "linecolor": "white",
                        "showbackground": true,
                        "ticks": "",
                        "zerolinecolor": "white"
                      },
                      "yaxis": {
                        "backgroundcolor": "#E5ECF6",
                        "gridcolor": "white",
                        "gridwidth": 2,
                        "linecolor": "white",
                        "showbackground": true,
                        "ticks": "",
                        "zerolinecolor": "white"
                      },
                      "zaxis": {
                        "backgroundcolor": "#E5ECF6",
                        "gridcolor": "white",
                        "gridwidth": 2,
                        "linecolor": "white",
                        "showbackground": true,
                        "ticks": "",
                        "zerolinecolor": "white"
                      }
                    },
                    "shapedefaults": {
                      "line": {
                        "color": "#2a3f5f"
                      }
                    },
                    "ternary": {
                      "aaxis": {
                        "gridcolor": "white",
                        "linecolor": "white",
                        "ticks": ""
                      },
                      "baxis": {
                        "gridcolor": "white",
                        "linecolor": "white",
                        "ticks": ""
                      },
                      "bgcolor": "#E5ECF6",
                      "caxis": {
                        "gridcolor": "white",
                        "linecolor": "white",
                        "ticks": ""
                      }
                    },
                    "title": {
                      "x": 0.05
                    },
                    "xaxis": {
                      "automargin": true,
                      "gridcolor": "white",
                      "linecolor": "white",
                      "ticks": "",
                      "title": {
                        "standoff": 15
                      },
                      "zerolinecolor": "white",
                      "zerolinewidth": 2
                    },
                    "yaxis": {
                      "automargin": true,
                      "gridcolor": "white",
                      "linecolor": "white",
                      "ticks": "",
                      "title": {
                        "standoff": 15
                      },
                      "zerolinecolor": "white",
                      "zerolinewidth": 2
                    }
                  }
                },
                "title": {
                  "text": "Active COVID-19 Cases by Province/State in USA"
                },
                "xaxis": {
                  "anchor": "y",
                  "domain": [
                    0,
                    1
                  ],
                  "title": {
                    "text": "Province_State"
                  }
                },
                "yaxis": {
                  "anchor": "x",
                  "domain": [
                    0,
                    1
                  ],
                  "title": {
                    "text": "Number of Active Cases"
                  }
                }
              }
            },
            "text/html": [
              "<div>                            <div id=\"ac046f34-19a8-475a-8d30-b9d0bb46b515\" class=\"plotly-graph-div\" style=\"height:525px; width:100%;\"></div>            <script type=\"text/javascript\">                require([\"plotly\"], function(Plotly) {                    window.PLOTLYENV=window.PLOTLYENV || {};                                    if (document.getElementById(\"ac046f34-19a8-475a-8d30-b9d0bb46b515\")) {                    Plotly.newPlot(                        \"ac046f34-19a8-475a-8d30-b9d0bb46b515\",                        [{\"alignmentgroup\":\"True\",\"hovertemplate\":\"Province_State=%{x}\\u003cbr\\u003eNumber of Active Cases=%{y}\\u003cextra\\u003e\\u003c\\u002fextra\\u003e\",\"legendgroup\":\"\",\"marker\":{\"color\":\"#636efa\",\"pattern\":{\"shape\":\"\"}},\"name\":\"\",\"offsetgroup\":\"\",\"orientation\":\"v\",\"showlegend\":false,\"textposition\":\"auto\",\"x\":[\"Alabama\",\"Alaska\",\"Arizona\",\"Arkansas\",\"California\",\"Colorado\",\"Connecticut\",\"Delaware\",\"Diamond Princess\",\"District of Columbia\",\"Florida\",\"Georgia\",\"Grand Princess\",\"Guam\",\"Hawaii\",\"Idaho\",\"Illinois\",\"Indiana\",\"Iowa\",\"Kansas\",\"Kentucky\",\"Louisiana\",\"Maine\",\"Maryland\",\"Massachusetts\",\"Michigan\",\"Minnesota\",\"Mississippi\",\"Missouri\",\"Montana\",\"Nebraska\",\"Nevada\",\"New Hampshire\",\"New Jersey\",\"New Mexico\",\"New York\",\"North Carolina\",\"North Dakota\",\"Northern Mariana Islands\",\"Ohio\",\"Oklahoma\",\"Oregon\",\"Pennsylvania\",\"Puerto Rico\",\"Recovered\",\"Rhode Island\",\"South Carolina\",\"South Dakota\",\"Tennessee\",\"Texas\",\"Utah\",\"Vermont\",\"Virgin Islands\",\"Virginia\",\"Washington\",\"West Virginia\",\"Wisconsin\",\"Wyoming\"],\"xaxis\":\"x\",\"y\":[393851,49755,597309,247736,2750669,353757,199670,63347,49,30644,1441893,737395,100,7275,23589,147707,1006442,548634,292044,241572,297521,333598,28587,297162,414061,548408,428682,231722,471444,85048,173883,242859,51509,559396,152222,1080226,606930,93206,123,756078,322539,122873,704110,81014,0,95552,344326,101331,638746,1921602,302333,8634,2119,388334,267897,98208,542567,46230],\"yaxis\":\"y\",\"type\":\"bar\"}],                        {\"template\":{\"data\":{\"histogram2dcontour\":[{\"type\":\"histogram2dcontour\",\"colorbar\":{\"outlinewidth\":0,\"ticks\":\"\"},\"colorscale\":[[0.0,\"#0d0887\"],[0.1111111111111111,\"#46039f\"],[0.2222222222222222,\"#7201a8\"],[0.3333333333333333,\"#9c179e\"],[0.4444444444444444,\"#bd3786\"],[0.5555555555555556,\"#d8576b\"],[0.6666666666666666,\"#ed7953\"],[0.7777777777777778,\"#fb9f3a\"],[0.8888888888888888,\"#fdca26\"],[1.0,\"#f0f921\"]]}],\"choropleth\":[{\"type\":\"choropleth\",\"colorbar\":{\"outlinewidth\":0,\"ticks\":\"\"}}],\"histogram2d\":[{\"type\":\"histogram2d\",\"colorbar\":{\"outlinewidth\":0,\"ticks\":\"\"},\"colorscale\":[[0.0,\"#0d0887\"],[0.1111111111111111,\"#46039f\"],[0.2222222222222222,\"#7201a8\"],[0.3333333333333333,\"#9c179e\"],[0.4444444444444444,\"#bd3786\"],[0.5555555555555556,\"#d8576b\"],[0.6666666666666666,\"#ed7953\"],[0.7777777777777778,\"#fb9f3a\"],[0.8888888888888888,\"#fdca26\"],[1.0,\"#f0f921\"]]}],\"heatmap\":[{\"type\":\"heatmap\",\"colorbar\":{\"outlinewidth\":0,\"ticks\":\"\"},\"colorscale\":[[0.0,\"#0d0887\"],[0.1111111111111111,\"#46039f\"],[0.2222222222222222,\"#7201a8\"],[0.3333333333333333,\"#9c179e\"],[0.4444444444444444,\"#bd3786\"],[0.5555555555555556,\"#d8576b\"],[0.6666666666666666,\"#ed7953\"],[0.7777777777777778,\"#fb9f3a\"],[0.8888888888888888,\"#fdca26\"],[1.0,\"#f0f921\"]]}],\"heatmapgl\":[{\"type\":\"heatmapgl\",\"colorbar\":{\"outlinewidth\":0,\"ticks\":\"\"},\"colorscale\":[[0.0,\"#0d0887\"],[0.1111111111111111,\"#46039f\"],[0.2222222222222222,\"#7201a8\"],[0.3333333333333333,\"#9c179e\"],[0.4444444444444444,\"#bd3786\"],[0.5555555555555556,\"#d8576b\"],[0.6666666666666666,\"#ed7953\"],[0.7777777777777778,\"#fb9f3a\"],[0.8888888888888888,\"#fdca26\"],[1.0,\"#f0f921\"]]}],\"contourcarpet\":[{\"type\":\"contourcarpet\",\"colorbar\":{\"outlinewidth\":0,\"ticks\":\"\"}}],\"contour\":[{\"type\":\"contour\",\"colorbar\":{\"outlinewidth\":0,\"ticks\":\"\"},\"colorscale\":[[0.0,\"#0d0887\"],[0.1111111111111111,\"#46039f\"],[0.2222222222222222,\"#7201a8\"],[0.3333333333333333,\"#9c179e\"],[0.4444444444444444,\"#bd3786\"],[0.5555555555555556,\"#d8576b\"],[0.6666666666666666,\"#ed7953\"],[0.7777777777777778,\"#fb9f3a\"],[0.8888888888888888,\"#fdca26\"],[1.0,\"#f0f921\"]]}],\"surface\":[{\"type\":\"surface\",\"colorbar\":{\"outlinewidth\":0,\"ticks\":\"\"},\"colorscale\":[[0.0,\"#0d0887\"],[0.1111111111111111,\"#46039f\"],[0.2222222222222222,\"#7201a8\"],[0.3333333333333333,\"#9c179e\"],[0.4444444444444444,\"#bd3786\"],[0.5555555555555556,\"#d8576b\"],[0.6666666666666666,\"#ed7953\"],[0.7777777777777778,\"#fb9f3a\"],[0.8888888888888888,\"#fdca26\"],[1.0,\"#f0f921\"]]}],\"mesh3d\":[{\"type\":\"mesh3d\",\"colorbar\":{\"outlinewidth\":0,\"ticks\":\"\"}}],\"scatter\":[{\"fillpattern\":{\"fillmode\":\"overlay\",\"size\":10,\"solidity\":0.2},\"type\":\"scatter\"}],\"parcoords\":[{\"type\":\"parcoords\",\"line\":{\"colorbar\":{\"outlinewidth\":0,\"ticks\":\"\"}}}],\"scatterpolargl\":[{\"type\":\"scatterpolargl\",\"marker\":{\"colorbar\":{\"outlinewidth\":0,\"ticks\":\"\"}}}],\"bar\":[{\"error_x\":{\"color\":\"#2a3f5f\"},\"error_y\":{\"color\":\"#2a3f5f\"},\"marker\":{\"line\":{\"color\":\"#E5ECF6\",\"width\":0.5},\"pattern\":{\"fillmode\":\"overlay\",\"size\":10,\"solidity\":0.2}},\"type\":\"bar\"}],\"scattergeo\":[{\"type\":\"scattergeo\",\"marker\":{\"colorbar\":{\"outlinewidth\":0,\"ticks\":\"\"}}}],\"scatterpolar\":[{\"type\":\"scatterpolar\",\"marker\":{\"colorbar\":{\"outlinewidth\":0,\"ticks\":\"\"}}}],\"histogram\":[{\"marker\":{\"pattern\":{\"fillmode\":\"overlay\",\"size\":10,\"solidity\":0.2}},\"type\":\"histogram\"}],\"scattergl\":[{\"type\":\"scattergl\",\"marker\":{\"colorbar\":{\"outlinewidth\":0,\"ticks\":\"\"}}}],\"scatter3d\":[{\"type\":\"scatter3d\",\"line\":{\"colorbar\":{\"outlinewidth\":0,\"ticks\":\"\"}},\"marker\":{\"colorbar\":{\"outlinewidth\":0,\"ticks\":\"\"}}}],\"scattermapbox\":[{\"type\":\"scattermapbox\",\"marker\":{\"colorbar\":{\"outlinewidth\":0,\"ticks\":\"\"}}}],\"scatterternary\":[{\"type\":\"scatterternary\",\"marker\":{\"colorbar\":{\"outlinewidth\":0,\"ticks\":\"\"}}}],\"scattercarpet\":[{\"type\":\"scattercarpet\",\"marker\":{\"colorbar\":{\"outlinewidth\":0,\"ticks\":\"\"}}}],\"carpet\":[{\"aaxis\":{\"endlinecolor\":\"#2a3f5f\",\"gridcolor\":\"white\",\"linecolor\":\"white\",\"minorgridcolor\":\"white\",\"startlinecolor\":\"#2a3f5f\"},\"baxis\":{\"endlinecolor\":\"#2a3f5f\",\"gridcolor\":\"white\",\"linecolor\":\"white\",\"minorgridcolor\":\"white\",\"startlinecolor\":\"#2a3f5f\"},\"type\":\"carpet\"}],\"table\":[{\"cells\":{\"fill\":{\"color\":\"#EBF0F8\"},\"line\":{\"color\":\"white\"}},\"header\":{\"fill\":{\"color\":\"#C8D4E3\"},\"line\":{\"color\":\"white\"}},\"type\":\"table\"}],\"barpolar\":[{\"marker\":{\"line\":{\"color\":\"#E5ECF6\",\"width\":0.5},\"pattern\":{\"fillmode\":\"overlay\",\"size\":10,\"solidity\":0.2}},\"type\":\"barpolar\"}],\"pie\":[{\"automargin\":true,\"type\":\"pie\"}]},\"layout\":{\"autotypenumbers\":\"strict\",\"colorway\":[\"#636efa\",\"#EF553B\",\"#00cc96\",\"#ab63fa\",\"#FFA15A\",\"#19d3f3\",\"#FF6692\",\"#B6E880\",\"#FF97FF\",\"#FECB52\"],\"font\":{\"color\":\"#2a3f5f\"},\"hovermode\":\"closest\",\"hoverlabel\":{\"align\":\"left\"},\"paper_bgcolor\":\"white\",\"plot_bgcolor\":\"#E5ECF6\",\"polar\":{\"bgcolor\":\"#E5ECF6\",\"angularaxis\":{\"gridcolor\":\"white\",\"linecolor\":\"white\",\"ticks\":\"\"},\"radialaxis\":{\"gridcolor\":\"white\",\"linecolor\":\"white\",\"ticks\":\"\"}},\"ternary\":{\"bgcolor\":\"#E5ECF6\",\"aaxis\":{\"gridcolor\":\"white\",\"linecolor\":\"white\",\"ticks\":\"\"},\"baxis\":{\"gridcolor\":\"white\",\"linecolor\":\"white\",\"ticks\":\"\"},\"caxis\":{\"gridcolor\":\"white\",\"linecolor\":\"white\",\"ticks\":\"\"}},\"coloraxis\":{\"colorbar\":{\"outlinewidth\":0,\"ticks\":\"\"}},\"colorscale\":{\"sequential\":[[0.0,\"#0d0887\"],[0.1111111111111111,\"#46039f\"],[0.2222222222222222,\"#7201a8\"],[0.3333333333333333,\"#9c179e\"],[0.4444444444444444,\"#bd3786\"],[0.5555555555555556,\"#d8576b\"],[0.6666666666666666,\"#ed7953\"],[0.7777777777777778,\"#fb9f3a\"],[0.8888888888888888,\"#fdca26\"],[1.0,\"#f0f921\"]],\"sequentialminus\":[[0.0,\"#0d0887\"],[0.1111111111111111,\"#46039f\"],[0.2222222222222222,\"#7201a8\"],[0.3333333333333333,\"#9c179e\"],[0.4444444444444444,\"#bd3786\"],[0.5555555555555556,\"#d8576b\"],[0.6666666666666666,\"#ed7953\"],[0.7777777777777778,\"#fb9f3a\"],[0.8888888888888888,\"#fdca26\"],[1.0,\"#f0f921\"]],\"diverging\":[[0,\"#8e0152\"],[0.1,\"#c51b7d\"],[0.2,\"#de77ae\"],[0.3,\"#f1b6da\"],[0.4,\"#fde0ef\"],[0.5,\"#f7f7f7\"],[0.6,\"#e6f5d0\"],[0.7,\"#b8e186\"],[0.8,\"#7fbc41\"],[0.9,\"#4d9221\"],[1,\"#276419\"]]},\"xaxis\":{\"gridcolor\":\"white\",\"linecolor\":\"white\",\"ticks\":\"\",\"title\":{\"standoff\":15},\"zerolinecolor\":\"white\",\"automargin\":true,\"zerolinewidth\":2},\"yaxis\":{\"gridcolor\":\"white\",\"linecolor\":\"white\",\"ticks\":\"\",\"title\":{\"standoff\":15},\"zerolinecolor\":\"white\",\"automargin\":true,\"zerolinewidth\":2},\"scene\":{\"xaxis\":{\"backgroundcolor\":\"#E5ECF6\",\"gridcolor\":\"white\",\"linecolor\":\"white\",\"showbackground\":true,\"ticks\":\"\",\"zerolinecolor\":\"white\",\"gridwidth\":2},\"yaxis\":{\"backgroundcolor\":\"#E5ECF6\",\"gridcolor\":\"white\",\"linecolor\":\"white\",\"showbackground\":true,\"ticks\":\"\",\"zerolinecolor\":\"white\",\"gridwidth\":2},\"zaxis\":{\"backgroundcolor\":\"#E5ECF6\",\"gridcolor\":\"white\",\"linecolor\":\"white\",\"showbackground\":true,\"ticks\":\"\",\"zerolinecolor\":\"white\",\"gridwidth\":2}},\"shapedefaults\":{\"line\":{\"color\":\"#2a3f5f\"}},\"annotationdefaults\":{\"arrowcolor\":\"#2a3f5f\",\"arrowhead\":0,\"arrowwidth\":1},\"geo\":{\"bgcolor\":\"white\",\"landcolor\":\"#E5ECF6\",\"subunitcolor\":\"white\",\"showland\":true,\"showlakes\":true,\"lakecolor\":\"white\"},\"title\":{\"x\":0.05},\"mapbox\":{\"style\":\"light\"}}},\"xaxis\":{\"anchor\":\"y\",\"domain\":[0.0,1.0],\"title\":{\"text\":\"Province_State\"}},\"yaxis\":{\"anchor\":\"x\",\"domain\":[0.0,1.0],\"title\":{\"text\":\"Number of Active Cases\"}},\"legend\":{\"tracegroupgap\":0},\"title\":{\"text\":\"Active COVID-19 Cases by Province\\u002fState in USA\"},\"barmode\":\"relative\"},                        {\"responsive\": true}                    ).then(function(){\n",
              "                            \n",
              "var gd = document.getElementById('ac046f34-19a8-475a-8d30-b9d0bb46b515');\n",
              "var x = new MutationObserver(function (mutations, observer) {{\n",
              "        var display = window.getComputedStyle(gd).display;\n",
              "        if (!display || display === 'none') {{\n",
              "            console.log([gd, 'removed!']);\n",
              "            Plotly.purge(gd);\n",
              "            observer.disconnect();\n",
              "        }}\n",
              "}});\n",
              "\n",
              "// Listen for the removal of the full notebook cells\n",
              "var notebookContainer = gd.closest('#notebook-container');\n",
              "if (notebookContainer) {{\n",
              "    x.observe(notebookContainer, {childList: true});\n",
              "}}\n",
              "\n",
              "// Listen for the clearing of the current output cell\n",
              "var outputEl = gd.closest('.output');\n",
              "if (outputEl) {{\n",
              "    x.observe(outputEl, {childList: true});\n",
              "}}\n",
              "\n",
              "                        })                };                });            </script>        </div>"
            ]
          },
          "metadata": {},
          "output_type": "display_data"
        }
      ],
      "source": [
        "import plotly.express as px\n",
        "import pandas as pd\n",
        "\n",
        "# Read the data\n",
        "covid_data = pd.read_csv('https://raw.githubusercontent.com/CSSEGISandData/COVID-19/master/csse_covid_19_data/csse_covid_19_daily_reports/01-09-2021.csv')\n",
        "\n",
        "# Filter the data for the United States (USA)\n",
        "usa_data = covid_data[covid_data['Country_Region'] == 'US']\n",
        "\n",
        "# Calculate the sum of active cases by province/state\n",
        "province_active_cases = usa_data.groupby('Province_State')['Active'].sum().reset_index()\n",
        "\n",
        "# Create a bar chart for active COVID-19 cases by province/state in the USA\n",
        "fig = px.bar(province_active_cases, x='Province_State', y='Active',\n",
        "             title='Active COVID-19 Cases by Province/State in USA',\n",
        "             labels={'Active': 'Number of Active Cases'})\n",
        "\n",
        "# Show the chart\n",
        "fig.show()\n",
        "\n"
      ]
    },
    {
      "cell_type": "markdown",
      "metadata": {
        "id": "OE7Or-b-5_Mq"
      },
      "source": [
        "### Question 8"
      ]
    },
    {
      "cell_type": "markdown",
      "metadata": {
        "id": "R8Iv-OMH5_Mq"
      },
      "source": [
        "### Plot Province/State Wise Confirmed cases in USA"
      ]
    },
    {
      "cell_type": "code",
      "execution_count": 164,
      "metadata": {
        "colab": {
          "base_uri": "https://localhost:8080/",
          "height": 542
        },
        "id": "LGBbrGRK5_Mq",
        "outputId": "32607c71-6978-473e-c4ab-34866e984a51"
      },
      "outputs": [
        {
          "data": {
            "application/vnd.plotly.v1+json": {
              "config": {
                "plotlyServerURL": "https://plot.ly"
              },
              "data": [
                {
                  "alignmentgroup": "True",
                  "hovertemplate": "Case Type=Confirmed<br>Province_State=%{x}<br>Number of Cases=%{y}<extra></extra>",
                  "legendgroup": "Confirmed",
                  "marker": {
                    "color": "#636efa",
                    "pattern": {
                      "shape": ""
                    }
                  },
                  "name": "Confirmed",
                  "offsetgroup": "Confirmed",
                  "orientation": "v",
                  "showlegend": true,
                  "textposition": "auto",
                  "type": "bar",
                  "x": [
                    "Alabama",
                    "Alaska",
                    "Arizona",
                    "Arkansas",
                    "California",
                    "Colorado",
                    "Connecticut",
                    "Delaware",
                    "Diamond Princess",
                    "District of Columbia",
                    "Florida",
                    "Georgia",
                    "Grand Princess",
                    "Guam",
                    "Hawaii",
                    "Idaho",
                    "Illinois",
                    "Indiana",
                    "Iowa",
                    "Kansas",
                    "Kentucky",
                    "Louisiana",
                    "Maine",
                    "Maryland",
                    "Massachusetts",
                    "Michigan",
                    "Minnesota",
                    "Mississippi",
                    "Missouri",
                    "Montana",
                    "Nebraska",
                    "Nevada",
                    "New Hampshire",
                    "New Jersey",
                    "New Mexico",
                    "New York",
                    "North Carolina",
                    "North Dakota",
                    "Northern Mariana Islands",
                    "Ohio",
                    "Oklahoma",
                    "Oregon",
                    "Pennsylvania",
                    "Puerto Rico",
                    "Recovered",
                    "Rhode Island",
                    "South Carolina",
                    "South Dakota",
                    "Tennessee",
                    "Texas",
                    "Utah",
                    "Vermont",
                    "Virgin Islands",
                    "Virginia",
                    "Washington",
                    "West Virginia",
                    "Wisconsin",
                    "Wyoming"
                  ],
                  "xaxis": "x",
                  "y": [
                    399150,
                    49979,
                    607345,
                    251746,
                    2776975,
                    381434,
                    205994,
                    64475,
                    49,
                    31457,
                    1464697,
                    748852,
                    103,
                    7399,
                    23897,
                    149235,
                    1024039,
                    558560,
                    296171,
                    244347,
                    300397,
                    341431,
                    29019,
                    303364,
                    427135,
                    562553,
                    434413,
                    236868,
                    477617,
                    86102,
                    175620,
                    246309,
                    52371,
                    579250,
                    154954,
                    1119284,
                    614355,
                    93951,
                    125,
                    770977,
                    325277,
                    124476,
                    721820,
                    82630,
                    0,
                    97614,
                    350084,
                    102901,
                    643181,
                    1988676,
                    303723,
                    8790,
                    2143,
                    393715,
                    271595,
                    99778,
                    548134,
                    46719
                  ],
                  "yaxis": "y"
                },
                {
                  "alignmentgroup": "True",
                  "hovertemplate": "Case Type=Deaths<br>Province_State=%{x}<br>Number of Cases=%{y}<extra></extra>",
                  "legendgroup": "Deaths",
                  "marker": {
                    "color": "#EF553B",
                    "pattern": {
                      "shape": ""
                    }
                  },
                  "name": "Deaths",
                  "offsetgroup": "Deaths",
                  "orientation": "v",
                  "showlegend": true,
                  "textposition": "auto",
                  "type": "bar",
                  "x": [
                    "Alabama",
                    "Alaska",
                    "Arizona",
                    "Arkansas",
                    "California",
                    "Colorado",
                    "Connecticut",
                    "Delaware",
                    "Diamond Princess",
                    "District of Columbia",
                    "Florida",
                    "Georgia",
                    "Grand Princess",
                    "Guam",
                    "Hawaii",
                    "Idaho",
                    "Illinois",
                    "Indiana",
                    "Iowa",
                    "Kansas",
                    "Kentucky",
                    "Louisiana",
                    "Maine",
                    "Maryland",
                    "Massachusetts",
                    "Michigan",
                    "Minnesota",
                    "Mississippi",
                    "Missouri",
                    "Montana",
                    "Nebraska",
                    "Nevada",
                    "New Hampshire",
                    "New Jersey",
                    "New Mexico",
                    "New York",
                    "North Carolina",
                    "North Dakota",
                    "Northern Mariana Islands",
                    "Ohio",
                    "Oklahoma",
                    "Oregon",
                    "Pennsylvania",
                    "Puerto Rico",
                    "Recovered",
                    "Rhode Island",
                    "South Carolina",
                    "South Dakota",
                    "Tennessee",
                    "Texas",
                    "Utah",
                    "Vermont",
                    "Virgin Islands",
                    "Virginia",
                    "Washington",
                    "West Virginia",
                    "Wisconsin",
                    "Wyoming"
                  ],
                  "xaxis": "x",
                  "y": [
                    5299,
                    224,
                    10036,
                    4010,
                    29638,
                    5600,
                    6324,
                    1128,
                    0,
                    813,
                    22804,
                    11457,
                    3,
                    124,
                    308,
                    1528,
                    19210,
                    10089,
                    4127,
                    3164,
                    2876,
                    7833,
                    432,
                    6246,
                    11071,
                    14145,
                    5731,
                    5146,
                    6173,
                    1054,
                    1737,
                    3450,
                    862,
                    19854,
                    2732,
                    39288,
                    7425,
                    1360,
                    2,
                    14899,
                    2738,
                    1603,
                    17710,
                    1616,
                    0,
                    2062,
                    5758,
                    1570,
                    7704,
                    30441,
                    1390,
                    156,
                    24,
                    5381,
                    3698,
                    1570,
                    5567,
                    489
                  ],
                  "yaxis": "y"
                },
                {
                  "alignmentgroup": "True",
                  "hovertemplate": "Case Type=Recovered<br>Province_State=%{x}<br>Number of Cases=%{y}<extra></extra>",
                  "legendgroup": "Recovered",
                  "marker": {
                    "color": "#00cc96",
                    "pattern": {
                      "shape": ""
                    }
                  },
                  "name": "Recovered",
                  "offsetgroup": "Recovered",
                  "orientation": "v",
                  "showlegend": true,
                  "textposition": "auto",
                  "type": "bar",
                  "x": [
                    "Alabama",
                    "Alaska",
                    "Arizona",
                    "Arkansas",
                    "California",
                    "Colorado",
                    "Connecticut",
                    "Delaware",
                    "Diamond Princess",
                    "District of Columbia",
                    "Florida",
                    "Georgia",
                    "Grand Princess",
                    "Guam",
                    "Hawaii",
                    "Idaho",
                    "Illinois",
                    "Indiana",
                    "Iowa",
                    "Kansas",
                    "Kentucky",
                    "Louisiana",
                    "Maine",
                    "Maryland",
                    "Massachusetts",
                    "Michigan",
                    "Minnesota",
                    "Mississippi",
                    "Missouri",
                    "Montana",
                    "Nebraska",
                    "Nevada",
                    "New Hampshire",
                    "New Jersey",
                    "New Mexico",
                    "New York",
                    "North Carolina",
                    "North Dakota",
                    "Northern Mariana Islands",
                    "Ohio",
                    "Oklahoma",
                    "Oregon",
                    "Pennsylvania",
                    "Puerto Rico",
                    "Recovered",
                    "Rhode Island",
                    "South Carolina",
                    "South Dakota",
                    "Tennessee",
                    "Texas",
                    "Utah",
                    "Vermont",
                    "Virgin Islands",
                    "Virginia",
                    "Washington",
                    "West Virginia",
                    "Wisconsin",
                    "Wyoming"
                  ],
                  "xaxis": "x",
                  "y": [
                    0,
                    0,
                    0,
                    0,
                    0,
                    0,
                    0,
                    0,
                    0,
                    0,
                    0,
                    0,
                    0,
                    0,
                    0,
                    0,
                    0,
                    0,
                    0,
                    0,
                    0,
                    0,
                    0,
                    0,
                    0,
                    0,
                    0,
                    0,
                    0,
                    0,
                    0,
                    0,
                    0,
                    0,
                    0,
                    0,
                    0,
                    0,
                    0,
                    0,
                    0,
                    0,
                    0,
                    0,
                    0,
                    0,
                    0,
                    0,
                    0,
                    0,
                    0,
                    0,
                    0,
                    0,
                    0,
                    0,
                    0,
                    0
                  ],
                  "yaxis": "y"
                },
                {
                  "alignmentgroup": "True",
                  "hovertemplate": "Case Type=Active<br>Province_State=%{x}<br>Number of Cases=%{y}<extra></extra>",
                  "legendgroup": "Active",
                  "marker": {
                    "color": "#ab63fa",
                    "pattern": {
                      "shape": ""
                    }
                  },
                  "name": "Active",
                  "offsetgroup": "Active",
                  "orientation": "v",
                  "showlegend": true,
                  "textposition": "auto",
                  "type": "bar",
                  "x": [
                    "Alabama",
                    "Alaska",
                    "Arizona",
                    "Arkansas",
                    "California",
                    "Colorado",
                    "Connecticut",
                    "Delaware",
                    "Diamond Princess",
                    "District of Columbia",
                    "Florida",
                    "Georgia",
                    "Grand Princess",
                    "Guam",
                    "Hawaii",
                    "Idaho",
                    "Illinois",
                    "Indiana",
                    "Iowa",
                    "Kansas",
                    "Kentucky",
                    "Louisiana",
                    "Maine",
                    "Maryland",
                    "Massachusetts",
                    "Michigan",
                    "Minnesota",
                    "Mississippi",
                    "Missouri",
                    "Montana",
                    "Nebraska",
                    "Nevada",
                    "New Hampshire",
                    "New Jersey",
                    "New Mexico",
                    "New York",
                    "North Carolina",
                    "North Dakota",
                    "Northern Mariana Islands",
                    "Ohio",
                    "Oklahoma",
                    "Oregon",
                    "Pennsylvania",
                    "Puerto Rico",
                    "Recovered",
                    "Rhode Island",
                    "South Carolina",
                    "South Dakota",
                    "Tennessee",
                    "Texas",
                    "Utah",
                    "Vermont",
                    "Virgin Islands",
                    "Virginia",
                    "Washington",
                    "West Virginia",
                    "Wisconsin",
                    "Wyoming"
                  ],
                  "xaxis": "x",
                  "y": [
                    393851,
                    49755,
                    597309,
                    247736,
                    2750669,
                    353757,
                    199670,
                    63347,
                    49,
                    30644,
                    1441893,
                    737395,
                    100,
                    7275,
                    23589,
                    147707,
                    1006442,
                    548634,
                    292044,
                    241572,
                    297521,
                    333598,
                    28587,
                    297162,
                    414061,
                    548408,
                    428682,
                    231722,
                    471444,
                    85048,
                    173883,
                    242859,
                    51509,
                    559396,
                    152222,
                    1080226,
                    606930,
                    93206,
                    123,
                    756078,
                    322539,
                    122873,
                    704110,
                    81014,
                    0,
                    95552,
                    344326,
                    101331,
                    638746,
                    1921602,
                    302333,
                    8634,
                    2119,
                    388334,
                    267897,
                    98208,
                    542567,
                    46230
                  ],
                  "yaxis": "y"
                }
              ],
              "layout": {
                "barmode": "group",
                "legend": {
                  "title": {
                    "text": "Case Type"
                  },
                  "tracegroupgap": 0
                },
                "template": {
                  "data": {
                    "bar": [
                      {
                        "error_x": {
                          "color": "#f2f5fa"
                        },
                        "error_y": {
                          "color": "#f2f5fa"
                        },
                        "marker": {
                          "line": {
                            "color": "rgb(17,17,17)",
                            "width": 0.5
                          },
                          "pattern": {
                            "fillmode": "overlay",
                            "size": 10,
                            "solidity": 0.2
                          }
                        },
                        "type": "bar"
                      }
                    ],
                    "barpolar": [
                      {
                        "marker": {
                          "line": {
                            "color": "rgb(17,17,17)",
                            "width": 0.5
                          },
                          "pattern": {
                            "fillmode": "overlay",
                            "size": 10,
                            "solidity": 0.2
                          }
                        },
                        "type": "barpolar"
                      }
                    ],
                    "carpet": [
                      {
                        "aaxis": {
                          "endlinecolor": "#A2B1C6",
                          "gridcolor": "#506784",
                          "linecolor": "#506784",
                          "minorgridcolor": "#506784",
                          "startlinecolor": "#A2B1C6"
                        },
                        "baxis": {
                          "endlinecolor": "#A2B1C6",
                          "gridcolor": "#506784",
                          "linecolor": "#506784",
                          "minorgridcolor": "#506784",
                          "startlinecolor": "#A2B1C6"
                        },
                        "type": "carpet"
                      }
                    ],
                    "choropleth": [
                      {
                        "colorbar": {
                          "outlinewidth": 0,
                          "ticks": ""
                        },
                        "type": "choropleth"
                      }
                    ],
                    "contour": [
                      {
                        "colorbar": {
                          "outlinewidth": 0,
                          "ticks": ""
                        },
                        "colorscale": [
                          [
                            0,
                            "#0d0887"
                          ],
                          [
                            0.1111111111111111,
                            "#46039f"
                          ],
                          [
                            0.2222222222222222,
                            "#7201a8"
                          ],
                          [
                            0.3333333333333333,
                            "#9c179e"
                          ],
                          [
                            0.4444444444444444,
                            "#bd3786"
                          ],
                          [
                            0.5555555555555556,
                            "#d8576b"
                          ],
                          [
                            0.6666666666666666,
                            "#ed7953"
                          ],
                          [
                            0.7777777777777778,
                            "#fb9f3a"
                          ],
                          [
                            0.8888888888888888,
                            "#fdca26"
                          ],
                          [
                            1,
                            "#f0f921"
                          ]
                        ],
                        "type": "contour"
                      }
                    ],
                    "contourcarpet": [
                      {
                        "colorbar": {
                          "outlinewidth": 0,
                          "ticks": ""
                        },
                        "type": "contourcarpet"
                      }
                    ],
                    "heatmap": [
                      {
                        "colorbar": {
                          "outlinewidth": 0,
                          "ticks": ""
                        },
                        "colorscale": [
                          [
                            0,
                            "#0d0887"
                          ],
                          [
                            0.1111111111111111,
                            "#46039f"
                          ],
                          [
                            0.2222222222222222,
                            "#7201a8"
                          ],
                          [
                            0.3333333333333333,
                            "#9c179e"
                          ],
                          [
                            0.4444444444444444,
                            "#bd3786"
                          ],
                          [
                            0.5555555555555556,
                            "#d8576b"
                          ],
                          [
                            0.6666666666666666,
                            "#ed7953"
                          ],
                          [
                            0.7777777777777778,
                            "#fb9f3a"
                          ],
                          [
                            0.8888888888888888,
                            "#fdca26"
                          ],
                          [
                            1,
                            "#f0f921"
                          ]
                        ],
                        "type": "heatmap"
                      }
                    ],
                    "heatmapgl": [
                      {
                        "colorbar": {
                          "outlinewidth": 0,
                          "ticks": ""
                        },
                        "colorscale": [
                          [
                            0,
                            "#0d0887"
                          ],
                          [
                            0.1111111111111111,
                            "#46039f"
                          ],
                          [
                            0.2222222222222222,
                            "#7201a8"
                          ],
                          [
                            0.3333333333333333,
                            "#9c179e"
                          ],
                          [
                            0.4444444444444444,
                            "#bd3786"
                          ],
                          [
                            0.5555555555555556,
                            "#d8576b"
                          ],
                          [
                            0.6666666666666666,
                            "#ed7953"
                          ],
                          [
                            0.7777777777777778,
                            "#fb9f3a"
                          ],
                          [
                            0.8888888888888888,
                            "#fdca26"
                          ],
                          [
                            1,
                            "#f0f921"
                          ]
                        ],
                        "type": "heatmapgl"
                      }
                    ],
                    "histogram": [
                      {
                        "marker": {
                          "pattern": {
                            "fillmode": "overlay",
                            "size": 10,
                            "solidity": 0.2
                          }
                        },
                        "type": "histogram"
                      }
                    ],
                    "histogram2d": [
                      {
                        "colorbar": {
                          "outlinewidth": 0,
                          "ticks": ""
                        },
                        "colorscale": [
                          [
                            0,
                            "#0d0887"
                          ],
                          [
                            0.1111111111111111,
                            "#46039f"
                          ],
                          [
                            0.2222222222222222,
                            "#7201a8"
                          ],
                          [
                            0.3333333333333333,
                            "#9c179e"
                          ],
                          [
                            0.4444444444444444,
                            "#bd3786"
                          ],
                          [
                            0.5555555555555556,
                            "#d8576b"
                          ],
                          [
                            0.6666666666666666,
                            "#ed7953"
                          ],
                          [
                            0.7777777777777778,
                            "#fb9f3a"
                          ],
                          [
                            0.8888888888888888,
                            "#fdca26"
                          ],
                          [
                            1,
                            "#f0f921"
                          ]
                        ],
                        "type": "histogram2d"
                      }
                    ],
                    "histogram2dcontour": [
                      {
                        "colorbar": {
                          "outlinewidth": 0,
                          "ticks": ""
                        },
                        "colorscale": [
                          [
                            0,
                            "#0d0887"
                          ],
                          [
                            0.1111111111111111,
                            "#46039f"
                          ],
                          [
                            0.2222222222222222,
                            "#7201a8"
                          ],
                          [
                            0.3333333333333333,
                            "#9c179e"
                          ],
                          [
                            0.4444444444444444,
                            "#bd3786"
                          ],
                          [
                            0.5555555555555556,
                            "#d8576b"
                          ],
                          [
                            0.6666666666666666,
                            "#ed7953"
                          ],
                          [
                            0.7777777777777778,
                            "#fb9f3a"
                          ],
                          [
                            0.8888888888888888,
                            "#fdca26"
                          ],
                          [
                            1,
                            "#f0f921"
                          ]
                        ],
                        "type": "histogram2dcontour"
                      }
                    ],
                    "mesh3d": [
                      {
                        "colorbar": {
                          "outlinewidth": 0,
                          "ticks": ""
                        },
                        "type": "mesh3d"
                      }
                    ],
                    "parcoords": [
                      {
                        "line": {
                          "colorbar": {
                            "outlinewidth": 0,
                            "ticks": ""
                          }
                        },
                        "type": "parcoords"
                      }
                    ],
                    "pie": [
                      {
                        "automargin": true,
                        "type": "pie"
                      }
                    ],
                    "scatter": [
                      {
                        "marker": {
                          "line": {
                            "color": "#283442"
                          }
                        },
                        "type": "scatter"
                      }
                    ],
                    "scatter3d": [
                      {
                        "line": {
                          "colorbar": {
                            "outlinewidth": 0,
                            "ticks": ""
                          }
                        },
                        "marker": {
                          "colorbar": {
                            "outlinewidth": 0,
                            "ticks": ""
                          }
                        },
                        "type": "scatter3d"
                      }
                    ],
                    "scattercarpet": [
                      {
                        "marker": {
                          "colorbar": {
                            "outlinewidth": 0,
                            "ticks": ""
                          }
                        },
                        "type": "scattercarpet"
                      }
                    ],
                    "scattergeo": [
                      {
                        "marker": {
                          "colorbar": {
                            "outlinewidth": 0,
                            "ticks": ""
                          }
                        },
                        "type": "scattergeo"
                      }
                    ],
                    "scattergl": [
                      {
                        "marker": {
                          "line": {
                            "color": "#283442"
                          }
                        },
                        "type": "scattergl"
                      }
                    ],
                    "scattermapbox": [
                      {
                        "marker": {
                          "colorbar": {
                            "outlinewidth": 0,
                            "ticks": ""
                          }
                        },
                        "type": "scattermapbox"
                      }
                    ],
                    "scatterpolar": [
                      {
                        "marker": {
                          "colorbar": {
                            "outlinewidth": 0,
                            "ticks": ""
                          }
                        },
                        "type": "scatterpolar"
                      }
                    ],
                    "scatterpolargl": [
                      {
                        "marker": {
                          "colorbar": {
                            "outlinewidth": 0,
                            "ticks": ""
                          }
                        },
                        "type": "scatterpolargl"
                      }
                    ],
                    "scatterternary": [
                      {
                        "marker": {
                          "colorbar": {
                            "outlinewidth": 0,
                            "ticks": ""
                          }
                        },
                        "type": "scatterternary"
                      }
                    ],
                    "surface": [
                      {
                        "colorbar": {
                          "outlinewidth": 0,
                          "ticks": ""
                        },
                        "colorscale": [
                          [
                            0,
                            "#0d0887"
                          ],
                          [
                            0.1111111111111111,
                            "#46039f"
                          ],
                          [
                            0.2222222222222222,
                            "#7201a8"
                          ],
                          [
                            0.3333333333333333,
                            "#9c179e"
                          ],
                          [
                            0.4444444444444444,
                            "#bd3786"
                          ],
                          [
                            0.5555555555555556,
                            "#d8576b"
                          ],
                          [
                            0.6666666666666666,
                            "#ed7953"
                          ],
                          [
                            0.7777777777777778,
                            "#fb9f3a"
                          ],
                          [
                            0.8888888888888888,
                            "#fdca26"
                          ],
                          [
                            1,
                            "#f0f921"
                          ]
                        ],
                        "type": "surface"
                      }
                    ],
                    "table": [
                      {
                        "cells": {
                          "fill": {
                            "color": "#506784"
                          },
                          "line": {
                            "color": "rgb(17,17,17)"
                          }
                        },
                        "header": {
                          "fill": {
                            "color": "#2a3f5f"
                          },
                          "line": {
                            "color": "rgb(17,17,17)"
                          }
                        },
                        "type": "table"
                      }
                    ]
                  },
                  "layout": {
                    "annotationdefaults": {
                      "arrowcolor": "#f2f5fa",
                      "arrowhead": 0,
                      "arrowwidth": 1
                    },
                    "autotypenumbers": "strict",
                    "coloraxis": {
                      "colorbar": {
                        "outlinewidth": 0,
                        "ticks": ""
                      }
                    },
                    "colorscale": {
                      "diverging": [
                        [
                          0,
                          "#8e0152"
                        ],
                        [
                          0.1,
                          "#c51b7d"
                        ],
                        [
                          0.2,
                          "#de77ae"
                        ],
                        [
                          0.3,
                          "#f1b6da"
                        ],
                        [
                          0.4,
                          "#fde0ef"
                        ],
                        [
                          0.5,
                          "#f7f7f7"
                        ],
                        [
                          0.6,
                          "#e6f5d0"
                        ],
                        [
                          0.7,
                          "#b8e186"
                        ],
                        [
                          0.8,
                          "#7fbc41"
                        ],
                        [
                          0.9,
                          "#4d9221"
                        ],
                        [
                          1,
                          "#276419"
                        ]
                      ],
                      "sequential": [
                        [
                          0,
                          "#0d0887"
                        ],
                        [
                          0.1111111111111111,
                          "#46039f"
                        ],
                        [
                          0.2222222222222222,
                          "#7201a8"
                        ],
                        [
                          0.3333333333333333,
                          "#9c179e"
                        ],
                        [
                          0.4444444444444444,
                          "#bd3786"
                        ],
                        [
                          0.5555555555555556,
                          "#d8576b"
                        ],
                        [
                          0.6666666666666666,
                          "#ed7953"
                        ],
                        [
                          0.7777777777777778,
                          "#fb9f3a"
                        ],
                        [
                          0.8888888888888888,
                          "#fdca26"
                        ],
                        [
                          1,
                          "#f0f921"
                        ]
                      ],
                      "sequentialminus": [
                        [
                          0,
                          "#0d0887"
                        ],
                        [
                          0.1111111111111111,
                          "#46039f"
                        ],
                        [
                          0.2222222222222222,
                          "#7201a8"
                        ],
                        [
                          0.3333333333333333,
                          "#9c179e"
                        ],
                        [
                          0.4444444444444444,
                          "#bd3786"
                        ],
                        [
                          0.5555555555555556,
                          "#d8576b"
                        ],
                        [
                          0.6666666666666666,
                          "#ed7953"
                        ],
                        [
                          0.7777777777777778,
                          "#fb9f3a"
                        ],
                        [
                          0.8888888888888888,
                          "#fdca26"
                        ],
                        [
                          1,
                          "#f0f921"
                        ]
                      ]
                    },
                    "colorway": [
                      "#636efa",
                      "#EF553B",
                      "#00cc96",
                      "#ab63fa",
                      "#FFA15A",
                      "#19d3f3",
                      "#FF6692",
                      "#B6E880",
                      "#FF97FF",
                      "#FECB52"
                    ],
                    "font": {
                      "color": "#f2f5fa"
                    },
                    "geo": {
                      "bgcolor": "rgb(17,17,17)",
                      "lakecolor": "rgb(17,17,17)",
                      "landcolor": "rgb(17,17,17)",
                      "showlakes": true,
                      "showland": true,
                      "subunitcolor": "#506784"
                    },
                    "hoverlabel": {
                      "align": "left"
                    },
                    "hovermode": "closest",
                    "mapbox": {
                      "style": "dark"
                    },
                    "paper_bgcolor": "rgb(17,17,17)",
                    "plot_bgcolor": "rgb(17,17,17)",
                    "polar": {
                      "angularaxis": {
                        "gridcolor": "#506784",
                        "linecolor": "#506784",
                        "ticks": ""
                      },
                      "bgcolor": "rgb(17,17,17)",
                      "radialaxis": {
                        "gridcolor": "#506784",
                        "linecolor": "#506784",
                        "ticks": ""
                      }
                    },
                    "scene": {
                      "xaxis": {
                        "backgroundcolor": "rgb(17,17,17)",
                        "gridcolor": "#506784",
                        "gridwidth": 2,
                        "linecolor": "#506784",
                        "showbackground": true,
                        "ticks": "",
                        "zerolinecolor": "#C8D4E3"
                      },
                      "yaxis": {
                        "backgroundcolor": "rgb(17,17,17)",
                        "gridcolor": "#506784",
                        "gridwidth": 2,
                        "linecolor": "#506784",
                        "showbackground": true,
                        "ticks": "",
                        "zerolinecolor": "#C8D4E3"
                      },
                      "zaxis": {
                        "backgroundcolor": "rgb(17,17,17)",
                        "gridcolor": "#506784",
                        "gridwidth": 2,
                        "linecolor": "#506784",
                        "showbackground": true,
                        "ticks": "",
                        "zerolinecolor": "#C8D4E3"
                      }
                    },
                    "shapedefaults": {
                      "line": {
                        "color": "#f2f5fa"
                      }
                    },
                    "sliderdefaults": {
                      "bgcolor": "#C8D4E3",
                      "bordercolor": "rgb(17,17,17)",
                      "borderwidth": 1,
                      "tickwidth": 0
                    },
                    "ternary": {
                      "aaxis": {
                        "gridcolor": "#506784",
                        "linecolor": "#506784",
                        "ticks": ""
                      },
                      "baxis": {
                        "gridcolor": "#506784",
                        "linecolor": "#506784",
                        "ticks": ""
                      },
                      "bgcolor": "rgb(17,17,17)",
                      "caxis": {
                        "gridcolor": "#506784",
                        "linecolor": "#506784",
                        "ticks": ""
                      }
                    },
                    "title": {
                      "x": 0.05
                    },
                    "updatemenudefaults": {
                      "bgcolor": "#506784",
                      "borderwidth": 0
                    },
                    "xaxis": {
                      "automargin": true,
                      "gridcolor": "#283442",
                      "linecolor": "#506784",
                      "ticks": "",
                      "title": {
                        "standoff": 15
                      },
                      "zerolinecolor": "#283442",
                      "zerolinewidth": 2
                    },
                    "yaxis": {
                      "automargin": true,
                      "gridcolor": "#283442",
                      "linecolor": "#506784",
                      "ticks": "",
                      "title": {
                        "standoff": 15
                      },
                      "zerolinecolor": "#283442",
                      "zerolinewidth": 2
                    }
                  }
                },
                "title": {
                  "text": "COVID-19 Cases by Province/State in USA"
                },
                "xaxis": {
                  "anchor": "y",
                  "domain": [
                    0,
                    1
                  ],
                  "title": {
                    "text": "Province_State"
                  }
                },
                "yaxis": {
                  "anchor": "x",
                  "domain": [
                    0,
                    1
                  ],
                  "title": {
                    "text": "Number of Cases"
                  }
                }
              }
            },
            "text/html": [
              "<div>                            <div id=\"c5e5a09c-755d-4f56-a600-59ae89e2e808\" class=\"plotly-graph-div\" style=\"height:525px; width:100%;\"></div>            <script type=\"text/javascript\">                require([\"plotly\"], function(Plotly) {                    window.PLOTLYENV=window.PLOTLYENV || {};                                    if (document.getElementById(\"c5e5a09c-755d-4f56-a600-59ae89e2e808\")) {                    Plotly.newPlot(                        \"c5e5a09c-755d-4f56-a600-59ae89e2e808\",                        [{\"alignmentgroup\":\"True\",\"hovertemplate\":\"Case Type=Confirmed\\u003cbr\\u003eProvince_State=%{x}\\u003cbr\\u003eNumber of Cases=%{y}\\u003cextra\\u003e\\u003c\\u002fextra\\u003e\",\"legendgroup\":\"Confirmed\",\"marker\":{\"color\":\"#636efa\",\"pattern\":{\"shape\":\"\"}},\"name\":\"Confirmed\",\"offsetgroup\":\"Confirmed\",\"orientation\":\"v\",\"showlegend\":true,\"textposition\":\"auto\",\"x\":[\"Alabama\",\"Alaska\",\"Arizona\",\"Arkansas\",\"California\",\"Colorado\",\"Connecticut\",\"Delaware\",\"Diamond Princess\",\"District of Columbia\",\"Florida\",\"Georgia\",\"Grand Princess\",\"Guam\",\"Hawaii\",\"Idaho\",\"Illinois\",\"Indiana\",\"Iowa\",\"Kansas\",\"Kentucky\",\"Louisiana\",\"Maine\",\"Maryland\",\"Massachusetts\",\"Michigan\",\"Minnesota\",\"Mississippi\",\"Missouri\",\"Montana\",\"Nebraska\",\"Nevada\",\"New Hampshire\",\"New Jersey\",\"New Mexico\",\"New York\",\"North Carolina\",\"North Dakota\",\"Northern Mariana Islands\",\"Ohio\",\"Oklahoma\",\"Oregon\",\"Pennsylvania\",\"Puerto Rico\",\"Recovered\",\"Rhode Island\",\"South Carolina\",\"South Dakota\",\"Tennessee\",\"Texas\",\"Utah\",\"Vermont\",\"Virgin Islands\",\"Virginia\",\"Washington\",\"West Virginia\",\"Wisconsin\",\"Wyoming\"],\"xaxis\":\"x\",\"y\":[399150,49979,607345,251746,2776975,381434,205994,64475,49,31457,1464697,748852,103,7399,23897,149235,1024039,558560,296171,244347,300397,341431,29019,303364,427135,562553,434413,236868,477617,86102,175620,246309,52371,579250,154954,1119284,614355,93951,125,770977,325277,124476,721820,82630,0,97614,350084,102901,643181,1988676,303723,8790,2143,393715,271595,99778,548134,46719],\"yaxis\":\"y\",\"type\":\"bar\"},{\"alignmentgroup\":\"True\",\"hovertemplate\":\"Case Type=Deaths\\u003cbr\\u003eProvince_State=%{x}\\u003cbr\\u003eNumber of Cases=%{y}\\u003cextra\\u003e\\u003c\\u002fextra\\u003e\",\"legendgroup\":\"Deaths\",\"marker\":{\"color\":\"#EF553B\",\"pattern\":{\"shape\":\"\"}},\"name\":\"Deaths\",\"offsetgroup\":\"Deaths\",\"orientation\":\"v\",\"showlegend\":true,\"textposition\":\"auto\",\"x\":[\"Alabama\",\"Alaska\",\"Arizona\",\"Arkansas\",\"California\",\"Colorado\",\"Connecticut\",\"Delaware\",\"Diamond Princess\",\"District of Columbia\",\"Florida\",\"Georgia\",\"Grand Princess\",\"Guam\",\"Hawaii\",\"Idaho\",\"Illinois\",\"Indiana\",\"Iowa\",\"Kansas\",\"Kentucky\",\"Louisiana\",\"Maine\",\"Maryland\",\"Massachusetts\",\"Michigan\",\"Minnesota\",\"Mississippi\",\"Missouri\",\"Montana\",\"Nebraska\",\"Nevada\",\"New Hampshire\",\"New Jersey\",\"New Mexico\",\"New York\",\"North Carolina\",\"North Dakota\",\"Northern Mariana Islands\",\"Ohio\",\"Oklahoma\",\"Oregon\",\"Pennsylvania\",\"Puerto Rico\",\"Recovered\",\"Rhode Island\",\"South Carolina\",\"South Dakota\",\"Tennessee\",\"Texas\",\"Utah\",\"Vermont\",\"Virgin Islands\",\"Virginia\",\"Washington\",\"West Virginia\",\"Wisconsin\",\"Wyoming\"],\"xaxis\":\"x\",\"y\":[5299,224,10036,4010,29638,5600,6324,1128,0,813,22804,11457,3,124,308,1528,19210,10089,4127,3164,2876,7833,432,6246,11071,14145,5731,5146,6173,1054,1737,3450,862,19854,2732,39288,7425,1360,2,14899,2738,1603,17710,1616,0,2062,5758,1570,7704,30441,1390,156,24,5381,3698,1570,5567,489],\"yaxis\":\"y\",\"type\":\"bar\"},{\"alignmentgroup\":\"True\",\"hovertemplate\":\"Case Type=Recovered\\u003cbr\\u003eProvince_State=%{x}\\u003cbr\\u003eNumber of Cases=%{y}\\u003cextra\\u003e\\u003c\\u002fextra\\u003e\",\"legendgroup\":\"Recovered\",\"marker\":{\"color\":\"#00cc96\",\"pattern\":{\"shape\":\"\"}},\"name\":\"Recovered\",\"offsetgroup\":\"Recovered\",\"orientation\":\"v\",\"showlegend\":true,\"textposition\":\"auto\",\"x\":[\"Alabama\",\"Alaska\",\"Arizona\",\"Arkansas\",\"California\",\"Colorado\",\"Connecticut\",\"Delaware\",\"Diamond Princess\",\"District of Columbia\",\"Florida\",\"Georgia\",\"Grand Princess\",\"Guam\",\"Hawaii\",\"Idaho\",\"Illinois\",\"Indiana\",\"Iowa\",\"Kansas\",\"Kentucky\",\"Louisiana\",\"Maine\",\"Maryland\",\"Massachusetts\",\"Michigan\",\"Minnesota\",\"Mississippi\",\"Missouri\",\"Montana\",\"Nebraska\",\"Nevada\",\"New Hampshire\",\"New Jersey\",\"New Mexico\",\"New York\",\"North Carolina\",\"North Dakota\",\"Northern Mariana Islands\",\"Ohio\",\"Oklahoma\",\"Oregon\",\"Pennsylvania\",\"Puerto Rico\",\"Recovered\",\"Rhode Island\",\"South Carolina\",\"South Dakota\",\"Tennessee\",\"Texas\",\"Utah\",\"Vermont\",\"Virgin Islands\",\"Virginia\",\"Washington\",\"West Virginia\",\"Wisconsin\",\"Wyoming\"],\"xaxis\":\"x\",\"y\":[0,0,0,0,0,0,0,0,0,0,0,0,0,0,0,0,0,0,0,0,0,0,0,0,0,0,0,0,0,0,0,0,0,0,0,0,0,0,0,0,0,0,0,0,0,0,0,0,0,0,0,0,0,0,0,0,0,0],\"yaxis\":\"y\",\"type\":\"bar\"},{\"alignmentgroup\":\"True\",\"hovertemplate\":\"Case Type=Active\\u003cbr\\u003eProvince_State=%{x}\\u003cbr\\u003eNumber of Cases=%{y}\\u003cextra\\u003e\\u003c\\u002fextra\\u003e\",\"legendgroup\":\"Active\",\"marker\":{\"color\":\"#ab63fa\",\"pattern\":{\"shape\":\"\"}},\"name\":\"Active\",\"offsetgroup\":\"Active\",\"orientation\":\"v\",\"showlegend\":true,\"textposition\":\"auto\",\"x\":[\"Alabama\",\"Alaska\",\"Arizona\",\"Arkansas\",\"California\",\"Colorado\",\"Connecticut\",\"Delaware\",\"Diamond Princess\",\"District of Columbia\",\"Florida\",\"Georgia\",\"Grand Princess\",\"Guam\",\"Hawaii\",\"Idaho\",\"Illinois\",\"Indiana\",\"Iowa\",\"Kansas\",\"Kentucky\",\"Louisiana\",\"Maine\",\"Maryland\",\"Massachusetts\",\"Michigan\",\"Minnesota\",\"Mississippi\",\"Missouri\",\"Montana\",\"Nebraska\",\"Nevada\",\"New Hampshire\",\"New Jersey\",\"New Mexico\",\"New York\",\"North Carolina\",\"North Dakota\",\"Northern Mariana Islands\",\"Ohio\",\"Oklahoma\",\"Oregon\",\"Pennsylvania\",\"Puerto Rico\",\"Recovered\",\"Rhode Island\",\"South Carolina\",\"South Dakota\",\"Tennessee\",\"Texas\",\"Utah\",\"Vermont\",\"Virgin Islands\",\"Virginia\",\"Washington\",\"West Virginia\",\"Wisconsin\",\"Wyoming\"],\"xaxis\":\"x\",\"y\":[393851,49755,597309,247736,2750669,353757,199670,63347,49,30644,1441893,737395,100,7275,23589,147707,1006442,548634,292044,241572,297521,333598,28587,297162,414061,548408,428682,231722,471444,85048,173883,242859,51509,559396,152222,1080226,606930,93206,123,756078,322539,122873,704110,81014,0,95552,344326,101331,638746,1921602,302333,8634,2119,388334,267897,98208,542567,46230],\"yaxis\":\"y\",\"type\":\"bar\"}],                        {\"template\":{\"data\":{\"barpolar\":[{\"marker\":{\"line\":{\"color\":\"rgb(17,17,17)\",\"width\":0.5},\"pattern\":{\"fillmode\":\"overlay\",\"size\":10,\"solidity\":0.2}},\"type\":\"barpolar\"}],\"bar\":[{\"error_x\":{\"color\":\"#f2f5fa\"},\"error_y\":{\"color\":\"#f2f5fa\"},\"marker\":{\"line\":{\"color\":\"rgb(17,17,17)\",\"width\":0.5},\"pattern\":{\"fillmode\":\"overlay\",\"size\":10,\"solidity\":0.2}},\"type\":\"bar\"}],\"carpet\":[{\"aaxis\":{\"endlinecolor\":\"#A2B1C6\",\"gridcolor\":\"#506784\",\"linecolor\":\"#506784\",\"minorgridcolor\":\"#506784\",\"startlinecolor\":\"#A2B1C6\"},\"baxis\":{\"endlinecolor\":\"#A2B1C6\",\"gridcolor\":\"#506784\",\"linecolor\":\"#506784\",\"minorgridcolor\":\"#506784\",\"startlinecolor\":\"#A2B1C6\"},\"type\":\"carpet\"}],\"choropleth\":[{\"colorbar\":{\"outlinewidth\":0,\"ticks\":\"\"},\"type\":\"choropleth\"}],\"contourcarpet\":[{\"colorbar\":{\"outlinewidth\":0,\"ticks\":\"\"},\"type\":\"contourcarpet\"}],\"contour\":[{\"colorbar\":{\"outlinewidth\":0,\"ticks\":\"\"},\"colorscale\":[[0.0,\"#0d0887\"],[0.1111111111111111,\"#46039f\"],[0.2222222222222222,\"#7201a8\"],[0.3333333333333333,\"#9c179e\"],[0.4444444444444444,\"#bd3786\"],[0.5555555555555556,\"#d8576b\"],[0.6666666666666666,\"#ed7953\"],[0.7777777777777778,\"#fb9f3a\"],[0.8888888888888888,\"#fdca26\"],[1.0,\"#f0f921\"]],\"type\":\"contour\"}],\"heatmapgl\":[{\"colorbar\":{\"outlinewidth\":0,\"ticks\":\"\"},\"colorscale\":[[0.0,\"#0d0887\"],[0.1111111111111111,\"#46039f\"],[0.2222222222222222,\"#7201a8\"],[0.3333333333333333,\"#9c179e\"],[0.4444444444444444,\"#bd3786\"],[0.5555555555555556,\"#d8576b\"],[0.6666666666666666,\"#ed7953\"],[0.7777777777777778,\"#fb9f3a\"],[0.8888888888888888,\"#fdca26\"],[1.0,\"#f0f921\"]],\"type\":\"heatmapgl\"}],\"heatmap\":[{\"colorbar\":{\"outlinewidth\":0,\"ticks\":\"\"},\"colorscale\":[[0.0,\"#0d0887\"],[0.1111111111111111,\"#46039f\"],[0.2222222222222222,\"#7201a8\"],[0.3333333333333333,\"#9c179e\"],[0.4444444444444444,\"#bd3786\"],[0.5555555555555556,\"#d8576b\"],[0.6666666666666666,\"#ed7953\"],[0.7777777777777778,\"#fb9f3a\"],[0.8888888888888888,\"#fdca26\"],[1.0,\"#f0f921\"]],\"type\":\"heatmap\"}],\"histogram2dcontour\":[{\"colorbar\":{\"outlinewidth\":0,\"ticks\":\"\"},\"colorscale\":[[0.0,\"#0d0887\"],[0.1111111111111111,\"#46039f\"],[0.2222222222222222,\"#7201a8\"],[0.3333333333333333,\"#9c179e\"],[0.4444444444444444,\"#bd3786\"],[0.5555555555555556,\"#d8576b\"],[0.6666666666666666,\"#ed7953\"],[0.7777777777777778,\"#fb9f3a\"],[0.8888888888888888,\"#fdca26\"],[1.0,\"#f0f921\"]],\"type\":\"histogram2dcontour\"}],\"histogram2d\":[{\"colorbar\":{\"outlinewidth\":0,\"ticks\":\"\"},\"colorscale\":[[0.0,\"#0d0887\"],[0.1111111111111111,\"#46039f\"],[0.2222222222222222,\"#7201a8\"],[0.3333333333333333,\"#9c179e\"],[0.4444444444444444,\"#bd3786\"],[0.5555555555555556,\"#d8576b\"],[0.6666666666666666,\"#ed7953\"],[0.7777777777777778,\"#fb9f3a\"],[0.8888888888888888,\"#fdca26\"],[1.0,\"#f0f921\"]],\"type\":\"histogram2d\"}],\"histogram\":[{\"marker\":{\"pattern\":{\"fillmode\":\"overlay\",\"size\":10,\"solidity\":0.2}},\"type\":\"histogram\"}],\"mesh3d\":[{\"colorbar\":{\"outlinewidth\":0,\"ticks\":\"\"},\"type\":\"mesh3d\"}],\"parcoords\":[{\"line\":{\"colorbar\":{\"outlinewidth\":0,\"ticks\":\"\"}},\"type\":\"parcoords\"}],\"pie\":[{\"automargin\":true,\"type\":\"pie\"}],\"scatter3d\":[{\"line\":{\"colorbar\":{\"outlinewidth\":0,\"ticks\":\"\"}},\"marker\":{\"colorbar\":{\"outlinewidth\":0,\"ticks\":\"\"}},\"type\":\"scatter3d\"}],\"scattercarpet\":[{\"marker\":{\"colorbar\":{\"outlinewidth\":0,\"ticks\":\"\"}},\"type\":\"scattercarpet\"}],\"scattergeo\":[{\"marker\":{\"colorbar\":{\"outlinewidth\":0,\"ticks\":\"\"}},\"type\":\"scattergeo\"}],\"scattergl\":[{\"marker\":{\"line\":{\"color\":\"#283442\"}},\"type\":\"scattergl\"}],\"scattermapbox\":[{\"marker\":{\"colorbar\":{\"outlinewidth\":0,\"ticks\":\"\"}},\"type\":\"scattermapbox\"}],\"scatterpolargl\":[{\"marker\":{\"colorbar\":{\"outlinewidth\":0,\"ticks\":\"\"}},\"type\":\"scatterpolargl\"}],\"scatterpolar\":[{\"marker\":{\"colorbar\":{\"outlinewidth\":0,\"ticks\":\"\"}},\"type\":\"scatterpolar\"}],\"scatter\":[{\"marker\":{\"line\":{\"color\":\"#283442\"}},\"type\":\"scatter\"}],\"scatterternary\":[{\"marker\":{\"colorbar\":{\"outlinewidth\":0,\"ticks\":\"\"}},\"type\":\"scatterternary\"}],\"surface\":[{\"colorbar\":{\"outlinewidth\":0,\"ticks\":\"\"},\"colorscale\":[[0.0,\"#0d0887\"],[0.1111111111111111,\"#46039f\"],[0.2222222222222222,\"#7201a8\"],[0.3333333333333333,\"#9c179e\"],[0.4444444444444444,\"#bd3786\"],[0.5555555555555556,\"#d8576b\"],[0.6666666666666666,\"#ed7953\"],[0.7777777777777778,\"#fb9f3a\"],[0.8888888888888888,\"#fdca26\"],[1.0,\"#f0f921\"]],\"type\":\"surface\"}],\"table\":[{\"cells\":{\"fill\":{\"color\":\"#506784\"},\"line\":{\"color\":\"rgb(17,17,17)\"}},\"header\":{\"fill\":{\"color\":\"#2a3f5f\"},\"line\":{\"color\":\"rgb(17,17,17)\"}},\"type\":\"table\"}]},\"layout\":{\"annotationdefaults\":{\"arrowcolor\":\"#f2f5fa\",\"arrowhead\":0,\"arrowwidth\":1},\"autotypenumbers\":\"strict\",\"coloraxis\":{\"colorbar\":{\"outlinewidth\":0,\"ticks\":\"\"}},\"colorscale\":{\"diverging\":[[0,\"#8e0152\"],[0.1,\"#c51b7d\"],[0.2,\"#de77ae\"],[0.3,\"#f1b6da\"],[0.4,\"#fde0ef\"],[0.5,\"#f7f7f7\"],[0.6,\"#e6f5d0\"],[0.7,\"#b8e186\"],[0.8,\"#7fbc41\"],[0.9,\"#4d9221\"],[1,\"#276419\"]],\"sequential\":[[0.0,\"#0d0887\"],[0.1111111111111111,\"#46039f\"],[0.2222222222222222,\"#7201a8\"],[0.3333333333333333,\"#9c179e\"],[0.4444444444444444,\"#bd3786\"],[0.5555555555555556,\"#d8576b\"],[0.6666666666666666,\"#ed7953\"],[0.7777777777777778,\"#fb9f3a\"],[0.8888888888888888,\"#fdca26\"],[1.0,\"#f0f921\"]],\"sequentialminus\":[[0.0,\"#0d0887\"],[0.1111111111111111,\"#46039f\"],[0.2222222222222222,\"#7201a8\"],[0.3333333333333333,\"#9c179e\"],[0.4444444444444444,\"#bd3786\"],[0.5555555555555556,\"#d8576b\"],[0.6666666666666666,\"#ed7953\"],[0.7777777777777778,\"#fb9f3a\"],[0.8888888888888888,\"#fdca26\"],[1.0,\"#f0f921\"]]},\"colorway\":[\"#636efa\",\"#EF553B\",\"#00cc96\",\"#ab63fa\",\"#FFA15A\",\"#19d3f3\",\"#FF6692\",\"#B6E880\",\"#FF97FF\",\"#FECB52\"],\"font\":{\"color\":\"#f2f5fa\"},\"geo\":{\"bgcolor\":\"rgb(17,17,17)\",\"lakecolor\":\"rgb(17,17,17)\",\"landcolor\":\"rgb(17,17,17)\",\"showlakes\":true,\"showland\":true,\"subunitcolor\":\"#506784\"},\"hoverlabel\":{\"align\":\"left\"},\"hovermode\":\"closest\",\"mapbox\":{\"style\":\"dark\"},\"paper_bgcolor\":\"rgb(17,17,17)\",\"plot_bgcolor\":\"rgb(17,17,17)\",\"polar\":{\"angularaxis\":{\"gridcolor\":\"#506784\",\"linecolor\":\"#506784\",\"ticks\":\"\"},\"bgcolor\":\"rgb(17,17,17)\",\"radialaxis\":{\"gridcolor\":\"#506784\",\"linecolor\":\"#506784\",\"ticks\":\"\"}},\"scene\":{\"xaxis\":{\"backgroundcolor\":\"rgb(17,17,17)\",\"gridcolor\":\"#506784\",\"gridwidth\":2,\"linecolor\":\"#506784\",\"showbackground\":true,\"ticks\":\"\",\"zerolinecolor\":\"#C8D4E3\"},\"yaxis\":{\"backgroundcolor\":\"rgb(17,17,17)\",\"gridcolor\":\"#506784\",\"gridwidth\":2,\"linecolor\":\"#506784\",\"showbackground\":true,\"ticks\":\"\",\"zerolinecolor\":\"#C8D4E3\"},\"zaxis\":{\"backgroundcolor\":\"rgb(17,17,17)\",\"gridcolor\":\"#506784\",\"gridwidth\":2,\"linecolor\":\"#506784\",\"showbackground\":true,\"ticks\":\"\",\"zerolinecolor\":\"#C8D4E3\"}},\"shapedefaults\":{\"line\":{\"color\":\"#f2f5fa\"}},\"sliderdefaults\":{\"bgcolor\":\"#C8D4E3\",\"bordercolor\":\"rgb(17,17,17)\",\"borderwidth\":1,\"tickwidth\":0},\"ternary\":{\"aaxis\":{\"gridcolor\":\"#506784\",\"linecolor\":\"#506784\",\"ticks\":\"\"},\"baxis\":{\"gridcolor\":\"#506784\",\"linecolor\":\"#506784\",\"ticks\":\"\"},\"bgcolor\":\"rgb(17,17,17)\",\"caxis\":{\"gridcolor\":\"#506784\",\"linecolor\":\"#506784\",\"ticks\":\"\"}},\"title\":{\"x\":0.05},\"updatemenudefaults\":{\"bgcolor\":\"#506784\",\"borderwidth\":0},\"xaxis\":{\"automargin\":true,\"gridcolor\":\"#283442\",\"linecolor\":\"#506784\",\"ticks\":\"\",\"title\":{\"standoff\":15},\"zerolinecolor\":\"#283442\",\"zerolinewidth\":2},\"yaxis\":{\"automargin\":true,\"gridcolor\":\"#283442\",\"linecolor\":\"#506784\",\"ticks\":\"\",\"title\":{\"standoff\":15},\"zerolinecolor\":\"#283442\",\"zerolinewidth\":2}}},\"xaxis\":{\"anchor\":\"y\",\"domain\":[0.0,1.0],\"title\":{\"text\":\"Province_State\"}},\"yaxis\":{\"anchor\":\"x\",\"domain\":[0.0,1.0],\"title\":{\"text\":\"Number of Cases\"}},\"legend\":{\"title\":{\"text\":\"Case Type\"},\"tracegroupgap\":0},\"title\":{\"text\":\"COVID-19 Cases by Province\\u002fState in USA\"},\"barmode\":\"group\"},                        {\"responsive\": true}                    ).then(function(){\n",
              "                            \n",
              "var gd = document.getElementById('c5e5a09c-755d-4f56-a600-59ae89e2e808');\n",
              "var x = new MutationObserver(function (mutations, observer) {{\n",
              "        var display = window.getComputedStyle(gd).display;\n",
              "        if (!display || display === 'none') {{\n",
              "            console.log([gd, 'removed!']);\n",
              "            Plotly.purge(gd);\n",
              "            observer.disconnect();\n",
              "        }}\n",
              "}});\n",
              "\n",
              "// Listen for the removal of the full notebook cells\n",
              "var notebookContainer = gd.closest('#notebook-container');\n",
              "if (notebookContainer) {{\n",
              "    x.observe(notebookContainer, {childList: true});\n",
              "}}\n",
              "\n",
              "// Listen for the clearing of the current output cell\n",
              "var outputEl = gd.closest('.output');\n",
              "if (outputEl) {{\n",
              "    x.observe(outputEl, {childList: true});\n",
              "}}\n",
              "\n",
              "                        })                };                });            </script>        </div>"
            ]
          },
          "metadata": {},
          "output_type": "display_data"
        }
      ],
      "source": [
        "import plotly.express as px\n",
        "import pandas as pd\n",
        "\n",
        "# Read the data\n",
        "covid_data = pd.read_csv('https://raw.githubusercontent.com/CSSEGISandData/COVID-19/master/csse_covid_19_data/csse_covid_19_daily_reports/01-09-2021.csv')\n",
        "\n",
        "# Filter the data for the United States (USA)\n",
        "usa_data = covid_data[covid_data['Country_Region'] == 'US']\n",
        "\n",
        "# Calculate the sum of cases by province/state\n",
        "province_cases = usa_data.groupby('Province_State')[['Confirmed', 'Deaths', 'Recovered', 'Active']].sum().reset_index()\n",
        "\n",
        "# Convert the data from wide format to long format (melt)\n",
        "province_cases = province_cases.melt(id_vars='Province_State', var_name='Case Type', value_name='Number of Cases')\n",
        "\n",
        "# Create a stacked bar chart\n",
        "fig = px.bar(province_cases, x='Province_State', y='Number of Cases',\n",
        "             title='COVID-19 Cases by Province/State in USA',\n",
        "             color='Case Type',\n",
        "             labels={'Number of Cases': 'Number of Cases'},\n",
        "             barmode='group',\n",
        "             template='plotly_dark')\n",
        "\n",
        "# Show the chart\n",
        "fig.show()\n",
        "\n"
      ]
    },
    {
      "cell_type": "markdown",
      "metadata": {
        "id": "euOu27qM5_Mq"
      },
      "source": [
        "### Question 9"
      ]
    },
    {
      "cell_type": "markdown",
      "metadata": {
        "id": "zKNDTIFI5_Mq"
      },
      "source": [
        "### Plot Worldwide Confirmed Cases over time"
      ]
    },
    {
      "cell_type": "code",
      "execution_count": 165,
      "metadata": {
        "id": "qylvc2IO5_Mq"
      },
      "outputs": [],
      "source": [
        "import plotly.express as px\n",
        "import plotly.io as pio"
      ]
    },
    {
      "cell_type": "code",
      "execution_count": 166,
      "metadata": {
        "colab": {
          "base_uri": "https://localhost:8080/",
          "height": 696
        },
        "id": "vblsiYml5_Mq",
        "outputId": "0dde07dd-56fc-43f7-e499-469787132e21"
      },
      "outputs": [
        {
          "data": {
            "application/vnd.plotly.v1+json": {
              "config": {
                "plotlyServerURL": "https://plot.ly"
              },
              "data": [
                {
                  "alignmentgroup": "True",
                  "hovertemplate": "Date=%{x}<br>Confirmed Cases=%{y}<extra></extra>",
                  "legendgroup": "",
                  "marker": {
                    "color": "#636efa",
                    "pattern": {
                      "shape": ""
                    }
                  },
                  "name": "",
                  "offsetgroup": "",
                  "orientation": "v",
                  "showlegend": false,
                  "textposition": "auto",
                  "type": "bar",
                  "x": [
                    "1/24/20",
                    "1/25/20",
                    "1/26/20",
                    "1/27/20",
                    "1/28/20",
                    "1/29/20",
                    "1/30/20",
                    "1/31/20",
                    "2/1/20",
                    "2/2/20",
                    "2/3/20",
                    "2/4/20",
                    "2/5/20",
                    "2/6/20",
                    "2/7/20",
                    "2/8/20",
                    "2/9/20",
                    "2/10/20",
                    "2/11/20",
                    "2/12/20",
                    "2/13/20",
                    "2/14/20",
                    "2/15/20",
                    "2/16/20",
                    "2/17/20",
                    "2/18/20",
                    "2/19/20",
                    "2/20/20",
                    "2/21/20",
                    "2/22/20",
                    "2/23/20",
                    "2/24/20",
                    "2/25/20",
                    "2/26/20",
                    "2/27/20",
                    "2/28/20",
                    "2/29/20",
                    "3/1/20",
                    "3/2/20",
                    "3/3/20",
                    "3/4/20",
                    "3/5/20",
                    "3/6/20",
                    "3/7/20",
                    "3/8/20",
                    "3/9/20",
                    "3/10/20",
                    "3/11/20",
                    "3/12/20",
                    "3/13/20",
                    "3/14/20",
                    "3/15/20",
                    "3/16/20",
                    "3/17/20",
                    "3/18/20",
                    "3/19/20",
                    "3/20/20",
                    "3/21/20",
                    "3/22/20",
                    "3/23/20",
                    "3/24/20",
                    "3/25/20",
                    "3/26/20",
                    "3/27/20",
                    "3/28/20",
                    "3/29/20",
                    "3/30/20",
                    "3/31/20",
                    "4/1/20",
                    "4/2/20",
                    "4/3/20",
                    "4/4/20",
                    "4/5/20",
                    "4/6/20",
                    "4/7/20",
                    "4/8/20",
                    "4/9/20",
                    "4/10/20",
                    "4/11/20",
                    "4/12/20",
                    "4/13/20",
                    "4/14/20",
                    "4/15/20",
                    "4/16/20",
                    "4/17/20",
                    "4/18/20",
                    "4/19/20",
                    "4/20/20",
                    "4/21/20",
                    "4/22/20",
                    "4/23/20",
                    "4/24/20",
                    "4/25/20",
                    "4/26/20",
                    "4/27/20",
                    "4/28/20",
                    "4/29/20",
                    "4/30/20",
                    "5/1/20",
                    "5/2/20",
                    "5/3/20",
                    "5/4/20",
                    "5/5/20",
                    "5/6/20",
                    "5/7/20",
                    "5/8/20",
                    "5/9/20",
                    "5/10/20",
                    "5/11/20",
                    "5/12/20",
                    "5/13/20",
                    "5/14/20",
                    "5/15/20",
                    "5/16/20",
                    "5/17/20",
                    "5/18/20",
                    "5/19/20",
                    "5/20/20",
                    "5/21/20",
                    "5/22/20",
                    "5/23/20",
                    "5/24/20",
                    "5/25/20",
                    "5/26/20",
                    "5/27/20",
                    "5/28/20",
                    "5/29/20",
                    "5/30/20",
                    "5/31/20",
                    "6/1/20",
                    "6/2/20",
                    "6/3/20",
                    "6/4/20",
                    "6/5/20",
                    "6/6/20",
                    "6/7/20",
                    "6/8/20",
                    "6/9/20",
                    "6/10/20",
                    "6/11/20",
                    "6/12/20",
                    "6/13/20",
                    "6/14/20",
                    "6/15/20",
                    "6/16/20",
                    "6/17/20",
                    "6/18/20",
                    "6/19/20",
                    "6/20/20",
                    "6/21/20",
                    "6/22/20",
                    "6/23/20",
                    "6/24/20",
                    "6/25/20",
                    "6/26/20",
                    "6/27/20",
                    "6/28/20",
                    "6/29/20",
                    "6/30/20",
                    "7/1/20",
                    "7/2/20",
                    "7/3/20",
                    "7/4/20",
                    "7/5/20",
                    "7/6/20",
                    "7/7/20",
                    "7/8/20",
                    "7/9/20",
                    "7/10/20",
                    "7/11/20",
                    "7/12/20",
                    "7/13/20",
                    "7/14/20",
                    "7/15/20",
                    "7/16/20",
                    "7/17/20",
                    "7/18/20",
                    "7/19/20",
                    "7/20/20",
                    "7/21/20",
                    "7/22/20",
                    "7/23/20",
                    "7/24/20",
                    "7/25/20",
                    "7/26/20",
                    "7/27/20",
                    "7/28/20",
                    "7/29/20",
                    "7/30/20",
                    "7/31/20",
                    "8/1/20",
                    "8/2/20",
                    "8/3/20",
                    "8/4/20",
                    "8/5/20",
                    "8/6/20",
                    "8/7/20",
                    "8/8/20",
                    "8/9/20",
                    "8/10/20",
                    "8/11/20",
                    "8/12/20",
                    "8/13/20",
                    "8/14/20",
                    "8/15/20",
                    "8/16/20",
                    "8/17/20",
                    "8/18/20",
                    "8/19/20",
                    "8/20/20",
                    "8/21/20",
                    "8/22/20",
                    "8/23/20",
                    "8/24/20",
                    "8/25/20",
                    "8/26/20",
                    "8/27/20",
                    "8/28/20",
                    "8/29/20",
                    "8/30/20",
                    "8/31/20",
                    "9/1/20",
                    "9/2/20",
                    "9/3/20",
                    "9/4/20",
                    "9/5/20",
                    "9/6/20",
                    "9/7/20",
                    "9/8/20",
                    "9/9/20",
                    "9/10/20",
                    "9/11/20",
                    "9/12/20",
                    "9/13/20",
                    "9/14/20",
                    "9/15/20",
                    "9/16/20",
                    "9/17/20",
                    "9/18/20",
                    "9/19/20",
                    "9/20/20",
                    "9/21/20",
                    "9/22/20",
                    "9/23/20",
                    "9/24/20",
                    "9/25/20",
                    "9/26/20",
                    "9/27/20",
                    "9/28/20",
                    "9/29/20",
                    "9/30/20",
                    "10/1/20",
                    "10/2/20",
                    "10/3/20",
                    "10/4/20",
                    "10/5/20",
                    "10/6/20",
                    "10/7/20",
                    "10/8/20",
                    "10/9/20",
                    "10/10/20",
                    "10/11/20",
                    "10/12/20",
                    "10/13/20",
                    "10/14/20",
                    "10/15/20",
                    "10/16/20",
                    "10/17/20",
                    "10/18/20",
                    "10/19/20",
                    "10/20/20",
                    "10/21/20",
                    "10/22/20",
                    "10/23/20",
                    "10/24/20",
                    "10/25/20",
                    "10/26/20",
                    "10/27/20",
                    "10/28/20",
                    "10/29/20",
                    "10/30/20",
                    "10/31/20",
                    "11/1/20",
                    "11/2/20",
                    "11/3/20",
                    "11/4/20",
                    "11/5/20",
                    "11/6/20",
                    "11/7/20",
                    "11/8/20",
                    "11/9/20",
                    "11/10/20",
                    "11/11/20",
                    "11/12/20",
                    "11/13/20",
                    "11/14/20",
                    "11/15/20",
                    "11/16/20",
                    "11/17/20",
                    "11/18/20",
                    "11/19/20",
                    "11/20/20",
                    "11/21/20",
                    "11/22/20",
                    "11/23/20",
                    "11/24/20",
                    "11/25/20",
                    "11/26/20",
                    "11/27/20",
                    "11/28/20",
                    "11/29/20",
                    "11/30/20",
                    "12/1/20",
                    "12/2/20",
                    "12/3/20",
                    "12/4/20",
                    "12/5/20",
                    "12/6/20",
                    "12/7/20",
                    "12/8/20",
                    "12/9/20",
                    "12/10/20",
                    "12/11/20",
                    "12/12/20",
                    "12/13/20",
                    "12/14/20",
                    "12/15/20",
                    "12/16/20",
                    "12/17/20",
                    "12/18/20",
                    "12/19/20",
                    "12/20/20",
                    "12/21/20",
                    "12/22/20",
                    "12/23/20",
                    "12/24/20",
                    "12/25/20",
                    "12/26/20",
                    "12/27/20",
                    "12/28/20",
                    "12/29/20",
                    "12/30/20",
                    "12/31/20",
                    "1/1/21",
                    "1/2/21",
                    "1/3/21",
                    "1/4/21",
                    "1/5/21",
                    "1/6/21",
                    "1/7/21",
                    "1/8/21",
                    "1/9/21",
                    "1/10/21",
                    "1/11/21",
                    "1/12/21",
                    "1/13/21",
                    "1/14/21",
                    "1/15/21",
                    "1/16/21",
                    "1/17/21",
                    "1/18/21",
                    "1/19/21",
                    "1/20/21",
                    "1/21/21",
                    "1/22/21",
                    "1/23/21",
                    "1/24/21",
                    "1/25/21",
                    "1/26/21",
                    "1/27/21",
                    "1/28/21",
                    "1/29/21",
                    "1/30/21",
                    "1/31/21",
                    "2/1/21",
                    "2/2/21",
                    "2/3/21",
                    "2/4/21",
                    "2/5/21",
                    "2/6/21",
                    "2/7/21",
                    "2/8/21",
                    "2/9/21",
                    "2/10/21",
                    "2/11/21",
                    "2/12/21",
                    "2/13/21",
                    "2/14/21",
                    "2/15/21",
                    "2/16/21",
                    "2/17/21",
                    "2/18/21",
                    "2/19/21",
                    "2/20/21",
                    "2/21/21",
                    "2/22/21",
                    "2/23/21",
                    "2/24/21",
                    "2/25/21",
                    "2/26/21",
                    "2/27/21",
                    "2/28/21",
                    "3/1/21",
                    "3/2/21",
                    "3/3/21",
                    "3/4/21",
                    "3/5/21",
                    "3/6/21",
                    "3/7/21",
                    "3/8/21",
                    "3/9/21",
                    "3/10/21",
                    "3/11/21",
                    "3/12/21",
                    "3/13/21",
                    "3/14/21",
                    "3/15/21",
                    "3/16/21",
                    "3/17/21",
                    "3/18/21",
                    "3/19/21",
                    "3/20/21",
                    "3/21/21",
                    "3/22/21",
                    "3/23/21",
                    "3/24/21",
                    "3/25/21",
                    "3/26/21",
                    "3/27/21",
                    "3/28/21",
                    "3/29/21",
                    "3/30/21",
                    "3/31/21",
                    "4/1/21",
                    "4/2/21",
                    "4/3/21",
                    "4/4/21",
                    "4/5/21",
                    "4/6/21",
                    "4/7/21",
                    "4/8/21",
                    "4/9/21",
                    "4/10/21",
                    "4/11/21",
                    "4/12/21",
                    "4/13/21",
                    "4/14/21",
                    "4/15/21",
                    "4/16/21",
                    "4/17/21",
                    "4/18/21",
                    "4/19/21",
                    "4/20/21",
                    "4/21/21",
                    "4/22/21",
                    "4/23/21",
                    "4/24/21",
                    "4/25/21",
                    "4/26/21",
                    "4/27/21",
                    "4/28/21",
                    "4/29/21",
                    "4/30/21",
                    "5/1/21",
                    "5/2/21",
                    "5/3/21",
                    "5/4/21",
                    "5/5/21",
                    "5/6/21",
                    "5/7/21",
                    "5/8/21",
                    "5/9/21",
                    "5/10/21",
                    "5/11/21",
                    "5/12/21",
                    "5/13/21",
                    "5/14/21",
                    "5/15/21",
                    "5/16/21",
                    "5/17/21",
                    "5/18/21",
                    "5/19/21",
                    "5/20/21",
                    "5/21/21",
                    "5/22/21",
                    "5/23/21",
                    "5/24/21",
                    "5/25/21",
                    "5/26/21",
                    "5/27/21",
                    "5/28/21",
                    "5/29/21",
                    "5/30/21",
                    "5/31/21",
                    "6/1/21",
                    "6/2/21",
                    "6/3/21",
                    "6/4/21",
                    "6/5/21",
                    "6/6/21",
                    "6/7/21",
                    "6/8/21",
                    "6/9/21",
                    "6/10/21",
                    "6/11/21",
                    "6/12/21",
                    "6/13/21",
                    "6/14/21",
                    "6/15/21",
                    "6/16/21",
                    "6/17/21",
                    "6/18/21",
                    "6/19/21",
                    "6/20/21",
                    "6/21/21",
                    "6/22/21",
                    "6/23/21",
                    "6/24/21",
                    "6/25/21",
                    "6/26/21",
                    "6/27/21",
                    "6/28/21",
                    "6/29/21",
                    "6/30/21",
                    "7/1/21",
                    "7/2/21",
                    "7/3/21",
                    "7/4/21",
                    "7/5/21",
                    "7/6/21",
                    "7/7/21",
                    "7/8/21",
                    "7/9/21",
                    "7/10/21",
                    "7/11/21",
                    "7/12/21",
                    "7/13/21",
                    "7/14/21",
                    "7/15/21",
                    "7/16/21",
                    "7/17/21",
                    "7/18/21",
                    "7/19/21",
                    "7/20/21",
                    "7/21/21",
                    "7/22/21",
                    "7/23/21",
                    "7/24/21",
                    "7/25/21",
                    "7/26/21",
                    "7/27/21",
                    "7/28/21",
                    "7/29/21",
                    "7/30/21",
                    "7/31/21",
                    "8/1/21",
                    "8/2/21",
                    "8/3/21",
                    "8/4/21",
                    "8/5/21",
                    "8/6/21",
                    "8/7/21",
                    "8/8/21",
                    "8/9/21",
                    "8/10/21",
                    "8/11/21",
                    "8/12/21",
                    "8/13/21",
                    "8/14/21",
                    "8/15/21",
                    "8/16/21",
                    "8/17/21",
                    "8/18/21",
                    "8/19/21",
                    "8/20/21",
                    "8/21/21",
                    "8/22/21",
                    "8/23/21",
                    "8/24/21",
                    "8/25/21",
                    "8/26/21",
                    "8/27/21",
                    "8/28/21",
                    "8/29/21",
                    "8/30/21",
                    "8/31/21",
                    "9/1/21",
                    "9/2/21",
                    "9/3/21",
                    "9/4/21",
                    "9/5/21",
                    "9/6/21",
                    "9/7/21",
                    "9/8/21",
                    "9/9/21",
                    "9/10/21",
                    "9/11/21",
                    "9/12/21",
                    "9/13/21",
                    "9/14/21",
                    "9/15/21",
                    "9/16/21",
                    "9/17/21",
                    "9/18/21",
                    "9/19/21",
                    "9/20/21",
                    "9/21/21",
                    "9/22/21",
                    "9/23/21",
                    "9/24/21",
                    "9/25/21",
                    "9/26/21",
                    "9/27/21",
                    "9/28/21",
                    "9/29/21",
                    "9/30/21",
                    "10/1/21",
                    "10/2/21",
                    "10/3/21",
                    "10/4/21",
                    "10/5/21",
                    "10/6/21",
                    "10/7/21",
                    "10/8/21",
                    "10/9/21",
                    "10/10/21",
                    "10/11/21",
                    "10/12/21",
                    "10/13/21",
                    "10/14/21",
                    "10/15/21",
                    "10/16/21",
                    "10/17/21",
                    "10/18/21",
                    "10/19/21",
                    "10/20/21",
                    "10/21/21",
                    "10/22/21",
                    "10/23/21",
                    "10/24/21",
                    "10/25/21",
                    "10/26/21",
                    "10/27/21",
                    "10/28/21",
                    "10/29/21",
                    "10/30/21",
                    "10/31/21",
                    "11/1/21",
                    "11/2/21",
                    "11/3/21",
                    "11/4/21",
                    "11/5/21",
                    "11/6/21",
                    "11/7/21",
                    "11/8/21",
                    "11/9/21",
                    "11/10/21",
                    "11/11/21",
                    "11/12/21",
                    "11/13/21",
                    "11/14/21",
                    "11/15/21",
                    "11/16/21",
                    "11/17/21",
                    "11/18/21",
                    "11/19/21",
                    "11/20/21",
                    "11/21/21",
                    "11/22/21",
                    "11/23/21",
                    "11/24/21",
                    "11/25/21",
                    "11/26/21",
                    "11/27/21",
                    "11/28/21",
                    "11/29/21",
                    "11/30/21",
                    "12/1/21",
                    "12/2/21",
                    "12/3/21",
                    "12/4/21",
                    "12/5/21",
                    "12/6/21",
                    "12/7/21",
                    "12/8/21",
                    "12/9/21",
                    "12/10/21",
                    "12/11/21",
                    "12/12/21",
                    "12/13/21",
                    "12/14/21",
                    "12/15/21",
                    "12/16/21",
                    "12/17/21",
                    "12/18/21",
                    "12/19/21",
                    "12/20/21",
                    "12/21/21",
                    "12/22/21",
                    "12/23/21",
                    "12/24/21",
                    "12/25/21",
                    "12/26/21",
                    "12/27/21",
                    "12/28/21",
                    "12/29/21",
                    "12/30/21",
                    "12/31/21",
                    "1/1/22",
                    "1/2/22",
                    "1/3/22",
                    "1/4/22",
                    "1/5/22",
                    "1/6/22",
                    "1/7/22",
                    "1/8/22",
                    "1/9/22",
                    "1/10/22",
                    "1/11/22",
                    "1/12/22",
                    "1/13/22",
                    "1/14/22",
                    "1/15/22",
                    "1/16/22",
                    "1/17/22",
                    "1/18/22",
                    "1/19/22",
                    "1/20/22",
                    "1/21/22",
                    "1/22/22",
                    "1/23/22",
                    "1/24/22",
                    "1/25/22",
                    "1/26/22",
                    "1/27/22",
                    "1/28/22",
                    "1/29/22",
                    "1/30/22",
                    "1/31/22",
                    "2/1/22",
                    "2/2/22",
                    "2/3/22",
                    "2/4/22",
                    "2/5/22",
                    "2/6/22",
                    "2/7/22",
                    "2/8/22",
                    "2/9/22",
                    "2/10/22",
                    "2/11/22",
                    "2/12/22",
                    "2/13/22",
                    "2/14/22",
                    "2/15/22",
                    "2/16/22",
                    "2/17/22",
                    "2/18/22",
                    "2/19/22",
                    "2/20/22",
                    "2/21/22",
                    "2/22/22",
                    "2/23/22",
                    "2/24/22",
                    "2/25/22",
                    "2/26/22",
                    "2/27/22",
                    "2/28/22",
                    "3/1/22",
                    "3/2/22",
                    "3/3/22",
                    "3/4/22",
                    "3/5/22",
                    "3/6/22",
                    "3/7/22",
                    "3/8/22",
                    "3/9/22",
                    "3/10/22",
                    "3/11/22",
                    "3/12/22",
                    "3/13/22",
                    "3/14/22",
                    "3/15/22",
                    "3/16/22",
                    "3/17/22",
                    "3/18/22",
                    "3/19/22",
                    "3/20/22",
                    "3/21/22",
                    "3/22/22",
                    "3/23/22",
                    "3/24/22",
                    "3/25/22",
                    "3/26/22",
                    "3/27/22",
                    "3/28/22",
                    "3/29/22",
                    "3/30/22",
                    "3/31/22",
                    "4/1/22",
                    "4/2/22",
                    "4/3/22",
                    "4/4/22",
                    "4/5/22",
                    "4/6/22",
                    "4/7/22",
                    "4/8/22",
                    "4/9/22",
                    "4/10/22",
                    "4/11/22",
                    "4/12/22",
                    "4/13/22",
                    "4/14/22",
                    "4/15/22",
                    "4/16/22",
                    "4/17/22",
                    "4/18/22",
                    "4/19/22",
                    "4/20/22",
                    "4/21/22",
                    "4/22/22",
                    "4/23/22",
                    "4/24/22",
                    "4/25/22",
                    "4/26/22",
                    "4/27/22",
                    "4/28/22",
                    "4/29/22",
                    "4/30/22",
                    "5/1/22",
                    "5/2/22",
                    "5/3/22",
                    "5/4/22",
                    "5/5/22",
                    "5/6/22",
                    "5/7/22",
                    "5/8/22",
                    "5/9/22",
                    "5/10/22",
                    "5/11/22",
                    "5/12/22",
                    "5/13/22",
                    "5/14/22",
                    "5/15/22",
                    "5/16/22",
                    "5/17/22",
                    "5/18/22",
                    "5/19/22",
                    "5/20/22",
                    "5/21/22",
                    "5/22/22",
                    "5/23/22",
                    "5/24/22",
                    "5/25/22",
                    "5/26/22",
                    "5/27/22",
                    "5/28/22",
                    "5/29/22",
                    "5/30/22",
                    "5/31/22",
                    "6/1/22",
                    "6/2/22",
                    "6/3/22",
                    "6/4/22",
                    "6/5/22",
                    "6/6/22",
                    "6/7/22",
                    "6/8/22",
                    "6/9/22",
                    "6/10/22",
                    "6/11/22",
                    "6/12/22",
                    "6/13/22",
                    "6/14/22",
                    "6/15/22",
                    "6/16/22",
                    "6/17/22",
                    "6/18/22",
                    "6/19/22",
                    "6/20/22",
                    "6/21/22",
                    "6/22/22",
                    "6/23/22",
                    "6/24/22",
                    "6/25/22",
                    "6/26/22",
                    "6/27/22",
                    "6/28/22",
                    "6/29/22",
                    "6/30/22",
                    "7/1/22",
                    "7/2/22",
                    "7/3/22",
                    "7/4/22",
                    "7/5/22",
                    "7/6/22",
                    "7/7/22",
                    "7/8/22",
                    "7/9/22",
                    "7/10/22",
                    "7/11/22",
                    "7/12/22",
                    "7/13/22",
                    "7/14/22",
                    "7/15/22",
                    "7/16/22",
                    "7/17/22",
                    "7/18/22",
                    "7/19/22",
                    "7/20/22",
                    "7/21/22",
                    "7/22/22",
                    "7/23/22",
                    "7/24/22",
                    "7/25/22",
                    "7/26/22",
                    "7/27/22",
                    "7/28/22",
                    "7/29/22",
                    "7/30/22",
                    "7/31/22",
                    "8/1/22",
                    "8/2/22",
                    "8/3/22",
                    "8/4/22",
                    "8/5/22",
                    "8/6/22",
                    "8/7/22",
                    "8/8/22",
                    "8/9/22",
                    "8/10/22",
                    "8/11/22",
                    "8/12/22",
                    "8/13/22",
                    "8/14/22",
                    "8/15/22",
                    "8/16/22",
                    "8/17/22",
                    "8/18/22",
                    "8/19/22",
                    "8/20/22",
                    "8/21/22",
                    "8/22/22",
                    "8/23/22",
                    "8/24/22",
                    "8/25/22",
                    "8/26/22",
                    "8/27/22",
                    "8/28/22",
                    "8/29/22",
                    "8/30/22",
                    "8/31/22",
                    "9/1/22",
                    "9/2/22",
                    "9/3/22",
                    "9/4/22",
                    "9/5/22",
                    "9/6/22",
                    "9/7/22",
                    "9/8/22",
                    "9/9/22",
                    "9/10/22",
                    "9/11/22",
                    "9/12/22",
                    "9/13/22",
                    "9/14/22",
                    "9/15/22",
                    "9/16/22",
                    "9/17/22",
                    "9/18/22",
                    "9/19/22",
                    "9/20/22",
                    "9/21/22",
                    "9/22/22",
                    "9/23/22",
                    "9/24/22",
                    "9/25/22",
                    "9/26/22",
                    "9/27/22",
                    "9/28/22",
                    "9/29/22",
                    "9/30/22",
                    "10/1/22",
                    "10/2/22",
                    "10/3/22",
                    "10/4/22",
                    "10/5/22",
                    "10/6/22",
                    "10/7/22",
                    "10/8/22",
                    "10/9/22",
                    "10/10/22",
                    "10/11/22",
                    "10/12/22",
                    "10/13/22",
                    "10/14/22",
                    "10/15/22",
                    "10/16/22",
                    "10/17/22",
                    "10/18/22",
                    "10/19/22",
                    "10/20/22",
                    "10/21/22",
                    "10/22/22",
                    "10/23/22",
                    "10/24/22",
                    "10/25/22",
                    "10/26/22",
                    "10/27/22",
                    "10/28/22",
                    "10/29/22",
                    "10/30/22",
                    "10/31/22",
                    "11/1/22",
                    "11/2/22",
                    "11/3/22",
                    "11/4/22",
                    "11/5/22",
                    "11/6/22",
                    "11/7/22",
                    "11/8/22",
                    "11/9/22",
                    "11/10/22",
                    "11/11/22",
                    "11/12/22",
                    "11/13/22",
                    "11/14/22",
                    "11/15/22",
                    "11/16/22",
                    "11/17/22",
                    "11/18/22",
                    "11/19/22",
                    "11/20/22",
                    "11/21/22",
                    "11/22/22",
                    "11/23/22",
                    "11/24/22",
                    "11/25/22",
                    "11/26/22",
                    "11/27/22",
                    "11/28/22",
                    "11/29/22",
                    "11/30/22",
                    "12/1/22",
                    "12/2/22",
                    "12/3/22",
                    "12/4/22",
                    "12/5/22",
                    "12/6/22",
                    "12/7/22",
                    "12/8/22",
                    "12/9/22",
                    "12/10/22",
                    "12/11/22",
                    "12/12/22",
                    "12/13/22",
                    "12/14/22",
                    "12/15/22",
                    "12/16/22",
                    "12/17/22",
                    "12/18/22",
                    "12/19/22",
                    "12/20/22",
                    "12/21/22",
                    "12/22/22",
                    "12/23/22",
                    "12/24/22",
                    "12/25/22",
                    "12/26/22",
                    "12/27/22",
                    "12/28/22",
                    "12/29/22",
                    "12/30/22",
                    "12/31/22",
                    "1/1/23",
                    "1/2/23",
                    "1/3/23",
                    "1/4/23",
                    "1/5/23",
                    "1/6/23",
                    "1/7/23",
                    "1/8/23",
                    "1/9/23",
                    "1/10/23",
                    "1/11/23",
                    "1/12/23",
                    "1/13/23",
                    "1/14/23",
                    "1/15/23",
                    "1/16/23",
                    "1/17/23",
                    "1/18/23",
                    "1/19/23",
                    "1/20/23",
                    "1/21/23",
                    "1/22/23",
                    "1/23/23",
                    "1/24/23",
                    "1/25/23",
                    "1/26/23",
                    "1/27/23",
                    "1/28/23",
                    "1/29/23",
                    "1/30/23",
                    "1/31/23",
                    "2/1/23",
                    "2/2/23",
                    "2/3/23",
                    "2/4/23",
                    "2/5/23",
                    "2/6/23",
                    "2/7/23",
                    "2/8/23",
                    "2/9/23",
                    "2/10/23",
                    "2/11/23",
                    "2/12/23",
                    "2/13/23",
                    "2/14/23",
                    "2/15/23",
                    "2/16/23",
                    "2/17/23",
                    "2/18/23",
                    "2/19/23",
                    "2/20/23",
                    "2/21/23",
                    "2/22/23",
                    "2/23/23",
                    "2/24/23",
                    "2/25/23",
                    "2/26/23",
                    "2/27/23",
                    "2/28/23",
                    "3/1/23",
                    "3/2/23",
                    "3/3/23",
                    "3/4/23",
                    "3/5/23",
                    "3/6/23",
                    "3/7/23",
                    "3/8/23",
                    "3/9/23"
                  ],
                  "xaxis": "x",
                  "y": [
                    944,
                    1437,
                    2120,
                    2929,
                    5580,
                    6169,
                    8237,
                    9927,
                    12038,
                    16787,
                    19887,
                    23899,
                    27644,
                    30806,
                    34400,
                    37131,
                    40162,
                    42771,
                    44814,
                    45232,
                    60384,
                    66912,
                    69055,
                    71238,
                    73273,
                    75155,
                    75655,
                    76216,
                    76846,
                    78608,
                    78990,
                    79558,
                    80412,
                    81384,
                    82728,
                    84152,
                    86023,
                    88402,
                    90382,
                    92994,
                    95338,
                    98078,
                    102062,
                    106199,
                    109997,
                    114292,
                    119051,
                    126527,
                    133283,
                    146477,
                    157365,
                    168598,
                    183165,
                    198339,
                    215900,
                    242987,
                    272517,
                    304944,
                    339156,
                    381711,
                    423594,
                    475075,
                    535889,
                    599820,
                    669402,
                    725918,
                    790929,
                    869371,
                    955728,
                    1038176,
                    1122386,
                    1182507,
                    1254222,
                    1328948,
                    1397886,
                    1480062,
                    1567243,
                    1653665,
                    1729180,
                    1847761,
                    1919593,
                    2004226,
                    2082482,
                    2176950,
                    2264830,
                    2343082,
                    2419404,
                    2495886,
                    2571973,
                    2654011,
                    2736728,
                    2820291,
                    2903496,
                    2974291,
                    3045275,
                    3121107,
                    3198435,
                    3282087,
                    3371033,
                    3449295,
                    3523292,
                    3600929,
                    3680614,
                    3771036,
                    3860174,
                    3950657,
                    4035000,
                    4110223,
                    4186364,
                    4271644,
                    4355992,
                    4451634,
                    4547536,
                    4641426,
                    4719789,
                    4808921,
                    4904739,
                    5010162,
                    5116135,
                    5223477,
                    5327627,
                    5420843,
                    5509066,
                    5601428,
                    5703984,
                    5823977,
                    5945413,
                    6080456,
                    6183316,
                    6283580,
                    6406221,
                    6517437,
                    6655667,
                    6789073,
                    6918403,
                    7029415,
                    7132463,
                    7258445,
                    7395607,
                    7531793,
                    7659267,
                    7793175,
                    7925122,
                    8050034,
                    8193933,
                    8337135,
                    8480229,
                    8661225,
                    8847108,
                    8940170,
                    9082502,
                    9250625,
                    9422061,
                    9601576,
                    9794066,
                    9970478,
                    10138935,
                    10291617,
                    10475388,
                    10690516,
                    10895486,
                    11098124,
                    11287838,
                    11474058,
                    11642331,
                    11851900,
                    12067186,
                    12291782,
                    12524663,
                    12737483,
                    12930415,
                    13124893,
                    13345920,
                    13575706,
                    13820618,
                    14058038,
                    14293379,
                    14505270,
                    14713414,
                    14956435,
                    15231791,
                    15511422,
                    15794928,
                    16044485,
                    16256294,
                    16490680,
                    16754567,
                    17024801,
                    17306582,
                    17594044,
                    17840315,
                    18070926,
                    18276983,
                    18542287,
                    18817443,
                    19104145,
                    19386579,
                    19651806,
                    19884801,
                    20118013,
                    20383576,
                    20658646,
                    20948740,
                    21255813,
                    21504839,
                    21714880,
                    21927762,
                    22187166,
                    22464640,
                    22736119,
                    22998072,
                    23261601,
                    23464360,
                    23692460,
                    23937668,
                    24219359,
                    24506622,
                    24790561,
                    25051295,
                    25271033,
                    25535340,
                    25802224,
                    26084114,
                    26369544,
                    26671276,
                    26944997,
                    27173995,
                    27391278,
                    27637790,
                    27923100,
                    28227493,
                    28543855,
                    28832580,
                    29081415,
                    29348555,
                    29629107,
                    29934059,
                    30249632,
                    30576278,
                    30869397,
                    31124526,
                    31384435,
                    31668754,
                    31980407,
                    32301360,
                    32631974,
                    32918085,
                    33165079,
                    33426328,
                    33709128,
                    34033675,
                    34352787,
                    34682292,
                    34979647,
                    35240179,
                    35551524,
                    35867647,
                    36216841,
                    36576162,
                    36936565,
                    37292089,
                    37581583,
                    37871608,
                    38190980,
                    38571764,
                    38978760,
                    39389280,
                    39761413,
                    40092656,
                    40467606,
                    40856480,
                    41296091,
                    41778168,
                    42272069,
                    42728414,
                    43087247,
                    43570291,
                    44038754,
                    44560523,
                    45111898,
                    45683640,
                    46155745,
                    46594934,
                    47143303,
                    47708817,
                    48200961,
                    48820295,
                    49443478,
                    50042669,
                    50533518,
                    51043324,
                    51614069,
                    52238734,
                    52878929,
                    53539863,
                    54126889,
                    54617117,
                    55142751,
                    55745063,
                    56367328,
                    57021314,
                    57695345,
                    58287916,
                    58785996,
                    59320006,
                    59910792,
                    60527871,
                    61117132,
                    61812474,
                    62420041,
                    62915662,
                    63422239,
                    64037142,
                    64677389,
                    65367986,
                    66064345,
                    66706697,
                    67250638,
                    67785484,
                    68416150,
                    69081500,
                    70576907,
                    71282658,
                    71931348,
                    72470142,
                    73021298,
                    73669919,
                    74387461,
                    75126063,
                    75847501,
                    76483006,
                    77030307,
                    77576529,
                    78227986,
                    78910081,
                    79603472,
                    80096696,
                    80629340,
                    81042534,
                    81541719,
                    82213594,
                    82938894,
                    83778622,
                    84342314,
                    84946690,
                    85467020,
                    86024461,
                    86765351,
                    87556264,
                    88426222,
                    89261637,
                    90017904,
                    90619443,
                    91233917,
                    91926453,
                    92669726,
                    93428784,
                    94212637,
                    94869509,
                    95397119,
                    95914366,
                    96507148,
                    97194354,
                    97863110,
                    98526596,
                    99103312,
                    99565294,
                    100046846,
                    100608158,
                    101209122,
                    101824237,
                    102413219,
                    102928083,
                    103324692,
                    103767694,
                    104233148,
                    104758397,
                    105230171,
                    105766676,
                    106201874,
                    106553422,
                    106893339,
                    107300629,
                    107741093,
                    108184860,
                    108614449,
                    108994937,
                    109303582,
                    109584404,
                    109944197,
                    110330576,
                    110741376,
                    111151038,
                    111526248,
                    111845811,
                    112141380,
                    112534122,
                    112979052,
                    113432016,
                    113873956,
                    114270693,
                    114578478,
                    114883979,
                    115197242,
                    115639088,
                    116097496,
                    116546593,
                    116960620,
                    117335064,
                    117640533,
                    118054577,
                    118513444,
                    119003124,
                    119492372,
                    119947968,
                    120313043,
                    120667127,
                    121134161,
                    121679877,
                    122227806,
                    122790345,
                    123288792,
                    123729261,
                    124150452,
                    124656291,
                    125285990,
                    125938183,
                    126578225,
                    127162758,
                    127655412,
                    128114688,
                    128676894,
                    129350790,
                    130060609,
                    130705394,
                    131245744,
                    131805666,
                    132302655,
                    132910149,
                    133573288,
                    134409344,
                    135156662,
                    135827306,
                    136536918,
                    137150764,
                    137914588,
                    138725902,
                    139547133,
                    140406983,
                    141200970,
                    141901080,
                    142592012,
                    143431609,
                    144320851,
                    145220252,
                    146127911,
                    146952141,
                    147680627,
                    148369677,
                    149208799,
                    150107590,
                    151001625,
                    151892994,
                    152687904,
                    153375175,
                    154065632,
                    154850588,
                    155692589,
                    156565435,
                    157400261,
                    158188559,
                    158837968,
                    159463612,
                    160189411,
                    160956898,
                    161691597,
                    162401162,
                    163032774,
                    163579396,
                    164122938,
                    164742576,
                    165414621,
                    165696927,
                    166323402,
                    166895763,
                    167377386,
                    167828464,
                    168361871,
                    168930299,
                    169477196,
                    169982707,
                    170463127,
                    170853074,
                    171240130,
                    171700134,
                    172187762,
                    172668261,
                    173093152,
                    173489803,
                    173812784,
                    174134551,
                    174504668,
                    174922960,
                    175376464,
                    175798501,
                    176166881,
                    176469682,
                    176778984,
                    177153741,
                    177542916,
                    177938911,
                    178342418,
                    178689716,
                    178994480,
                    179291135,
                    179701349,
                    180097972,
                    180507231,
                    180924899,
                    181287796,
                    181599032,
                    181932050,
                    182313258,
                    182712726,
                    183148268,
                    183590610,
                    183964437,
                    184292181,
                    184670098,
                    185120629,
                    185585871,
                    186067750,
                    186580986,
                    187002099,
                    187371991,
                    187806155,
                    188331814,
                    188869796,
                    189446223,
                    190042161,
                    190531011,
                    190951220,
                    191440687,
                    191973106,
                    192529214,
                    193094403,
                    193822543,
                    194254462,
                    194700076,
                    195240703,
                    195847033,
                    196497116,
                    197139985,
                    197872339,
                    198389684,
                    198872752,
                    199443855,
                    200078130,
                    200758588,
                    201444210,
                    202263736,
                    202825005,
                    203292722,
                    203911805,
                    204557617,
                    205288310,
                    205994052,
                    206795847,
                    207348758,
                    207815449,
                    208479793,
                    209162480,
                    209898123,
                    210609857,
                    211395070,
                    211954124,
                    212402204,
                    213086398,
                    213763171,
                    214500582,
                    215237031,
                    215988154,
                    216545334,
                    216992164,
                    217664015,
                    218284677,
                    219003757,
                    219680532,
                    220404105,
                    220900816,
                    221347788,
                    221825561,
                    222482051,
                    223119762,
                    223759907,
                    224418618,
                    224887140,
                    225258543,
                    225836445,
                    226386274,
                    226953125,
                    227540479,
                    228163698,
                    228687569,
                    229050966,
                    229581157,
                    230069837,
                    230604815,
                    231152445,
                    231701691,
                    232075693,
                    232431512,
                    232914281,
                    233365258,
                    233856235,
                    234346132,
                    234868134,
                    235218776,
                    235527819,
                    235974883,
                    236397732,
                    236904785,
                    237366619,
                    237842039,
                    238182243,
                    238498696,
                    238886684,
                    239324892,
                    239781314,
                    240234710,
                    240692696,
                    241034054,
                    241347355,
                    241775141,
                    242206709,
                    242683018,
                    243145068,
                    243637892,
                    244008150,
                    244317353,
                    244769753,
                    245196224,
                    245710221,
                    246193247,
                    246687330,
                    247061943,
                    247410790,
                    247868435,
                    248272884,
                    248797676,
                    249315133,
                    249839415,
                    250245164,
                    250585863,
                    251110911,
                    251580325,
                    252153854,
                    252674737,
                    253274490,
                    253670214,
                    254018493,
                    254620079,
                    255126904,
                    255742113,
                    256363770,
                    256978407,
                    257416423,
                    257796215,
                    258500870,
                    259093463,
                    259751368,
                    260348589,
                    260962280,
                    261381085,
                    261770875,
                    262513214,
                    263113681,
                    263816145,
                    264523382,
                    265254220,
                    265726430,
                    266146231,
                    266849953,
                    267489200,
                    268200544,
                    268898928,
                    269592462,
                    270059366,
                    270485916,
                    271179799,
                    271816596,
                    272556770,
                    273300997,
                    274068563,
                    274598505,
                    275083461,
                    275893527,
                    276652188,
                    277566671,
                    278578699,
                    279434799,
                    280116791,
                    280692270,
                    282033889,
                    283370260,
                    285075127,
                    287025253,
                    288728291,
                    289931428,
                    290849939,
                    293188320,
                    295801747,
                    298385756,
                    301054978,
                    304008616,
                    306145200,
                    308150282,
                    311401997,
                    314432404,
                    317879058,
                    321066163,
                    324382616,
                    326810379,
                    328981578,
                    331759391,
                    335523995,
                    339607276,
                    343341570,
                    347151687,
                    349801473,
                    352184811,
                    355817671,
                    359471485,
                    363233158,
                    366932890,
                    370611819,
                    373175361,
                    375352380,
                    379211855,
                    382341587,
                    385526232,
                    388720309,
                    391675874,
                    393779507,
                    395542316,
                    398516432,
                    401116122,
                    403549117,
                    406363391,
                    408788228,
                    410513339,
                    411919279,
                    413962163,
                    415832953,
                    418072759,
                    420135672,
                    422119106,
                    423596187,
                    424789720,
                    426495378,
                    428169102,
                    430086590,
                    431874501,
                    433528807,
                    434802795,
                    435854949,
                    437463827,
                    439062564,
                    440722439,
                    442497646,
                    444260070,
                    445550401,
                    446660147,
                    448401620,
                    449985919,
                    451976099,
                    453847080,
                    455719680,
                    457280387,
                    458418032,
                    460415942,
                    462225344,
                    464464205,
                    466542109,
                    468433636,
                    469913015,
                    470873843,
                    472753728,
                    474730951,
                    476534854,
                    478319055,
                    480078626,
                    481203035,
                    482053796,
                    483898093,
                    485649915,
                    487247590,
                    488810861,
                    490229883,
                    491102544,
                    491795689,
                    493029039,
                    494394436,
                    495614407,
                    496892754,
                    498067151,
                    498809406,
                    499371019,
                    500357346,
                    501476932,
                    502551958,
                    503514561,
                    504173546,
                    504728004,
                    505135766,
                    505593027,
                    506611148,
                    507572864,
                    508494564,
                    509326073,
                    509804848,
                    510170201,
                    510807207,
                    511586152,
                    512270545,
                    513029820,
                    513674263,
                    514028003,
                    514337424,
                    514784854,
                    515456909,
                    516084404,
                    516684038,
                    517314925,
                    517654258,
                    517933111,
                    518623538,
                    519264799,
                    519959508,
                    520612153,
                    521185114,
                    521623840,
                    521997492,
                    522587922,
                    523196288,
                    523956899,
                    524552967,
                    525179079,
                    525546242,
                    525862056,
                    526355204,
                    526949796,
                    527593755,
                    528096493,
                    528666149,
                    528995178,
                    529271873,
                    529616224,
                    530241569,
                    530939976,
                    531470716,
                    532014270,
                    532267351,
                    532530338,
                    532965247,
                    533576907,
                    534283486,
                    534848531,
                    535405294,
                    535689085,
                    535887333,
                    536415150,
                    537272203,
                    537994296,
                    538577138,
                    539110151,
                    539338742,
                    539607241,
                    540362445,
                    541178509,
                    541984328,
                    542767959,
                    543545293,
                    543862216,
                    544148980,
                    545021364,
                    545963319,
                    546896134,
                    547974317,
                    548925491,
                    549284928,
                    549643412,
                    550495502,
                    551700794,
                    552926114,
                    553979237,
                    554985885,
                    555489725,
                    555912593,
                    556965871,
                    558188894,
                    559615969,
                    560618337,
                    561620875,
                    562173878,
                    562633320,
                    563831363,
                    565376142,
                    566978238,
                    568132310,
                    569227609,
                    569864429,
                    570415520,
                    571389219,
                    572585879,
                    574012504,
                    575128637,
                    576504042,
                    577080293,
                    577625050,
                    578498268,
                    579688847,
                    580844327,
                    582298507,
                    583199840,
                    584378161,
                    584876085,
                    585692322,
                    586732558,
                    587759595,
                    588765069,
                    589518048,
                    590154612,
                    590615366,
                    591470649,
                    592553956,
                    593544473,
                    594489234,
                    595290702,
                    595865130,
                    596349664,
                    597060819,
                    597949972,
                    598834543,
                    599699548,
                    600401903,
                    600854582,
                    601260827,
                    601837965,
                    602585861,
                    603339040,
                    604018804,
                    604676287,
                    605052969,
                    605423358,
                    605881148,
                    606554997,
                    607171546,
                    607755506,
                    608281134,
                    608594366,
                    608908659,
                    609393741,
                    609942218,
                    610640243,
                    611251541,
                    611707437,
                    612002534,
                    612257111,
                    612673963,
                    613227572,
                    613745750,
                    614365390,
                    614883451,
                    615148616,
                    615371539,
                    615794219,
                    616393758,
                    616943716,
                    617587849,
                    618060372,
                    618301429,
                    618502138,
                    618822004,
                    619422193,
                    620005197,
                    620645800,
                    621221027,
                    621440044,
                    621658996,
                    622112629,
                    622802836,
                    623353219,
                    624016113,
                    624494008,
                    624712097,
                    624904267,
                    625380762,
                    626009472,
                    626536431,
                    627131819,
                    627563033,
                    627745374,
                    627906174,
                    628292158,
                    628887107,
                    629354131,
                    629825004,
                    630188852,
                    630387961,
                    630555274,
                    630855587,
                    631257223,
                    631605553,
                    632099160,
                    632543650,
                    632744972,
                    632931615,
                    633236212,
                    633687028,
                    634121053,
                    634581453,
                    635069827,
                    635312334,
                    635495843,
                    635842682,
                    636346431,
                    636832747,
                    637312096,
                    637942820,
                    638190175,
                    638412606,
                    638754188,
                    639328415,
                    639919189,
                    640339580,
                    641037771,
                    641308397,
                    641571858,
                    641977647,
                    642708342,
                    643244123,
                    643950364,
                    644711955,
                    645011864,
                    645269011,
                    645774500,
                    646399010,
                    647032502,
                    647841604,
                    648512056,
                    648786733,
                    649085967,
                    649658720,
                    650436793,
                    651122541,
                    651873247,
                    652605304,
                    652905777,
                    653189501,
                    653775912,
                    654484792,
                    655205564,
                    655963530,
                    656604975,
                    656949354,
                    657135648,
                    657655053,
                    658309208,
                    658946340,
                    659617625,
                    660199728,
                    660463792,
                    660778387,
                    661198108,
                    661660893,
                    662231345,
                    662966595,
                    663685449,
                    664042494,
                    664369944,
                    664718936,
                    665113877,
                    665620426,
                    666097539,
                    666533383,
                    666754735,
                    666951599,
                    667166217,
                    667518310,
                    667896028,
                    668220526,
                    668562246,
                    668715650,
                    668830077,
                    669001131,
                    669272951,
                    669567171,
                    669848920,
                    670086844,
                    670220207,
                    670344054,
                    670503932,
                    670734589,
                    671032404,
                    671291489,
                    671529548,
                    671632287,
                    671721476,
                    671867463,
                    672065240,
                    672295338,
                    672554241,
                    672696324,
                    672828531,
                    672906177,
                    673044131,
                    673237731,
                    673477639,
                    673685532,
                    673878833,
                    673969796,
                    674056229,
                    674143589,
                    674323721,
                    674569824,
                    674790916,
                    674933342,
                    674978793,
                    675044414,
                    675171439,
                    675322238,
                    675542852,
                    675731911,
                    675914580,
                    675968775,
                    676024901,
                    676082941,
                    676213378,
                    676392824,
                    676570149
                  ],
                  "yaxis": "y"
                }
              ],
              "layout": {
                "barmode": "relative",
                "legend": {
                  "tracegroupgap": 0
                },
                "template": {
                  "data": {
                    "bar": [
                      {
                        "error_x": {
                          "color": "#2a3f5f"
                        },
                        "error_y": {
                          "color": "#2a3f5f"
                        },
                        "marker": {
                          "line": {
                            "color": "#E5ECF6",
                            "width": 0.5
                          },
                          "pattern": {
                            "fillmode": "overlay",
                            "size": 10,
                            "solidity": 0.2
                          }
                        },
                        "type": "bar"
                      }
                    ],
                    "barpolar": [
                      {
                        "marker": {
                          "line": {
                            "color": "#E5ECF6",
                            "width": 0.5
                          },
                          "pattern": {
                            "fillmode": "overlay",
                            "size": 10,
                            "solidity": 0.2
                          }
                        },
                        "type": "barpolar"
                      }
                    ],
                    "carpet": [
                      {
                        "aaxis": {
                          "endlinecolor": "#2a3f5f",
                          "gridcolor": "white",
                          "linecolor": "white",
                          "minorgridcolor": "white",
                          "startlinecolor": "#2a3f5f"
                        },
                        "baxis": {
                          "endlinecolor": "#2a3f5f",
                          "gridcolor": "white",
                          "linecolor": "white",
                          "minorgridcolor": "white",
                          "startlinecolor": "#2a3f5f"
                        },
                        "type": "carpet"
                      }
                    ],
                    "choropleth": [
                      {
                        "colorbar": {
                          "outlinewidth": 0,
                          "ticks": ""
                        },
                        "type": "choropleth"
                      }
                    ],
                    "contour": [
                      {
                        "colorbar": {
                          "outlinewidth": 0,
                          "ticks": ""
                        },
                        "colorscale": [
                          [
                            0,
                            "#0d0887"
                          ],
                          [
                            0.1111111111111111,
                            "#46039f"
                          ],
                          [
                            0.2222222222222222,
                            "#7201a8"
                          ],
                          [
                            0.3333333333333333,
                            "#9c179e"
                          ],
                          [
                            0.4444444444444444,
                            "#bd3786"
                          ],
                          [
                            0.5555555555555556,
                            "#d8576b"
                          ],
                          [
                            0.6666666666666666,
                            "#ed7953"
                          ],
                          [
                            0.7777777777777778,
                            "#fb9f3a"
                          ],
                          [
                            0.8888888888888888,
                            "#fdca26"
                          ],
                          [
                            1,
                            "#f0f921"
                          ]
                        ],
                        "type": "contour"
                      }
                    ],
                    "contourcarpet": [
                      {
                        "colorbar": {
                          "outlinewidth": 0,
                          "ticks": ""
                        },
                        "type": "contourcarpet"
                      }
                    ],
                    "heatmap": [
                      {
                        "colorbar": {
                          "outlinewidth": 0,
                          "ticks": ""
                        },
                        "colorscale": [
                          [
                            0,
                            "#0d0887"
                          ],
                          [
                            0.1111111111111111,
                            "#46039f"
                          ],
                          [
                            0.2222222222222222,
                            "#7201a8"
                          ],
                          [
                            0.3333333333333333,
                            "#9c179e"
                          ],
                          [
                            0.4444444444444444,
                            "#bd3786"
                          ],
                          [
                            0.5555555555555556,
                            "#d8576b"
                          ],
                          [
                            0.6666666666666666,
                            "#ed7953"
                          ],
                          [
                            0.7777777777777778,
                            "#fb9f3a"
                          ],
                          [
                            0.8888888888888888,
                            "#fdca26"
                          ],
                          [
                            1,
                            "#f0f921"
                          ]
                        ],
                        "type": "heatmap"
                      }
                    ],
                    "heatmapgl": [
                      {
                        "colorbar": {
                          "outlinewidth": 0,
                          "ticks": ""
                        },
                        "colorscale": [
                          [
                            0,
                            "#0d0887"
                          ],
                          [
                            0.1111111111111111,
                            "#46039f"
                          ],
                          [
                            0.2222222222222222,
                            "#7201a8"
                          ],
                          [
                            0.3333333333333333,
                            "#9c179e"
                          ],
                          [
                            0.4444444444444444,
                            "#bd3786"
                          ],
                          [
                            0.5555555555555556,
                            "#d8576b"
                          ],
                          [
                            0.6666666666666666,
                            "#ed7953"
                          ],
                          [
                            0.7777777777777778,
                            "#fb9f3a"
                          ],
                          [
                            0.8888888888888888,
                            "#fdca26"
                          ],
                          [
                            1,
                            "#f0f921"
                          ]
                        ],
                        "type": "heatmapgl"
                      }
                    ],
                    "histogram": [
                      {
                        "marker": {
                          "pattern": {
                            "fillmode": "overlay",
                            "size": 10,
                            "solidity": 0.2
                          }
                        },
                        "type": "histogram"
                      }
                    ],
                    "histogram2d": [
                      {
                        "colorbar": {
                          "outlinewidth": 0,
                          "ticks": ""
                        },
                        "colorscale": [
                          [
                            0,
                            "#0d0887"
                          ],
                          [
                            0.1111111111111111,
                            "#46039f"
                          ],
                          [
                            0.2222222222222222,
                            "#7201a8"
                          ],
                          [
                            0.3333333333333333,
                            "#9c179e"
                          ],
                          [
                            0.4444444444444444,
                            "#bd3786"
                          ],
                          [
                            0.5555555555555556,
                            "#d8576b"
                          ],
                          [
                            0.6666666666666666,
                            "#ed7953"
                          ],
                          [
                            0.7777777777777778,
                            "#fb9f3a"
                          ],
                          [
                            0.8888888888888888,
                            "#fdca26"
                          ],
                          [
                            1,
                            "#f0f921"
                          ]
                        ],
                        "type": "histogram2d"
                      }
                    ],
                    "histogram2dcontour": [
                      {
                        "colorbar": {
                          "outlinewidth": 0,
                          "ticks": ""
                        },
                        "colorscale": [
                          [
                            0,
                            "#0d0887"
                          ],
                          [
                            0.1111111111111111,
                            "#46039f"
                          ],
                          [
                            0.2222222222222222,
                            "#7201a8"
                          ],
                          [
                            0.3333333333333333,
                            "#9c179e"
                          ],
                          [
                            0.4444444444444444,
                            "#bd3786"
                          ],
                          [
                            0.5555555555555556,
                            "#d8576b"
                          ],
                          [
                            0.6666666666666666,
                            "#ed7953"
                          ],
                          [
                            0.7777777777777778,
                            "#fb9f3a"
                          ],
                          [
                            0.8888888888888888,
                            "#fdca26"
                          ],
                          [
                            1,
                            "#f0f921"
                          ]
                        ],
                        "type": "histogram2dcontour"
                      }
                    ],
                    "mesh3d": [
                      {
                        "colorbar": {
                          "outlinewidth": 0,
                          "ticks": ""
                        },
                        "type": "mesh3d"
                      }
                    ],
                    "parcoords": [
                      {
                        "line": {
                          "colorbar": {
                            "outlinewidth": 0,
                            "ticks": ""
                          }
                        },
                        "type": "parcoords"
                      }
                    ],
                    "pie": [
                      {
                        "automargin": true,
                        "type": "pie"
                      }
                    ],
                    "scatter": [
                      {
                        "fillpattern": {
                          "fillmode": "overlay",
                          "size": 10,
                          "solidity": 0.2
                        },
                        "type": "scatter"
                      }
                    ],
                    "scatter3d": [
                      {
                        "line": {
                          "colorbar": {
                            "outlinewidth": 0,
                            "ticks": ""
                          }
                        },
                        "marker": {
                          "colorbar": {
                            "outlinewidth": 0,
                            "ticks": ""
                          }
                        },
                        "type": "scatter3d"
                      }
                    ],
                    "scattercarpet": [
                      {
                        "marker": {
                          "colorbar": {
                            "outlinewidth": 0,
                            "ticks": ""
                          }
                        },
                        "type": "scattercarpet"
                      }
                    ],
                    "scattergeo": [
                      {
                        "marker": {
                          "colorbar": {
                            "outlinewidth": 0,
                            "ticks": ""
                          }
                        },
                        "type": "scattergeo"
                      }
                    ],
                    "scattergl": [
                      {
                        "marker": {
                          "colorbar": {
                            "outlinewidth": 0,
                            "ticks": ""
                          }
                        },
                        "type": "scattergl"
                      }
                    ],
                    "scattermapbox": [
                      {
                        "marker": {
                          "colorbar": {
                            "outlinewidth": 0,
                            "ticks": ""
                          }
                        },
                        "type": "scattermapbox"
                      }
                    ],
                    "scatterpolar": [
                      {
                        "marker": {
                          "colorbar": {
                            "outlinewidth": 0,
                            "ticks": ""
                          }
                        },
                        "type": "scatterpolar"
                      }
                    ],
                    "scatterpolargl": [
                      {
                        "marker": {
                          "colorbar": {
                            "outlinewidth": 0,
                            "ticks": ""
                          }
                        },
                        "type": "scatterpolargl"
                      }
                    ],
                    "scatterternary": [
                      {
                        "marker": {
                          "colorbar": {
                            "outlinewidth": 0,
                            "ticks": ""
                          }
                        },
                        "type": "scatterternary"
                      }
                    ],
                    "surface": [
                      {
                        "colorbar": {
                          "outlinewidth": 0,
                          "ticks": ""
                        },
                        "colorscale": [
                          [
                            0,
                            "#0d0887"
                          ],
                          [
                            0.1111111111111111,
                            "#46039f"
                          ],
                          [
                            0.2222222222222222,
                            "#7201a8"
                          ],
                          [
                            0.3333333333333333,
                            "#9c179e"
                          ],
                          [
                            0.4444444444444444,
                            "#bd3786"
                          ],
                          [
                            0.5555555555555556,
                            "#d8576b"
                          ],
                          [
                            0.6666666666666666,
                            "#ed7953"
                          ],
                          [
                            0.7777777777777778,
                            "#fb9f3a"
                          ],
                          [
                            0.8888888888888888,
                            "#fdca26"
                          ],
                          [
                            1,
                            "#f0f921"
                          ]
                        ],
                        "type": "surface"
                      }
                    ],
                    "table": [
                      {
                        "cells": {
                          "fill": {
                            "color": "#EBF0F8"
                          },
                          "line": {
                            "color": "white"
                          }
                        },
                        "header": {
                          "fill": {
                            "color": "#C8D4E3"
                          },
                          "line": {
                            "color": "white"
                          }
                        },
                        "type": "table"
                      }
                    ]
                  },
                  "layout": {
                    "annotationdefaults": {
                      "arrowcolor": "#2a3f5f",
                      "arrowhead": 0,
                      "arrowwidth": 1
                    },
                    "autotypenumbers": "strict",
                    "coloraxis": {
                      "colorbar": {
                        "outlinewidth": 0,
                        "ticks": ""
                      }
                    },
                    "colorscale": {
                      "diverging": [
                        [
                          0,
                          "#8e0152"
                        ],
                        [
                          0.1,
                          "#c51b7d"
                        ],
                        [
                          0.2,
                          "#de77ae"
                        ],
                        [
                          0.3,
                          "#f1b6da"
                        ],
                        [
                          0.4,
                          "#fde0ef"
                        ],
                        [
                          0.5,
                          "#f7f7f7"
                        ],
                        [
                          0.6,
                          "#e6f5d0"
                        ],
                        [
                          0.7,
                          "#b8e186"
                        ],
                        [
                          0.8,
                          "#7fbc41"
                        ],
                        [
                          0.9,
                          "#4d9221"
                        ],
                        [
                          1,
                          "#276419"
                        ]
                      ],
                      "sequential": [
                        [
                          0,
                          "#0d0887"
                        ],
                        [
                          0.1111111111111111,
                          "#46039f"
                        ],
                        [
                          0.2222222222222222,
                          "#7201a8"
                        ],
                        [
                          0.3333333333333333,
                          "#9c179e"
                        ],
                        [
                          0.4444444444444444,
                          "#bd3786"
                        ],
                        [
                          0.5555555555555556,
                          "#d8576b"
                        ],
                        [
                          0.6666666666666666,
                          "#ed7953"
                        ],
                        [
                          0.7777777777777778,
                          "#fb9f3a"
                        ],
                        [
                          0.8888888888888888,
                          "#fdca26"
                        ],
                        [
                          1,
                          "#f0f921"
                        ]
                      ],
                      "sequentialminus": [
                        [
                          0,
                          "#0d0887"
                        ],
                        [
                          0.1111111111111111,
                          "#46039f"
                        ],
                        [
                          0.2222222222222222,
                          "#7201a8"
                        ],
                        [
                          0.3333333333333333,
                          "#9c179e"
                        ],
                        [
                          0.4444444444444444,
                          "#bd3786"
                        ],
                        [
                          0.5555555555555556,
                          "#d8576b"
                        ],
                        [
                          0.6666666666666666,
                          "#ed7953"
                        ],
                        [
                          0.7777777777777778,
                          "#fb9f3a"
                        ],
                        [
                          0.8888888888888888,
                          "#fdca26"
                        ],
                        [
                          1,
                          "#f0f921"
                        ]
                      ]
                    },
                    "colorway": [
                      "#636efa",
                      "#EF553B",
                      "#00cc96",
                      "#ab63fa",
                      "#FFA15A",
                      "#19d3f3",
                      "#FF6692",
                      "#B6E880",
                      "#FF97FF",
                      "#FECB52"
                    ],
                    "font": {
                      "color": "#2a3f5f"
                    },
                    "geo": {
                      "bgcolor": "white",
                      "lakecolor": "white",
                      "landcolor": "#E5ECF6",
                      "showlakes": true,
                      "showland": true,
                      "subunitcolor": "white"
                    },
                    "hoverlabel": {
                      "align": "left"
                    },
                    "hovermode": "closest",
                    "mapbox": {
                      "style": "light"
                    },
                    "paper_bgcolor": "white",
                    "plot_bgcolor": "#E5ECF6",
                    "polar": {
                      "angularaxis": {
                        "gridcolor": "white",
                        "linecolor": "white",
                        "ticks": ""
                      },
                      "bgcolor": "#E5ECF6",
                      "radialaxis": {
                        "gridcolor": "white",
                        "linecolor": "white",
                        "ticks": ""
                      }
                    },
                    "scene": {
                      "xaxis": {
                        "backgroundcolor": "#E5ECF6",
                        "gridcolor": "white",
                        "gridwidth": 2,
                        "linecolor": "white",
                        "showbackground": true,
                        "ticks": "",
                        "zerolinecolor": "white"
                      },
                      "yaxis": {
                        "backgroundcolor": "#E5ECF6",
                        "gridcolor": "white",
                        "gridwidth": 2,
                        "linecolor": "white",
                        "showbackground": true,
                        "ticks": "",
                        "zerolinecolor": "white"
                      },
                      "zaxis": {
                        "backgroundcolor": "#E5ECF6",
                        "gridcolor": "white",
                        "gridwidth": 2,
                        "linecolor": "white",
                        "showbackground": true,
                        "ticks": "",
                        "zerolinecolor": "white"
                      }
                    },
                    "shapedefaults": {
                      "line": {
                        "color": "#2a3f5f"
                      }
                    },
                    "ternary": {
                      "aaxis": {
                        "gridcolor": "white",
                        "linecolor": "white",
                        "ticks": ""
                      },
                      "baxis": {
                        "gridcolor": "white",
                        "linecolor": "white",
                        "ticks": ""
                      },
                      "bgcolor": "#E5ECF6",
                      "caxis": {
                        "gridcolor": "white",
                        "linecolor": "white",
                        "ticks": ""
                      }
                    },
                    "title": {
                      "x": 0.05
                    },
                    "xaxis": {
                      "automargin": true,
                      "gridcolor": "white",
                      "linecolor": "white",
                      "ticks": "",
                      "title": {
                        "standoff": 15
                      },
                      "zerolinecolor": "white",
                      "zerolinewidth": 2
                    },
                    "yaxis": {
                      "automargin": true,
                      "gridcolor": "white",
                      "linecolor": "white",
                      "ticks": "",
                      "title": {
                        "standoff": 15
                      },
                      "zerolinecolor": "white",
                      "zerolinewidth": 2
                    }
                  }
                },
                "title": {
                  "text": "Confirmed COVID-19 Cases Worldwide Over Time"
                },
                "xaxis": {
                  "anchor": "y",
                  "domain": [
                    0,
                    1
                  ],
                  "tickangle": 45,
                  "ticktext": [
                    "1/24/20",
                    "1/25/20",
                    "1/26/20",
                    "1/27/20",
                    "1/28/20",
                    "1/29/20",
                    "1/30/20",
                    "1/31/20",
                    "2/1/20",
                    "2/2/20",
                    "2/3/20",
                    "2/4/20",
                    "2/5/20",
                    "2/6/20",
                    "2/7/20",
                    "2/8/20",
                    "2/9/20",
                    "2/10/20",
                    "2/11/20",
                    "2/12/20",
                    "2/13/20",
                    "2/14/20",
                    "2/15/20",
                    "2/16/20",
                    "2/17/20",
                    "2/18/20",
                    "2/19/20",
                    "2/20/20",
                    "2/21/20",
                    "2/22/20",
                    "2/23/20",
                    "2/24/20",
                    "2/25/20",
                    "2/26/20",
                    "2/27/20",
                    "2/28/20",
                    "2/29/20",
                    "3/1/20",
                    "3/2/20",
                    "3/3/20",
                    "3/4/20",
                    "3/5/20",
                    "3/6/20",
                    "3/7/20",
                    "3/8/20",
                    "3/9/20",
                    "3/10/20",
                    "3/11/20",
                    "3/12/20",
                    "3/13/20",
                    "3/14/20",
                    "3/15/20",
                    "3/16/20",
                    "3/17/20",
                    "3/18/20",
                    "3/19/20",
                    "3/20/20",
                    "3/21/20",
                    "3/22/20",
                    "3/23/20",
                    "3/24/20",
                    "3/25/20",
                    "3/26/20",
                    "3/27/20",
                    "3/28/20",
                    "3/29/20",
                    "3/30/20",
                    "3/31/20",
                    "4/1/20",
                    "4/2/20",
                    "4/3/20",
                    "4/4/20",
                    "4/5/20",
                    "4/6/20",
                    "4/7/20",
                    "4/8/20",
                    "4/9/20",
                    "4/10/20",
                    "4/11/20",
                    "4/12/20",
                    "4/13/20",
                    "4/14/20",
                    "4/15/20",
                    "4/16/20",
                    "4/17/20",
                    "4/18/20",
                    "4/19/20",
                    "4/20/20",
                    "4/21/20",
                    "4/22/20",
                    "4/23/20",
                    "4/24/20",
                    "4/25/20",
                    "4/26/20",
                    "4/27/20",
                    "4/28/20",
                    "4/29/20",
                    "4/30/20",
                    "5/1/20",
                    "5/2/20",
                    "5/3/20",
                    "5/4/20",
                    "5/5/20",
                    "5/6/20",
                    "5/7/20",
                    "5/8/20",
                    "5/9/20",
                    "5/10/20",
                    "5/11/20",
                    "5/12/20",
                    "5/13/20",
                    "5/14/20",
                    "5/15/20",
                    "5/16/20",
                    "5/17/20",
                    "5/18/20",
                    "5/19/20",
                    "5/20/20",
                    "5/21/20",
                    "5/22/20",
                    "5/23/20",
                    "5/24/20",
                    "5/25/20",
                    "5/26/20",
                    "5/27/20",
                    "5/28/20",
                    "5/29/20",
                    "5/30/20",
                    "5/31/20",
                    "6/1/20",
                    "6/2/20",
                    "6/3/20",
                    "6/4/20",
                    "6/5/20",
                    "6/6/20",
                    "6/7/20",
                    "6/8/20",
                    "6/9/20",
                    "6/10/20",
                    "6/11/20",
                    "6/12/20",
                    "6/13/20",
                    "6/14/20",
                    "6/15/20",
                    "6/16/20",
                    "6/17/20",
                    "6/18/20",
                    "6/19/20",
                    "6/20/20",
                    "6/21/20",
                    "6/22/20",
                    "6/23/20",
                    "6/24/20",
                    "6/25/20",
                    "6/26/20",
                    "6/27/20",
                    "6/28/20",
                    "6/29/20",
                    "6/30/20",
                    "7/1/20",
                    "7/2/20",
                    "7/3/20",
                    "7/4/20",
                    "7/5/20",
                    "7/6/20",
                    "7/7/20",
                    "7/8/20",
                    "7/9/20",
                    "7/10/20",
                    "7/11/20",
                    "7/12/20",
                    "7/13/20",
                    "7/14/20",
                    "7/15/20",
                    "7/16/20",
                    "7/17/20",
                    "7/18/20",
                    "7/19/20",
                    "7/20/20",
                    "7/21/20",
                    "7/22/20",
                    "7/23/20",
                    "7/24/20",
                    "7/25/20",
                    "7/26/20",
                    "7/27/20",
                    "7/28/20",
                    "7/29/20",
                    "7/30/20",
                    "7/31/20",
                    "8/1/20",
                    "8/2/20",
                    "8/3/20",
                    "8/4/20",
                    "8/5/20",
                    "8/6/20",
                    "8/7/20",
                    "8/8/20",
                    "8/9/20",
                    "8/10/20",
                    "8/11/20",
                    "8/12/20",
                    "8/13/20",
                    "8/14/20",
                    "8/15/20",
                    "8/16/20",
                    "8/17/20",
                    "8/18/20",
                    "8/19/20",
                    "8/20/20",
                    "8/21/20",
                    "8/22/20",
                    "8/23/20",
                    "8/24/20",
                    "8/25/20",
                    "8/26/20",
                    "8/27/20",
                    "8/28/20",
                    "8/29/20",
                    "8/30/20",
                    "8/31/20",
                    "9/1/20",
                    "9/2/20",
                    "9/3/20",
                    "9/4/20",
                    "9/5/20",
                    "9/6/20",
                    "9/7/20",
                    "9/8/20",
                    "9/9/20",
                    "9/10/20",
                    "9/11/20",
                    "9/12/20",
                    "9/13/20",
                    "9/14/20",
                    "9/15/20",
                    "9/16/20",
                    "9/17/20",
                    "9/18/20",
                    "9/19/20",
                    "9/20/20",
                    "9/21/20",
                    "9/22/20",
                    "9/23/20",
                    "9/24/20",
                    "9/25/20",
                    "9/26/20",
                    "9/27/20",
                    "9/28/20",
                    "9/29/20",
                    "9/30/20",
                    "10/1/20",
                    "10/2/20",
                    "10/3/20",
                    "10/4/20",
                    "10/5/20",
                    "10/6/20",
                    "10/7/20",
                    "10/8/20",
                    "10/9/20",
                    "10/10/20",
                    "10/11/20",
                    "10/12/20",
                    "10/13/20",
                    "10/14/20",
                    "10/15/20",
                    "10/16/20",
                    "10/17/20",
                    "10/18/20",
                    "10/19/20",
                    "10/20/20",
                    "10/21/20",
                    "10/22/20",
                    "10/23/20",
                    "10/24/20",
                    "10/25/20",
                    "10/26/20",
                    "10/27/20",
                    "10/28/20",
                    "10/29/20",
                    "10/30/20",
                    "10/31/20",
                    "11/1/20",
                    "11/2/20",
                    "11/3/20",
                    "11/4/20",
                    "11/5/20",
                    "11/6/20",
                    "11/7/20",
                    "11/8/20",
                    "11/9/20",
                    "11/10/20",
                    "11/11/20",
                    "11/12/20",
                    "11/13/20",
                    "11/14/20",
                    "11/15/20",
                    "11/16/20",
                    "11/17/20",
                    "11/18/20",
                    "11/19/20",
                    "11/20/20",
                    "11/21/20",
                    "11/22/20",
                    "11/23/20",
                    "11/24/20",
                    "11/25/20",
                    "11/26/20",
                    "11/27/20",
                    "11/28/20",
                    "11/29/20",
                    "11/30/20",
                    "12/1/20",
                    "12/2/20",
                    "12/3/20",
                    "12/4/20",
                    "12/5/20",
                    "12/6/20",
                    "12/7/20",
                    "12/8/20",
                    "12/9/20",
                    "12/10/20",
                    "12/11/20",
                    "12/12/20",
                    "12/13/20",
                    "12/14/20",
                    "12/15/20",
                    "12/16/20",
                    "12/17/20",
                    "12/18/20",
                    "12/19/20",
                    "12/20/20",
                    "12/21/20",
                    "12/22/20",
                    "12/23/20",
                    "12/24/20",
                    "12/25/20",
                    "12/26/20",
                    "12/27/20",
                    "12/28/20",
                    "12/29/20",
                    "12/30/20",
                    "12/31/20",
                    "1/1/21",
                    "1/2/21",
                    "1/3/21",
                    "1/4/21",
                    "1/5/21",
                    "1/6/21",
                    "1/7/21",
                    "1/8/21",
                    "1/9/21",
                    "1/10/21",
                    "1/11/21",
                    "1/12/21",
                    "1/13/21",
                    "1/14/21",
                    "1/15/21",
                    "1/16/21",
                    "1/17/21",
                    "1/18/21",
                    "1/19/21",
                    "1/20/21",
                    "1/21/21",
                    "1/22/21",
                    "1/23/21",
                    "1/24/21",
                    "1/25/21",
                    "1/26/21",
                    "1/27/21",
                    "1/28/21",
                    "1/29/21",
                    "1/30/21",
                    "1/31/21",
                    "2/1/21",
                    "2/2/21",
                    "2/3/21",
                    "2/4/21",
                    "2/5/21",
                    "2/6/21",
                    "2/7/21",
                    "2/8/21",
                    "2/9/21",
                    "2/10/21",
                    "2/11/21",
                    "2/12/21",
                    "2/13/21",
                    "2/14/21",
                    "2/15/21",
                    "2/16/21",
                    "2/17/21",
                    "2/18/21",
                    "2/19/21",
                    "2/20/21",
                    "2/21/21",
                    "2/22/21",
                    "2/23/21",
                    "2/24/21",
                    "2/25/21",
                    "2/26/21",
                    "2/27/21",
                    "2/28/21",
                    "3/1/21",
                    "3/2/21",
                    "3/3/21",
                    "3/4/21",
                    "3/5/21",
                    "3/6/21",
                    "3/7/21",
                    "3/8/21",
                    "3/9/21",
                    "3/10/21",
                    "3/11/21",
                    "3/12/21",
                    "3/13/21",
                    "3/14/21",
                    "3/15/21",
                    "3/16/21",
                    "3/17/21",
                    "3/18/21",
                    "3/19/21",
                    "3/20/21",
                    "3/21/21",
                    "3/22/21",
                    "3/23/21",
                    "3/24/21",
                    "3/25/21",
                    "3/26/21",
                    "3/27/21",
                    "3/28/21",
                    "3/29/21",
                    "3/30/21",
                    "3/31/21",
                    "4/1/21",
                    "4/2/21",
                    "4/3/21",
                    "4/4/21",
                    "4/5/21",
                    "4/6/21",
                    "4/7/21",
                    "4/8/21",
                    "4/9/21",
                    "4/10/21",
                    "4/11/21",
                    "4/12/21",
                    "4/13/21",
                    "4/14/21",
                    "4/15/21",
                    "4/16/21",
                    "4/17/21",
                    "4/18/21",
                    "4/19/21",
                    "4/20/21",
                    "4/21/21",
                    "4/22/21",
                    "4/23/21",
                    "4/24/21",
                    "4/25/21",
                    "4/26/21",
                    "4/27/21",
                    "4/28/21",
                    "4/29/21",
                    "4/30/21",
                    "5/1/21",
                    "5/2/21",
                    "5/3/21",
                    "5/4/21",
                    "5/5/21",
                    "5/6/21",
                    "5/7/21",
                    "5/8/21",
                    "5/9/21",
                    "5/10/21",
                    "5/11/21",
                    "5/12/21",
                    "5/13/21",
                    "5/14/21",
                    "5/15/21",
                    "5/16/21",
                    "5/17/21",
                    "5/18/21",
                    "5/19/21",
                    "5/20/21",
                    "5/21/21",
                    "5/22/21",
                    "5/23/21",
                    "5/24/21",
                    "5/25/21",
                    "5/26/21",
                    "5/27/21",
                    "5/28/21",
                    "5/29/21",
                    "5/30/21",
                    "5/31/21",
                    "6/1/21",
                    "6/2/21",
                    "6/3/21",
                    "6/4/21",
                    "6/5/21",
                    "6/6/21",
                    "6/7/21",
                    "6/8/21",
                    "6/9/21",
                    "6/10/21",
                    "6/11/21",
                    "6/12/21",
                    "6/13/21",
                    "6/14/21",
                    "6/15/21",
                    "6/16/21",
                    "6/17/21",
                    "6/18/21",
                    "6/19/21",
                    "6/20/21",
                    "6/21/21",
                    "6/22/21",
                    "6/23/21",
                    "6/24/21",
                    "6/25/21",
                    "6/26/21",
                    "6/27/21",
                    "6/28/21",
                    "6/29/21",
                    "6/30/21",
                    "7/1/21",
                    "7/2/21",
                    "7/3/21",
                    "7/4/21",
                    "7/5/21",
                    "7/6/21",
                    "7/7/21",
                    "7/8/21",
                    "7/9/21",
                    "7/10/21",
                    "7/11/21",
                    "7/12/21",
                    "7/13/21",
                    "7/14/21",
                    "7/15/21",
                    "7/16/21",
                    "7/17/21",
                    "7/18/21",
                    "7/19/21",
                    "7/20/21",
                    "7/21/21",
                    "7/22/21",
                    "7/23/21",
                    "7/24/21",
                    "7/25/21",
                    "7/26/21",
                    "7/27/21",
                    "7/28/21",
                    "7/29/21",
                    "7/30/21",
                    "7/31/21",
                    "8/1/21",
                    "8/2/21",
                    "8/3/21",
                    "8/4/21",
                    "8/5/21",
                    "8/6/21",
                    "8/7/21",
                    "8/8/21",
                    "8/9/21",
                    "8/10/21",
                    "8/11/21",
                    "8/12/21",
                    "8/13/21",
                    "8/14/21",
                    "8/15/21",
                    "8/16/21",
                    "8/17/21",
                    "8/18/21",
                    "8/19/21",
                    "8/20/21",
                    "8/21/21",
                    "8/22/21",
                    "8/23/21",
                    "8/24/21",
                    "8/25/21",
                    "8/26/21",
                    "8/27/21",
                    "8/28/21",
                    "8/29/21",
                    "8/30/21",
                    "8/31/21",
                    "9/1/21",
                    "9/2/21",
                    "9/3/21",
                    "9/4/21",
                    "9/5/21",
                    "9/6/21",
                    "9/7/21",
                    "9/8/21",
                    "9/9/21",
                    "9/10/21",
                    "9/11/21",
                    "9/12/21",
                    "9/13/21",
                    "9/14/21",
                    "9/15/21",
                    "9/16/21",
                    "9/17/21",
                    "9/18/21",
                    "9/19/21",
                    "9/20/21",
                    "9/21/21",
                    "9/22/21",
                    "9/23/21",
                    "9/24/21",
                    "9/25/21",
                    "9/26/21",
                    "9/27/21",
                    "9/28/21",
                    "9/29/21",
                    "9/30/21",
                    "10/1/21",
                    "10/2/21",
                    "10/3/21",
                    "10/4/21",
                    "10/5/21",
                    "10/6/21",
                    "10/7/21",
                    "10/8/21",
                    "10/9/21",
                    "10/10/21",
                    "10/11/21",
                    "10/12/21",
                    "10/13/21",
                    "10/14/21",
                    "10/15/21",
                    "10/16/21",
                    "10/17/21",
                    "10/18/21",
                    "10/19/21",
                    "10/20/21",
                    "10/21/21",
                    "10/22/21",
                    "10/23/21",
                    "10/24/21",
                    "10/25/21",
                    "10/26/21",
                    "10/27/21",
                    "10/28/21",
                    "10/29/21",
                    "10/30/21",
                    "10/31/21",
                    "11/1/21",
                    "11/2/21",
                    "11/3/21",
                    "11/4/21",
                    "11/5/21",
                    "11/6/21",
                    "11/7/21",
                    "11/8/21",
                    "11/9/21",
                    "11/10/21",
                    "11/11/21",
                    "11/12/21",
                    "11/13/21",
                    "11/14/21",
                    "11/15/21",
                    "11/16/21",
                    "11/17/21",
                    "11/18/21",
                    "11/19/21",
                    "11/20/21",
                    "11/21/21",
                    "11/22/21",
                    "11/23/21",
                    "11/24/21",
                    "11/25/21",
                    "11/26/21",
                    "11/27/21",
                    "11/28/21",
                    "11/29/21",
                    "11/30/21",
                    "12/1/21",
                    "12/2/21",
                    "12/3/21",
                    "12/4/21",
                    "12/5/21",
                    "12/6/21",
                    "12/7/21",
                    "12/8/21",
                    "12/9/21",
                    "12/10/21",
                    "12/11/21",
                    "12/12/21",
                    "12/13/21",
                    "12/14/21",
                    "12/15/21",
                    "12/16/21",
                    "12/17/21",
                    "12/18/21",
                    "12/19/21",
                    "12/20/21",
                    "12/21/21",
                    "12/22/21",
                    "12/23/21",
                    "12/24/21",
                    "12/25/21",
                    "12/26/21",
                    "12/27/21",
                    "12/28/21",
                    "12/29/21",
                    "12/30/21",
                    "12/31/21",
                    "1/1/22",
                    "1/2/22",
                    "1/3/22",
                    "1/4/22",
                    "1/5/22",
                    "1/6/22",
                    "1/7/22",
                    "1/8/22",
                    "1/9/22",
                    "1/10/22",
                    "1/11/22",
                    "1/12/22",
                    "1/13/22",
                    "1/14/22",
                    "1/15/22",
                    "1/16/22",
                    "1/17/22",
                    "1/18/22",
                    "1/19/22",
                    "1/20/22",
                    "1/21/22",
                    "1/22/22",
                    "1/23/22",
                    "1/24/22",
                    "1/25/22",
                    "1/26/22",
                    "1/27/22",
                    "1/28/22",
                    "1/29/22",
                    "1/30/22",
                    "1/31/22",
                    "2/1/22",
                    "2/2/22",
                    "2/3/22",
                    "2/4/22",
                    "2/5/22",
                    "2/6/22",
                    "2/7/22",
                    "2/8/22",
                    "2/9/22",
                    "2/10/22",
                    "2/11/22",
                    "2/12/22",
                    "2/13/22",
                    "2/14/22",
                    "2/15/22",
                    "2/16/22",
                    "2/17/22",
                    "2/18/22",
                    "2/19/22",
                    "2/20/22",
                    "2/21/22",
                    "2/22/22",
                    "2/23/22",
                    "2/24/22",
                    "2/25/22",
                    "2/26/22",
                    "2/27/22",
                    "2/28/22",
                    "3/1/22",
                    "3/2/22",
                    "3/3/22",
                    "3/4/22",
                    "3/5/22",
                    "3/6/22",
                    "3/7/22",
                    "3/8/22",
                    "3/9/22",
                    "3/10/22",
                    "3/11/22",
                    "3/12/22",
                    "3/13/22",
                    "3/14/22",
                    "3/15/22",
                    "3/16/22",
                    "3/17/22",
                    "3/18/22",
                    "3/19/22",
                    "3/20/22",
                    "3/21/22",
                    "3/22/22",
                    "3/23/22",
                    "3/24/22",
                    "3/25/22",
                    "3/26/22",
                    "3/27/22",
                    "3/28/22",
                    "3/29/22",
                    "3/30/22",
                    "3/31/22",
                    "4/1/22",
                    "4/2/22",
                    "4/3/22",
                    "4/4/22",
                    "4/5/22",
                    "4/6/22",
                    "4/7/22",
                    "4/8/22",
                    "4/9/22",
                    "4/10/22",
                    "4/11/22",
                    "4/12/22",
                    "4/13/22",
                    "4/14/22",
                    "4/15/22",
                    "4/16/22",
                    "4/17/22",
                    "4/18/22",
                    "4/19/22",
                    "4/20/22",
                    "4/21/22",
                    "4/22/22",
                    "4/23/22",
                    "4/24/22",
                    "4/25/22",
                    "4/26/22",
                    "4/27/22",
                    "4/28/22",
                    "4/29/22",
                    "4/30/22",
                    "5/1/22",
                    "5/2/22",
                    "5/3/22",
                    "5/4/22",
                    "5/5/22",
                    "5/6/22",
                    "5/7/22",
                    "5/8/22",
                    "5/9/22",
                    "5/10/22",
                    "5/11/22",
                    "5/12/22",
                    "5/13/22",
                    "5/14/22",
                    "5/15/22",
                    "5/16/22",
                    "5/17/22",
                    "5/18/22",
                    "5/19/22",
                    "5/20/22",
                    "5/21/22",
                    "5/22/22",
                    "5/23/22",
                    "5/24/22",
                    "5/25/22",
                    "5/26/22",
                    "5/27/22",
                    "5/28/22",
                    "5/29/22",
                    "5/30/22",
                    "5/31/22",
                    "6/1/22",
                    "6/2/22",
                    "6/3/22",
                    "6/4/22",
                    "6/5/22",
                    "6/6/22",
                    "6/7/22",
                    "6/8/22",
                    "6/9/22",
                    "6/10/22",
                    "6/11/22",
                    "6/12/22",
                    "6/13/22",
                    "6/14/22",
                    "6/15/22",
                    "6/16/22",
                    "6/17/22",
                    "6/18/22",
                    "6/19/22",
                    "6/20/22",
                    "6/21/22",
                    "6/22/22",
                    "6/23/22",
                    "6/24/22",
                    "6/25/22",
                    "6/26/22",
                    "6/27/22",
                    "6/28/22",
                    "6/29/22",
                    "6/30/22",
                    "7/1/22",
                    "7/2/22",
                    "7/3/22",
                    "7/4/22",
                    "7/5/22",
                    "7/6/22",
                    "7/7/22",
                    "7/8/22",
                    "7/9/22",
                    "7/10/22",
                    "7/11/22",
                    "7/12/22",
                    "7/13/22",
                    "7/14/22",
                    "7/15/22",
                    "7/16/22",
                    "7/17/22",
                    "7/18/22",
                    "7/19/22",
                    "7/20/22",
                    "7/21/22",
                    "7/22/22",
                    "7/23/22",
                    "7/24/22",
                    "7/25/22",
                    "7/26/22",
                    "7/27/22",
                    "7/28/22",
                    "7/29/22",
                    "7/30/22",
                    "7/31/22",
                    "8/1/22",
                    "8/2/22",
                    "8/3/22",
                    "8/4/22",
                    "8/5/22",
                    "8/6/22",
                    "8/7/22",
                    "8/8/22",
                    "8/9/22",
                    "8/10/22",
                    "8/11/22",
                    "8/12/22",
                    "8/13/22",
                    "8/14/22",
                    "8/15/22",
                    "8/16/22",
                    "8/17/22",
                    "8/18/22",
                    "8/19/22",
                    "8/20/22",
                    "8/21/22",
                    "8/22/22",
                    "8/23/22",
                    "8/24/22",
                    "8/25/22",
                    "8/26/22",
                    "8/27/22",
                    "8/28/22",
                    "8/29/22",
                    "8/30/22",
                    "8/31/22",
                    "9/1/22",
                    "9/2/22",
                    "9/3/22",
                    "9/4/22",
                    "9/5/22",
                    "9/6/22",
                    "9/7/22",
                    "9/8/22",
                    "9/9/22",
                    "9/10/22",
                    "9/11/22",
                    "9/12/22",
                    "9/13/22",
                    "9/14/22",
                    "9/15/22",
                    "9/16/22",
                    "9/17/22",
                    "9/18/22",
                    "9/19/22",
                    "9/20/22",
                    "9/21/22",
                    "9/22/22",
                    "9/23/22",
                    "9/24/22",
                    "9/25/22",
                    "9/26/22",
                    "9/27/22",
                    "9/28/22",
                    "9/29/22",
                    "9/30/22",
                    "10/1/22",
                    "10/2/22",
                    "10/3/22",
                    "10/4/22",
                    "10/5/22",
                    "10/6/22",
                    "10/7/22",
                    "10/8/22",
                    "10/9/22",
                    "10/10/22",
                    "10/11/22",
                    "10/12/22",
                    "10/13/22",
                    "10/14/22",
                    "10/15/22",
                    "10/16/22",
                    "10/17/22",
                    "10/18/22",
                    "10/19/22",
                    "10/20/22",
                    "10/21/22",
                    "10/22/22",
                    "10/23/22",
                    "10/24/22",
                    "10/25/22",
                    "10/26/22",
                    "10/27/22",
                    "10/28/22",
                    "10/29/22",
                    "10/30/22",
                    "10/31/22",
                    "11/1/22",
                    "11/2/22",
                    "11/3/22",
                    "11/4/22",
                    "11/5/22",
                    "11/6/22",
                    "11/7/22",
                    "11/8/22",
                    "11/9/22",
                    "11/10/22",
                    "11/11/22",
                    "11/12/22",
                    "11/13/22",
                    "11/14/22",
                    "11/15/22",
                    "11/16/22",
                    "11/17/22",
                    "11/18/22",
                    "11/19/22",
                    "11/20/22",
                    "11/21/22",
                    "11/22/22",
                    "11/23/22",
                    "11/24/22",
                    "11/25/22",
                    "11/26/22",
                    "11/27/22",
                    "11/28/22",
                    "11/29/22",
                    "11/30/22",
                    "12/1/22",
                    "12/2/22",
                    "12/3/22",
                    "12/4/22",
                    "12/5/22",
                    "12/6/22",
                    "12/7/22",
                    "12/8/22",
                    "12/9/22",
                    "12/10/22",
                    "12/11/22",
                    "12/12/22",
                    "12/13/22",
                    "12/14/22",
                    "12/15/22",
                    "12/16/22",
                    "12/17/22",
                    "12/18/22",
                    "12/19/22",
                    "12/20/22",
                    "12/21/22",
                    "12/22/22",
                    "12/23/22",
                    "12/24/22",
                    "12/25/22",
                    "12/26/22",
                    "12/27/22",
                    "12/28/22",
                    "12/29/22",
                    "12/30/22",
                    "12/31/22",
                    "1/1/23",
                    "1/2/23",
                    "1/3/23",
                    "1/4/23",
                    "1/5/23",
                    "1/6/23",
                    "1/7/23",
                    "1/8/23",
                    "1/9/23",
                    "1/10/23",
                    "1/11/23",
                    "1/12/23",
                    "1/13/23",
                    "1/14/23",
                    "1/15/23",
                    "1/16/23",
                    "1/17/23",
                    "1/18/23",
                    "1/19/23",
                    "1/20/23",
                    "1/21/23",
                    "1/22/23",
                    "1/23/23",
                    "1/24/23",
                    "1/25/23",
                    "1/26/23",
                    "1/27/23",
                    "1/28/23",
                    "1/29/23",
                    "1/30/23",
                    "1/31/23",
                    "2/1/23",
                    "2/2/23",
                    "2/3/23",
                    "2/4/23",
                    "2/5/23",
                    "2/6/23",
                    "2/7/23",
                    "2/8/23",
                    "2/9/23",
                    "2/10/23",
                    "2/11/23",
                    "2/12/23",
                    "2/13/23",
                    "2/14/23",
                    "2/15/23",
                    "2/16/23",
                    "2/17/23",
                    "2/18/23",
                    "2/19/23",
                    "2/20/23",
                    "2/21/23",
                    "2/22/23",
                    "2/23/23",
                    "2/24/23",
                    "2/25/23",
                    "2/26/23",
                    "2/27/23",
                    "2/28/23",
                    "3/1/23",
                    "3/2/23",
                    "3/3/23",
                    "3/4/23",
                    "3/5/23",
                    "3/6/23",
                    "3/7/23",
                    "3/8/23",
                    "3/9/23"
                  ],
                  "tickvals": [
                    0,
                    1,
                    2,
                    3,
                    4,
                    5,
                    6,
                    7,
                    8,
                    9,
                    10,
                    11,
                    12,
                    13,
                    14,
                    15,
                    16,
                    17,
                    18,
                    19,
                    20,
                    21,
                    22,
                    23,
                    24,
                    25,
                    26,
                    27,
                    28,
                    29,
                    30,
                    31,
                    32,
                    33,
                    34,
                    35,
                    36,
                    37,
                    38,
                    39,
                    40,
                    41,
                    42,
                    43,
                    44,
                    45,
                    46,
                    47,
                    48,
                    49,
                    50,
                    51,
                    52,
                    53,
                    54,
                    55,
                    56,
                    57,
                    58,
                    59,
                    60,
                    61,
                    62,
                    63,
                    64,
                    65,
                    66,
                    67,
                    68,
                    69,
                    70,
                    71,
                    72,
                    73,
                    74,
                    75,
                    76,
                    77,
                    78,
                    79,
                    80,
                    81,
                    82,
                    83,
                    84,
                    85,
                    86,
                    87,
                    88,
                    89,
                    90,
                    91,
                    92,
                    93,
                    94,
                    95,
                    96,
                    97,
                    98,
                    99,
                    100,
                    101,
                    102,
                    103,
                    104,
                    105,
                    106,
                    107,
                    108,
                    109,
                    110,
                    111,
                    112,
                    113,
                    114,
                    115,
                    116,
                    117,
                    118,
                    119,
                    120,
                    121,
                    122,
                    123,
                    124,
                    125,
                    126,
                    127,
                    128,
                    129,
                    130,
                    131,
                    132,
                    133,
                    134,
                    135,
                    136,
                    137,
                    138,
                    139,
                    140,
                    141,
                    142,
                    143,
                    144,
                    145,
                    146,
                    147,
                    148,
                    149,
                    150,
                    151,
                    152,
                    153,
                    154,
                    155,
                    156,
                    157,
                    158,
                    159,
                    160,
                    161,
                    162,
                    163,
                    164,
                    165,
                    166,
                    167,
                    168,
                    169,
                    170,
                    171,
                    172,
                    173,
                    174,
                    175,
                    176,
                    177,
                    178,
                    179,
                    180,
                    181,
                    182,
                    183,
                    184,
                    185,
                    186,
                    187,
                    188,
                    189,
                    190,
                    191,
                    192,
                    193,
                    194,
                    195,
                    196,
                    197,
                    198,
                    199,
                    200,
                    201,
                    202,
                    203,
                    204,
                    205,
                    206,
                    207,
                    208,
                    209,
                    210,
                    211,
                    212,
                    213,
                    214,
                    215,
                    216,
                    217,
                    218,
                    219,
                    220,
                    221,
                    222,
                    223,
                    224,
                    225,
                    226,
                    227,
                    228,
                    229,
                    230,
                    231,
                    232,
                    233,
                    234,
                    235,
                    236,
                    237,
                    238,
                    239,
                    240,
                    241,
                    242,
                    243,
                    244,
                    245,
                    246,
                    247,
                    248,
                    249,
                    250,
                    251,
                    252,
                    253,
                    254,
                    255,
                    256,
                    257,
                    258,
                    259,
                    260,
                    261,
                    262,
                    263,
                    264,
                    265,
                    266,
                    267,
                    268,
                    269,
                    270,
                    271,
                    272,
                    273,
                    274,
                    275,
                    276,
                    277,
                    278,
                    279,
                    280,
                    281,
                    282,
                    283,
                    284,
                    285,
                    286,
                    287,
                    288,
                    289,
                    290,
                    291,
                    292,
                    293,
                    294,
                    295,
                    296,
                    297,
                    298,
                    299,
                    300,
                    301,
                    302,
                    303,
                    304,
                    305,
                    306,
                    307,
                    308,
                    309,
                    310,
                    311,
                    312,
                    313,
                    314,
                    315,
                    316,
                    317,
                    318,
                    319,
                    320,
                    321,
                    322,
                    323,
                    324,
                    325,
                    326,
                    327,
                    328,
                    329,
                    330,
                    331,
                    332,
                    333,
                    334,
                    335,
                    336,
                    337,
                    338,
                    339,
                    340,
                    341,
                    342,
                    343,
                    344,
                    345,
                    346,
                    347,
                    348,
                    349,
                    350,
                    351,
                    352,
                    353,
                    354,
                    355,
                    356,
                    357,
                    358,
                    359,
                    360,
                    361,
                    362,
                    363,
                    364,
                    365,
                    366,
                    367,
                    368,
                    369,
                    370,
                    371,
                    372,
                    373,
                    374,
                    375,
                    376,
                    377,
                    378,
                    379,
                    380,
                    381,
                    382,
                    383,
                    384,
                    385,
                    386,
                    387,
                    388,
                    389,
                    390,
                    391,
                    392,
                    393,
                    394,
                    395,
                    396,
                    397,
                    398,
                    399,
                    400,
                    401,
                    402,
                    403,
                    404,
                    405,
                    406,
                    407,
                    408,
                    409,
                    410,
                    411,
                    412,
                    413,
                    414,
                    415,
                    416,
                    417,
                    418,
                    419,
                    420,
                    421,
                    422,
                    423,
                    424,
                    425,
                    426,
                    427,
                    428,
                    429,
                    430,
                    431,
                    432,
                    433,
                    434,
                    435,
                    436,
                    437,
                    438,
                    439,
                    440,
                    441,
                    442,
                    443,
                    444,
                    445,
                    446,
                    447,
                    448,
                    449,
                    450,
                    451,
                    452,
                    453,
                    454,
                    455,
                    456,
                    457,
                    458,
                    459,
                    460,
                    461,
                    462,
                    463,
                    464,
                    465,
                    466,
                    467,
                    468,
                    469,
                    470,
                    471,
                    472,
                    473,
                    474,
                    475,
                    476,
                    477,
                    478,
                    479,
                    480,
                    481,
                    482,
                    483,
                    484,
                    485,
                    486,
                    487,
                    488,
                    489,
                    490,
                    491,
                    492,
                    493,
                    494,
                    495,
                    496,
                    497,
                    498,
                    499,
                    500,
                    501,
                    502,
                    503,
                    504,
                    505,
                    506,
                    507,
                    508,
                    509,
                    510,
                    511,
                    512,
                    513,
                    514,
                    515,
                    516,
                    517,
                    518,
                    519,
                    520,
                    521,
                    522,
                    523,
                    524,
                    525,
                    526,
                    527,
                    528,
                    529,
                    530,
                    531,
                    532,
                    533,
                    534,
                    535,
                    536,
                    537,
                    538,
                    539,
                    540,
                    541,
                    542,
                    543,
                    544,
                    545,
                    546,
                    547,
                    548,
                    549,
                    550,
                    551,
                    552,
                    553,
                    554,
                    555,
                    556,
                    557,
                    558,
                    559,
                    560,
                    561,
                    562,
                    563,
                    564,
                    565,
                    566,
                    567,
                    568,
                    569,
                    570,
                    571,
                    572,
                    573,
                    574,
                    575,
                    576,
                    577,
                    578,
                    579,
                    580,
                    581,
                    582,
                    583,
                    584,
                    585,
                    586,
                    587,
                    588,
                    589,
                    590,
                    591,
                    592,
                    593,
                    594,
                    595,
                    596,
                    597,
                    598,
                    599,
                    600,
                    601,
                    602,
                    603,
                    604,
                    605,
                    606,
                    607,
                    608,
                    609,
                    610,
                    611,
                    612,
                    613,
                    614,
                    615,
                    616,
                    617,
                    618,
                    619,
                    620,
                    621,
                    622,
                    623,
                    624,
                    625,
                    626,
                    627,
                    628,
                    629,
                    630,
                    631,
                    632,
                    633,
                    634,
                    635,
                    636,
                    637,
                    638,
                    639,
                    640,
                    641,
                    642,
                    643,
                    644,
                    645,
                    646,
                    647,
                    648,
                    649,
                    650,
                    651,
                    652,
                    653,
                    654,
                    655,
                    656,
                    657,
                    658,
                    659,
                    660,
                    661,
                    662,
                    663,
                    664,
                    665,
                    666,
                    667,
                    668,
                    669,
                    670,
                    671,
                    672,
                    673,
                    674,
                    675,
                    676,
                    677,
                    678,
                    679,
                    680,
                    681,
                    682,
                    683,
                    684,
                    685,
                    686,
                    687,
                    688,
                    689,
                    690,
                    691,
                    692,
                    693,
                    694,
                    695,
                    696,
                    697,
                    698,
                    699,
                    700,
                    701,
                    702,
                    703,
                    704,
                    705,
                    706,
                    707,
                    708,
                    709,
                    710,
                    711,
                    712,
                    713,
                    714,
                    715,
                    716,
                    717,
                    718,
                    719,
                    720,
                    721,
                    722,
                    723,
                    724,
                    725,
                    726,
                    727,
                    728,
                    729,
                    730,
                    731,
                    732,
                    733,
                    734,
                    735,
                    736,
                    737,
                    738,
                    739,
                    740,
                    741,
                    742,
                    743,
                    744,
                    745,
                    746,
                    747,
                    748,
                    749,
                    750,
                    751,
                    752,
                    753,
                    754,
                    755,
                    756,
                    757,
                    758,
                    759,
                    760,
                    761,
                    762,
                    763,
                    764,
                    765,
                    766,
                    767,
                    768,
                    769,
                    770,
                    771,
                    772,
                    773,
                    774,
                    775,
                    776,
                    777,
                    778,
                    779,
                    780,
                    781,
                    782,
                    783,
                    784,
                    785,
                    786,
                    787,
                    788,
                    789,
                    790,
                    791,
                    792,
                    793,
                    794,
                    795,
                    796,
                    797,
                    798,
                    799,
                    800,
                    801,
                    802,
                    803,
                    804,
                    805,
                    806,
                    807,
                    808,
                    809,
                    810,
                    811,
                    812,
                    813,
                    814,
                    815,
                    816,
                    817,
                    818,
                    819,
                    820,
                    821,
                    822,
                    823,
                    824,
                    825,
                    826,
                    827,
                    828,
                    829,
                    830,
                    831,
                    832,
                    833,
                    834,
                    835,
                    836,
                    837,
                    838,
                    839,
                    840,
                    841,
                    842,
                    843,
                    844,
                    845,
                    846,
                    847,
                    848,
                    849,
                    850,
                    851,
                    852,
                    853,
                    854,
                    855,
                    856,
                    857,
                    858,
                    859,
                    860,
                    861,
                    862,
                    863,
                    864,
                    865,
                    866,
                    867,
                    868,
                    869,
                    870,
                    871,
                    872,
                    873,
                    874,
                    875,
                    876,
                    877,
                    878,
                    879,
                    880,
                    881,
                    882,
                    883,
                    884,
                    885,
                    886,
                    887,
                    888,
                    889,
                    890,
                    891,
                    892,
                    893,
                    894,
                    895,
                    896,
                    897,
                    898,
                    899,
                    900,
                    901,
                    902,
                    903,
                    904,
                    905,
                    906,
                    907,
                    908,
                    909,
                    910,
                    911,
                    912,
                    913,
                    914,
                    915,
                    916,
                    917,
                    918,
                    919,
                    920,
                    921,
                    922,
                    923,
                    924,
                    925,
                    926,
                    927,
                    928,
                    929,
                    930,
                    931,
                    932,
                    933,
                    934,
                    935,
                    936,
                    937,
                    938,
                    939,
                    940,
                    941,
                    942,
                    943,
                    944,
                    945,
                    946,
                    947,
                    948,
                    949,
                    950,
                    951,
                    952,
                    953,
                    954,
                    955,
                    956,
                    957,
                    958,
                    959,
                    960,
                    961,
                    962,
                    963,
                    964,
                    965,
                    966,
                    967,
                    968,
                    969,
                    970,
                    971,
                    972,
                    973,
                    974,
                    975,
                    976,
                    977,
                    978,
                    979,
                    980,
                    981,
                    982,
                    983,
                    984,
                    985,
                    986,
                    987,
                    988,
                    989,
                    990,
                    991,
                    992,
                    993,
                    994,
                    995,
                    996,
                    997,
                    998,
                    999,
                    1000,
                    1001,
                    1002,
                    1003,
                    1004,
                    1005,
                    1006,
                    1007,
                    1008,
                    1009,
                    1010,
                    1011,
                    1012,
                    1013,
                    1014,
                    1015,
                    1016,
                    1017,
                    1018,
                    1019,
                    1020,
                    1021,
                    1022,
                    1023,
                    1024,
                    1025,
                    1026,
                    1027,
                    1028,
                    1029,
                    1030,
                    1031,
                    1032,
                    1033,
                    1034,
                    1035,
                    1036,
                    1037,
                    1038,
                    1039,
                    1040,
                    1041,
                    1042,
                    1043,
                    1044,
                    1045,
                    1046,
                    1047,
                    1048,
                    1049,
                    1050,
                    1051,
                    1052,
                    1053,
                    1054,
                    1055,
                    1056,
                    1057,
                    1058,
                    1059,
                    1060,
                    1061,
                    1062,
                    1063,
                    1064,
                    1065,
                    1066,
                    1067,
                    1068,
                    1069,
                    1070,
                    1071,
                    1072,
                    1073,
                    1074,
                    1075,
                    1076,
                    1077,
                    1078,
                    1079,
                    1080,
                    1081,
                    1082,
                    1083,
                    1084,
                    1085,
                    1086,
                    1087,
                    1088,
                    1089,
                    1090,
                    1091,
                    1092,
                    1093,
                    1094,
                    1095,
                    1096,
                    1097,
                    1098,
                    1099,
                    1100,
                    1101,
                    1102,
                    1103,
                    1104,
                    1105,
                    1106,
                    1107,
                    1108,
                    1109,
                    1110,
                    1111,
                    1112,
                    1113,
                    1114,
                    1115,
                    1116,
                    1117,
                    1118,
                    1119,
                    1120,
                    1121,
                    1122,
                    1123,
                    1124,
                    1125,
                    1126,
                    1127,
                    1128,
                    1129,
                    1130,
                    1131,
                    1132,
                    1133,
                    1134,
                    1135,
                    1136,
                    1137,
                    1138,
                    1139,
                    1140
                  ],
                  "title": {
                    "text": "Date"
                  }
                },
                "yaxis": {
                  "anchor": "x",
                  "domain": [
                    0,
                    1
                  ],
                  "title": {
                    "text": "Confirmed Cases"
                  }
                }
              }
            },
            "text/html": [
              "<div>                            <div id=\"0651a369-3997-433d-a318-61608b68d070\" class=\"plotly-graph-div\" style=\"height:525px; width:100%;\"></div>            <script type=\"text/javascript\">                require([\"plotly\"], function(Plotly) {                    window.PLOTLYENV=window.PLOTLYENV || {};                                    if (document.getElementById(\"0651a369-3997-433d-a318-61608b68d070\")) {                    Plotly.newPlot(                        \"0651a369-3997-433d-a318-61608b68d070\",                        [{\"alignmentgroup\":\"True\",\"hovertemplate\":\"Date=%{x}\\u003cbr\\u003eConfirmed Cases=%{y}\\u003cextra\\u003e\\u003c\\u002fextra\\u003e\",\"legendgroup\":\"\",\"marker\":{\"color\":\"#636efa\",\"pattern\":{\"shape\":\"\"}},\"name\":\"\",\"offsetgroup\":\"\",\"orientation\":\"v\",\"showlegend\":false,\"textposition\":\"auto\",\"x\":[\"1\\u002f24\\u002f20\",\"1\\u002f25\\u002f20\",\"1\\u002f26\\u002f20\",\"1\\u002f27\\u002f20\",\"1\\u002f28\\u002f20\",\"1\\u002f29\\u002f20\",\"1\\u002f30\\u002f20\",\"1\\u002f31\\u002f20\",\"2\\u002f1\\u002f20\",\"2\\u002f2\\u002f20\",\"2\\u002f3\\u002f20\",\"2\\u002f4\\u002f20\",\"2\\u002f5\\u002f20\",\"2\\u002f6\\u002f20\",\"2\\u002f7\\u002f20\",\"2\\u002f8\\u002f20\",\"2\\u002f9\\u002f20\",\"2\\u002f10\\u002f20\",\"2\\u002f11\\u002f20\",\"2\\u002f12\\u002f20\",\"2\\u002f13\\u002f20\",\"2\\u002f14\\u002f20\",\"2\\u002f15\\u002f20\",\"2\\u002f16\\u002f20\",\"2\\u002f17\\u002f20\",\"2\\u002f18\\u002f20\",\"2\\u002f19\\u002f20\",\"2\\u002f20\\u002f20\",\"2\\u002f21\\u002f20\",\"2\\u002f22\\u002f20\",\"2\\u002f23\\u002f20\",\"2\\u002f24\\u002f20\",\"2\\u002f25\\u002f20\",\"2\\u002f26\\u002f20\",\"2\\u002f27\\u002f20\",\"2\\u002f28\\u002f20\",\"2\\u002f29\\u002f20\",\"3\\u002f1\\u002f20\",\"3\\u002f2\\u002f20\",\"3\\u002f3\\u002f20\",\"3\\u002f4\\u002f20\",\"3\\u002f5\\u002f20\",\"3\\u002f6\\u002f20\",\"3\\u002f7\\u002f20\",\"3\\u002f8\\u002f20\",\"3\\u002f9\\u002f20\",\"3\\u002f10\\u002f20\",\"3\\u002f11\\u002f20\",\"3\\u002f12\\u002f20\",\"3\\u002f13\\u002f20\",\"3\\u002f14\\u002f20\",\"3\\u002f15\\u002f20\",\"3\\u002f16\\u002f20\",\"3\\u002f17\\u002f20\",\"3\\u002f18\\u002f20\",\"3\\u002f19\\u002f20\",\"3\\u002f20\\u002f20\",\"3\\u002f21\\u002f20\",\"3\\u002f22\\u002f20\",\"3\\u002f23\\u002f20\",\"3\\u002f24\\u002f20\",\"3\\u002f25\\u002f20\",\"3\\u002f26\\u002f20\",\"3\\u002f27\\u002f20\",\"3\\u002f28\\u002f20\",\"3\\u002f29\\u002f20\",\"3\\u002f30\\u002f20\",\"3\\u002f31\\u002f20\",\"4\\u002f1\\u002f20\",\"4\\u002f2\\u002f20\",\"4\\u002f3\\u002f20\",\"4\\u002f4\\u002f20\",\"4\\u002f5\\u002f20\",\"4\\u002f6\\u002f20\",\"4\\u002f7\\u002f20\",\"4\\u002f8\\u002f20\",\"4\\u002f9\\u002f20\",\"4\\u002f10\\u002f20\",\"4\\u002f11\\u002f20\",\"4\\u002f12\\u002f20\",\"4\\u002f13\\u002f20\",\"4\\u002f14\\u002f20\",\"4\\u002f15\\u002f20\",\"4\\u002f16\\u002f20\",\"4\\u002f17\\u002f20\",\"4\\u002f18\\u002f20\",\"4\\u002f19\\u002f20\",\"4\\u002f20\\u002f20\",\"4\\u002f21\\u002f20\",\"4\\u002f22\\u002f20\",\"4\\u002f23\\u002f20\",\"4\\u002f24\\u002f20\",\"4\\u002f25\\u002f20\",\"4\\u002f26\\u002f20\",\"4\\u002f27\\u002f20\",\"4\\u002f28\\u002f20\",\"4\\u002f29\\u002f20\",\"4\\u002f30\\u002f20\",\"5\\u002f1\\u002f20\",\"5\\u002f2\\u002f20\",\"5\\u002f3\\u002f20\",\"5\\u002f4\\u002f20\",\"5\\u002f5\\u002f20\",\"5\\u002f6\\u002f20\",\"5\\u002f7\\u002f20\",\"5\\u002f8\\u002f20\",\"5\\u002f9\\u002f20\",\"5\\u002f10\\u002f20\",\"5\\u002f11\\u002f20\",\"5\\u002f12\\u002f20\",\"5\\u002f13\\u002f20\",\"5\\u002f14\\u002f20\",\"5\\u002f15\\u002f20\",\"5\\u002f16\\u002f20\",\"5\\u002f17\\u002f20\",\"5\\u002f18\\u002f20\",\"5\\u002f19\\u002f20\",\"5\\u002f20\\u002f20\",\"5\\u002f21\\u002f20\",\"5\\u002f22\\u002f20\",\"5\\u002f23\\u002f20\",\"5\\u002f24\\u002f20\",\"5\\u002f25\\u002f20\",\"5\\u002f26\\u002f20\",\"5\\u002f27\\u002f20\",\"5\\u002f28\\u002f20\",\"5\\u002f29\\u002f20\",\"5\\u002f30\\u002f20\",\"5\\u002f31\\u002f20\",\"6\\u002f1\\u002f20\",\"6\\u002f2\\u002f20\",\"6\\u002f3\\u002f20\",\"6\\u002f4\\u002f20\",\"6\\u002f5\\u002f20\",\"6\\u002f6\\u002f20\",\"6\\u002f7\\u002f20\",\"6\\u002f8\\u002f20\",\"6\\u002f9\\u002f20\",\"6\\u002f10\\u002f20\",\"6\\u002f11\\u002f20\",\"6\\u002f12\\u002f20\",\"6\\u002f13\\u002f20\",\"6\\u002f14\\u002f20\",\"6\\u002f15\\u002f20\",\"6\\u002f16\\u002f20\",\"6\\u002f17\\u002f20\",\"6\\u002f18\\u002f20\",\"6\\u002f19\\u002f20\",\"6\\u002f20\\u002f20\",\"6\\u002f21\\u002f20\",\"6\\u002f22\\u002f20\",\"6\\u002f23\\u002f20\",\"6\\u002f24\\u002f20\",\"6\\u002f25\\u002f20\",\"6\\u002f26\\u002f20\",\"6\\u002f27\\u002f20\",\"6\\u002f28\\u002f20\",\"6\\u002f29\\u002f20\",\"6\\u002f30\\u002f20\",\"7\\u002f1\\u002f20\",\"7\\u002f2\\u002f20\",\"7\\u002f3\\u002f20\",\"7\\u002f4\\u002f20\",\"7\\u002f5\\u002f20\",\"7\\u002f6\\u002f20\",\"7\\u002f7\\u002f20\",\"7\\u002f8\\u002f20\",\"7\\u002f9\\u002f20\",\"7\\u002f10\\u002f20\",\"7\\u002f11\\u002f20\",\"7\\u002f12\\u002f20\",\"7\\u002f13\\u002f20\",\"7\\u002f14\\u002f20\",\"7\\u002f15\\u002f20\",\"7\\u002f16\\u002f20\",\"7\\u002f17\\u002f20\",\"7\\u002f18\\u002f20\",\"7\\u002f19\\u002f20\",\"7\\u002f20\\u002f20\",\"7\\u002f21\\u002f20\",\"7\\u002f22\\u002f20\",\"7\\u002f23\\u002f20\",\"7\\u002f24\\u002f20\",\"7\\u002f25\\u002f20\",\"7\\u002f26\\u002f20\",\"7\\u002f27\\u002f20\",\"7\\u002f28\\u002f20\",\"7\\u002f29\\u002f20\",\"7\\u002f30\\u002f20\",\"7\\u002f31\\u002f20\",\"8\\u002f1\\u002f20\",\"8\\u002f2\\u002f20\",\"8\\u002f3\\u002f20\",\"8\\u002f4\\u002f20\",\"8\\u002f5\\u002f20\",\"8\\u002f6\\u002f20\",\"8\\u002f7\\u002f20\",\"8\\u002f8\\u002f20\",\"8\\u002f9\\u002f20\",\"8\\u002f10\\u002f20\",\"8\\u002f11\\u002f20\",\"8\\u002f12\\u002f20\",\"8\\u002f13\\u002f20\",\"8\\u002f14\\u002f20\",\"8\\u002f15\\u002f20\",\"8\\u002f16\\u002f20\",\"8\\u002f17\\u002f20\",\"8\\u002f18\\u002f20\",\"8\\u002f19\\u002f20\",\"8\\u002f20\\u002f20\",\"8\\u002f21\\u002f20\",\"8\\u002f22\\u002f20\",\"8\\u002f23\\u002f20\",\"8\\u002f24\\u002f20\",\"8\\u002f25\\u002f20\",\"8\\u002f26\\u002f20\",\"8\\u002f27\\u002f20\",\"8\\u002f28\\u002f20\",\"8\\u002f29\\u002f20\",\"8\\u002f30\\u002f20\",\"8\\u002f31\\u002f20\",\"9\\u002f1\\u002f20\",\"9\\u002f2\\u002f20\",\"9\\u002f3\\u002f20\",\"9\\u002f4\\u002f20\",\"9\\u002f5\\u002f20\",\"9\\u002f6\\u002f20\",\"9\\u002f7\\u002f20\",\"9\\u002f8\\u002f20\",\"9\\u002f9\\u002f20\",\"9\\u002f10\\u002f20\",\"9\\u002f11\\u002f20\",\"9\\u002f12\\u002f20\",\"9\\u002f13\\u002f20\",\"9\\u002f14\\u002f20\",\"9\\u002f15\\u002f20\",\"9\\u002f16\\u002f20\",\"9\\u002f17\\u002f20\",\"9\\u002f18\\u002f20\",\"9\\u002f19\\u002f20\",\"9\\u002f20\\u002f20\",\"9\\u002f21\\u002f20\",\"9\\u002f22\\u002f20\",\"9\\u002f23\\u002f20\",\"9\\u002f24\\u002f20\",\"9\\u002f25\\u002f20\",\"9\\u002f26\\u002f20\",\"9\\u002f27\\u002f20\",\"9\\u002f28\\u002f20\",\"9\\u002f29\\u002f20\",\"9\\u002f30\\u002f20\",\"10\\u002f1\\u002f20\",\"10\\u002f2\\u002f20\",\"10\\u002f3\\u002f20\",\"10\\u002f4\\u002f20\",\"10\\u002f5\\u002f20\",\"10\\u002f6\\u002f20\",\"10\\u002f7\\u002f20\",\"10\\u002f8\\u002f20\",\"10\\u002f9\\u002f20\",\"10\\u002f10\\u002f20\",\"10\\u002f11\\u002f20\",\"10\\u002f12\\u002f20\",\"10\\u002f13\\u002f20\",\"10\\u002f14\\u002f20\",\"10\\u002f15\\u002f20\",\"10\\u002f16\\u002f20\",\"10\\u002f17\\u002f20\",\"10\\u002f18\\u002f20\",\"10\\u002f19\\u002f20\",\"10\\u002f20\\u002f20\",\"10\\u002f21\\u002f20\",\"10\\u002f22\\u002f20\",\"10\\u002f23\\u002f20\",\"10\\u002f24\\u002f20\",\"10\\u002f25\\u002f20\",\"10\\u002f26\\u002f20\",\"10\\u002f27\\u002f20\",\"10\\u002f28\\u002f20\",\"10\\u002f29\\u002f20\",\"10\\u002f30\\u002f20\",\"10\\u002f31\\u002f20\",\"11\\u002f1\\u002f20\",\"11\\u002f2\\u002f20\",\"11\\u002f3\\u002f20\",\"11\\u002f4\\u002f20\",\"11\\u002f5\\u002f20\",\"11\\u002f6\\u002f20\",\"11\\u002f7\\u002f20\",\"11\\u002f8\\u002f20\",\"11\\u002f9\\u002f20\",\"11\\u002f10\\u002f20\",\"11\\u002f11\\u002f20\",\"11\\u002f12\\u002f20\",\"11\\u002f13\\u002f20\",\"11\\u002f14\\u002f20\",\"11\\u002f15\\u002f20\",\"11\\u002f16\\u002f20\",\"11\\u002f17\\u002f20\",\"11\\u002f18\\u002f20\",\"11\\u002f19\\u002f20\",\"11\\u002f20\\u002f20\",\"11\\u002f21\\u002f20\",\"11\\u002f22\\u002f20\",\"11\\u002f23\\u002f20\",\"11\\u002f24\\u002f20\",\"11\\u002f25\\u002f20\",\"11\\u002f26\\u002f20\",\"11\\u002f27\\u002f20\",\"11\\u002f28\\u002f20\",\"11\\u002f29\\u002f20\",\"11\\u002f30\\u002f20\",\"12\\u002f1\\u002f20\",\"12\\u002f2\\u002f20\",\"12\\u002f3\\u002f20\",\"12\\u002f4\\u002f20\",\"12\\u002f5\\u002f20\",\"12\\u002f6\\u002f20\",\"12\\u002f7\\u002f20\",\"12\\u002f8\\u002f20\",\"12\\u002f9\\u002f20\",\"12\\u002f10\\u002f20\",\"12\\u002f11\\u002f20\",\"12\\u002f12\\u002f20\",\"12\\u002f13\\u002f20\",\"12\\u002f14\\u002f20\",\"12\\u002f15\\u002f20\",\"12\\u002f16\\u002f20\",\"12\\u002f17\\u002f20\",\"12\\u002f18\\u002f20\",\"12\\u002f19\\u002f20\",\"12\\u002f20\\u002f20\",\"12\\u002f21\\u002f20\",\"12\\u002f22\\u002f20\",\"12\\u002f23\\u002f20\",\"12\\u002f24\\u002f20\",\"12\\u002f25\\u002f20\",\"12\\u002f26\\u002f20\",\"12\\u002f27\\u002f20\",\"12\\u002f28\\u002f20\",\"12\\u002f29\\u002f20\",\"12\\u002f30\\u002f20\",\"12\\u002f31\\u002f20\",\"1\\u002f1\\u002f21\",\"1\\u002f2\\u002f21\",\"1\\u002f3\\u002f21\",\"1\\u002f4\\u002f21\",\"1\\u002f5\\u002f21\",\"1\\u002f6\\u002f21\",\"1\\u002f7\\u002f21\",\"1\\u002f8\\u002f21\",\"1\\u002f9\\u002f21\",\"1\\u002f10\\u002f21\",\"1\\u002f11\\u002f21\",\"1\\u002f12\\u002f21\",\"1\\u002f13\\u002f21\",\"1\\u002f14\\u002f21\",\"1\\u002f15\\u002f21\",\"1\\u002f16\\u002f21\",\"1\\u002f17\\u002f21\",\"1\\u002f18\\u002f21\",\"1\\u002f19\\u002f21\",\"1\\u002f20\\u002f21\",\"1\\u002f21\\u002f21\",\"1\\u002f22\\u002f21\",\"1\\u002f23\\u002f21\",\"1\\u002f24\\u002f21\",\"1\\u002f25\\u002f21\",\"1\\u002f26\\u002f21\",\"1\\u002f27\\u002f21\",\"1\\u002f28\\u002f21\",\"1\\u002f29\\u002f21\",\"1\\u002f30\\u002f21\",\"1\\u002f31\\u002f21\",\"2\\u002f1\\u002f21\",\"2\\u002f2\\u002f21\",\"2\\u002f3\\u002f21\",\"2\\u002f4\\u002f21\",\"2\\u002f5\\u002f21\",\"2\\u002f6\\u002f21\",\"2\\u002f7\\u002f21\",\"2\\u002f8\\u002f21\",\"2\\u002f9\\u002f21\",\"2\\u002f10\\u002f21\",\"2\\u002f11\\u002f21\",\"2\\u002f12\\u002f21\",\"2\\u002f13\\u002f21\",\"2\\u002f14\\u002f21\",\"2\\u002f15\\u002f21\",\"2\\u002f16\\u002f21\",\"2\\u002f17\\u002f21\",\"2\\u002f18\\u002f21\",\"2\\u002f19\\u002f21\",\"2\\u002f20\\u002f21\",\"2\\u002f21\\u002f21\",\"2\\u002f22\\u002f21\",\"2\\u002f23\\u002f21\",\"2\\u002f24\\u002f21\",\"2\\u002f25\\u002f21\",\"2\\u002f26\\u002f21\",\"2\\u002f27\\u002f21\",\"2\\u002f28\\u002f21\",\"3\\u002f1\\u002f21\",\"3\\u002f2\\u002f21\",\"3\\u002f3\\u002f21\",\"3\\u002f4\\u002f21\",\"3\\u002f5\\u002f21\",\"3\\u002f6\\u002f21\",\"3\\u002f7\\u002f21\",\"3\\u002f8\\u002f21\",\"3\\u002f9\\u002f21\",\"3\\u002f10\\u002f21\",\"3\\u002f11\\u002f21\",\"3\\u002f12\\u002f21\",\"3\\u002f13\\u002f21\",\"3\\u002f14\\u002f21\",\"3\\u002f15\\u002f21\",\"3\\u002f16\\u002f21\",\"3\\u002f17\\u002f21\",\"3\\u002f18\\u002f21\",\"3\\u002f19\\u002f21\",\"3\\u002f20\\u002f21\",\"3\\u002f21\\u002f21\",\"3\\u002f22\\u002f21\",\"3\\u002f23\\u002f21\",\"3\\u002f24\\u002f21\",\"3\\u002f25\\u002f21\",\"3\\u002f26\\u002f21\",\"3\\u002f27\\u002f21\",\"3\\u002f28\\u002f21\",\"3\\u002f29\\u002f21\",\"3\\u002f30\\u002f21\",\"3\\u002f31\\u002f21\",\"4\\u002f1\\u002f21\",\"4\\u002f2\\u002f21\",\"4\\u002f3\\u002f21\",\"4\\u002f4\\u002f21\",\"4\\u002f5\\u002f21\",\"4\\u002f6\\u002f21\",\"4\\u002f7\\u002f21\",\"4\\u002f8\\u002f21\",\"4\\u002f9\\u002f21\",\"4\\u002f10\\u002f21\",\"4\\u002f11\\u002f21\",\"4\\u002f12\\u002f21\",\"4\\u002f13\\u002f21\",\"4\\u002f14\\u002f21\",\"4\\u002f15\\u002f21\",\"4\\u002f16\\u002f21\",\"4\\u002f17\\u002f21\",\"4\\u002f18\\u002f21\",\"4\\u002f19\\u002f21\",\"4\\u002f20\\u002f21\",\"4\\u002f21\\u002f21\",\"4\\u002f22\\u002f21\",\"4\\u002f23\\u002f21\",\"4\\u002f24\\u002f21\",\"4\\u002f25\\u002f21\",\"4\\u002f26\\u002f21\",\"4\\u002f27\\u002f21\",\"4\\u002f28\\u002f21\",\"4\\u002f29\\u002f21\",\"4\\u002f30\\u002f21\",\"5\\u002f1\\u002f21\",\"5\\u002f2\\u002f21\",\"5\\u002f3\\u002f21\",\"5\\u002f4\\u002f21\",\"5\\u002f5\\u002f21\",\"5\\u002f6\\u002f21\",\"5\\u002f7\\u002f21\",\"5\\u002f8\\u002f21\",\"5\\u002f9\\u002f21\",\"5\\u002f10\\u002f21\",\"5\\u002f11\\u002f21\",\"5\\u002f12\\u002f21\",\"5\\u002f13\\u002f21\",\"5\\u002f14\\u002f21\",\"5\\u002f15\\u002f21\",\"5\\u002f16\\u002f21\",\"5\\u002f17\\u002f21\",\"5\\u002f18\\u002f21\",\"5\\u002f19\\u002f21\",\"5\\u002f20\\u002f21\",\"5\\u002f21\\u002f21\",\"5\\u002f22\\u002f21\",\"5\\u002f23\\u002f21\",\"5\\u002f24\\u002f21\",\"5\\u002f25\\u002f21\",\"5\\u002f26\\u002f21\",\"5\\u002f27\\u002f21\",\"5\\u002f28\\u002f21\",\"5\\u002f29\\u002f21\",\"5\\u002f30\\u002f21\",\"5\\u002f31\\u002f21\",\"6\\u002f1\\u002f21\",\"6\\u002f2\\u002f21\",\"6\\u002f3\\u002f21\",\"6\\u002f4\\u002f21\",\"6\\u002f5\\u002f21\",\"6\\u002f6\\u002f21\",\"6\\u002f7\\u002f21\",\"6\\u002f8\\u002f21\",\"6\\u002f9\\u002f21\",\"6\\u002f10\\u002f21\",\"6\\u002f11\\u002f21\",\"6\\u002f12\\u002f21\",\"6\\u002f13\\u002f21\",\"6\\u002f14\\u002f21\",\"6\\u002f15\\u002f21\",\"6\\u002f16\\u002f21\",\"6\\u002f17\\u002f21\",\"6\\u002f18\\u002f21\",\"6\\u002f19\\u002f21\",\"6\\u002f20\\u002f21\",\"6\\u002f21\\u002f21\",\"6\\u002f22\\u002f21\",\"6\\u002f23\\u002f21\",\"6\\u002f24\\u002f21\",\"6\\u002f25\\u002f21\",\"6\\u002f26\\u002f21\",\"6\\u002f27\\u002f21\",\"6\\u002f28\\u002f21\",\"6\\u002f29\\u002f21\",\"6\\u002f30\\u002f21\",\"7\\u002f1\\u002f21\",\"7\\u002f2\\u002f21\",\"7\\u002f3\\u002f21\",\"7\\u002f4\\u002f21\",\"7\\u002f5\\u002f21\",\"7\\u002f6\\u002f21\",\"7\\u002f7\\u002f21\",\"7\\u002f8\\u002f21\",\"7\\u002f9\\u002f21\",\"7\\u002f10\\u002f21\",\"7\\u002f11\\u002f21\",\"7\\u002f12\\u002f21\",\"7\\u002f13\\u002f21\",\"7\\u002f14\\u002f21\",\"7\\u002f15\\u002f21\",\"7\\u002f16\\u002f21\",\"7\\u002f17\\u002f21\",\"7\\u002f18\\u002f21\",\"7\\u002f19\\u002f21\",\"7\\u002f20\\u002f21\",\"7\\u002f21\\u002f21\",\"7\\u002f22\\u002f21\",\"7\\u002f23\\u002f21\",\"7\\u002f24\\u002f21\",\"7\\u002f25\\u002f21\",\"7\\u002f26\\u002f21\",\"7\\u002f27\\u002f21\",\"7\\u002f28\\u002f21\",\"7\\u002f29\\u002f21\",\"7\\u002f30\\u002f21\",\"7\\u002f31\\u002f21\",\"8\\u002f1\\u002f21\",\"8\\u002f2\\u002f21\",\"8\\u002f3\\u002f21\",\"8\\u002f4\\u002f21\",\"8\\u002f5\\u002f21\",\"8\\u002f6\\u002f21\",\"8\\u002f7\\u002f21\",\"8\\u002f8\\u002f21\",\"8\\u002f9\\u002f21\",\"8\\u002f10\\u002f21\",\"8\\u002f11\\u002f21\",\"8\\u002f12\\u002f21\",\"8\\u002f13\\u002f21\",\"8\\u002f14\\u002f21\",\"8\\u002f15\\u002f21\",\"8\\u002f16\\u002f21\",\"8\\u002f17\\u002f21\",\"8\\u002f18\\u002f21\",\"8\\u002f19\\u002f21\",\"8\\u002f20\\u002f21\",\"8\\u002f21\\u002f21\",\"8\\u002f22\\u002f21\",\"8\\u002f23\\u002f21\",\"8\\u002f24\\u002f21\",\"8\\u002f25\\u002f21\",\"8\\u002f26\\u002f21\",\"8\\u002f27\\u002f21\",\"8\\u002f28\\u002f21\",\"8\\u002f29\\u002f21\",\"8\\u002f30\\u002f21\",\"8\\u002f31\\u002f21\",\"9\\u002f1\\u002f21\",\"9\\u002f2\\u002f21\",\"9\\u002f3\\u002f21\",\"9\\u002f4\\u002f21\",\"9\\u002f5\\u002f21\",\"9\\u002f6\\u002f21\",\"9\\u002f7\\u002f21\",\"9\\u002f8\\u002f21\",\"9\\u002f9\\u002f21\",\"9\\u002f10\\u002f21\",\"9\\u002f11\\u002f21\",\"9\\u002f12\\u002f21\",\"9\\u002f13\\u002f21\",\"9\\u002f14\\u002f21\",\"9\\u002f15\\u002f21\",\"9\\u002f16\\u002f21\",\"9\\u002f17\\u002f21\",\"9\\u002f18\\u002f21\",\"9\\u002f19\\u002f21\",\"9\\u002f20\\u002f21\",\"9\\u002f21\\u002f21\",\"9\\u002f22\\u002f21\",\"9\\u002f23\\u002f21\",\"9\\u002f24\\u002f21\",\"9\\u002f25\\u002f21\",\"9\\u002f26\\u002f21\",\"9\\u002f27\\u002f21\",\"9\\u002f28\\u002f21\",\"9\\u002f29\\u002f21\",\"9\\u002f30\\u002f21\",\"10\\u002f1\\u002f21\",\"10\\u002f2\\u002f21\",\"10\\u002f3\\u002f21\",\"10\\u002f4\\u002f21\",\"10\\u002f5\\u002f21\",\"10\\u002f6\\u002f21\",\"10\\u002f7\\u002f21\",\"10\\u002f8\\u002f21\",\"10\\u002f9\\u002f21\",\"10\\u002f10\\u002f21\",\"10\\u002f11\\u002f21\",\"10\\u002f12\\u002f21\",\"10\\u002f13\\u002f21\",\"10\\u002f14\\u002f21\",\"10\\u002f15\\u002f21\",\"10\\u002f16\\u002f21\",\"10\\u002f17\\u002f21\",\"10\\u002f18\\u002f21\",\"10\\u002f19\\u002f21\",\"10\\u002f20\\u002f21\",\"10\\u002f21\\u002f21\",\"10\\u002f22\\u002f21\",\"10\\u002f23\\u002f21\",\"10\\u002f24\\u002f21\",\"10\\u002f25\\u002f21\",\"10\\u002f26\\u002f21\",\"10\\u002f27\\u002f21\",\"10\\u002f28\\u002f21\",\"10\\u002f29\\u002f21\",\"10\\u002f30\\u002f21\",\"10\\u002f31\\u002f21\",\"11\\u002f1\\u002f21\",\"11\\u002f2\\u002f21\",\"11\\u002f3\\u002f21\",\"11\\u002f4\\u002f21\",\"11\\u002f5\\u002f21\",\"11\\u002f6\\u002f21\",\"11\\u002f7\\u002f21\",\"11\\u002f8\\u002f21\",\"11\\u002f9\\u002f21\",\"11\\u002f10\\u002f21\",\"11\\u002f11\\u002f21\",\"11\\u002f12\\u002f21\",\"11\\u002f13\\u002f21\",\"11\\u002f14\\u002f21\",\"11\\u002f15\\u002f21\",\"11\\u002f16\\u002f21\",\"11\\u002f17\\u002f21\",\"11\\u002f18\\u002f21\",\"11\\u002f19\\u002f21\",\"11\\u002f20\\u002f21\",\"11\\u002f21\\u002f21\",\"11\\u002f22\\u002f21\",\"11\\u002f23\\u002f21\",\"11\\u002f24\\u002f21\",\"11\\u002f25\\u002f21\",\"11\\u002f26\\u002f21\",\"11\\u002f27\\u002f21\",\"11\\u002f28\\u002f21\",\"11\\u002f29\\u002f21\",\"11\\u002f30\\u002f21\",\"12\\u002f1\\u002f21\",\"12\\u002f2\\u002f21\",\"12\\u002f3\\u002f21\",\"12\\u002f4\\u002f21\",\"12\\u002f5\\u002f21\",\"12\\u002f6\\u002f21\",\"12\\u002f7\\u002f21\",\"12\\u002f8\\u002f21\",\"12\\u002f9\\u002f21\",\"12\\u002f10\\u002f21\",\"12\\u002f11\\u002f21\",\"12\\u002f12\\u002f21\",\"12\\u002f13\\u002f21\",\"12\\u002f14\\u002f21\",\"12\\u002f15\\u002f21\",\"12\\u002f16\\u002f21\",\"12\\u002f17\\u002f21\",\"12\\u002f18\\u002f21\",\"12\\u002f19\\u002f21\",\"12\\u002f20\\u002f21\",\"12\\u002f21\\u002f21\",\"12\\u002f22\\u002f21\",\"12\\u002f23\\u002f21\",\"12\\u002f24\\u002f21\",\"12\\u002f25\\u002f21\",\"12\\u002f26\\u002f21\",\"12\\u002f27\\u002f21\",\"12\\u002f28\\u002f21\",\"12\\u002f29\\u002f21\",\"12\\u002f30\\u002f21\",\"12\\u002f31\\u002f21\",\"1\\u002f1\\u002f22\",\"1\\u002f2\\u002f22\",\"1\\u002f3\\u002f22\",\"1\\u002f4\\u002f22\",\"1\\u002f5\\u002f22\",\"1\\u002f6\\u002f22\",\"1\\u002f7\\u002f22\",\"1\\u002f8\\u002f22\",\"1\\u002f9\\u002f22\",\"1\\u002f10\\u002f22\",\"1\\u002f11\\u002f22\",\"1\\u002f12\\u002f22\",\"1\\u002f13\\u002f22\",\"1\\u002f14\\u002f22\",\"1\\u002f15\\u002f22\",\"1\\u002f16\\u002f22\",\"1\\u002f17\\u002f22\",\"1\\u002f18\\u002f22\",\"1\\u002f19\\u002f22\",\"1\\u002f20\\u002f22\",\"1\\u002f21\\u002f22\",\"1\\u002f22\\u002f22\",\"1\\u002f23\\u002f22\",\"1\\u002f24\\u002f22\",\"1\\u002f25\\u002f22\",\"1\\u002f26\\u002f22\",\"1\\u002f27\\u002f22\",\"1\\u002f28\\u002f22\",\"1\\u002f29\\u002f22\",\"1\\u002f30\\u002f22\",\"1\\u002f31\\u002f22\",\"2\\u002f1\\u002f22\",\"2\\u002f2\\u002f22\",\"2\\u002f3\\u002f22\",\"2\\u002f4\\u002f22\",\"2\\u002f5\\u002f22\",\"2\\u002f6\\u002f22\",\"2\\u002f7\\u002f22\",\"2\\u002f8\\u002f22\",\"2\\u002f9\\u002f22\",\"2\\u002f10\\u002f22\",\"2\\u002f11\\u002f22\",\"2\\u002f12\\u002f22\",\"2\\u002f13\\u002f22\",\"2\\u002f14\\u002f22\",\"2\\u002f15\\u002f22\",\"2\\u002f16\\u002f22\",\"2\\u002f17\\u002f22\",\"2\\u002f18\\u002f22\",\"2\\u002f19\\u002f22\",\"2\\u002f20\\u002f22\",\"2\\u002f21\\u002f22\",\"2\\u002f22\\u002f22\",\"2\\u002f23\\u002f22\",\"2\\u002f24\\u002f22\",\"2\\u002f25\\u002f22\",\"2\\u002f26\\u002f22\",\"2\\u002f27\\u002f22\",\"2\\u002f28\\u002f22\",\"3\\u002f1\\u002f22\",\"3\\u002f2\\u002f22\",\"3\\u002f3\\u002f22\",\"3\\u002f4\\u002f22\",\"3\\u002f5\\u002f22\",\"3\\u002f6\\u002f22\",\"3\\u002f7\\u002f22\",\"3\\u002f8\\u002f22\",\"3\\u002f9\\u002f22\",\"3\\u002f10\\u002f22\",\"3\\u002f11\\u002f22\",\"3\\u002f12\\u002f22\",\"3\\u002f13\\u002f22\",\"3\\u002f14\\u002f22\",\"3\\u002f15\\u002f22\",\"3\\u002f16\\u002f22\",\"3\\u002f17\\u002f22\",\"3\\u002f18\\u002f22\",\"3\\u002f19\\u002f22\",\"3\\u002f20\\u002f22\",\"3\\u002f21\\u002f22\",\"3\\u002f22\\u002f22\",\"3\\u002f23\\u002f22\",\"3\\u002f24\\u002f22\",\"3\\u002f25\\u002f22\",\"3\\u002f26\\u002f22\",\"3\\u002f27\\u002f22\",\"3\\u002f28\\u002f22\",\"3\\u002f29\\u002f22\",\"3\\u002f30\\u002f22\",\"3\\u002f31\\u002f22\",\"4\\u002f1\\u002f22\",\"4\\u002f2\\u002f22\",\"4\\u002f3\\u002f22\",\"4\\u002f4\\u002f22\",\"4\\u002f5\\u002f22\",\"4\\u002f6\\u002f22\",\"4\\u002f7\\u002f22\",\"4\\u002f8\\u002f22\",\"4\\u002f9\\u002f22\",\"4\\u002f10\\u002f22\",\"4\\u002f11\\u002f22\",\"4\\u002f12\\u002f22\",\"4\\u002f13\\u002f22\",\"4\\u002f14\\u002f22\",\"4\\u002f15\\u002f22\",\"4\\u002f16\\u002f22\",\"4\\u002f17\\u002f22\",\"4\\u002f18\\u002f22\",\"4\\u002f19\\u002f22\",\"4\\u002f20\\u002f22\",\"4\\u002f21\\u002f22\",\"4\\u002f22\\u002f22\",\"4\\u002f23\\u002f22\",\"4\\u002f24\\u002f22\",\"4\\u002f25\\u002f22\",\"4\\u002f26\\u002f22\",\"4\\u002f27\\u002f22\",\"4\\u002f28\\u002f22\",\"4\\u002f29\\u002f22\",\"4\\u002f30\\u002f22\",\"5\\u002f1\\u002f22\",\"5\\u002f2\\u002f22\",\"5\\u002f3\\u002f22\",\"5\\u002f4\\u002f22\",\"5\\u002f5\\u002f22\",\"5\\u002f6\\u002f22\",\"5\\u002f7\\u002f22\",\"5\\u002f8\\u002f22\",\"5\\u002f9\\u002f22\",\"5\\u002f10\\u002f22\",\"5\\u002f11\\u002f22\",\"5\\u002f12\\u002f22\",\"5\\u002f13\\u002f22\",\"5\\u002f14\\u002f22\",\"5\\u002f15\\u002f22\",\"5\\u002f16\\u002f22\",\"5\\u002f17\\u002f22\",\"5\\u002f18\\u002f22\",\"5\\u002f19\\u002f22\",\"5\\u002f20\\u002f22\",\"5\\u002f21\\u002f22\",\"5\\u002f22\\u002f22\",\"5\\u002f23\\u002f22\",\"5\\u002f24\\u002f22\",\"5\\u002f25\\u002f22\",\"5\\u002f26\\u002f22\",\"5\\u002f27\\u002f22\",\"5\\u002f28\\u002f22\",\"5\\u002f29\\u002f22\",\"5\\u002f30\\u002f22\",\"5\\u002f31\\u002f22\",\"6\\u002f1\\u002f22\",\"6\\u002f2\\u002f22\",\"6\\u002f3\\u002f22\",\"6\\u002f4\\u002f22\",\"6\\u002f5\\u002f22\",\"6\\u002f6\\u002f22\",\"6\\u002f7\\u002f22\",\"6\\u002f8\\u002f22\",\"6\\u002f9\\u002f22\",\"6\\u002f10\\u002f22\",\"6\\u002f11\\u002f22\",\"6\\u002f12\\u002f22\",\"6\\u002f13\\u002f22\",\"6\\u002f14\\u002f22\",\"6\\u002f15\\u002f22\",\"6\\u002f16\\u002f22\",\"6\\u002f17\\u002f22\",\"6\\u002f18\\u002f22\",\"6\\u002f19\\u002f22\",\"6\\u002f20\\u002f22\",\"6\\u002f21\\u002f22\",\"6\\u002f22\\u002f22\",\"6\\u002f23\\u002f22\",\"6\\u002f24\\u002f22\",\"6\\u002f25\\u002f22\",\"6\\u002f26\\u002f22\",\"6\\u002f27\\u002f22\",\"6\\u002f28\\u002f22\",\"6\\u002f29\\u002f22\",\"6\\u002f30\\u002f22\",\"7\\u002f1\\u002f22\",\"7\\u002f2\\u002f22\",\"7\\u002f3\\u002f22\",\"7\\u002f4\\u002f22\",\"7\\u002f5\\u002f22\",\"7\\u002f6\\u002f22\",\"7\\u002f7\\u002f22\",\"7\\u002f8\\u002f22\",\"7\\u002f9\\u002f22\",\"7\\u002f10\\u002f22\",\"7\\u002f11\\u002f22\",\"7\\u002f12\\u002f22\",\"7\\u002f13\\u002f22\",\"7\\u002f14\\u002f22\",\"7\\u002f15\\u002f22\",\"7\\u002f16\\u002f22\",\"7\\u002f17\\u002f22\",\"7\\u002f18\\u002f22\",\"7\\u002f19\\u002f22\",\"7\\u002f20\\u002f22\",\"7\\u002f21\\u002f22\",\"7\\u002f22\\u002f22\",\"7\\u002f23\\u002f22\",\"7\\u002f24\\u002f22\",\"7\\u002f25\\u002f22\",\"7\\u002f26\\u002f22\",\"7\\u002f27\\u002f22\",\"7\\u002f28\\u002f22\",\"7\\u002f29\\u002f22\",\"7\\u002f30\\u002f22\",\"7\\u002f31\\u002f22\",\"8\\u002f1\\u002f22\",\"8\\u002f2\\u002f22\",\"8\\u002f3\\u002f22\",\"8\\u002f4\\u002f22\",\"8\\u002f5\\u002f22\",\"8\\u002f6\\u002f22\",\"8\\u002f7\\u002f22\",\"8\\u002f8\\u002f22\",\"8\\u002f9\\u002f22\",\"8\\u002f10\\u002f22\",\"8\\u002f11\\u002f22\",\"8\\u002f12\\u002f22\",\"8\\u002f13\\u002f22\",\"8\\u002f14\\u002f22\",\"8\\u002f15\\u002f22\",\"8\\u002f16\\u002f22\",\"8\\u002f17\\u002f22\",\"8\\u002f18\\u002f22\",\"8\\u002f19\\u002f22\",\"8\\u002f20\\u002f22\",\"8\\u002f21\\u002f22\",\"8\\u002f22\\u002f22\",\"8\\u002f23\\u002f22\",\"8\\u002f24\\u002f22\",\"8\\u002f25\\u002f22\",\"8\\u002f26\\u002f22\",\"8\\u002f27\\u002f22\",\"8\\u002f28\\u002f22\",\"8\\u002f29\\u002f22\",\"8\\u002f30\\u002f22\",\"8\\u002f31\\u002f22\",\"9\\u002f1\\u002f22\",\"9\\u002f2\\u002f22\",\"9\\u002f3\\u002f22\",\"9\\u002f4\\u002f22\",\"9\\u002f5\\u002f22\",\"9\\u002f6\\u002f22\",\"9\\u002f7\\u002f22\",\"9\\u002f8\\u002f22\",\"9\\u002f9\\u002f22\",\"9\\u002f10\\u002f22\",\"9\\u002f11\\u002f22\",\"9\\u002f12\\u002f22\",\"9\\u002f13\\u002f22\",\"9\\u002f14\\u002f22\",\"9\\u002f15\\u002f22\",\"9\\u002f16\\u002f22\",\"9\\u002f17\\u002f22\",\"9\\u002f18\\u002f22\",\"9\\u002f19\\u002f22\",\"9\\u002f20\\u002f22\",\"9\\u002f21\\u002f22\",\"9\\u002f22\\u002f22\",\"9\\u002f23\\u002f22\",\"9\\u002f24\\u002f22\",\"9\\u002f25\\u002f22\",\"9\\u002f26\\u002f22\",\"9\\u002f27\\u002f22\",\"9\\u002f28\\u002f22\",\"9\\u002f29\\u002f22\",\"9\\u002f30\\u002f22\",\"10\\u002f1\\u002f22\",\"10\\u002f2\\u002f22\",\"10\\u002f3\\u002f22\",\"10\\u002f4\\u002f22\",\"10\\u002f5\\u002f22\",\"10\\u002f6\\u002f22\",\"10\\u002f7\\u002f22\",\"10\\u002f8\\u002f22\",\"10\\u002f9\\u002f22\",\"10\\u002f10\\u002f22\",\"10\\u002f11\\u002f22\",\"10\\u002f12\\u002f22\",\"10\\u002f13\\u002f22\",\"10\\u002f14\\u002f22\",\"10\\u002f15\\u002f22\",\"10\\u002f16\\u002f22\",\"10\\u002f17\\u002f22\",\"10\\u002f18\\u002f22\",\"10\\u002f19\\u002f22\",\"10\\u002f20\\u002f22\",\"10\\u002f21\\u002f22\",\"10\\u002f22\\u002f22\",\"10\\u002f23\\u002f22\",\"10\\u002f24\\u002f22\",\"10\\u002f25\\u002f22\",\"10\\u002f26\\u002f22\",\"10\\u002f27\\u002f22\",\"10\\u002f28\\u002f22\",\"10\\u002f29\\u002f22\",\"10\\u002f30\\u002f22\",\"10\\u002f31\\u002f22\",\"11\\u002f1\\u002f22\",\"11\\u002f2\\u002f22\",\"11\\u002f3\\u002f22\",\"11\\u002f4\\u002f22\",\"11\\u002f5\\u002f22\",\"11\\u002f6\\u002f22\",\"11\\u002f7\\u002f22\",\"11\\u002f8\\u002f22\",\"11\\u002f9\\u002f22\",\"11\\u002f10\\u002f22\",\"11\\u002f11\\u002f22\",\"11\\u002f12\\u002f22\",\"11\\u002f13\\u002f22\",\"11\\u002f14\\u002f22\",\"11\\u002f15\\u002f22\",\"11\\u002f16\\u002f22\",\"11\\u002f17\\u002f22\",\"11\\u002f18\\u002f22\",\"11\\u002f19\\u002f22\",\"11\\u002f20\\u002f22\",\"11\\u002f21\\u002f22\",\"11\\u002f22\\u002f22\",\"11\\u002f23\\u002f22\",\"11\\u002f24\\u002f22\",\"11\\u002f25\\u002f22\",\"11\\u002f26\\u002f22\",\"11\\u002f27\\u002f22\",\"11\\u002f28\\u002f22\",\"11\\u002f29\\u002f22\",\"11\\u002f30\\u002f22\",\"12\\u002f1\\u002f22\",\"12\\u002f2\\u002f22\",\"12\\u002f3\\u002f22\",\"12\\u002f4\\u002f22\",\"12\\u002f5\\u002f22\",\"12\\u002f6\\u002f22\",\"12\\u002f7\\u002f22\",\"12\\u002f8\\u002f22\",\"12\\u002f9\\u002f22\",\"12\\u002f10\\u002f22\",\"12\\u002f11\\u002f22\",\"12\\u002f12\\u002f22\",\"12\\u002f13\\u002f22\",\"12\\u002f14\\u002f22\",\"12\\u002f15\\u002f22\",\"12\\u002f16\\u002f22\",\"12\\u002f17\\u002f22\",\"12\\u002f18\\u002f22\",\"12\\u002f19\\u002f22\",\"12\\u002f20\\u002f22\",\"12\\u002f21\\u002f22\",\"12\\u002f22\\u002f22\",\"12\\u002f23\\u002f22\",\"12\\u002f24\\u002f22\",\"12\\u002f25\\u002f22\",\"12\\u002f26\\u002f22\",\"12\\u002f27\\u002f22\",\"12\\u002f28\\u002f22\",\"12\\u002f29\\u002f22\",\"12\\u002f30\\u002f22\",\"12\\u002f31\\u002f22\",\"1\\u002f1\\u002f23\",\"1\\u002f2\\u002f23\",\"1\\u002f3\\u002f23\",\"1\\u002f4\\u002f23\",\"1\\u002f5\\u002f23\",\"1\\u002f6\\u002f23\",\"1\\u002f7\\u002f23\",\"1\\u002f8\\u002f23\",\"1\\u002f9\\u002f23\",\"1\\u002f10\\u002f23\",\"1\\u002f11\\u002f23\",\"1\\u002f12\\u002f23\",\"1\\u002f13\\u002f23\",\"1\\u002f14\\u002f23\",\"1\\u002f15\\u002f23\",\"1\\u002f16\\u002f23\",\"1\\u002f17\\u002f23\",\"1\\u002f18\\u002f23\",\"1\\u002f19\\u002f23\",\"1\\u002f20\\u002f23\",\"1\\u002f21\\u002f23\",\"1\\u002f22\\u002f23\",\"1\\u002f23\\u002f23\",\"1\\u002f24\\u002f23\",\"1\\u002f25\\u002f23\",\"1\\u002f26\\u002f23\",\"1\\u002f27\\u002f23\",\"1\\u002f28\\u002f23\",\"1\\u002f29\\u002f23\",\"1\\u002f30\\u002f23\",\"1\\u002f31\\u002f23\",\"2\\u002f1\\u002f23\",\"2\\u002f2\\u002f23\",\"2\\u002f3\\u002f23\",\"2\\u002f4\\u002f23\",\"2\\u002f5\\u002f23\",\"2\\u002f6\\u002f23\",\"2\\u002f7\\u002f23\",\"2\\u002f8\\u002f23\",\"2\\u002f9\\u002f23\",\"2\\u002f10\\u002f23\",\"2\\u002f11\\u002f23\",\"2\\u002f12\\u002f23\",\"2\\u002f13\\u002f23\",\"2\\u002f14\\u002f23\",\"2\\u002f15\\u002f23\",\"2\\u002f16\\u002f23\",\"2\\u002f17\\u002f23\",\"2\\u002f18\\u002f23\",\"2\\u002f19\\u002f23\",\"2\\u002f20\\u002f23\",\"2\\u002f21\\u002f23\",\"2\\u002f22\\u002f23\",\"2\\u002f23\\u002f23\",\"2\\u002f24\\u002f23\",\"2\\u002f25\\u002f23\",\"2\\u002f26\\u002f23\",\"2\\u002f27\\u002f23\",\"2\\u002f28\\u002f23\",\"3\\u002f1\\u002f23\",\"3\\u002f2\\u002f23\",\"3\\u002f3\\u002f23\",\"3\\u002f4\\u002f23\",\"3\\u002f5\\u002f23\",\"3\\u002f6\\u002f23\",\"3\\u002f7\\u002f23\",\"3\\u002f8\\u002f23\",\"3\\u002f9\\u002f23\"],\"xaxis\":\"x\",\"y\":[944.0,1437.0,2120.0,2929.0,5580.0,6169.0,8237.0,9927.0,12038.0,16787.0,19887.0,23899.0,27644.0,30806.0,34400.0,37131.0,40162.0,42771.0,44814.0,45232.0,60384.0,66912.0,69055.0,71238.0,73273.0,75155.0,75655.0,76216.0,76846.0,78608.0,78990.0,79558.0,80412.0,81384.0,82728.0,84152.0,86023.0,88402.0,90382.0,92994.0,95338.0,98078.0,102062.0,106199.0,109997.0,114292.0,119051.0,126527.0,133283.0,146477.0,157365.0,168598.0,183165.0,198339.0,215900.0,242987.0,272517.0,304944.0,339156.0,381711.0,423594.0,475075.0,535889.0,599820.0,669402.0,725918.0,790929.0,869371.0,955728.0,1038176.0,1122386.0,1182507.0,1254222.0,1328948.0,1397886.0,1480062.0,1567243.0,1653665.0,1729180.0,1847761.0,1919593.0,2004226.0,2082482.0,2176950.0,2264830.0,2343082.0,2419404.0,2495886.0,2571973.0,2654011.0,2736728.0,2820291.0,2903496.0,2974291.0,3045275.0,3121107.0,3198435.0,3282087.0,3371033.0,3449295.0,3523292.0,3600929.0,3680614.0,3771036.0,3860174.0,3950657.0,4035000.0,4110223.0,4186364.0,4271644.0,4355992.0,4451634.0,4547536.0,4641426.0,4719789.0,4808921.0,4904739.0,5010162.0,5116135.0,5223477.0,5327627.0,5420843.0,5509066.0,5601428.0,5703984.0,5823977.0,5945413.0,6080456.0,6183316.0,6283580.0,6406221.0,6517437.0,6655667.0,6789073.0,6918403.0,7029415.0,7132463.0,7258445.0,7395607.0,7531793.0,7659267.0,7793175.0,7925122.0,8050034.0,8193933.0,8337135.0,8480229.0,8661225.0,8847108.0,8940170.0,9082502.0,9250625.0,9422061.0,9601576.0,9794066.0,9970478.0,10138935.0,10291617.0,10475388.0,10690516.0,10895486.0,11098124.0,11287838.0,11474058.0,11642331.0,11851900.0,12067186.0,12291782.0,12524663.0,12737483.0,12930415.0,13124893.0,13345920.0,13575706.0,13820618.0,14058038.0,14293379.0,14505270.0,14713414.0,14956435.0,15231791.0,15511422.0,15794928.0,16044485.0,16256294.0,16490680.0,16754567.0,17024801.0,17306582.0,17594044.0,17840315.0,18070926.0,18276983.0,18542287.0,18817443.0,19104145.0,19386579.0,19651806.0,19884801.0,20118013.0,20383576.0,20658646.0,20948740.0,21255813.0,21504839.0,21714880.0,21927762.0,22187166.0,22464640.0,22736119.0,22998072.0,23261601.0,23464360.0,23692460.0,23937668.0,24219359.0,24506622.0,24790561.0,25051295.0,25271033.0,25535340.0,25802224.0,26084114.0,26369544.0,26671276.0,26944997.0,27173995.0,27391278.0,27637790.0,27923100.0,28227493.0,28543855.0,28832580.0,29081415.0,29348555.0,29629107.0,29934059.0,30249632.0,30576278.0,30869397.0,31124526.0,31384435.0,31668754.0,31980407.0,32301360.0,32631974.0,32918085.0,33165079.0,33426328.0,33709128.0,34033675.0,34352787.0,34682292.0,34979647.0,35240179.0,35551524.0,35867647.0,36216841.0,36576162.0,36936565.0,37292089.0,37581583.0,37871608.0,38190980.0,38571764.0,38978760.0,39389280.0,39761413.0,40092656.0,40467606.0,40856480.0,41296091.0,41778168.0,42272069.0,42728414.0,43087247.0,43570291.0,44038754.0,44560523.0,45111898.0,45683640.0,46155745.0,46594934.0,47143303.0,47708817.0,48200961.0,48820295.0,49443478.0,50042669.0,50533518.0,51043324.0,51614069.0,52238734.0,52878929.0,53539863.0,54126889.0,54617117.0,55142751.0,55745063.0,56367328.0,57021314.0,57695345.0,58287916.0,58785996.0,59320006.0,59910792.0,60527871.0,61117132.0,61812474.0,62420041.0,62915662.0,63422239.0,64037142.0,64677389.0,65367986.0,66064345.0,66706697.0,67250638.0,67785484.0,68416150.0,69081500.0,70576907.0,71282658.0,71931348.0,72470142.0,73021298.0,73669919.0,74387461.0,75126063.0,75847501.0,76483006.0,77030307.0,77576529.0,78227986.0,78910081.0,79603472.0,80096696.0,80629340.0,81042534.0,81541719.0,82213594.0,82938894.0,83778622.0,84342314.0,84946690.0,85467020.0,86024461.0,86765351.0,87556264.0,88426222.0,89261637.0,90017904.0,90619443.0,91233917.0,91926453.0,92669726.0,93428784.0,94212637.0,94869509.0,95397119.0,95914366.0,96507148.0,97194354.0,97863110.0,98526596.0,99103312.0,99565294.0,100046846.0,100608158.0,101209122.0,101824237.0,102413219.0,102928083.0,103324692.0,103767694.0,104233148.0,104758397.0,105230171.0,105766676.0,106201874.0,106553422.0,106893339.0,107300629.0,107741093.0,108184860.0,108614449.0,108994937.0,109303582.0,109584404.0,109944197.0,110330576.0,110741376.0,111151038.0,111526248.0,111845811.0,112141380.0,112534122.0,112979052.0,113432016.0,113873956.0,114270693.0,114578478.0,114883979.0,115197242.0,115639088.0,116097496.0,116546593.0,116960620.0,117335064.0,117640533.0,118054577.0,118513444.0,119003124.0,119492372.0,119947968.0,120313043.0,120667127.0,121134161.0,121679877.0,122227806.0,122790345.0,123288792.0,123729261.0,124150452.0,124656291.0,125285990.0,125938183.0,126578225.0,127162758.0,127655412.0,128114688.0,128676894.0,129350790.0,130060609.0,130705394.0,131245744.0,131805666.0,132302655.0,132910149.0,133573288.0,134409344.0,135156662.0,135827306.0,136536918.0,137150764.0,137914588.0,138725902.0,139547133.0,140406983.0,141200970.0,141901080.0,142592012.0,143431609.0,144320851.0,145220252.0,146127911.0,146952141.0,147680627.0,148369677.0,149208799.0,150107590.0,151001625.0,151892994.0,152687904.0,153375175.0,154065632.0,154850588.0,155692589.0,156565435.0,157400261.0,158188559.0,158837968.0,159463612.0,160189411.0,160956898.0,161691597.0,162401162.0,163032774.0,163579396.0,164122938.0,164742576.0,165414621.0,165696927.0,166323402.0,166895763.0,167377386.0,167828464.0,168361871.0,168930299.0,169477196.0,169982707.0,170463127.0,170853074.0,171240130.0,171700134.0,172187762.0,172668261.0,173093152.0,173489803.0,173812784.0,174134551.0,174504668.0,174922960.0,175376464.0,175798501.0,176166881.0,176469682.0,176778984.0,177153741.0,177542916.0,177938911.0,178342418.0,178689716.0,178994480.0,179291135.0,179701349.0,180097972.0,180507231.0,180924899.0,181287796.0,181599032.0,181932050.0,182313258.0,182712726.0,183148268.0,183590610.0,183964437.0,184292181.0,184670098.0,185120629.0,185585871.0,186067750.0,186580986.0,187002099.0,187371991.0,187806155.0,188331814.0,188869796.0,189446223.0,190042161.0,190531011.0,190951220.0,191440687.0,191973106.0,192529214.0,193094403.0,193822543.0,194254462.0,194700076.0,195240703.0,195847033.0,196497116.0,197139985.0,197872339.0,198389684.0,198872752.0,199443855.0,200078130.0,200758588.0,201444210.0,202263736.0,202825005.0,203292722.0,203911805.0,204557617.0,205288310.0,205994052.0,206795847.0,207348758.0,207815449.0,208479793.0,209162480.0,209898123.0,210609857.0,211395070.0,211954124.0,212402204.0,213086398.0,213763171.0,214500582.0,215237031.0,215988154.0,216545334.0,216992164.0,217664015.0,218284677.0,219003757.0,219680532.0,220404105.0,220900816.0,221347788.0,221825561.0,222482051.0,223119762.0,223759907.0,224418618.0,224887140.0,225258543.0,225836445.0,226386274.0,226953125.0,227540479.0,228163698.0,228687569.0,229050966.0,229581157.0,230069837.0,230604815.0,231152445.0,231701691.0,232075693.0,232431512.0,232914281.0,233365258.0,233856235.0,234346132.0,234868134.0,235218776.0,235527819.0,235974883.0,236397732.0,236904785.0,237366619.0,237842039.0,238182243.0,238498696.0,238886684.0,239324892.0,239781314.0,240234710.0,240692696.0,241034054.0,241347355.0,241775141.0,242206709.0,242683018.0,243145068.0,243637892.0,244008150.0,244317353.0,244769753.0,245196224.0,245710221.0,246193247.0,246687330.0,247061943.0,247410790.0,247868435.0,248272884.0,248797676.0,249315133.0,249839415.0,250245164.0,250585863.0,251110911.0,251580325.0,252153854.0,252674737.0,253274490.0,253670214.0,254018493.0,254620079.0,255126904.0,255742113.0,256363770.0,256978407.0,257416423.0,257796215.0,258500870.0,259093463.0,259751368.0,260348589.0,260962280.0,261381085.0,261770875.0,262513214.0,263113681.0,263816145.0,264523382.0,265254220.0,265726430.0,266146231.0,266849953.0,267489200.0,268200544.0,268898928.0,269592462.0,270059366.0,270485916.0,271179799.0,271816596.0,272556770.0,273300997.0,274068563.0,274598505.0,275083461.0,275893527.0,276652188.0,277566671.0,278578699.0,279434799.0,280116791.0,280692270.0,282033889.0,283370260.0,285075127.0,287025253.0,288728291.0,289931428.0,290849939.0,293188320.0,295801747.0,298385756.0,301054978.0,304008616.0,306145200.0,308150282.0,311401997.0,314432404.0,317879058.0,321066163.0,324382616.0,326810379.0,328981578.0,331759391.0,335523995.0,339607276.0,343341570.0,347151687.0,349801473.0,352184811.0,355817671.0,359471485.0,363233158.0,366932890.0,370611819.0,373175361.0,375352380.0,379211855.0,382341587.0,385526232.0,388720309.0,391675874.0,393779507.0,395542316.0,398516432.0,401116122.0,403549117.0,406363391.0,408788228.0,410513339.0,411919279.0,413962163.0,415832953.0,418072759.0,420135672.0,422119106.0,423596187.0,424789720.0,426495378.0,428169102.0,430086590.0,431874501.0,433528807.0,434802795.0,435854949.0,437463827.0,439062564.0,440722439.0,442497646.0,444260070.0,445550401.0,446660147.0,448401620.0,449985919.0,451976099.0,453847080.0,455719680.0,457280387.0,458418032.0,460415942.0,462225344.0,464464205.0,466542109.0,468433636.0,469913015.0,470873843.0,472753728.0,474730951.0,476534854.0,478319055.0,480078626.0,481203035.0,482053796.0,483898093.0,485649915.0,487247590.0,488810861.0,490229883.0,491102544.0,491795689.0,493029039.0,494394436.0,495614407.0,496892754.0,498067151.0,498809406.0,499371019.0,500357346.0,501476932.0,502551958.0,503514561.0,504173546.0,504728004.0,505135766.0,505593027.0,506611148.0,507572864.0,508494564.0,509326073.0,509804848.0,510170201.0,510807207.0,511586152.0,512270545.0,513029820.0,513674263.0,514028003.0,514337424.0,514784854.0,515456909.0,516084404.0,516684038.0,517314925.0,517654258.0,517933111.0,518623538.0,519264799.0,519959508.0,520612153.0,521185114.0,521623840.0,521997492.0,522587922.0,523196288.0,523956899.0,524552967.0,525179079.0,525546242.0,525862056.0,526355204.0,526949796.0,527593755.0,528096493.0,528666149.0,528995178.0,529271873.0,529616224.0,530241569.0,530939976.0,531470716.0,532014270.0,532267351.0,532530338.0,532965247.0,533576907.0,534283486.0,534848531.0,535405294.0,535689085.0,535887333.0,536415150.0,537272203.0,537994296.0,538577138.0,539110151.0,539338742.0,539607241.0,540362445.0,541178509.0,541984328.0,542767959.0,543545293.0,543862216.0,544148980.0,545021364.0,545963319.0,546896134.0,547974317.0,548925491.0,549284928.0,549643412.0,550495502.0,551700794.0,552926114.0,553979237.0,554985885.0,555489725.0,555912593.0,556965871.0,558188894.0,559615969.0,560618337.0,561620875.0,562173878.0,562633320.0,563831363.0,565376142.0,566978238.0,568132310.0,569227609.0,569864429.0,570415520.0,571389219.0,572585879.0,574012504.0,575128637.0,576504042.0,577080293.0,577625050.0,578498268.0,579688847.0,580844327.0,582298507.0,583199840.0,584378161.0,584876085.0,585692322.0,586732558.0,587759595.0,588765069.0,589518048.0,590154612.0,590615366.0,591470649.0,592553956.0,593544473.0,594489234.0,595290702.0,595865130.0,596349664.0,597060819.0,597949972.0,598834543.0,599699548.0,600401903.0,600854582.0,601260827.0,601837965.0,602585861.0,603339040.0,604018804.0,604676287.0,605052969.0,605423358.0,605881148.0,606554997.0,607171546.0,607755506.0,608281134.0,608594366.0,608908659.0,609393741.0,609942218.0,610640243.0,611251541.0,611707437.0,612002534.0,612257111.0,612673963.0,613227572.0,613745750.0,614365390.0,614883451.0,615148616.0,615371539.0,615794219.0,616393758.0,616943716.0,617587849.0,618060372.0,618301429.0,618502138.0,618822004.0,619422193.0,620005197.0,620645800.0,621221027.0,621440044.0,621658996.0,622112629.0,622802836.0,623353219.0,624016113.0,624494008.0,624712097.0,624904267.0,625380762.0,626009472.0,626536431.0,627131819.0,627563033.0,627745374.0,627906174.0,628292158.0,628887107.0,629354131.0,629825004.0,630188852.0,630387961.0,630555274.0,630855587.0,631257223.0,631605553.0,632099160.0,632543650.0,632744972.0,632931615.0,633236212.0,633687028.0,634121053.0,634581453.0,635069827.0,635312334.0,635495843.0,635842682.0,636346431.0,636832747.0,637312096.0,637942820.0,638190175.0,638412606.0,638754188.0,639328415.0,639919189.0,640339580.0,641037771.0,641308397.0,641571858.0,641977647.0,642708342.0,643244123.0,643950364.0,644711955.0,645011864.0,645269011.0,645774500.0,646399010.0,647032502.0,647841604.0,648512056.0,648786733.0,649085967.0,649658720.0,650436793.0,651122541.0,651873247.0,652605304.0,652905777.0,653189501.0,653775912.0,654484792.0,655205564.0,655963530.0,656604975.0,656949354.0,657135648.0,657655053.0,658309208.0,658946340.0,659617625.0,660199728.0,660463792.0,660778387.0,661198108.0,661660893.0,662231345.0,662966595.0,663685449.0,664042494.0,664369944.0,664718936.0,665113877.0,665620426.0,666097539.0,666533383.0,666754735.0,666951599.0,667166217.0,667518310.0,667896028.0,668220526.0,668562246.0,668715650.0,668830077.0,669001131.0,669272951.0,669567171.0,669848920.0,670086844.0,670220207.0,670344054.0,670503932.0,670734589.0,671032404.0,671291489.0,671529548.0,671632287.0,671721476.0,671867463.0,672065240.0,672295338.0,672554241.0,672696324.0,672828531.0,672906177.0,673044131.0,673237731.0,673477639.0,673685532.0,673878833.0,673969796.0,674056229.0,674143589.0,674323721.0,674569824.0,674790916.0,674933342.0,674978793.0,675044414.0,675171439.0,675322238.0,675542852.0,675731911.0,675914580.0,675968775.0,676024901.0,676082941.0,676213378.0,676392824.0,676570149.0],\"yaxis\":\"y\",\"type\":\"bar\"}],                        {\"template\":{\"data\":{\"histogram2dcontour\":[{\"type\":\"histogram2dcontour\",\"colorbar\":{\"outlinewidth\":0,\"ticks\":\"\"},\"colorscale\":[[0.0,\"#0d0887\"],[0.1111111111111111,\"#46039f\"],[0.2222222222222222,\"#7201a8\"],[0.3333333333333333,\"#9c179e\"],[0.4444444444444444,\"#bd3786\"],[0.5555555555555556,\"#d8576b\"],[0.6666666666666666,\"#ed7953\"],[0.7777777777777778,\"#fb9f3a\"],[0.8888888888888888,\"#fdca26\"],[1.0,\"#f0f921\"]]}],\"choropleth\":[{\"type\":\"choropleth\",\"colorbar\":{\"outlinewidth\":0,\"ticks\":\"\"}}],\"histogram2d\":[{\"type\":\"histogram2d\",\"colorbar\":{\"outlinewidth\":0,\"ticks\":\"\"},\"colorscale\":[[0.0,\"#0d0887\"],[0.1111111111111111,\"#46039f\"],[0.2222222222222222,\"#7201a8\"],[0.3333333333333333,\"#9c179e\"],[0.4444444444444444,\"#bd3786\"],[0.5555555555555556,\"#d8576b\"],[0.6666666666666666,\"#ed7953\"],[0.7777777777777778,\"#fb9f3a\"],[0.8888888888888888,\"#fdca26\"],[1.0,\"#f0f921\"]]}],\"heatmap\":[{\"type\":\"heatmap\",\"colorbar\":{\"outlinewidth\":0,\"ticks\":\"\"},\"colorscale\":[[0.0,\"#0d0887\"],[0.1111111111111111,\"#46039f\"],[0.2222222222222222,\"#7201a8\"],[0.3333333333333333,\"#9c179e\"],[0.4444444444444444,\"#bd3786\"],[0.5555555555555556,\"#d8576b\"],[0.6666666666666666,\"#ed7953\"],[0.7777777777777778,\"#fb9f3a\"],[0.8888888888888888,\"#fdca26\"],[1.0,\"#f0f921\"]]}],\"heatmapgl\":[{\"type\":\"heatmapgl\",\"colorbar\":{\"outlinewidth\":0,\"ticks\":\"\"},\"colorscale\":[[0.0,\"#0d0887\"],[0.1111111111111111,\"#46039f\"],[0.2222222222222222,\"#7201a8\"],[0.3333333333333333,\"#9c179e\"],[0.4444444444444444,\"#bd3786\"],[0.5555555555555556,\"#d8576b\"],[0.6666666666666666,\"#ed7953\"],[0.7777777777777778,\"#fb9f3a\"],[0.8888888888888888,\"#fdca26\"],[1.0,\"#f0f921\"]]}],\"contourcarpet\":[{\"type\":\"contourcarpet\",\"colorbar\":{\"outlinewidth\":0,\"ticks\":\"\"}}],\"contour\":[{\"type\":\"contour\",\"colorbar\":{\"outlinewidth\":0,\"ticks\":\"\"},\"colorscale\":[[0.0,\"#0d0887\"],[0.1111111111111111,\"#46039f\"],[0.2222222222222222,\"#7201a8\"],[0.3333333333333333,\"#9c179e\"],[0.4444444444444444,\"#bd3786\"],[0.5555555555555556,\"#d8576b\"],[0.6666666666666666,\"#ed7953\"],[0.7777777777777778,\"#fb9f3a\"],[0.8888888888888888,\"#fdca26\"],[1.0,\"#f0f921\"]]}],\"surface\":[{\"type\":\"surface\",\"colorbar\":{\"outlinewidth\":0,\"ticks\":\"\"},\"colorscale\":[[0.0,\"#0d0887\"],[0.1111111111111111,\"#46039f\"],[0.2222222222222222,\"#7201a8\"],[0.3333333333333333,\"#9c179e\"],[0.4444444444444444,\"#bd3786\"],[0.5555555555555556,\"#d8576b\"],[0.6666666666666666,\"#ed7953\"],[0.7777777777777778,\"#fb9f3a\"],[0.8888888888888888,\"#fdca26\"],[1.0,\"#f0f921\"]]}],\"mesh3d\":[{\"type\":\"mesh3d\",\"colorbar\":{\"outlinewidth\":0,\"ticks\":\"\"}}],\"scatter\":[{\"fillpattern\":{\"fillmode\":\"overlay\",\"size\":10,\"solidity\":0.2},\"type\":\"scatter\"}],\"parcoords\":[{\"type\":\"parcoords\",\"line\":{\"colorbar\":{\"outlinewidth\":0,\"ticks\":\"\"}}}],\"scatterpolargl\":[{\"type\":\"scatterpolargl\",\"marker\":{\"colorbar\":{\"outlinewidth\":0,\"ticks\":\"\"}}}],\"bar\":[{\"error_x\":{\"color\":\"#2a3f5f\"},\"error_y\":{\"color\":\"#2a3f5f\"},\"marker\":{\"line\":{\"color\":\"#E5ECF6\",\"width\":0.5},\"pattern\":{\"fillmode\":\"overlay\",\"size\":10,\"solidity\":0.2}},\"type\":\"bar\"}],\"scattergeo\":[{\"type\":\"scattergeo\",\"marker\":{\"colorbar\":{\"outlinewidth\":0,\"ticks\":\"\"}}}],\"scatterpolar\":[{\"type\":\"scatterpolar\",\"marker\":{\"colorbar\":{\"outlinewidth\":0,\"ticks\":\"\"}}}],\"histogram\":[{\"marker\":{\"pattern\":{\"fillmode\":\"overlay\",\"size\":10,\"solidity\":0.2}},\"type\":\"histogram\"}],\"scattergl\":[{\"type\":\"scattergl\",\"marker\":{\"colorbar\":{\"outlinewidth\":0,\"ticks\":\"\"}}}],\"scatter3d\":[{\"type\":\"scatter3d\",\"line\":{\"colorbar\":{\"outlinewidth\":0,\"ticks\":\"\"}},\"marker\":{\"colorbar\":{\"outlinewidth\":0,\"ticks\":\"\"}}}],\"scattermapbox\":[{\"type\":\"scattermapbox\",\"marker\":{\"colorbar\":{\"outlinewidth\":0,\"ticks\":\"\"}}}],\"scatterternary\":[{\"type\":\"scatterternary\",\"marker\":{\"colorbar\":{\"outlinewidth\":0,\"ticks\":\"\"}}}],\"scattercarpet\":[{\"type\":\"scattercarpet\",\"marker\":{\"colorbar\":{\"outlinewidth\":0,\"ticks\":\"\"}}}],\"carpet\":[{\"aaxis\":{\"endlinecolor\":\"#2a3f5f\",\"gridcolor\":\"white\",\"linecolor\":\"white\",\"minorgridcolor\":\"white\",\"startlinecolor\":\"#2a3f5f\"},\"baxis\":{\"endlinecolor\":\"#2a3f5f\",\"gridcolor\":\"white\",\"linecolor\":\"white\",\"minorgridcolor\":\"white\",\"startlinecolor\":\"#2a3f5f\"},\"type\":\"carpet\"}],\"table\":[{\"cells\":{\"fill\":{\"color\":\"#EBF0F8\"},\"line\":{\"color\":\"white\"}},\"header\":{\"fill\":{\"color\":\"#C8D4E3\"},\"line\":{\"color\":\"white\"}},\"type\":\"table\"}],\"barpolar\":[{\"marker\":{\"line\":{\"color\":\"#E5ECF6\",\"width\":0.5},\"pattern\":{\"fillmode\":\"overlay\",\"size\":10,\"solidity\":0.2}},\"type\":\"barpolar\"}],\"pie\":[{\"automargin\":true,\"type\":\"pie\"}]},\"layout\":{\"autotypenumbers\":\"strict\",\"colorway\":[\"#636efa\",\"#EF553B\",\"#00cc96\",\"#ab63fa\",\"#FFA15A\",\"#19d3f3\",\"#FF6692\",\"#B6E880\",\"#FF97FF\",\"#FECB52\"],\"font\":{\"color\":\"#2a3f5f\"},\"hovermode\":\"closest\",\"hoverlabel\":{\"align\":\"left\"},\"paper_bgcolor\":\"white\",\"plot_bgcolor\":\"#E5ECF6\",\"polar\":{\"bgcolor\":\"#E5ECF6\",\"angularaxis\":{\"gridcolor\":\"white\",\"linecolor\":\"white\",\"ticks\":\"\"},\"radialaxis\":{\"gridcolor\":\"white\",\"linecolor\":\"white\",\"ticks\":\"\"}},\"ternary\":{\"bgcolor\":\"#E5ECF6\",\"aaxis\":{\"gridcolor\":\"white\",\"linecolor\":\"white\",\"ticks\":\"\"},\"baxis\":{\"gridcolor\":\"white\",\"linecolor\":\"white\",\"ticks\":\"\"},\"caxis\":{\"gridcolor\":\"white\",\"linecolor\":\"white\",\"ticks\":\"\"}},\"coloraxis\":{\"colorbar\":{\"outlinewidth\":0,\"ticks\":\"\"}},\"colorscale\":{\"sequential\":[[0.0,\"#0d0887\"],[0.1111111111111111,\"#46039f\"],[0.2222222222222222,\"#7201a8\"],[0.3333333333333333,\"#9c179e\"],[0.4444444444444444,\"#bd3786\"],[0.5555555555555556,\"#d8576b\"],[0.6666666666666666,\"#ed7953\"],[0.7777777777777778,\"#fb9f3a\"],[0.8888888888888888,\"#fdca26\"],[1.0,\"#f0f921\"]],\"sequentialminus\":[[0.0,\"#0d0887\"],[0.1111111111111111,\"#46039f\"],[0.2222222222222222,\"#7201a8\"],[0.3333333333333333,\"#9c179e\"],[0.4444444444444444,\"#bd3786\"],[0.5555555555555556,\"#d8576b\"],[0.6666666666666666,\"#ed7953\"],[0.7777777777777778,\"#fb9f3a\"],[0.8888888888888888,\"#fdca26\"],[1.0,\"#f0f921\"]],\"diverging\":[[0,\"#8e0152\"],[0.1,\"#c51b7d\"],[0.2,\"#de77ae\"],[0.3,\"#f1b6da\"],[0.4,\"#fde0ef\"],[0.5,\"#f7f7f7\"],[0.6,\"#e6f5d0\"],[0.7,\"#b8e186\"],[0.8,\"#7fbc41\"],[0.9,\"#4d9221\"],[1,\"#276419\"]]},\"xaxis\":{\"gridcolor\":\"white\",\"linecolor\":\"white\",\"ticks\":\"\",\"title\":{\"standoff\":15},\"zerolinecolor\":\"white\",\"automargin\":true,\"zerolinewidth\":2},\"yaxis\":{\"gridcolor\":\"white\",\"linecolor\":\"white\",\"ticks\":\"\",\"title\":{\"standoff\":15},\"zerolinecolor\":\"white\",\"automargin\":true,\"zerolinewidth\":2},\"scene\":{\"xaxis\":{\"backgroundcolor\":\"#E5ECF6\",\"gridcolor\":\"white\",\"linecolor\":\"white\",\"showbackground\":true,\"ticks\":\"\",\"zerolinecolor\":\"white\",\"gridwidth\":2},\"yaxis\":{\"backgroundcolor\":\"#E5ECF6\",\"gridcolor\":\"white\",\"linecolor\":\"white\",\"showbackground\":true,\"ticks\":\"\",\"zerolinecolor\":\"white\",\"gridwidth\":2},\"zaxis\":{\"backgroundcolor\":\"#E5ECF6\",\"gridcolor\":\"white\",\"linecolor\":\"white\",\"showbackground\":true,\"ticks\":\"\",\"zerolinecolor\":\"white\",\"gridwidth\":2}},\"shapedefaults\":{\"line\":{\"color\":\"#2a3f5f\"}},\"annotationdefaults\":{\"arrowcolor\":\"#2a3f5f\",\"arrowhead\":0,\"arrowwidth\":1},\"geo\":{\"bgcolor\":\"white\",\"landcolor\":\"#E5ECF6\",\"subunitcolor\":\"white\",\"showland\":true,\"showlakes\":true,\"lakecolor\":\"white\"},\"title\":{\"x\":0.05},\"mapbox\":{\"style\":\"light\"}}},\"xaxis\":{\"anchor\":\"y\",\"domain\":[0.0,1.0],\"title\":{\"text\":\"Date\"},\"tickvals\":[0,1,2,3,4,5,6,7,8,9,10,11,12,13,14,15,16,17,18,19,20,21,22,23,24,25,26,27,28,29,30,31,32,33,34,35,36,37,38,39,40,41,42,43,44,45,46,47,48,49,50,51,52,53,54,55,56,57,58,59,60,61,62,63,64,65,66,67,68,69,70,71,72,73,74,75,76,77,78,79,80,81,82,83,84,85,86,87,88,89,90,91,92,93,94,95,96,97,98,99,100,101,102,103,104,105,106,107,108,109,110,111,112,113,114,115,116,117,118,119,120,121,122,123,124,125,126,127,128,129,130,131,132,133,134,135,136,137,138,139,140,141,142,143,144,145,146,147,148,149,150,151,152,153,154,155,156,157,158,159,160,161,162,163,164,165,166,167,168,169,170,171,172,173,174,175,176,177,178,179,180,181,182,183,184,185,186,187,188,189,190,191,192,193,194,195,196,197,198,199,200,201,202,203,204,205,206,207,208,209,210,211,212,213,214,215,216,217,218,219,220,221,222,223,224,225,226,227,228,229,230,231,232,233,234,235,236,237,238,239,240,241,242,243,244,245,246,247,248,249,250,251,252,253,254,255,256,257,258,259,260,261,262,263,264,265,266,267,268,269,270,271,272,273,274,275,276,277,278,279,280,281,282,283,284,285,286,287,288,289,290,291,292,293,294,295,296,297,298,299,300,301,302,303,304,305,306,307,308,309,310,311,312,313,314,315,316,317,318,319,320,321,322,323,324,325,326,327,328,329,330,331,332,333,334,335,336,337,338,339,340,341,342,343,344,345,346,347,348,349,350,351,352,353,354,355,356,357,358,359,360,361,362,363,364,365,366,367,368,369,370,371,372,373,374,375,376,377,378,379,380,381,382,383,384,385,386,387,388,389,390,391,392,393,394,395,396,397,398,399,400,401,402,403,404,405,406,407,408,409,410,411,412,413,414,415,416,417,418,419,420,421,422,423,424,425,426,427,428,429,430,431,432,433,434,435,436,437,438,439,440,441,442,443,444,445,446,447,448,449,450,451,452,453,454,455,456,457,458,459,460,461,462,463,464,465,466,467,468,469,470,471,472,473,474,475,476,477,478,479,480,481,482,483,484,485,486,487,488,489,490,491,492,493,494,495,496,497,498,499,500,501,502,503,504,505,506,507,508,509,510,511,512,513,514,515,516,517,518,519,520,521,522,523,524,525,526,527,528,529,530,531,532,533,534,535,536,537,538,539,540,541,542,543,544,545,546,547,548,549,550,551,552,553,554,555,556,557,558,559,560,561,562,563,564,565,566,567,568,569,570,571,572,573,574,575,576,577,578,579,580,581,582,583,584,585,586,587,588,589,590,591,592,593,594,595,596,597,598,599,600,601,602,603,604,605,606,607,608,609,610,611,612,613,614,615,616,617,618,619,620,621,622,623,624,625,626,627,628,629,630,631,632,633,634,635,636,637,638,639,640,641,642,643,644,645,646,647,648,649,650,651,652,653,654,655,656,657,658,659,660,661,662,663,664,665,666,667,668,669,670,671,672,673,674,675,676,677,678,679,680,681,682,683,684,685,686,687,688,689,690,691,692,693,694,695,696,697,698,699,700,701,702,703,704,705,706,707,708,709,710,711,712,713,714,715,716,717,718,719,720,721,722,723,724,725,726,727,728,729,730,731,732,733,734,735,736,737,738,739,740,741,742,743,744,745,746,747,748,749,750,751,752,753,754,755,756,757,758,759,760,761,762,763,764,765,766,767,768,769,770,771,772,773,774,775,776,777,778,779,780,781,782,783,784,785,786,787,788,789,790,791,792,793,794,795,796,797,798,799,800,801,802,803,804,805,806,807,808,809,810,811,812,813,814,815,816,817,818,819,820,821,822,823,824,825,826,827,828,829,830,831,832,833,834,835,836,837,838,839,840,841,842,843,844,845,846,847,848,849,850,851,852,853,854,855,856,857,858,859,860,861,862,863,864,865,866,867,868,869,870,871,872,873,874,875,876,877,878,879,880,881,882,883,884,885,886,887,888,889,890,891,892,893,894,895,896,897,898,899,900,901,902,903,904,905,906,907,908,909,910,911,912,913,914,915,916,917,918,919,920,921,922,923,924,925,926,927,928,929,930,931,932,933,934,935,936,937,938,939,940,941,942,943,944,945,946,947,948,949,950,951,952,953,954,955,956,957,958,959,960,961,962,963,964,965,966,967,968,969,970,971,972,973,974,975,976,977,978,979,980,981,982,983,984,985,986,987,988,989,990,991,992,993,994,995,996,997,998,999,1000,1001,1002,1003,1004,1005,1006,1007,1008,1009,1010,1011,1012,1013,1014,1015,1016,1017,1018,1019,1020,1021,1022,1023,1024,1025,1026,1027,1028,1029,1030,1031,1032,1033,1034,1035,1036,1037,1038,1039,1040,1041,1042,1043,1044,1045,1046,1047,1048,1049,1050,1051,1052,1053,1054,1055,1056,1057,1058,1059,1060,1061,1062,1063,1064,1065,1066,1067,1068,1069,1070,1071,1072,1073,1074,1075,1076,1077,1078,1079,1080,1081,1082,1083,1084,1085,1086,1087,1088,1089,1090,1091,1092,1093,1094,1095,1096,1097,1098,1099,1100,1101,1102,1103,1104,1105,1106,1107,1108,1109,1110,1111,1112,1113,1114,1115,1116,1117,1118,1119,1120,1121,1122,1123,1124,1125,1126,1127,1128,1129,1130,1131,1132,1133,1134,1135,1136,1137,1138,1139,1140],\"ticktext\":[\"1\\u002f24\\u002f20\",\"1\\u002f25\\u002f20\",\"1\\u002f26\\u002f20\",\"1\\u002f27\\u002f20\",\"1\\u002f28\\u002f20\",\"1\\u002f29\\u002f20\",\"1\\u002f30\\u002f20\",\"1\\u002f31\\u002f20\",\"2\\u002f1\\u002f20\",\"2\\u002f2\\u002f20\",\"2\\u002f3\\u002f20\",\"2\\u002f4\\u002f20\",\"2\\u002f5\\u002f20\",\"2\\u002f6\\u002f20\",\"2\\u002f7\\u002f20\",\"2\\u002f8\\u002f20\",\"2\\u002f9\\u002f20\",\"2\\u002f10\\u002f20\",\"2\\u002f11\\u002f20\",\"2\\u002f12\\u002f20\",\"2\\u002f13\\u002f20\",\"2\\u002f14\\u002f20\",\"2\\u002f15\\u002f20\",\"2\\u002f16\\u002f20\",\"2\\u002f17\\u002f20\",\"2\\u002f18\\u002f20\",\"2\\u002f19\\u002f20\",\"2\\u002f20\\u002f20\",\"2\\u002f21\\u002f20\",\"2\\u002f22\\u002f20\",\"2\\u002f23\\u002f20\",\"2\\u002f24\\u002f20\",\"2\\u002f25\\u002f20\",\"2\\u002f26\\u002f20\",\"2\\u002f27\\u002f20\",\"2\\u002f28\\u002f20\",\"2\\u002f29\\u002f20\",\"3\\u002f1\\u002f20\",\"3\\u002f2\\u002f20\",\"3\\u002f3\\u002f20\",\"3\\u002f4\\u002f20\",\"3\\u002f5\\u002f20\",\"3\\u002f6\\u002f20\",\"3\\u002f7\\u002f20\",\"3\\u002f8\\u002f20\",\"3\\u002f9\\u002f20\",\"3\\u002f10\\u002f20\",\"3\\u002f11\\u002f20\",\"3\\u002f12\\u002f20\",\"3\\u002f13\\u002f20\",\"3\\u002f14\\u002f20\",\"3\\u002f15\\u002f20\",\"3\\u002f16\\u002f20\",\"3\\u002f17\\u002f20\",\"3\\u002f18\\u002f20\",\"3\\u002f19\\u002f20\",\"3\\u002f20\\u002f20\",\"3\\u002f21\\u002f20\",\"3\\u002f22\\u002f20\",\"3\\u002f23\\u002f20\",\"3\\u002f24\\u002f20\",\"3\\u002f25\\u002f20\",\"3\\u002f26\\u002f20\",\"3\\u002f27\\u002f20\",\"3\\u002f28\\u002f20\",\"3\\u002f29\\u002f20\",\"3\\u002f30\\u002f20\",\"3\\u002f31\\u002f20\",\"4\\u002f1\\u002f20\",\"4\\u002f2\\u002f20\",\"4\\u002f3\\u002f20\",\"4\\u002f4\\u002f20\",\"4\\u002f5\\u002f20\",\"4\\u002f6\\u002f20\",\"4\\u002f7\\u002f20\",\"4\\u002f8\\u002f20\",\"4\\u002f9\\u002f20\",\"4\\u002f10\\u002f20\",\"4\\u002f11\\u002f20\",\"4\\u002f12\\u002f20\",\"4\\u002f13\\u002f20\",\"4\\u002f14\\u002f20\",\"4\\u002f15\\u002f20\",\"4\\u002f16\\u002f20\",\"4\\u002f17\\u002f20\",\"4\\u002f18\\u002f20\",\"4\\u002f19\\u002f20\",\"4\\u002f20\\u002f20\",\"4\\u002f21\\u002f20\",\"4\\u002f22\\u002f20\",\"4\\u002f23\\u002f20\",\"4\\u002f24\\u002f20\",\"4\\u002f25\\u002f20\",\"4\\u002f26\\u002f20\",\"4\\u002f27\\u002f20\",\"4\\u002f28\\u002f20\",\"4\\u002f29\\u002f20\",\"4\\u002f30\\u002f20\",\"5\\u002f1\\u002f20\",\"5\\u002f2\\u002f20\",\"5\\u002f3\\u002f20\",\"5\\u002f4\\u002f20\",\"5\\u002f5\\u002f20\",\"5\\u002f6\\u002f20\",\"5\\u002f7\\u002f20\",\"5\\u002f8\\u002f20\",\"5\\u002f9\\u002f20\",\"5\\u002f10\\u002f20\",\"5\\u002f11\\u002f20\",\"5\\u002f12\\u002f20\",\"5\\u002f13\\u002f20\",\"5\\u002f14\\u002f20\",\"5\\u002f15\\u002f20\",\"5\\u002f16\\u002f20\",\"5\\u002f17\\u002f20\",\"5\\u002f18\\u002f20\",\"5\\u002f19\\u002f20\",\"5\\u002f20\\u002f20\",\"5\\u002f21\\u002f20\",\"5\\u002f22\\u002f20\",\"5\\u002f23\\u002f20\",\"5\\u002f24\\u002f20\",\"5\\u002f25\\u002f20\",\"5\\u002f26\\u002f20\",\"5\\u002f27\\u002f20\",\"5\\u002f28\\u002f20\",\"5\\u002f29\\u002f20\",\"5\\u002f30\\u002f20\",\"5\\u002f31\\u002f20\",\"6\\u002f1\\u002f20\",\"6\\u002f2\\u002f20\",\"6\\u002f3\\u002f20\",\"6\\u002f4\\u002f20\",\"6\\u002f5\\u002f20\",\"6\\u002f6\\u002f20\",\"6\\u002f7\\u002f20\",\"6\\u002f8\\u002f20\",\"6\\u002f9\\u002f20\",\"6\\u002f10\\u002f20\",\"6\\u002f11\\u002f20\",\"6\\u002f12\\u002f20\",\"6\\u002f13\\u002f20\",\"6\\u002f14\\u002f20\",\"6\\u002f15\\u002f20\",\"6\\u002f16\\u002f20\",\"6\\u002f17\\u002f20\",\"6\\u002f18\\u002f20\",\"6\\u002f19\\u002f20\",\"6\\u002f20\\u002f20\",\"6\\u002f21\\u002f20\",\"6\\u002f22\\u002f20\",\"6\\u002f23\\u002f20\",\"6\\u002f24\\u002f20\",\"6\\u002f25\\u002f20\",\"6\\u002f26\\u002f20\",\"6\\u002f27\\u002f20\",\"6\\u002f28\\u002f20\",\"6\\u002f29\\u002f20\",\"6\\u002f30\\u002f20\",\"7\\u002f1\\u002f20\",\"7\\u002f2\\u002f20\",\"7\\u002f3\\u002f20\",\"7\\u002f4\\u002f20\",\"7\\u002f5\\u002f20\",\"7\\u002f6\\u002f20\",\"7\\u002f7\\u002f20\",\"7\\u002f8\\u002f20\",\"7\\u002f9\\u002f20\",\"7\\u002f10\\u002f20\",\"7\\u002f11\\u002f20\",\"7\\u002f12\\u002f20\",\"7\\u002f13\\u002f20\",\"7\\u002f14\\u002f20\",\"7\\u002f15\\u002f20\",\"7\\u002f16\\u002f20\",\"7\\u002f17\\u002f20\",\"7\\u002f18\\u002f20\",\"7\\u002f19\\u002f20\",\"7\\u002f20\\u002f20\",\"7\\u002f21\\u002f20\",\"7\\u002f22\\u002f20\",\"7\\u002f23\\u002f20\",\"7\\u002f24\\u002f20\",\"7\\u002f25\\u002f20\",\"7\\u002f26\\u002f20\",\"7\\u002f27\\u002f20\",\"7\\u002f28\\u002f20\",\"7\\u002f29\\u002f20\",\"7\\u002f30\\u002f20\",\"7\\u002f31\\u002f20\",\"8\\u002f1\\u002f20\",\"8\\u002f2\\u002f20\",\"8\\u002f3\\u002f20\",\"8\\u002f4\\u002f20\",\"8\\u002f5\\u002f20\",\"8\\u002f6\\u002f20\",\"8\\u002f7\\u002f20\",\"8\\u002f8\\u002f20\",\"8\\u002f9\\u002f20\",\"8\\u002f10\\u002f20\",\"8\\u002f11\\u002f20\",\"8\\u002f12\\u002f20\",\"8\\u002f13\\u002f20\",\"8\\u002f14\\u002f20\",\"8\\u002f15\\u002f20\",\"8\\u002f16\\u002f20\",\"8\\u002f17\\u002f20\",\"8\\u002f18\\u002f20\",\"8\\u002f19\\u002f20\",\"8\\u002f20\\u002f20\",\"8\\u002f21\\u002f20\",\"8\\u002f22\\u002f20\",\"8\\u002f23\\u002f20\",\"8\\u002f24\\u002f20\",\"8\\u002f25\\u002f20\",\"8\\u002f26\\u002f20\",\"8\\u002f27\\u002f20\",\"8\\u002f28\\u002f20\",\"8\\u002f29\\u002f20\",\"8\\u002f30\\u002f20\",\"8\\u002f31\\u002f20\",\"9\\u002f1\\u002f20\",\"9\\u002f2\\u002f20\",\"9\\u002f3\\u002f20\",\"9\\u002f4\\u002f20\",\"9\\u002f5\\u002f20\",\"9\\u002f6\\u002f20\",\"9\\u002f7\\u002f20\",\"9\\u002f8\\u002f20\",\"9\\u002f9\\u002f20\",\"9\\u002f10\\u002f20\",\"9\\u002f11\\u002f20\",\"9\\u002f12\\u002f20\",\"9\\u002f13\\u002f20\",\"9\\u002f14\\u002f20\",\"9\\u002f15\\u002f20\",\"9\\u002f16\\u002f20\",\"9\\u002f17\\u002f20\",\"9\\u002f18\\u002f20\",\"9\\u002f19\\u002f20\",\"9\\u002f20\\u002f20\",\"9\\u002f21\\u002f20\",\"9\\u002f22\\u002f20\",\"9\\u002f23\\u002f20\",\"9\\u002f24\\u002f20\",\"9\\u002f25\\u002f20\",\"9\\u002f26\\u002f20\",\"9\\u002f27\\u002f20\",\"9\\u002f28\\u002f20\",\"9\\u002f29\\u002f20\",\"9\\u002f30\\u002f20\",\"10\\u002f1\\u002f20\",\"10\\u002f2\\u002f20\",\"10\\u002f3\\u002f20\",\"10\\u002f4\\u002f20\",\"10\\u002f5\\u002f20\",\"10\\u002f6\\u002f20\",\"10\\u002f7\\u002f20\",\"10\\u002f8\\u002f20\",\"10\\u002f9\\u002f20\",\"10\\u002f10\\u002f20\",\"10\\u002f11\\u002f20\",\"10\\u002f12\\u002f20\",\"10\\u002f13\\u002f20\",\"10\\u002f14\\u002f20\",\"10\\u002f15\\u002f20\",\"10\\u002f16\\u002f20\",\"10\\u002f17\\u002f20\",\"10\\u002f18\\u002f20\",\"10\\u002f19\\u002f20\",\"10\\u002f20\\u002f20\",\"10\\u002f21\\u002f20\",\"10\\u002f22\\u002f20\",\"10\\u002f23\\u002f20\",\"10\\u002f24\\u002f20\",\"10\\u002f25\\u002f20\",\"10\\u002f26\\u002f20\",\"10\\u002f27\\u002f20\",\"10\\u002f28\\u002f20\",\"10\\u002f29\\u002f20\",\"10\\u002f30\\u002f20\",\"10\\u002f31\\u002f20\",\"11\\u002f1\\u002f20\",\"11\\u002f2\\u002f20\",\"11\\u002f3\\u002f20\",\"11\\u002f4\\u002f20\",\"11\\u002f5\\u002f20\",\"11\\u002f6\\u002f20\",\"11\\u002f7\\u002f20\",\"11\\u002f8\\u002f20\",\"11\\u002f9\\u002f20\",\"11\\u002f10\\u002f20\",\"11\\u002f11\\u002f20\",\"11\\u002f12\\u002f20\",\"11\\u002f13\\u002f20\",\"11\\u002f14\\u002f20\",\"11\\u002f15\\u002f20\",\"11\\u002f16\\u002f20\",\"11\\u002f17\\u002f20\",\"11\\u002f18\\u002f20\",\"11\\u002f19\\u002f20\",\"11\\u002f20\\u002f20\",\"11\\u002f21\\u002f20\",\"11\\u002f22\\u002f20\",\"11\\u002f23\\u002f20\",\"11\\u002f24\\u002f20\",\"11\\u002f25\\u002f20\",\"11\\u002f26\\u002f20\",\"11\\u002f27\\u002f20\",\"11\\u002f28\\u002f20\",\"11\\u002f29\\u002f20\",\"11\\u002f30\\u002f20\",\"12\\u002f1\\u002f20\",\"12\\u002f2\\u002f20\",\"12\\u002f3\\u002f20\",\"12\\u002f4\\u002f20\",\"12\\u002f5\\u002f20\",\"12\\u002f6\\u002f20\",\"12\\u002f7\\u002f20\",\"12\\u002f8\\u002f20\",\"12\\u002f9\\u002f20\",\"12\\u002f10\\u002f20\",\"12\\u002f11\\u002f20\",\"12\\u002f12\\u002f20\",\"12\\u002f13\\u002f20\",\"12\\u002f14\\u002f20\",\"12\\u002f15\\u002f20\",\"12\\u002f16\\u002f20\",\"12\\u002f17\\u002f20\",\"12\\u002f18\\u002f20\",\"12\\u002f19\\u002f20\",\"12\\u002f20\\u002f20\",\"12\\u002f21\\u002f20\",\"12\\u002f22\\u002f20\",\"12\\u002f23\\u002f20\",\"12\\u002f24\\u002f20\",\"12\\u002f25\\u002f20\",\"12\\u002f26\\u002f20\",\"12\\u002f27\\u002f20\",\"12\\u002f28\\u002f20\",\"12\\u002f29\\u002f20\",\"12\\u002f30\\u002f20\",\"12\\u002f31\\u002f20\",\"1\\u002f1\\u002f21\",\"1\\u002f2\\u002f21\",\"1\\u002f3\\u002f21\",\"1\\u002f4\\u002f21\",\"1\\u002f5\\u002f21\",\"1\\u002f6\\u002f21\",\"1\\u002f7\\u002f21\",\"1\\u002f8\\u002f21\",\"1\\u002f9\\u002f21\",\"1\\u002f10\\u002f21\",\"1\\u002f11\\u002f21\",\"1\\u002f12\\u002f21\",\"1\\u002f13\\u002f21\",\"1\\u002f14\\u002f21\",\"1\\u002f15\\u002f21\",\"1\\u002f16\\u002f21\",\"1\\u002f17\\u002f21\",\"1\\u002f18\\u002f21\",\"1\\u002f19\\u002f21\",\"1\\u002f20\\u002f21\",\"1\\u002f21\\u002f21\",\"1\\u002f22\\u002f21\",\"1\\u002f23\\u002f21\",\"1\\u002f24\\u002f21\",\"1\\u002f25\\u002f21\",\"1\\u002f26\\u002f21\",\"1\\u002f27\\u002f21\",\"1\\u002f28\\u002f21\",\"1\\u002f29\\u002f21\",\"1\\u002f30\\u002f21\",\"1\\u002f31\\u002f21\",\"2\\u002f1\\u002f21\",\"2\\u002f2\\u002f21\",\"2\\u002f3\\u002f21\",\"2\\u002f4\\u002f21\",\"2\\u002f5\\u002f21\",\"2\\u002f6\\u002f21\",\"2\\u002f7\\u002f21\",\"2\\u002f8\\u002f21\",\"2\\u002f9\\u002f21\",\"2\\u002f10\\u002f21\",\"2\\u002f11\\u002f21\",\"2\\u002f12\\u002f21\",\"2\\u002f13\\u002f21\",\"2\\u002f14\\u002f21\",\"2\\u002f15\\u002f21\",\"2\\u002f16\\u002f21\",\"2\\u002f17\\u002f21\",\"2\\u002f18\\u002f21\",\"2\\u002f19\\u002f21\",\"2\\u002f20\\u002f21\",\"2\\u002f21\\u002f21\",\"2\\u002f22\\u002f21\",\"2\\u002f23\\u002f21\",\"2\\u002f24\\u002f21\",\"2\\u002f25\\u002f21\",\"2\\u002f26\\u002f21\",\"2\\u002f27\\u002f21\",\"2\\u002f28\\u002f21\",\"3\\u002f1\\u002f21\",\"3\\u002f2\\u002f21\",\"3\\u002f3\\u002f21\",\"3\\u002f4\\u002f21\",\"3\\u002f5\\u002f21\",\"3\\u002f6\\u002f21\",\"3\\u002f7\\u002f21\",\"3\\u002f8\\u002f21\",\"3\\u002f9\\u002f21\",\"3\\u002f10\\u002f21\",\"3\\u002f11\\u002f21\",\"3\\u002f12\\u002f21\",\"3\\u002f13\\u002f21\",\"3\\u002f14\\u002f21\",\"3\\u002f15\\u002f21\",\"3\\u002f16\\u002f21\",\"3\\u002f17\\u002f21\",\"3\\u002f18\\u002f21\",\"3\\u002f19\\u002f21\",\"3\\u002f20\\u002f21\",\"3\\u002f21\\u002f21\",\"3\\u002f22\\u002f21\",\"3\\u002f23\\u002f21\",\"3\\u002f24\\u002f21\",\"3\\u002f25\\u002f21\",\"3\\u002f26\\u002f21\",\"3\\u002f27\\u002f21\",\"3\\u002f28\\u002f21\",\"3\\u002f29\\u002f21\",\"3\\u002f30\\u002f21\",\"3\\u002f31\\u002f21\",\"4\\u002f1\\u002f21\",\"4\\u002f2\\u002f21\",\"4\\u002f3\\u002f21\",\"4\\u002f4\\u002f21\",\"4\\u002f5\\u002f21\",\"4\\u002f6\\u002f21\",\"4\\u002f7\\u002f21\",\"4\\u002f8\\u002f21\",\"4\\u002f9\\u002f21\",\"4\\u002f10\\u002f21\",\"4\\u002f11\\u002f21\",\"4\\u002f12\\u002f21\",\"4\\u002f13\\u002f21\",\"4\\u002f14\\u002f21\",\"4\\u002f15\\u002f21\",\"4\\u002f16\\u002f21\",\"4\\u002f17\\u002f21\",\"4\\u002f18\\u002f21\",\"4\\u002f19\\u002f21\",\"4\\u002f20\\u002f21\",\"4\\u002f21\\u002f21\",\"4\\u002f22\\u002f21\",\"4\\u002f23\\u002f21\",\"4\\u002f24\\u002f21\",\"4\\u002f25\\u002f21\",\"4\\u002f26\\u002f21\",\"4\\u002f27\\u002f21\",\"4\\u002f28\\u002f21\",\"4\\u002f29\\u002f21\",\"4\\u002f30\\u002f21\",\"5\\u002f1\\u002f21\",\"5\\u002f2\\u002f21\",\"5\\u002f3\\u002f21\",\"5\\u002f4\\u002f21\",\"5\\u002f5\\u002f21\",\"5\\u002f6\\u002f21\",\"5\\u002f7\\u002f21\",\"5\\u002f8\\u002f21\",\"5\\u002f9\\u002f21\",\"5\\u002f10\\u002f21\",\"5\\u002f11\\u002f21\",\"5\\u002f12\\u002f21\",\"5\\u002f13\\u002f21\",\"5\\u002f14\\u002f21\",\"5\\u002f15\\u002f21\",\"5\\u002f16\\u002f21\",\"5\\u002f17\\u002f21\",\"5\\u002f18\\u002f21\",\"5\\u002f19\\u002f21\",\"5\\u002f20\\u002f21\",\"5\\u002f21\\u002f21\",\"5\\u002f22\\u002f21\",\"5\\u002f23\\u002f21\",\"5\\u002f24\\u002f21\",\"5\\u002f25\\u002f21\",\"5\\u002f26\\u002f21\",\"5\\u002f27\\u002f21\",\"5\\u002f28\\u002f21\",\"5\\u002f29\\u002f21\",\"5\\u002f30\\u002f21\",\"5\\u002f31\\u002f21\",\"6\\u002f1\\u002f21\",\"6\\u002f2\\u002f21\",\"6\\u002f3\\u002f21\",\"6\\u002f4\\u002f21\",\"6\\u002f5\\u002f21\",\"6\\u002f6\\u002f21\",\"6\\u002f7\\u002f21\",\"6\\u002f8\\u002f21\",\"6\\u002f9\\u002f21\",\"6\\u002f10\\u002f21\",\"6\\u002f11\\u002f21\",\"6\\u002f12\\u002f21\",\"6\\u002f13\\u002f21\",\"6\\u002f14\\u002f21\",\"6\\u002f15\\u002f21\",\"6\\u002f16\\u002f21\",\"6\\u002f17\\u002f21\",\"6\\u002f18\\u002f21\",\"6\\u002f19\\u002f21\",\"6\\u002f20\\u002f21\",\"6\\u002f21\\u002f21\",\"6\\u002f22\\u002f21\",\"6\\u002f23\\u002f21\",\"6\\u002f24\\u002f21\",\"6\\u002f25\\u002f21\",\"6\\u002f26\\u002f21\",\"6\\u002f27\\u002f21\",\"6\\u002f28\\u002f21\",\"6\\u002f29\\u002f21\",\"6\\u002f30\\u002f21\",\"7\\u002f1\\u002f21\",\"7\\u002f2\\u002f21\",\"7\\u002f3\\u002f21\",\"7\\u002f4\\u002f21\",\"7\\u002f5\\u002f21\",\"7\\u002f6\\u002f21\",\"7\\u002f7\\u002f21\",\"7\\u002f8\\u002f21\",\"7\\u002f9\\u002f21\",\"7\\u002f10\\u002f21\",\"7\\u002f11\\u002f21\",\"7\\u002f12\\u002f21\",\"7\\u002f13\\u002f21\",\"7\\u002f14\\u002f21\",\"7\\u002f15\\u002f21\",\"7\\u002f16\\u002f21\",\"7\\u002f17\\u002f21\",\"7\\u002f18\\u002f21\",\"7\\u002f19\\u002f21\",\"7\\u002f20\\u002f21\",\"7\\u002f21\\u002f21\",\"7\\u002f22\\u002f21\",\"7\\u002f23\\u002f21\",\"7\\u002f24\\u002f21\",\"7\\u002f25\\u002f21\",\"7\\u002f26\\u002f21\",\"7\\u002f27\\u002f21\",\"7\\u002f28\\u002f21\",\"7\\u002f29\\u002f21\",\"7\\u002f30\\u002f21\",\"7\\u002f31\\u002f21\",\"8\\u002f1\\u002f21\",\"8\\u002f2\\u002f21\",\"8\\u002f3\\u002f21\",\"8\\u002f4\\u002f21\",\"8\\u002f5\\u002f21\",\"8\\u002f6\\u002f21\",\"8\\u002f7\\u002f21\",\"8\\u002f8\\u002f21\",\"8\\u002f9\\u002f21\",\"8\\u002f10\\u002f21\",\"8\\u002f11\\u002f21\",\"8\\u002f12\\u002f21\",\"8\\u002f13\\u002f21\",\"8\\u002f14\\u002f21\",\"8\\u002f15\\u002f21\",\"8\\u002f16\\u002f21\",\"8\\u002f17\\u002f21\",\"8\\u002f18\\u002f21\",\"8\\u002f19\\u002f21\",\"8\\u002f20\\u002f21\",\"8\\u002f21\\u002f21\",\"8\\u002f22\\u002f21\",\"8\\u002f23\\u002f21\",\"8\\u002f24\\u002f21\",\"8\\u002f25\\u002f21\",\"8\\u002f26\\u002f21\",\"8\\u002f27\\u002f21\",\"8\\u002f28\\u002f21\",\"8\\u002f29\\u002f21\",\"8\\u002f30\\u002f21\",\"8\\u002f31\\u002f21\",\"9\\u002f1\\u002f21\",\"9\\u002f2\\u002f21\",\"9\\u002f3\\u002f21\",\"9\\u002f4\\u002f21\",\"9\\u002f5\\u002f21\",\"9\\u002f6\\u002f21\",\"9\\u002f7\\u002f21\",\"9\\u002f8\\u002f21\",\"9\\u002f9\\u002f21\",\"9\\u002f10\\u002f21\",\"9\\u002f11\\u002f21\",\"9\\u002f12\\u002f21\",\"9\\u002f13\\u002f21\",\"9\\u002f14\\u002f21\",\"9\\u002f15\\u002f21\",\"9\\u002f16\\u002f21\",\"9\\u002f17\\u002f21\",\"9\\u002f18\\u002f21\",\"9\\u002f19\\u002f21\",\"9\\u002f20\\u002f21\",\"9\\u002f21\\u002f21\",\"9\\u002f22\\u002f21\",\"9\\u002f23\\u002f21\",\"9\\u002f24\\u002f21\",\"9\\u002f25\\u002f21\",\"9\\u002f26\\u002f21\",\"9\\u002f27\\u002f21\",\"9\\u002f28\\u002f21\",\"9\\u002f29\\u002f21\",\"9\\u002f30\\u002f21\",\"10\\u002f1\\u002f21\",\"10\\u002f2\\u002f21\",\"10\\u002f3\\u002f21\",\"10\\u002f4\\u002f21\",\"10\\u002f5\\u002f21\",\"10\\u002f6\\u002f21\",\"10\\u002f7\\u002f21\",\"10\\u002f8\\u002f21\",\"10\\u002f9\\u002f21\",\"10\\u002f10\\u002f21\",\"10\\u002f11\\u002f21\",\"10\\u002f12\\u002f21\",\"10\\u002f13\\u002f21\",\"10\\u002f14\\u002f21\",\"10\\u002f15\\u002f21\",\"10\\u002f16\\u002f21\",\"10\\u002f17\\u002f21\",\"10\\u002f18\\u002f21\",\"10\\u002f19\\u002f21\",\"10\\u002f20\\u002f21\",\"10\\u002f21\\u002f21\",\"10\\u002f22\\u002f21\",\"10\\u002f23\\u002f21\",\"10\\u002f24\\u002f21\",\"10\\u002f25\\u002f21\",\"10\\u002f26\\u002f21\",\"10\\u002f27\\u002f21\",\"10\\u002f28\\u002f21\",\"10\\u002f29\\u002f21\",\"10\\u002f30\\u002f21\",\"10\\u002f31\\u002f21\",\"11\\u002f1\\u002f21\",\"11\\u002f2\\u002f21\",\"11\\u002f3\\u002f21\",\"11\\u002f4\\u002f21\",\"11\\u002f5\\u002f21\",\"11\\u002f6\\u002f21\",\"11\\u002f7\\u002f21\",\"11\\u002f8\\u002f21\",\"11\\u002f9\\u002f21\",\"11\\u002f10\\u002f21\",\"11\\u002f11\\u002f21\",\"11\\u002f12\\u002f21\",\"11\\u002f13\\u002f21\",\"11\\u002f14\\u002f21\",\"11\\u002f15\\u002f21\",\"11\\u002f16\\u002f21\",\"11\\u002f17\\u002f21\",\"11\\u002f18\\u002f21\",\"11\\u002f19\\u002f21\",\"11\\u002f20\\u002f21\",\"11\\u002f21\\u002f21\",\"11\\u002f22\\u002f21\",\"11\\u002f23\\u002f21\",\"11\\u002f24\\u002f21\",\"11\\u002f25\\u002f21\",\"11\\u002f26\\u002f21\",\"11\\u002f27\\u002f21\",\"11\\u002f28\\u002f21\",\"11\\u002f29\\u002f21\",\"11\\u002f30\\u002f21\",\"12\\u002f1\\u002f21\",\"12\\u002f2\\u002f21\",\"12\\u002f3\\u002f21\",\"12\\u002f4\\u002f21\",\"12\\u002f5\\u002f21\",\"12\\u002f6\\u002f21\",\"12\\u002f7\\u002f21\",\"12\\u002f8\\u002f21\",\"12\\u002f9\\u002f21\",\"12\\u002f10\\u002f21\",\"12\\u002f11\\u002f21\",\"12\\u002f12\\u002f21\",\"12\\u002f13\\u002f21\",\"12\\u002f14\\u002f21\",\"12\\u002f15\\u002f21\",\"12\\u002f16\\u002f21\",\"12\\u002f17\\u002f21\",\"12\\u002f18\\u002f21\",\"12\\u002f19\\u002f21\",\"12\\u002f20\\u002f21\",\"12\\u002f21\\u002f21\",\"12\\u002f22\\u002f21\",\"12\\u002f23\\u002f21\",\"12\\u002f24\\u002f21\",\"12\\u002f25\\u002f21\",\"12\\u002f26\\u002f21\",\"12\\u002f27\\u002f21\",\"12\\u002f28\\u002f21\",\"12\\u002f29\\u002f21\",\"12\\u002f30\\u002f21\",\"12\\u002f31\\u002f21\",\"1\\u002f1\\u002f22\",\"1\\u002f2\\u002f22\",\"1\\u002f3\\u002f22\",\"1\\u002f4\\u002f22\",\"1\\u002f5\\u002f22\",\"1\\u002f6\\u002f22\",\"1\\u002f7\\u002f22\",\"1\\u002f8\\u002f22\",\"1\\u002f9\\u002f22\",\"1\\u002f10\\u002f22\",\"1\\u002f11\\u002f22\",\"1\\u002f12\\u002f22\",\"1\\u002f13\\u002f22\",\"1\\u002f14\\u002f22\",\"1\\u002f15\\u002f22\",\"1\\u002f16\\u002f22\",\"1\\u002f17\\u002f22\",\"1\\u002f18\\u002f22\",\"1\\u002f19\\u002f22\",\"1\\u002f20\\u002f22\",\"1\\u002f21\\u002f22\",\"1\\u002f22\\u002f22\",\"1\\u002f23\\u002f22\",\"1\\u002f24\\u002f22\",\"1\\u002f25\\u002f22\",\"1\\u002f26\\u002f22\",\"1\\u002f27\\u002f22\",\"1\\u002f28\\u002f22\",\"1\\u002f29\\u002f22\",\"1\\u002f30\\u002f22\",\"1\\u002f31\\u002f22\",\"2\\u002f1\\u002f22\",\"2\\u002f2\\u002f22\",\"2\\u002f3\\u002f22\",\"2\\u002f4\\u002f22\",\"2\\u002f5\\u002f22\",\"2\\u002f6\\u002f22\",\"2\\u002f7\\u002f22\",\"2\\u002f8\\u002f22\",\"2\\u002f9\\u002f22\",\"2\\u002f10\\u002f22\",\"2\\u002f11\\u002f22\",\"2\\u002f12\\u002f22\",\"2\\u002f13\\u002f22\",\"2\\u002f14\\u002f22\",\"2\\u002f15\\u002f22\",\"2\\u002f16\\u002f22\",\"2\\u002f17\\u002f22\",\"2\\u002f18\\u002f22\",\"2\\u002f19\\u002f22\",\"2\\u002f20\\u002f22\",\"2\\u002f21\\u002f22\",\"2\\u002f22\\u002f22\",\"2\\u002f23\\u002f22\",\"2\\u002f24\\u002f22\",\"2\\u002f25\\u002f22\",\"2\\u002f26\\u002f22\",\"2\\u002f27\\u002f22\",\"2\\u002f28\\u002f22\",\"3\\u002f1\\u002f22\",\"3\\u002f2\\u002f22\",\"3\\u002f3\\u002f22\",\"3\\u002f4\\u002f22\",\"3\\u002f5\\u002f22\",\"3\\u002f6\\u002f22\",\"3\\u002f7\\u002f22\",\"3\\u002f8\\u002f22\",\"3\\u002f9\\u002f22\",\"3\\u002f10\\u002f22\",\"3\\u002f11\\u002f22\",\"3\\u002f12\\u002f22\",\"3\\u002f13\\u002f22\",\"3\\u002f14\\u002f22\",\"3\\u002f15\\u002f22\",\"3\\u002f16\\u002f22\",\"3\\u002f17\\u002f22\",\"3\\u002f18\\u002f22\",\"3\\u002f19\\u002f22\",\"3\\u002f20\\u002f22\",\"3\\u002f21\\u002f22\",\"3\\u002f22\\u002f22\",\"3\\u002f23\\u002f22\",\"3\\u002f24\\u002f22\",\"3\\u002f25\\u002f22\",\"3\\u002f26\\u002f22\",\"3\\u002f27\\u002f22\",\"3\\u002f28\\u002f22\",\"3\\u002f29\\u002f22\",\"3\\u002f30\\u002f22\",\"3\\u002f31\\u002f22\",\"4\\u002f1\\u002f22\",\"4\\u002f2\\u002f22\",\"4\\u002f3\\u002f22\",\"4\\u002f4\\u002f22\",\"4\\u002f5\\u002f22\",\"4\\u002f6\\u002f22\",\"4\\u002f7\\u002f22\",\"4\\u002f8\\u002f22\",\"4\\u002f9\\u002f22\",\"4\\u002f10\\u002f22\",\"4\\u002f11\\u002f22\",\"4\\u002f12\\u002f22\",\"4\\u002f13\\u002f22\",\"4\\u002f14\\u002f22\",\"4\\u002f15\\u002f22\",\"4\\u002f16\\u002f22\",\"4\\u002f17\\u002f22\",\"4\\u002f18\\u002f22\",\"4\\u002f19\\u002f22\",\"4\\u002f20\\u002f22\",\"4\\u002f21\\u002f22\",\"4\\u002f22\\u002f22\",\"4\\u002f23\\u002f22\",\"4\\u002f24\\u002f22\",\"4\\u002f25\\u002f22\",\"4\\u002f26\\u002f22\",\"4\\u002f27\\u002f22\",\"4\\u002f28\\u002f22\",\"4\\u002f29\\u002f22\",\"4\\u002f30\\u002f22\",\"5\\u002f1\\u002f22\",\"5\\u002f2\\u002f22\",\"5\\u002f3\\u002f22\",\"5\\u002f4\\u002f22\",\"5\\u002f5\\u002f22\",\"5\\u002f6\\u002f22\",\"5\\u002f7\\u002f22\",\"5\\u002f8\\u002f22\",\"5\\u002f9\\u002f22\",\"5\\u002f10\\u002f22\",\"5\\u002f11\\u002f22\",\"5\\u002f12\\u002f22\",\"5\\u002f13\\u002f22\",\"5\\u002f14\\u002f22\",\"5\\u002f15\\u002f22\",\"5\\u002f16\\u002f22\",\"5\\u002f17\\u002f22\",\"5\\u002f18\\u002f22\",\"5\\u002f19\\u002f22\",\"5\\u002f20\\u002f22\",\"5\\u002f21\\u002f22\",\"5\\u002f22\\u002f22\",\"5\\u002f23\\u002f22\",\"5\\u002f24\\u002f22\",\"5\\u002f25\\u002f22\",\"5\\u002f26\\u002f22\",\"5\\u002f27\\u002f22\",\"5\\u002f28\\u002f22\",\"5\\u002f29\\u002f22\",\"5\\u002f30\\u002f22\",\"5\\u002f31\\u002f22\",\"6\\u002f1\\u002f22\",\"6\\u002f2\\u002f22\",\"6\\u002f3\\u002f22\",\"6\\u002f4\\u002f22\",\"6\\u002f5\\u002f22\",\"6\\u002f6\\u002f22\",\"6\\u002f7\\u002f22\",\"6\\u002f8\\u002f22\",\"6\\u002f9\\u002f22\",\"6\\u002f10\\u002f22\",\"6\\u002f11\\u002f22\",\"6\\u002f12\\u002f22\",\"6\\u002f13\\u002f22\",\"6\\u002f14\\u002f22\",\"6\\u002f15\\u002f22\",\"6\\u002f16\\u002f22\",\"6\\u002f17\\u002f22\",\"6\\u002f18\\u002f22\",\"6\\u002f19\\u002f22\",\"6\\u002f20\\u002f22\",\"6\\u002f21\\u002f22\",\"6\\u002f22\\u002f22\",\"6\\u002f23\\u002f22\",\"6\\u002f24\\u002f22\",\"6\\u002f25\\u002f22\",\"6\\u002f26\\u002f22\",\"6\\u002f27\\u002f22\",\"6\\u002f28\\u002f22\",\"6\\u002f29\\u002f22\",\"6\\u002f30\\u002f22\",\"7\\u002f1\\u002f22\",\"7\\u002f2\\u002f22\",\"7\\u002f3\\u002f22\",\"7\\u002f4\\u002f22\",\"7\\u002f5\\u002f22\",\"7\\u002f6\\u002f22\",\"7\\u002f7\\u002f22\",\"7\\u002f8\\u002f22\",\"7\\u002f9\\u002f22\",\"7\\u002f10\\u002f22\",\"7\\u002f11\\u002f22\",\"7\\u002f12\\u002f22\",\"7\\u002f13\\u002f22\",\"7\\u002f14\\u002f22\",\"7\\u002f15\\u002f22\",\"7\\u002f16\\u002f22\",\"7\\u002f17\\u002f22\",\"7\\u002f18\\u002f22\",\"7\\u002f19\\u002f22\",\"7\\u002f20\\u002f22\",\"7\\u002f21\\u002f22\",\"7\\u002f22\\u002f22\",\"7\\u002f23\\u002f22\",\"7\\u002f24\\u002f22\",\"7\\u002f25\\u002f22\",\"7\\u002f26\\u002f22\",\"7\\u002f27\\u002f22\",\"7\\u002f28\\u002f22\",\"7\\u002f29\\u002f22\",\"7\\u002f30\\u002f22\",\"7\\u002f31\\u002f22\",\"8\\u002f1\\u002f22\",\"8\\u002f2\\u002f22\",\"8\\u002f3\\u002f22\",\"8\\u002f4\\u002f22\",\"8\\u002f5\\u002f22\",\"8\\u002f6\\u002f22\",\"8\\u002f7\\u002f22\",\"8\\u002f8\\u002f22\",\"8\\u002f9\\u002f22\",\"8\\u002f10\\u002f22\",\"8\\u002f11\\u002f22\",\"8\\u002f12\\u002f22\",\"8\\u002f13\\u002f22\",\"8\\u002f14\\u002f22\",\"8\\u002f15\\u002f22\",\"8\\u002f16\\u002f22\",\"8\\u002f17\\u002f22\",\"8\\u002f18\\u002f22\",\"8\\u002f19\\u002f22\",\"8\\u002f20\\u002f22\",\"8\\u002f21\\u002f22\",\"8\\u002f22\\u002f22\",\"8\\u002f23\\u002f22\",\"8\\u002f24\\u002f22\",\"8\\u002f25\\u002f22\",\"8\\u002f26\\u002f22\",\"8\\u002f27\\u002f22\",\"8\\u002f28\\u002f22\",\"8\\u002f29\\u002f22\",\"8\\u002f30\\u002f22\",\"8\\u002f31\\u002f22\",\"9\\u002f1\\u002f22\",\"9\\u002f2\\u002f22\",\"9\\u002f3\\u002f22\",\"9\\u002f4\\u002f22\",\"9\\u002f5\\u002f22\",\"9\\u002f6\\u002f22\",\"9\\u002f7\\u002f22\",\"9\\u002f8\\u002f22\",\"9\\u002f9\\u002f22\",\"9\\u002f10\\u002f22\",\"9\\u002f11\\u002f22\",\"9\\u002f12\\u002f22\",\"9\\u002f13\\u002f22\",\"9\\u002f14\\u002f22\",\"9\\u002f15\\u002f22\",\"9\\u002f16\\u002f22\",\"9\\u002f17\\u002f22\",\"9\\u002f18\\u002f22\",\"9\\u002f19\\u002f22\",\"9\\u002f20\\u002f22\",\"9\\u002f21\\u002f22\",\"9\\u002f22\\u002f22\",\"9\\u002f23\\u002f22\",\"9\\u002f24\\u002f22\",\"9\\u002f25\\u002f22\",\"9\\u002f26\\u002f22\",\"9\\u002f27\\u002f22\",\"9\\u002f28\\u002f22\",\"9\\u002f29\\u002f22\",\"9\\u002f30\\u002f22\",\"10\\u002f1\\u002f22\",\"10\\u002f2\\u002f22\",\"10\\u002f3\\u002f22\",\"10\\u002f4\\u002f22\",\"10\\u002f5\\u002f22\",\"10\\u002f6\\u002f22\",\"10\\u002f7\\u002f22\",\"10\\u002f8\\u002f22\",\"10\\u002f9\\u002f22\",\"10\\u002f10\\u002f22\",\"10\\u002f11\\u002f22\",\"10\\u002f12\\u002f22\",\"10\\u002f13\\u002f22\",\"10\\u002f14\\u002f22\",\"10\\u002f15\\u002f22\",\"10\\u002f16\\u002f22\",\"10\\u002f17\\u002f22\",\"10\\u002f18\\u002f22\",\"10\\u002f19\\u002f22\",\"10\\u002f20\\u002f22\",\"10\\u002f21\\u002f22\",\"10\\u002f22\\u002f22\",\"10\\u002f23\\u002f22\",\"10\\u002f24\\u002f22\",\"10\\u002f25\\u002f22\",\"10\\u002f26\\u002f22\",\"10\\u002f27\\u002f22\",\"10\\u002f28\\u002f22\",\"10\\u002f29\\u002f22\",\"10\\u002f30\\u002f22\",\"10\\u002f31\\u002f22\",\"11\\u002f1\\u002f22\",\"11\\u002f2\\u002f22\",\"11\\u002f3\\u002f22\",\"11\\u002f4\\u002f22\",\"11\\u002f5\\u002f22\",\"11\\u002f6\\u002f22\",\"11\\u002f7\\u002f22\",\"11\\u002f8\\u002f22\",\"11\\u002f9\\u002f22\",\"11\\u002f10\\u002f22\",\"11\\u002f11\\u002f22\",\"11\\u002f12\\u002f22\",\"11\\u002f13\\u002f22\",\"11\\u002f14\\u002f22\",\"11\\u002f15\\u002f22\",\"11\\u002f16\\u002f22\",\"11\\u002f17\\u002f22\",\"11\\u002f18\\u002f22\",\"11\\u002f19\\u002f22\",\"11\\u002f20\\u002f22\",\"11\\u002f21\\u002f22\",\"11\\u002f22\\u002f22\",\"11\\u002f23\\u002f22\",\"11\\u002f24\\u002f22\",\"11\\u002f25\\u002f22\",\"11\\u002f26\\u002f22\",\"11\\u002f27\\u002f22\",\"11\\u002f28\\u002f22\",\"11\\u002f29\\u002f22\",\"11\\u002f30\\u002f22\",\"12\\u002f1\\u002f22\",\"12\\u002f2\\u002f22\",\"12\\u002f3\\u002f22\",\"12\\u002f4\\u002f22\",\"12\\u002f5\\u002f22\",\"12\\u002f6\\u002f22\",\"12\\u002f7\\u002f22\",\"12\\u002f8\\u002f22\",\"12\\u002f9\\u002f22\",\"12\\u002f10\\u002f22\",\"12\\u002f11\\u002f22\",\"12\\u002f12\\u002f22\",\"12\\u002f13\\u002f22\",\"12\\u002f14\\u002f22\",\"12\\u002f15\\u002f22\",\"12\\u002f16\\u002f22\",\"12\\u002f17\\u002f22\",\"12\\u002f18\\u002f22\",\"12\\u002f19\\u002f22\",\"12\\u002f20\\u002f22\",\"12\\u002f21\\u002f22\",\"12\\u002f22\\u002f22\",\"12\\u002f23\\u002f22\",\"12\\u002f24\\u002f22\",\"12\\u002f25\\u002f22\",\"12\\u002f26\\u002f22\",\"12\\u002f27\\u002f22\",\"12\\u002f28\\u002f22\",\"12\\u002f29\\u002f22\",\"12\\u002f30\\u002f22\",\"12\\u002f31\\u002f22\",\"1\\u002f1\\u002f23\",\"1\\u002f2\\u002f23\",\"1\\u002f3\\u002f23\",\"1\\u002f4\\u002f23\",\"1\\u002f5\\u002f23\",\"1\\u002f6\\u002f23\",\"1\\u002f7\\u002f23\",\"1\\u002f8\\u002f23\",\"1\\u002f9\\u002f23\",\"1\\u002f10\\u002f23\",\"1\\u002f11\\u002f23\",\"1\\u002f12\\u002f23\",\"1\\u002f13\\u002f23\",\"1\\u002f14\\u002f23\",\"1\\u002f15\\u002f23\",\"1\\u002f16\\u002f23\",\"1\\u002f17\\u002f23\",\"1\\u002f18\\u002f23\",\"1\\u002f19\\u002f23\",\"1\\u002f20\\u002f23\",\"1\\u002f21\\u002f23\",\"1\\u002f22\\u002f23\",\"1\\u002f23\\u002f23\",\"1\\u002f24\\u002f23\",\"1\\u002f25\\u002f23\",\"1\\u002f26\\u002f23\",\"1\\u002f27\\u002f23\",\"1\\u002f28\\u002f23\",\"1\\u002f29\\u002f23\",\"1\\u002f30\\u002f23\",\"1\\u002f31\\u002f23\",\"2\\u002f1\\u002f23\",\"2\\u002f2\\u002f23\",\"2\\u002f3\\u002f23\",\"2\\u002f4\\u002f23\",\"2\\u002f5\\u002f23\",\"2\\u002f6\\u002f23\",\"2\\u002f7\\u002f23\",\"2\\u002f8\\u002f23\",\"2\\u002f9\\u002f23\",\"2\\u002f10\\u002f23\",\"2\\u002f11\\u002f23\",\"2\\u002f12\\u002f23\",\"2\\u002f13\\u002f23\",\"2\\u002f14\\u002f23\",\"2\\u002f15\\u002f23\",\"2\\u002f16\\u002f23\",\"2\\u002f17\\u002f23\",\"2\\u002f18\\u002f23\",\"2\\u002f19\\u002f23\",\"2\\u002f20\\u002f23\",\"2\\u002f21\\u002f23\",\"2\\u002f22\\u002f23\",\"2\\u002f23\\u002f23\",\"2\\u002f24\\u002f23\",\"2\\u002f25\\u002f23\",\"2\\u002f26\\u002f23\",\"2\\u002f27\\u002f23\",\"2\\u002f28\\u002f23\",\"3\\u002f1\\u002f23\",\"3\\u002f2\\u002f23\",\"3\\u002f3\\u002f23\",\"3\\u002f4\\u002f23\",\"3\\u002f5\\u002f23\",\"3\\u002f6\\u002f23\",\"3\\u002f7\\u002f23\",\"3\\u002f8\\u002f23\",\"3\\u002f9\\u002f23\"],\"tickangle\":45},\"yaxis\":{\"anchor\":\"x\",\"domain\":[0.0,1.0],\"title\":{\"text\":\"Confirmed Cases\"}},\"legend\":{\"tracegroupgap\":0},\"title\":{\"text\":\"Confirmed COVID-19 Cases Worldwide Over Time\"},\"barmode\":\"relative\"},                        {\"responsive\": true}                    ).then(function(){\n",
              "                            \n",
              "var gd = document.getElementById('0651a369-3997-433d-a318-61608b68d070');\n",
              "var x = new MutationObserver(function (mutations, observer) {{\n",
              "        var display = window.getComputedStyle(gd).display;\n",
              "        if (!display || display === 'none') {{\n",
              "            console.log([gd, 'removed!']);\n",
              "            Plotly.purge(gd);\n",
              "            observer.disconnect();\n",
              "        }}\n",
              "}});\n",
              "\n",
              "// Listen for the removal of the full notebook cells\n",
              "var notebookContainer = gd.closest('#notebook-container');\n",
              "if (notebookContainer) {{\n",
              "    x.observe(notebookContainer, {childList: true});\n",
              "}}\n",
              "\n",
              "// Listen for the clearing of the current output cell\n",
              "var outputEl = gd.closest('.output');\n",
              "if (outputEl) {{\n",
              "    x.observe(outputEl, {childList: true});\n",
              "}}\n",
              "\n",
              "                        })                };                });            </script>        </div>"
            ]
          },
          "metadata": {},
          "output_type": "display_data"
        }
      ],
      "source": [
        "import pandas as pd\n",
        "import plotly.express as px\n",
        "\n",
        "# Read the data\n",
        "covid_data = pd.read_csv('https://raw.githubusercontent.com/CSSEGISandData/COVID-19/master/csse_covid_19_data/csse_covid_19_time_series/time_series_covid19_confirmed_global.csv')\n",
        "\n",
        "# Sum up confirmed cases worldwide by date\n",
        "worldwide_cases = covid_data.sum(numeric_only=True)[4:]\n",
        "\n",
        "# Create a DataFrame with dates and confirmed cases\n",
        "data = pd.DataFrame({'Date': worldwide_cases.index, 'Confirmed Cases': worldwide_cases.values})\n",
        "\n",
        "# Create an interactive bar chart using Plotly\n",
        "fig = px.bar(data, x='Date', y='Confirmed Cases', title='Confirmed COVID-19 Cases Worldwide Over Time')\n",
        "\n",
        "# Customize the x-axis to display all dates\n",
        "fig.update_xaxes(tickvals=list(range(len(data))), ticktext=data['Date'], tickangle=45)\n",
        "\n",
        "# Show the interactive chart\n",
        "fig.show()"
      ]
    },
    {
      "cell_type": "code",
      "execution_count": null,
      "metadata": {
        "id": "yuXneuf_5_Mq"
      },
      "outputs": [],
      "source": []
    }
  ],
  "metadata": {
    "colab": {
      "provenance": []
    },
    "kernelspec": {
      "display_name": "Python 3",
      "language": "python",
      "name": "python3"
    },
    "language_info": {
      "codemirror_mode": {
        "name": "ipython",
        "version": 3
      },
      "file_extension": ".py",
      "mimetype": "text/x-python",
      "name": "python",
      "nbconvert_exporter": "python",
      "pygments_lexer": "ipython3",
      "version": "3.10.12"
    }
  },
  "nbformat": 4,
  "nbformat_minor": 0
}
